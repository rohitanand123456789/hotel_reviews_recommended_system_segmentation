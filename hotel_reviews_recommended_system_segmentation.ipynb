{
  "nbformat": 4,
  "nbformat_minor": 0,
  "metadata": {
    "colab": {
      "name": "hotel-reviews-recommended-system-segmentation.ipynb",
      "provenance": [],
      "collapsed_sections": []
    },
    "kernelspec": {
      "name": "python3",
      "display_name": "Python 3"
    }
  },
  "cells": [
    {
      "cell_type": "code",
      "metadata": {
        "id": "BHEegFSLKvV3",
        "colab_type": "code",
        "colab": {
          "base_uri": "https://localhost:8080/",
          "height": 125
        },
        "outputId": "bacc381c-256c-477d-86c9-1164db481ef8"
      },
      "source": [
        "from google.colab import drive \n",
        "drive.mount('/content/drive/')"
      ],
      "execution_count": 1,
      "outputs": [
        {
          "output_type": "stream",
          "text": [
            "Go to this URL in a browser: https://accounts.google.com/o/oauth2/auth?client_id=947318989803-6bn6qk8qdgf4n4g3pfee6491hc0brc4i.apps.googleusercontent.com&redirect_uri=urn%3aietf%3awg%3aoauth%3a2.0%3aoob&scope=email%20https%3a%2f%2fwww.googleapis.com%2fauth%2fdocs.test%20https%3a%2f%2fwww.googleapis.com%2fauth%2fdrive%20https%3a%2f%2fwww.googleapis.com%2fauth%2fdrive.photos.readonly%20https%3a%2f%2fwww.googleapis.com%2fauth%2fpeopleapi.readonly&response_type=code\n",
            "\n",
            "Enter your authorization code:\n",
            "··········\n",
            "Mounted at /content/drive/\n"
          ],
          "name": "stdout"
        }
      ]
    },
    {
      "cell_type": "code",
      "metadata": {
        "id": "tFUBQ4eGLLMk",
        "colab_type": "code",
        "colab": {
          "base_uri": "https://localhost:8080/",
          "height": 105
        },
        "outputId": "1659974f-8550-4df3-8c62-c217fc9db4f2"
      },
      "source": [
        "import numpy as np # linear algebra\n",
        "import pandas as pd # data processing, CSV file I/O (e.g. pd.read_csv)\n",
        "import os\n",
        "for dirname, _, filenames in os.walk('/content/drive/My Drive/Hotel Recommended Dataset/'):\n",
        "    for filename in filenames:\n",
        "        print(os.path.join(dirname, filename))"
      ],
      "execution_count": 2,
      "outputs": [
        {
          "output_type": "stream",
          "text": [
            "/content/drive/My Drive/Hotel Recommended Dataset/ExistingHotels_CustomerVisitsdata-1554810038262.csv\n",
            "/content/drive/My Drive/Hotel Recommended Dataset/NewHotels_CutstomerVisitsdata-1554810098964.csv\n",
            "/content/drive/My Drive/Hotel Recommended Dataset/Train-1554810061973.csv\n",
            "/content/drive/My Drive/Hotel Recommended Dataset/Test-1555730055539.csv\n",
            "/content/drive/My Drive/Hotel Recommended Dataset/user_hotel_rating-1555730075105.csv\n"
          ],
          "name": "stdout"
        }
      ]
    },
    {
      "cell_type": "code",
      "metadata": {
        "id": "K0EIUrXpLk3_",
        "colab_type": "code",
        "colab": {
          "base_uri": "https://localhost:8080/",
          "height": 72
        },
        "outputId": "eb476f9b-6de9-496e-ac46-d307b7f2b41e"
      },
      "source": [
        "import seaborn as sns\n",
        "import matplotlib.pyplot as plt\n",
        "import warnings\n",
        "from nltk.tokenize import word_tokenize, sent_tokenize \n",
        "from nltk import pos_tag\n",
        "from nltk.corpus import stopwords\n",
        "from nltk.stem import PorterStemmer\n",
        "from nltk.stem import WordNetLemmatizer\n",
        "import re\n",
        "\n",
        "from sklearn.cluster import KMeans\n",
        "from sklearn.decomposition import PCA\n",
        "from sklearn.preprocessing import StandardScaler\n",
        "from sklearn.model_selection import train_test_split\n",
        "from sklearn.metrics import accuracy_score,adjusted_rand_score\n",
        "\n",
        "from sklearn.naive_bayes import MultinomialNB \n",
        "from sklearn.metrics import confusion_matrix\n",
        "from sklearn.metrics import classification_report\n",
        "from sklearn.linear_model import LogisticRegression\n",
        "from sklearn.tree import DecisionTreeClassifier, export_graphviz\n",
        "from sklearn import tree\n",
        "from sklearn.ensemble import RandomForestClassifier\n",
        "from sklearn.ensemble import AdaBoostClassifier\n",
        "from sklearn.model_selection import GridSearchCV\n",
        "from sklearn.feature_extraction.text import TfidfVectorizer\n",
        "from xgboost import XGBClassifier\n",
        "%matplotlib inline"
      ],
      "execution_count": 3,
      "outputs": [
        {
          "output_type": "stream",
          "text": [
            "/usr/local/lib/python3.6/dist-packages/statsmodels/tools/_testing.py:19: FutureWarning: pandas.util.testing is deprecated. Use the functions in the public API at pandas.testing instead.\n",
            "  import pandas.util.testing as tm\n"
          ],
          "name": "stderr"
        }
      ]
    },
    {
      "cell_type": "code",
      "metadata": {
        "id": "lF2Y1SoAL1pX",
        "colab_type": "code",
        "colab": {
          "base_uri": "https://localhost:8080/",
          "height": 215
        },
        "outputId": "8138347d-f5cb-4543-bb0f-eb05c92d590d"
      },
      "source": [
        "train = pd.read_csv(\"/content/drive/My Drive/Hotel Recommended Dataset/Train-1554810061973.csv\")\n",
        "print(train.shape)\n",
        "train.head()"
      ],
      "execution_count": 4,
      "outputs": [
        {
          "output_type": "stream",
          "text": [
            "(6287, 6)\n"
          ],
          "name": "stdout"
        },
        {
          "output_type": "execute_result",
          "data": {
            "text/html": [
              "<div>\n",
              "<style scoped>\n",
              "    .dataframe tbody tr th:only-of-type {\n",
              "        vertical-align: middle;\n",
              "    }\n",
              "\n",
              "    .dataframe tbody tr th {\n",
              "        vertical-align: top;\n",
              "    }\n",
              "\n",
              "    .dataframe thead th {\n",
              "        text-align: right;\n",
              "    }\n",
              "</style>\n",
              "<table border=\"1\" class=\"dataframe\">\n",
              "  <thead>\n",
              "    <tr style=\"text-align: right;\">\n",
              "      <th></th>\n",
              "      <th>Reviewid</th>\n",
              "      <th>Hotelid</th>\n",
              "      <th>userid</th>\n",
              "      <th>Date</th>\n",
              "      <th>reviewtext</th>\n",
              "      <th>Sentiment</th>\n",
              "    </tr>\n",
              "  </thead>\n",
              "  <tbody>\n",
              "    <tr>\n",
              "      <th>0</th>\n",
              "      <td>Review_1</td>\n",
              "      <td>hotel_101</td>\n",
              "      <td>hotel_1608</td>\n",
              "      <td>Nov 16, 2007</td>\n",
              "      <td>Nice Marriot       View of my king bed room</td>\n",
              "      <td>good</td>\n",
              "    </tr>\n",
              "    <tr>\n",
              "      <th>1</th>\n",
              "      <td>Review_2</td>\n",
              "      <td>hotel_101</td>\n",
              "      <td>hotel_6939</td>\n",
              "      <td>Oct 30, 2007</td>\n",
              "      <td>Good hotel, charges for internet access The Ma...</td>\n",
              "      <td>good</td>\n",
              "    </tr>\n",
              "    <tr>\n",
              "      <th>2</th>\n",
              "      <td>Review_3</td>\n",
              "      <td>hotel_101</td>\n",
              "      <td>hotel_3976</td>\n",
              "      <td>Oct 12, 2007</td>\n",
              "      <td>Small but adequate rooms If you have an early ...</td>\n",
              "      <td>good</td>\n",
              "    </tr>\n",
              "    <tr>\n",
              "      <th>3</th>\n",
              "      <td>Review_4</td>\n",
              "      <td>hotel_101</td>\n",
              "      <td>hotel_2851</td>\n",
              "      <td>Aug 31, 2007</td>\n",
              "      <td>Better than average, some noisy rooms I have s...</td>\n",
              "      <td>good</td>\n",
              "    </tr>\n",
              "    <tr>\n",
              "      <th>4</th>\n",
              "      <td>Review_5</td>\n",
              "      <td>hotel_101</td>\n",
              "      <td>hotel_7897</td>\n",
              "      <td>Jul 18, 2007</td>\n",
              "      <td>Ordinary Although it is highly rated in these ...</td>\n",
              "      <td>bad</td>\n",
              "    </tr>\n",
              "  </tbody>\n",
              "</table>\n",
              "</div>"
            ],
            "text/plain": [
              "   Reviewid  ... Sentiment\n",
              "0  Review_1  ...      good\n",
              "1  Review_2  ...      good\n",
              "2  Review_3  ...      good\n",
              "3  Review_4  ...      good\n",
              "4  Review_5  ...       bad\n",
              "\n",
              "[5 rows x 6 columns]"
            ]
          },
          "metadata": {
            "tags": []
          },
          "execution_count": 4
        }
      ]
    },
    {
      "cell_type": "code",
      "metadata": {
        "id": "1cpLxfUZMTpt",
        "colab_type": "code",
        "colab": {
          "base_uri": "https://localhost:8080/",
          "height": 215
        },
        "outputId": "c52801d8-25cd-46ef-8133-0c458082b469"
      },
      "source": [
        "test = pd.read_csv(\"/content/drive/My Drive/Hotel Recommended Dataset/Test-1555730055539.csv\")\n",
        "print(test.shape)\n",
        "test.head()"
      ],
      "execution_count": 5,
      "outputs": [
        {
          "output_type": "stream",
          "text": [
            "(3468, 5)\n"
          ],
          "name": "stdout"
        },
        {
          "output_type": "execute_result",
          "data": {
            "text/html": [
              "<div>\n",
              "<style scoped>\n",
              "    .dataframe tbody tr th:only-of-type {\n",
              "        vertical-align: middle;\n",
              "    }\n",
              "\n",
              "    .dataframe tbody tr th {\n",
              "        vertical-align: top;\n",
              "    }\n",
              "\n",
              "    .dataframe thead th {\n",
              "        text-align: right;\n",
              "    }\n",
              "</style>\n",
              "<table border=\"1\" class=\"dataframe\">\n",
              "  <thead>\n",
              "    <tr style=\"text-align: right;\">\n",
              "      <th></th>\n",
              "      <th>Reviewid</th>\n",
              "      <th>Hotelid</th>\n",
              "      <th>userid</th>\n",
              "      <th>Date</th>\n",
              "      <th>reviewtext</th>\n",
              "    </tr>\n",
              "  </thead>\n",
              "  <tbody>\n",
              "    <tr>\n",
              "      <th>0</th>\n",
              "      <td>Review_11001</td>\n",
              "      <td>hotel_101</td>\n",
              "      <td>hotel_2225</td>\n",
              "      <td>Dec 13, 2008</td>\n",
              "      <td>Just An Average stay This was just an average ...</td>\n",
              "    </tr>\n",
              "    <tr>\n",
              "      <th>1</th>\n",
              "      <td>Review_11002</td>\n",
              "      <td>hotel_101</td>\n",
              "      <td>hotel_5079</td>\n",
              "      <td>Dec 2, 2008</td>\n",
              "      <td>go elsewhere The place is hugely overpriced an...</td>\n",
              "    </tr>\n",
              "    <tr>\n",
              "      <th>2</th>\n",
              "      <td>Review_11003</td>\n",
              "      <td>hotel_101</td>\n",
              "      <td>hotel_8440</td>\n",
              "      <td>Nov 18, 2008</td>\n",
              "      <td>I Won't Go Back I stayed at the hotel 11/14/08...</td>\n",
              "    </tr>\n",
              "    <tr>\n",
              "      <th>3</th>\n",
              "      <td>Review_11004</td>\n",
              "      <td>hotel_101</td>\n",
              "      <td>hotel_4592</td>\n",
              "      <td>Oct 19, 2008</td>\n",
              "      <td>Good weekend stay My wife and I stay here quit...</td>\n",
              "    </tr>\n",
              "    <tr>\n",
              "      <th>4</th>\n",
              "      <td>Review_11005</td>\n",
              "      <td>hotel_101</td>\n",
              "      <td>hotel_5901</td>\n",
              "      <td>Oct 13, 2008</td>\n",
              "      <td>Great airport stay Lovely indoor pool area, lo...</td>\n",
              "    </tr>\n",
              "  </tbody>\n",
              "</table>\n",
              "</div>"
            ],
            "text/plain": [
              "       Reviewid  ...                                         reviewtext\n",
              "0  Review_11001  ...  Just An Average stay This was just an average ...\n",
              "1  Review_11002  ...  go elsewhere The place is hugely overpriced an...\n",
              "2  Review_11003  ...  I Won't Go Back I stayed at the hotel 11/14/08...\n",
              "3  Review_11004  ...  Good weekend stay My wife and I stay here quit...\n",
              "4  Review_11005  ...  Great airport stay Lovely indoor pool area, lo...\n",
              "\n",
              "[5 rows x 5 columns]"
            ]
          },
          "metadata": {
            "tags": []
          },
          "execution_count": 5
        }
      ]
    },
    {
      "cell_type": "code",
      "metadata": {
        "id": "iHeJD8b9MmM_",
        "colab_type": "code",
        "colab": {
          "base_uri": "https://localhost:8080/",
          "height": 392
        },
        "outputId": "c1292c8a-8bfd-489d-acf9-9ba6fead755c"
      },
      "source": [
        "# Reading and exploring on Existing hotels Data\n",
        "exist = pd.read_csv(\"/content/drive/My Drive/Hotel Recommended Dataset/ExistingHotels_CustomerVisitsdata-1554810038262.csv\")\n",
        "print(exist.shape)\n",
        "exist.head(3)"
      ],
      "execution_count": 6,
      "outputs": [
        {
          "output_type": "stream",
          "text": [
            "(7504, 15)\n"
          ],
          "name": "stdout"
        },
        {
          "output_type": "execute_result",
          "data": {
            "text/html": [
              "<div>\n",
              "<style scoped>\n",
              "    .dataframe tbody tr th:only-of-type {\n",
              "        vertical-align: middle;\n",
              "    }\n",
              "\n",
              "    .dataframe tbody tr th {\n",
              "        vertical-align: top;\n",
              "    }\n",
              "\n",
              "    .dataframe thead th {\n",
              "        text-align: right;\n",
              "    }\n",
              "</style>\n",
              "<table border=\"1\" class=\"dataframe\">\n",
              "  <thead>\n",
              "    <tr style=\"text-align: right;\">\n",
              "      <th></th>\n",
              "      <th>Hotelid</th>\n",
              "      <th>userid</th>\n",
              "      <th>reviewtext</th>\n",
              "      <th>Date</th>\n",
              "      <th>NoOfReaders</th>\n",
              "      <th>HelpfulToNoOfreaders</th>\n",
              "      <th>Value_rating</th>\n",
              "      <th>Rooms_rating</th>\n",
              "      <th>Location_rating</th>\n",
              "      <th>Cleanliness_rating</th>\n",
              "      <th>Checkin_rating</th>\n",
              "      <th>Service_rating</th>\n",
              "      <th>Businessservice_rating</th>\n",
              "      <th>AverageOverallRatingOfHotel</th>\n",
              "      <th>AveragePricing</th>\n",
              "    </tr>\n",
              "  </thead>\n",
              "  <tbody>\n",
              "    <tr>\n",
              "      <th>0</th>\n",
              "      <td>hotel_101</td>\n",
              "      <td>hotel_2225</td>\n",
              "      <td>Just An Average stay This was just an average ...</td>\n",
              "      <td>Dec 13, 2008</td>\n",
              "      <td>0</td>\n",
              "      <td>0</td>\n",
              "      <td>4</td>\n",
              "      <td>4</td>\n",
              "      <td>1</td>\n",
              "      <td>4</td>\n",
              "      <td>4</td>\n",
              "      <td>4</td>\n",
              "      <td>3</td>\n",
              "      <td>3.5</td>\n",
              "      <td>$245</td>\n",
              "    </tr>\n",
              "    <tr>\n",
              "      <th>1</th>\n",
              "      <td>hotel_101</td>\n",
              "      <td>hotel_5079</td>\n",
              "      <td>go elsewhere The place is hugely overpriced an...</td>\n",
              "      <td>Dec 2, 2008</td>\n",
              "      <td>0</td>\n",
              "      <td>0</td>\n",
              "      <td>2</td>\n",
              "      <td>4</td>\n",
              "      <td>3</td>\n",
              "      <td>3</td>\n",
              "      <td>1</td>\n",
              "      <td>2</td>\n",
              "      <td>2</td>\n",
              "      <td>3.5</td>\n",
              "      <td>$245</td>\n",
              "    </tr>\n",
              "    <tr>\n",
              "      <th>2</th>\n",
              "      <td>hotel_101</td>\n",
              "      <td>hotel_8440</td>\n",
              "      <td>I Won't Go Back I stayed at the hotel 11/14/08...</td>\n",
              "      <td>Nov 18, 2008</td>\n",
              "      <td>0</td>\n",
              "      <td>0</td>\n",
              "      <td>2</td>\n",
              "      <td>4</td>\n",
              "      <td>3</td>\n",
              "      <td>4</td>\n",
              "      <td>2</td>\n",
              "      <td>3</td>\n",
              "      <td>1</td>\n",
              "      <td>3.5</td>\n",
              "      <td>$245</td>\n",
              "    </tr>\n",
              "  </tbody>\n",
              "</table>\n",
              "</div>"
            ],
            "text/plain": [
              "     Hotelid      userid  ... AverageOverallRatingOfHotel AveragePricing\n",
              "0  hotel_101  hotel_2225  ...                         3.5           $245\n",
              "1  hotel_101  hotel_5079  ...                         3.5           $245\n",
              "2  hotel_101  hotel_8440  ...                         3.5           $245\n",
              "\n",
              "[3 rows x 15 columns]"
            ]
          },
          "metadata": {
            "tags": []
          },
          "execution_count": 6
        }
      ]
    },
    {
      "cell_type": "code",
      "metadata": {
        "id": "qDb4EhHGM48V",
        "colab_type": "code",
        "colab": {
          "base_uri": "https://localhost:8080/",
          "height": 278
        },
        "outputId": "ef9abbcf-5499-4554-94cf-4623b981a905"
      },
      "source": [
        "# Reading and exploring on New_hotels Data\n",
        "New = pd.read_csv(\"/content/drive/My Drive/Hotel Recommended Dataset/NewHotels_CutstomerVisitsdata-1554810098964.csv\")\n",
        "print(New.shape)\n",
        "New.head(2)"
      ],
      "execution_count": 8,
      "outputs": [
        {
          "output_type": "stream",
          "text": [
            "(2469, 15)\n"
          ],
          "name": "stdout"
        },
        {
          "output_type": "execute_result",
          "data": {
            "text/html": [
              "<div>\n",
              "<style scoped>\n",
              "    .dataframe tbody tr th:only-of-type {\n",
              "        vertical-align: middle;\n",
              "    }\n",
              "\n",
              "    .dataframe tbody tr th {\n",
              "        vertical-align: top;\n",
              "    }\n",
              "\n",
              "    .dataframe thead th {\n",
              "        text-align: right;\n",
              "    }\n",
              "</style>\n",
              "<table border=\"1\" class=\"dataframe\">\n",
              "  <thead>\n",
              "    <tr style=\"text-align: right;\">\n",
              "      <th></th>\n",
              "      <th>Hotelid</th>\n",
              "      <th>userid</th>\n",
              "      <th>reviewtext</th>\n",
              "      <th>Date</th>\n",
              "      <th>NoOfReaders</th>\n",
              "      <th>HelpfulToNoOfreaders</th>\n",
              "      <th>Value_rating</th>\n",
              "      <th>Rooms_rating</th>\n",
              "      <th>Location_rating</th>\n",
              "      <th>Cleanliness_rating</th>\n",
              "      <th>Checkin_rating</th>\n",
              "      <th>Service_rating</th>\n",
              "      <th>Businessservice_rating</th>\n",
              "      <th>AverageOverallRatingOfHotel</th>\n",
              "      <th>AveragePricing</th>\n",
              "    </tr>\n",
              "  </thead>\n",
              "  <tbody>\n",
              "    <tr>\n",
              "      <th>0</th>\n",
              "      <td>hotel_104</td>\n",
              "      <td>hotel_4342</td>\n",
              "      <td>Awesome Everything about this resort was great...</td>\n",
              "      <td>Jan 5, 2009</td>\n",
              "      <td>0</td>\n",
              "      <td>0</td>\n",
              "      <td>6</td>\n",
              "      <td>6</td>\n",
              "      <td>6</td>\n",
              "      <td>6</td>\n",
              "      <td>6</td>\n",
              "      <td>6</td>\n",
              "      <td>6</td>\n",
              "      <td>4.0</td>\n",
              "      <td>$227</td>\n",
              "    </tr>\n",
              "    <tr>\n",
              "      <th>1</th>\n",
              "      <td>hotel_104</td>\n",
              "      <td>hotel_2024</td>\n",
              "      <td>Convenient  When I say Above Average I'm compa...</td>\n",
              "      <td>Nov 10, 2008</td>\n",
              "      <td>0</td>\n",
              "      <td>0</td>\n",
              "      <td>4</td>\n",
              "      <td>4</td>\n",
              "      <td>6</td>\n",
              "      <td>5</td>\n",
              "      <td>4</td>\n",
              "      <td>5</td>\n",
              "      <td>1</td>\n",
              "      <td>4.0</td>\n",
              "      <td>$227</td>\n",
              "    </tr>\n",
              "  </tbody>\n",
              "</table>\n",
              "</div>"
            ],
            "text/plain": [
              "     Hotelid      userid  ... AverageOverallRatingOfHotel AveragePricing\n",
              "0  hotel_104  hotel_4342  ...                         4.0           $227\n",
              "1  hotel_104  hotel_2024  ...                         4.0           $227\n",
              "\n",
              "[2 rows x 15 columns]"
            ]
          },
          "metadata": {
            "tags": []
          },
          "execution_count": 8
        }
      ]
    },
    {
      "cell_type": "code",
      "metadata": {
        "id": "AvU4xz9uNTaZ",
        "colab_type": "code",
        "colab": {
          "base_uri": "https://localhost:8080/",
          "height": 125
        },
        "outputId": "46c8edeb-2650-472e-9afa-d26a392af4e0"
      },
      "source": [
        "# Reading and exploring on User_ratings data¶\n",
        "ratings = pd.read_csv(\"/content/drive/My Drive/Hotel Recommended Dataset/user_hotel_rating-1555730075105.csv\")\n",
        "print(ratings.shape)\n",
        "ratings.head(2)"
      ],
      "execution_count": 9,
      "outputs": [
        {
          "output_type": "stream",
          "text": [
            "(271935, 3)\n"
          ],
          "name": "stdout"
        },
        {
          "output_type": "execute_result",
          "data": {
            "text/html": [
              "<div>\n",
              "<style scoped>\n",
              "    .dataframe tbody tr th:only-of-type {\n",
              "        vertical-align: middle;\n",
              "    }\n",
              "\n",
              "    .dataframe tbody tr th {\n",
              "        vertical-align: top;\n",
              "    }\n",
              "\n",
              "    .dataframe thead th {\n",
              "        text-align: right;\n",
              "    }\n",
              "</style>\n",
              "<table border=\"1\" class=\"dataframe\">\n",
              "  <thead>\n",
              "    <tr style=\"text-align: right;\">\n",
              "      <th></th>\n",
              "      <th>userid</th>\n",
              "      <th>Hotelid</th>\n",
              "      <th>OverallRating</th>\n",
              "    </tr>\n",
              "  </thead>\n",
              "  <tbody>\n",
              "    <tr>\n",
              "      <th>0</th>\n",
              "      <td>user_78131</td>\n",
              "      <td>hotel_558</td>\n",
              "      <td>3</td>\n",
              "    </tr>\n",
              "    <tr>\n",
              "      <th>1</th>\n",
              "      <td>user_78131</td>\n",
              "      <td>hotel_603</td>\n",
              "      <td>2</td>\n",
              "    </tr>\n",
              "  </tbody>\n",
              "</table>\n",
              "</div>"
            ],
            "text/plain": [
              "       userid    Hotelid  OverallRating\n",
              "0  user_78131  hotel_558              3\n",
              "1  user_78131  hotel_603              2"
            ]
          },
          "metadata": {
            "tags": []
          },
          "execution_count": 9
        }
      ]
    },
    {
      "cell_type": "code",
      "metadata": {
        "id": "b23dVbnQNgBT",
        "colab_type": "code",
        "colab": {
          "base_uri": "https://localhost:8080/",
          "height": 635
        },
        "outputId": "e3cbc705-4ca4-43aa-fb8b-d0db417baced"
      },
      "source": [
        "# VISUALIZATIONS on Train Data\n",
        "# Let's look at the top 10 reviewed Hotels\n",
        "top_reviewed_hotels = train.Hotelid.value_counts()\n",
        "top_reviewed_hotels[:10].plot(kind='barh',figsize=(20,10),title=\"TOP 10 REVIEWED HOTELS on traindata\",legend=True,colormap=\"PiYG\",fontsize=15)\n",
        "_=plt.xlabel('HotelID',fontsize=20)\n",
        "_=plt.ylabel('Total No. of reviews',fontsize=20)"
      ],
      "execution_count": 10,
      "outputs": [
        {
          "output_type": "display_data",
          "data": {
            "image/png": "[encoded data removed]",
            "text/plain": [
              "<Figure size 1440x720 with 1 Axes>"
            ]
          },
          "metadata": {
            "tags": [],
            "needs_background": "light"
          }
        }
      ]
    },
    {
      "cell_type": "code",
      "metadata": {
        "id": "Lj-9lRZENph7",
        "colab_type": "code",
        "colab": {}
      },
      "source": [
        "# Checking the reviews count with respect to date column\n",
        "train['Date']=pd.to_datetime(train['Date'])\n",
        "\n",
        "days = {0:'Mon',1:'Tues',2:'Weds',3:'Thurs',4:'Fri',5:'Sat',6:'Sun'}\n",
        "\n",
        "train[\"month\"]=train[\"Date\"].dt.month\n",
        "train[\"Year\"]=train[\"Date\"].dt.year\n",
        "train[\"Day\"]=train[\"Date\"].dt.day\n",
        "train[\"dayOftheweek\"] = train[\"Date\"].dt.dayofweek\n",
        "train['dayOftheweek'] = train['dayOftheweek'].apply(lambda x: days[x])"
      ],
      "execution_count": 11,
      "outputs": []
    },
    {
      "cell_type": "code",
      "metadata": {
        "id": "ACaEdQqcNzX7",
        "colab_type": "code",
        "colab": {
          "base_uri": "https://localhost:8080/",
          "height": 872
        },
        "outputId": "0f6c3602-a1de-4c84-d308-fd636ef7d3a8"
      },
      "source": [
        "Review_Day_Count = train['Day'].value_counts()\n",
        "plt.figure(figsize=(10,4))\n",
        "sns.barplot(Review_Day_Count.index, Review_Day_Count.values, alpha=0.8)\n",
        "plt.ylabel(\"Number Of Review\")\n",
        "plt.xlabel(\"Reviews By Days\")\n",
        "plt.title('Total reviews count by Day', loc='Center', fontsize=14)\n",
        "plt.show()\n",
        "\n",
        "Reviews_Count_Month = train['month'].value_counts()\n",
        "plt.figure(figsize=(10,4))\n",
        "sns.barplot(Reviews_Count_Month.index, Reviews_Count_Month.values, alpha=0.8)\n",
        "plt.ylabel(\"Number Of Review\")\n",
        "plt.xlabel(\"Reviews By Months\")\n",
        "plt.title('Total reviews count by month', loc='Center', fontsize=14)\n",
        "plt.show()\n",
        "\n",
        "Reviews_Year = train['Year'].value_counts()\n",
        "plt.figure(figsize=(10,4))\n",
        "sns.barplot(Reviews_Year.index, Reviews_Year.values, alpha=0.8)\n",
        "plt.ylabel(\"Number Of Review\")\n",
        "plt.xlabel(\"Reviews By Year\")\n",
        "plt.title('Total reviews count by Year', loc='Center', fontsize=14)\n"
      ],
      "execution_count": 12,
      "outputs": [
        {
          "output_type": "display_data",
          "data": {
            "image/png": "[encoded data removed]",
            "text/plain": [
              "<Figure size 720x288 with 1 Axes>"
            ]
          },
          "metadata": {
            "tags": [],
            "needs_background": "light"
          }
        },
        {
          "output_type": "display_data",
          "data": {
            "image/png": "[encoded data removed]",
            "text/plain": [
              "<Figure size 720x288 with 1 Axes>"
            ]
          },
          "metadata": {
            "tags": [],
            "needs_background": "light"
          }
        },
        {
          "output_type": "execute_result",
          "data": {
            "text/plain": [
              "Text(0.5, 1.0, 'Total reviews count by Year')"
            ]
          },
          "metadata": {
            "tags": []
          },
          "execution_count": 12
        },
        {
          "output_type": "display_data",
          "data": {
            "image/png": "[encoded data removed]",
            "text/plain": [
              "<Figure size 720x288 with 1 Axes>"
            ]
          },
          "metadata": {
            "tags": [],
            "needs_background": "light"
          }
        }
      ]
    },
    {
      "cell_type": "code",
      "metadata": {
        "id": "C1TVTfdrOBYm",
        "colab_type": "code",
        "colab": {
          "base_uri": "https://localhost:8080/",
          "height": 295
        },
        "outputId": "c665dafa-58ec-46bb-f7f6-13e3a872f967"
      },
      "source": [
        "Sentiment_count = train['Sentiment'].value_counts()\n",
        "plt.figure(figsize=(10,4))\n",
        "sns.barplot(Sentiment_count.index, Sentiment_count.values, alpha=0.8)\n",
        "plt.ylabel(\"Count\")\n",
        "plt.xlabel(\"Feedback Count\")\n",
        "plt.title('Feedback counts across the train data', loc='Center', fontsize=14)\n",
        "plt.show()"
      ],
      "execution_count": 13,
      "outputs": [
        {
          "output_type": "display_data",
          "data": {
            "image/png": "[encoded data removed]",
            "text/plain": [
              "<Figure size 720x288 with 1 Axes>"
            ]
          },
          "metadata": {
            "tags": [],
            "needs_background": "light"
          }
        }
      ]
    },
    {
      "cell_type": "code",
      "metadata": {
        "id": "2cJq7I8eORK7",
        "colab_type": "code",
        "colab": {
          "base_uri": "https://localhost:8080/",
          "height": 621
        },
        "outputId": "5755973d-36cf-420b-abe5-9f6da08db785"
      },
      "source": [
        "#Top 10 feed back given hotels\n",
        "top_fb_hotels = train.groupby('Hotelid')['Sentiment'].value_counts().sort_values(ascending=False).head(10)\n",
        "top_fb_hotels.plot(kind=\"barh\",color=\"gold\",title=\"Top 10 feed back given hotels \",legend=True,figsize=(10,10))\n",
        "_=plt.xlabel('count')\n",
        "_=plt.ylabel('HotelID')\n",
        "plt.show()"
      ],
      "execution_count": 14,
      "outputs": [
        {
          "output_type": "display_data",
          "data": {
            "image/png": "[encoded data removed]",
            "text/plain": [
              "<Figure size 720x720 with 1 Axes>"
            ]
          },
          "metadata": {
            "tags": [],
            "needs_background": "light"
          }
        }
      ]
    },
    {
      "cell_type": "code",
      "metadata": {
        "id": "zwCmn0wPOiHr",
        "colab_type": "code",
        "colab": {
          "base_uri": "https://localhost:8080/",
          "height": 621
        },
        "outputId": "8b334a9a-27cf-4f2e-d95a-14b25b5a9834"
      },
      "source": [
        "#Least 10 feed back given hotels\n",
        "least_fb_hotels = train.groupby('Hotelid')['Sentiment'].value_counts().sort_values(ascending=True).head(10)\n",
        "least_fb_hotels.plot(kind=\"barh\",color=\"grey\",title=\"Least 10 feed back given hotels \",legend=True,figsize=(10,10))\n",
        "_=plt.xlabel('count')\n",
        "_=plt.ylabel('HotelID')\n",
        "plt.show()"
      ],
      "execution_count": 15,
      "outputs": [
        {
          "output_type": "display_data",
          "data": {
            "image/png": "[encoded data removed]",
            "text/plain": [
              "<Figure size 720x720 with 1 Axes>"
            ]
          },
          "metadata": {
            "tags": [],
            "needs_background": "light"
          }
        }
      ]
    },
    {
      "cell_type": "code",
      "metadata": {
        "id": "RH-cmUmAOrUJ",
        "colab_type": "code",
        "colab": {
          "base_uri": "https://localhost:8080/",
          "height": 573
        },
        "outputId": "606497c3-30bc-40b5-a2a4-252a2b175f9c"
      },
      "source": [
        "# As we can observe the trend in summer holidays i.e from April to August are more when compared to all the other months in all the years\n",
        "###   On existing Hotels Data\n",
        "\n",
        "exist['AverageOverallRatingOfHotel']=exist['AverageOverallRatingOfHotel'].astype(\"float64\")\n",
        "\n",
        "#Worst Hotels\n",
        "worst_hotels =exist.groupby('Hotelid')['AverageOverallRatingOfHotel'].mean().sort_values(ascending=True).head(5)\n",
        "worst_hotels.plot(kind=\"barh\",color=\"green\",title=\"Worst Hotels \")\n",
        "_=plt.xlabel('AverageOverallRatingOfHotel')\n",
        "_=plt.ylabel('HotelID')\n",
        "plt.show()\n",
        "\n",
        "#Best Hotels\n",
        "best_hotels = exist.groupby('Hotelid')['AverageOverallRatingOfHotel'].mean().sort_values(ascending=False).head(5)\n",
        "best_hotels.plot(kind=\"barh\",color = \"pink\",title=\"Best Hotels \")\n",
        "_=plt.xlabel('AverageOverallRatingOfHotel')\n",
        "_=plt.ylabel('HotelID')\n",
        "plt.show()\n"
      ],
      "execution_count": 16,
      "outputs": [
        {
          "output_type": "display_data",
          "data": {
            "image/png": "[encoded data removed]",
            "text/plain": [
              "<Figure size 432x288 with 1 Axes>"
            ]
          },
          "metadata": {
            "tags": [],
            "needs_background": "light"
          }
        },
        {
          "output_type": "display_data",
          "data": {
            "image/png": "[encoded data removed]",
            "text/plain": [
              "<Figure size 432x288 with 1 Axes>"
            ]
          },
          "metadata": {
            "tags": [],
            "needs_background": "light"
          }
        }
      ]
    },
    {
      "cell_type": "code",
      "metadata": {
        "id": "GUqvwe9RPHZb",
        "colab_type": "code",
        "colab": {}
      },
      "source": [
        "## Preprocessing On Train data and Test Data \n",
        "\n",
        "train[\"reviewtext\"]=train[\"reviewtext\"].apply(lambda x:re.sub(\"[^A-Za-z]\", \" \", x.strip()))\n",
        "test[\"reviewtext\"]=test[\"reviewtext\"].apply(lambda x:re.sub(\"[^A-Za-z]\", \" \", x.strip()))"
      ],
      "execution_count": 17,
      "outputs": []
    },
    {
      "cell_type": "code",
      "metadata": {
        "id": "RKXPY-GKPQFc",
        "colab_type": "code",
        "colab": {}
      },
      "source": [
        "## Lower case\n",
        "train['reviewtext'] = train['reviewtext'].apply(lambda x: \" \".join(x.lower() for x in x.split()))\n",
        "test['reviewtext'] = test['reviewtext'].apply(lambda x: \" \".join(x.lower() for x in x.split()))"
      ],
      "execution_count": 18,
      "outputs": []
    },
    {
      "cell_type": "code",
      "metadata": {
        "id": "Th1P3_M4PV2R",
        "colab_type": "code",
        "colab": {}
      },
      "source": [
        "# Numbers Removal\n",
        "train['reviewtext'] = train['reviewtext'].str.replace('[\\d]', '')\n",
        "test['reviewtext'] = test['reviewtext'].str.replace('[\\d]', '')"
      ],
      "execution_count": 19,
      "outputs": []
    },
    {
      "cell_type": "code",
      "metadata": {
        "id": "yVyR1JzaPdvg",
        "colab_type": "code",
        "colab": {}
      },
      "source": [
        "# Punctuation Removal\n",
        "train['reviewtext'] = train['reviewtext'].str.replace('[^\\w\\s]','')\n",
        "test['reviewtext'] = test['reviewtext'].str.replace('[^\\w\\s]','')"
      ],
      "execution_count": 20,
      "outputs": []
    },
    {
      "cell_type": "code",
      "metadata": {
        "id": "MEB9xKsLPjV2",
        "colab_type": "code",
        "colab": {
          "base_uri": "https://localhost:8080/",
          "height": 52
        },
        "outputId": "c1589172-3a00-4080-9d24-836a201fa857"
      },
      "source": [
        "# Stop words Removal\n",
        "import nltk\n",
        "nltk.download('stopwords')\n",
        "stop = stopwords.words('english')\n",
        "train['reviewtext'] = train['reviewtext'].apply(lambda x: \" \".join(x for x in x.split() if x not in stop))\n",
        "test['reviewtext'] = test['reviewtext'].apply(lambda x: \" \".join(x for x in x.split() if x not in stop))"
      ],
      "execution_count": 22,
      "outputs": [
        {
          "output_type": "stream",
          "text": [
            "[nltk_data] Downloading package stopwords to /root/nltk_data...\n",
            "[nltk_data]   Unzipping corpora/stopwords.zip.\n"
          ],
          "name": "stdout"
        }
      ]
    },
    {
      "cell_type": "code",
      "metadata": {
        "id": "CvmboCoiP3hY",
        "colab_type": "code",
        "colab": {
          "base_uri": "https://localhost:8080/",
          "height": 212
        },
        "outputId": "f0d9aa58-92fa-4a08-96a7-28b065a96109"
      },
      "source": [
        "# Common word removal\n",
        "# On trainData\n",
        "freq = pd.Series(' '.join(train['reviewtext']).split()).value_counts()[:10]\n",
        "freq"
      ],
      "execution_count": 23,
      "outputs": [
        {
          "output_type": "execute_result",
          "data": {
            "text/plain": [
              "hotel       13351\n",
              "room        10561\n",
              "great        6067\n",
              "stay         4938\n",
              "location     4026\n",
              "would        3990\n",
              "good         3842\n",
              "staff        3668\n",
              "rooms        3541\n",
              "nice         3538\n",
              "dtype: int64"
            ]
          },
          "metadata": {
            "tags": []
          },
          "execution_count": 23
        }
      ]
    },
    {
      "cell_type": "code",
      "metadata": {
        "id": "y-J6kTAAQKvZ",
        "colab_type": "code",
        "colab": {
          "base_uri": "https://localhost:8080/",
          "height": 123
        },
        "outputId": "875b574c-1666-4c64-920d-560a7db54224"
      },
      "source": [
        "freq = list(freq.index)\n",
        "train['reviewtext'] = train['reviewtext'].apply(lambda x: \" \".join(x for x in x.split() if x not in freq))\n",
        "train['reviewtext'].head()"
      ],
      "execution_count": 24,
      "outputs": [
        {
          "output_type": "execute_result",
          "data": {
            "text/plain": [
              "0                                marriot view king bed\n",
              "1    charges internet access marriott airport seatt...\n",
              "2    small adequate early morning flight catch choi...\n",
              "3    better average noisy stayed times inthe last s...\n",
              "4    ordinary although highly rated reviews pay pre...\n",
              "Name: reviewtext, dtype: object"
            ]
          },
          "metadata": {
            "tags": []
          },
          "execution_count": 24
        }
      ]
    },
    {
      "cell_type": "code",
      "metadata": {
        "id": "LCF1fDl6QStZ",
        "colab_type": "code",
        "colab": {
          "base_uri": "https://localhost:8080/",
          "height": 212
        },
        "outputId": "261029de-4f4b-4754-829d-4466d1eb07db"
      },
      "source": [
        "freq1 = pd.Series(' '.join(test['reviewtext']).split()).value_counts()[:10]\n",
        "freq1"
      ],
      "execution_count": 25,
      "outputs": [
        {
          "output_type": "execute_result",
          "data": {
            "text/plain": [
              "hotel       7143\n",
              "room        5704\n",
              "great       3035\n",
              "stay        2506\n",
              "would       2025\n",
              "location    2021\n",
              "staff       2011\n",
              "nice        1978\n",
              "good        1961\n",
              "rooms       1870\n",
              "dtype: int64"
            ]
          },
          "metadata": {
            "tags": []
          },
          "execution_count": 25
        }
      ]
    },
    {
      "cell_type": "code",
      "metadata": {
        "id": "0Ojw73gtQcem",
        "colab_type": "code",
        "colab": {
          "base_uri": "https://localhost:8080/",
          "height": 123
        },
        "outputId": "d8e0d35c-7b1c-4a56-ff14-508c3ce3ff53"
      },
      "source": [
        "freq1 = list(freq1.index)\n",
        "test['reviewtext'] = test['reviewtext'].apply(lambda x: \" \".join(x for x in x.split() if x not in freq1))\n",
        "test['reviewtext'].head()"
      ],
      "execution_count": 26,
      "outputs": [
        {
          "output_type": "execute_result",
          "data": {
            "text/plain": [
              "0    average average nothing standing weather recom...\n",
              "1    go elsewhere place hugely overpriced mis manag...\n",
              "2    go back stayed nights booked package marriotts...\n",
              "3    weekend wife quite regularly visit seattle see...\n",
              "4    airport lovely indoor pool area looks like lod...\n",
              "Name: reviewtext, dtype: object"
            ]
          },
          "metadata": {
            "tags": []
          },
          "execution_count": 26
        }
      ]
    },
    {
      "cell_type": "code",
      "metadata": {
        "id": "wt9DNuJeQoSl",
        "colab_type": "code",
        "colab": {
          "base_uri": "https://localhost:8080/",
          "height": 212
        },
        "outputId": "8af7c35c-05e4-446a-d1a7-5dcb9570fb57"
      },
      "source": [
        "# Rare words removal\n",
        "# On train Data\n",
        "freq = pd.Series(' '.join(train['reviewtext']).split()).value_counts()[-10:]\n",
        "freq"
      ],
      "execution_count": 27,
      "outputs": [
        {
          "output_type": "execute_result",
          "data": {
            "text/plain": [
              "spate          1\n",
              "trainee        1\n",
              "wakened        1\n",
              "doubleday      1\n",
              "abroad         1\n",
              "prescence      1\n",
              "stripes        1\n",
              "scape          1\n",
              "oursurprise    1\n",
              "ben            1\n",
              "dtype: int64"
            ]
          },
          "metadata": {
            "tags": []
          },
          "execution_count": 27
        }
      ]
    },
    {
      "cell_type": "code",
      "metadata": {
        "id": "_YdINdE4Qy1n",
        "colab_type": "code",
        "colab": {
          "base_uri": "https://localhost:8080/",
          "height": 123
        },
        "outputId": "4f96f8c3-56d1-4680-e649-a487de9f9916"
      },
      "source": [
        "freq = list(freq.index)\n",
        "train['reviewtext'] = train['reviewtext'].apply(lambda x: \" \".join(x for x in x.split() if x not in freq))\n",
        "train['reviewtext'].head()"
      ],
      "execution_count": 28,
      "outputs": [
        {
          "output_type": "execute_result",
          "data": {
            "text/plain": [
              "0                                marriot view king bed\n",
              "1    charges internet access marriott airport seatt...\n",
              "2    small adequate early morning flight catch choi...\n",
              "3    better average noisy stayed times inthe last s...\n",
              "4    ordinary although highly rated reviews pay pre...\n",
              "Name: reviewtext, dtype: object"
            ]
          },
          "metadata": {
            "tags": []
          },
          "execution_count": 28
        }
      ]
    },
    {
      "cell_type": "code",
      "metadata": {
        "id": "Rl1YYkhnQ5mO",
        "colab_type": "code",
        "colab": {
          "base_uri": "https://localhost:8080/",
          "height": 212
        },
        "outputId": "c03c451a-d903-401e-96a5-92aaf644941d"
      },
      "source": [
        "# On test Data\n",
        "freq1 = pd.Series(' '.join(test['reviewtext']).split()).value_counts()[-10:]\n",
        "freq1"
      ],
      "execution_count": 29,
      "outputs": [
        {
          "output_type": "execute_result",
          "data": {
            "text/plain": [
              "aimed        1\n",
              "inward       1\n",
              "sail         1\n",
              "pbs          1\n",
              "enveloped    1\n",
              "printers     1\n",
              "motioned     1\n",
              "klondike     1\n",
              "inbetween    1\n",
              "mentions     1\n",
              "dtype: int64"
            ]
          },
          "metadata": {
            "tags": []
          },
          "execution_count": 29
        }
      ]
    },
    {
      "cell_type": "code",
      "metadata": {
        "id": "g7kjjUA3Q_TW",
        "colab_type": "code",
        "colab": {
          "base_uri": "https://localhost:8080/",
          "height": 123
        },
        "outputId": "a4dd17ae-54eb-4bf8-cf73-d428c4583cde"
      },
      "source": [
        "freq1 = list(freq1.index)\n",
        "test['reviewtext'] = test['reviewtext'].apply(lambda x: \" \".join(x for x in x.split() if x not in freq1))\n",
        "test['reviewtext'].head()"
      ],
      "execution_count": 30,
      "outputs": [
        {
          "output_type": "execute_result",
          "data": {
            "text/plain": [
              "0    average average nothing standing weather recom...\n",
              "1    go elsewhere place hugely overpriced mis manag...\n",
              "2    go back stayed nights booked package marriotts...\n",
              "3    weekend wife quite regularly visit seattle see...\n",
              "4    airport lovely indoor pool area looks like lod...\n",
              "Name: reviewtext, dtype: object"
            ]
          },
          "metadata": {
            "tags": []
          },
          "execution_count": 30
        }
      ]
    },
    {
      "cell_type": "code",
      "metadata": {
        "id": "q1VECEliRFYE",
        "colab_type": "code",
        "colab": {}
      },
      "source": [
        "# Stemming\n",
        "st = PorterStemmer()\n",
        "train[\"reviewtext\"] = train['reviewtext'].apply(lambda x: \" \".join([st.stem(word)\n",
        "                                                                    for word in x.split()]))\n",
        "test[\"reviewtext\"] = test['reviewtext'].apply(lambda x: \" \".join([st.stem(word)\n",
        "                                                                  for word in x.split()]))"
      ],
      "execution_count": 31,
      "outputs": []
    },
    {
      "cell_type": "code",
      "metadata": {
        "id": "9SrLQKQcRREv",
        "colab_type": "code",
        "colab": {
          "base_uri": "https://localhost:8080/",
          "height": 52
        },
        "outputId": "fb4f9dc7-b32f-4bda-a6dd-ed50596e2114"
      },
      "source": [
        "# Lemmatization\n",
        "nltk.download('wordnet')\n",
        "Lem = WordNetLemmatizer()\n",
        "\n",
        "train[\"reviewtext\"] = train['reviewtext'].apply(lambda x: \" \".join([Lem.lemmatize(word)\n",
        "                                                                    for word in x.split()]))\n",
        "\n",
        "test[\"reviewtext\"] = test['reviewtext'].apply(lambda x: \" \".join([Lem.lemmatize(word)\n",
        "                                                                  for word in x.split()]))"
      ],
      "execution_count": 33,
      "outputs": [
        {
          "output_type": "stream",
          "text": [
            "[nltk_data] Downloading package wordnet to /root/nltk_data...\n",
            "[nltk_data]   Unzipping corpora/wordnet.zip.\n"
          ],
          "name": "stdout"
        }
      ]
    },
    {
      "cell_type": "code",
      "metadata": {
        "id": "5Eri4CXwRjd5",
        "colab_type": "code",
        "colab": {}
      },
      "source": [
        "# Converting the text data into list\n",
        "Text_data1 = train['reviewtext'].tolist() \n",
        "Text_data2 = test['reviewtext'].tolist()"
      ],
      "execution_count": 34,
      "outputs": []
    },
    {
      "cell_type": "code",
      "metadata": {
        "id": "EX1ZLJgLRoeE",
        "colab_type": "code",
        "colab": {
          "base_uri": "https://localhost:8080/",
          "height": 1000
        },
        "outputId": "9d2c61bd-ffb4-4faf-a82d-ffca3c2ba4c9"
      },
      "source": [
        "for i in range(len(Text_data1)):     \n",
        "    Text_data1[i]=re.sub(r'\\s+', ' ', Text_data1[i]) #Removing more than one white spaces in the sentence     \n",
        "    Text_data1[i]=re.sub('[\\d]', ' ',Text_data1[i]) \n",
        "    Text_data1[i]=re.sub(r'[^\\x00-\\x7F]+',' ',Text_data1[i])\n",
        "    \n",
        "Text_data1"
      ],
      "execution_count": 35,
      "outputs": [
        {
          "output_type": "execute_result",
          "data": {
            "text/plain": [
              "['marriot view king bed',\n",
              " 'charg internet access marriott airport seattl reason choic sea tac area paid per night shuttl gener quick airport encourag use rather taxi servic spotti seattl second floor back long walk matter way took interior check quick breakfast restaur bit pricey drink servic bar fine complaint imagin must get noisi lobbi crowd hang thebar guess marriott new program guest charg internet servic free busi center near check counter two internet pc one board pas access pc person abil sit check person work email sure mani taker pay extra access hope get nickel dime offer four star overal qualiti',\n",
              " 'small adequ earli morn flight catch choic right airport recent renov new clean servic fast effici food neg small bathroom smallest encount mani year hardli turn around small person howev countertop granit also one elev seem odd size may self park valet park fee recommend extend fine one visit',\n",
              " 'better averag noisi stay time inth last sever month first best subsequ one got better obvious taken note comment card serious locat near seatac frequent shuttl tower floor high atrium area floor high note tower realli view although advertis mt rainier view mayb tree grew regardless tower youwil look roof ventil roof associ entranc avoid end x x bit noisi truck show odd number tower littl noisi ac frankli bad bathroom small doubl doubl littl crowd king seem bigger chair ottoman redon recent big flat screen tv desk pretti roomi cabinet small drawer greatest storag atrium area noisier reason asid nois pool function held near pool seem wall thinner last time actual thought someon left cellphon ring loudli food could better bit prici restaur due redon st quarter dessert howev tasti sinc issu meal free tri chocol cake lobbi bar music lot loud one song play sort random spoken sound disconcert internet part wire busi packag make call expens know marriott get brain stop charg internet busi center comput ethernet cabl use free also get free use internet concierg loung coupl dine choic walk distanc denni coin think also expens restaur hotel need car cab self park per day valet high norm citi care shower tub get slipperi fell abl get rubber mat also inform gm sever peopl situat housekeep need rins care clean even notic housekeep vacuum rock wall outsid restaur friendli rememb name luggag seem go someplac el come seattl seem also popular cruiser larg number folk head alaska vision sea mayb royal caribbean pre cruis peopl hate pacif northwest design lobbi look like lodg frankli think appropri area plenti place inth area flyer anyon need inth seatac area minut downtown hop bu airport also think stop end hill drive also tour arrang mani pick airport area hotel give tri',\n",
              " 'ordinari although highli rate review pay premium price compar airport hotel noth special proxim seatac think stay pay attent trip advisor comment hideou view hvac equip window one whole side although top floor build view look like industri site equip roof lower wing build spaciou bed comfort bathroom function rainstorm middl night ceil leak club loung paid extra modest ever seen food breakfast best part experi restaur extrem ordinari look like roadsid restaur freeway food servic first rate bottom line slept well even though collect marriott point think return',\n",
              " 'awesom earli flight wow supris stay properti one night juli wife two child month check faster ever experienc newli renov th floor overlook airport park garag actual larger expect two doubl bed plenti porta crib bellman help bag even set crib u son went swim time bed super comfort slept well quiet busi slow think chang busi check effici shuttl come everi minut le five minut airport definatli earli flight job properti marriott big fan',\n",
              " 'spent two night jun close airport shuttl run everi min free clean comfort bed linen although somewhat small function lobbi seem noisi although quiet eat restaur servic quick seem take forev get seem spread',\n",
              " 'stay overnight last week may fli morn problem leav car except check ask aaa card evid rate got park sleep fli aaa member option even mention web reserv form front desk quickli recogn error super comfi dinner restaur super effici drop departur day much quicker pick hotel use past one tini littl thing way back guy pick u stop pick take dinner drop u back kind weird overal experi',\n",
              " 'fine choic seatac lobbi attract bit small noisi seem newli redecor remodel big comfort king bed love duvet mani pillow bathroom luxuri level granit countertop attract larg frame mirror free comput lobbi print board pas hilton block away easili walk restaur larg steak hous type place choic well note park ripoff drop rental car earli avoid overnight charg',\n",
              " 'valu look expens servic look lodg old outdat place tri breakfast place come night go alaska cruis seattl take car servic termin servic well price',\n",
              " 'expens park nice renov modern bar beauti indoor pool treed atrium friendli help immacul clean bed extrem comfort due linen pillow concern expens park run per day expect l seattl wonder food restaur',\n",
              " 'happi properti gotten rave review want sleep arev bed gave tri arriv pm tire greet eric front desk found u wewant even took u came dinner bar order dine menu food return night horseradish crust salmon face pretti atrium hear nois recept area downstair comfi warm feel like rank stay christma cold uninvit space know one elev rd floor problem crowd mayb miss anoth elev wonder comfort relax go back marriott waterfront far comfort goe hook bed place fussi older woman young men travel mother fussi old woman famili love',\n",
              " 'nickel dime death conveni locat fli seatac also incred expens bed night park run find place otherwis unsecur lot want valet stay airport area make use airport shuttl internet connect pay day want light forget dim watt bulb point wonder stock flashlight water pressur none st floor shower warm hot environment consider make stumbl dark take cold shower shave leg either environ becom bloodi mess liter bed actual incred comfort thing wall window insul airport nois ask insid',\n",
              " 'extraordinaili posit stay march th expect lot airport someon work firm gone ritz carlton seminar sure marriott own ritz employe go process fine pool decent gym frequent shuttl airport free internet printer touch well everi singl employe amazingli friendli soliciti even kind lost someon alway go way offer help lot construct go complet soon neg affect job marriott',\n",
              " 'birthday parti fun stay overnit one night daughter th birthday daughter two friend love two queen bed one hide bed surpisingli comfort pool area beauti relax girl swam rest one chais loung swim night atrium area pool lit light fabul state remodel lobbi area walkway corridor hall noisi inconveni way live local area treat everi awhil alway plea servic amen dissapoint',\n",
              " 'excel stay one night excel put u concierg floor marriott reward silver member request view mt rainer toothpast rollaway accommod renov look comfort bed new bed love look feel swim pool hot tub area outdoor tropic enjoy warm water food lunch delici minut away downtown seattl note lobbi current renov need walk tent get insid build registr busi center',\n",
              " 'busi trip somewhat date recent remodel new furnitur carpet bed bed duvet cover clean bathroom also part remodel granit countertop new tile fixtur stay two week got know well airport side loud aircraft nois throughout night chang insid get sleep lobbi date need remodel park real problem key allow access park lot everi person must stop attend caus huge backup peak time horribl servic vip loung friendli insid pool heat huge exercis facil two week experi marriott spend money updat lobbi bar restaur park access use card reader',\n",
              " 'sleep park fli park suv within ft front lobbi two bright light told secur park left th first trip cabo san luca arriv back home th find suv broken mani item stolen insid damag thing strewn everywher wait long time polic arriv make report heard corpor offic told yet made phone call today left messag see like proceed updat know stand behind respect name',\n",
              " 'comfort spaciou stay two night redmond area confer wife book last night flight home lobbi larg fireplac comfor couch wife comment pool area pas elev walkway make way elev look like someth see disney lot indoor tree plant clean quiet bathroom felt bit small breakfast buffet well stock sort hot cold item also two cook hand made order egg includ salmon scrambl delici stay top floor conceig level receiv upgrad marriott point elev ceil impress qualiti decor',\n",
              " 'beauti recent renov exercis st level',\n",
              " 'hit miss stay separ occas recent one averag renov found one second noisi food averag fare public area dark day park lot far front desk disappoint shuttl airport time driver help price better option',\n",
              " 'juli stay courtyard night princess cruis alaska plea arriv sea tac airport call free shuttl arriv minut later told minut earli driver friendli minut trip airport courtyard check fast problem thought could get free shuttl cruis ship far desk arrang town car servic pick u next morn guarante non smoke got one smell smoke larg queen bed quilt overstuf chair desk chair vaniti mirror bureau v clean bathroom part toilet tub shower one larg sink mirror separ area outsid made conveni dinner charley restaur reason price western burger fri patti melt fri breakfast buffet bread bagel omelet bar fruit hot cold cereal yogurt plea especi cleanli definit',\n",
              " 'pretti impress stay one night drop daughter seatac ye properti littl bit older felt kept well nice appoint bed sooooo comfort love duvet absolut complaint pool atrium area awesom lot real foliag bright enjoy swim warm water time hot tub definit',\n",
              " 'interest marriott properti anoth view doubl bed',\n",
              " 'kind worn showreview full',\n",
              " 'averag old tire showreview full',\n",
              " 'use still choic spent weekend del sol chose cow hollow neighbourhood stay year back plea properti use longer offer aveda product one favorit thing sound carri quit bit ask top floor avail small clean furnish start becom bit date also pictur tv poor watch coupl channel park includ featur sf walk distanc mani shop restaur pretti trendi area probabl elsewher next time given choic unless refurbish',\n",
              " 'fun must better place chose del sol day san francisco basi review indic might fun two boy pool free park fact de sol motel rather fact overlook central public courtyard mean inher noisi fortun guest make much nois could imagin unlucki co incid rowdi group could pretti unpleas pool small realli worthwhil whilst site car park bonu think next time get rid hire car reach san francisco get use public transport said drive muir wood well worth near anyth interest admittedli bu stop two block away use bu go everywher time consum superb friendli extrem help provid light breakfast even though facil get bagel coffe recept sit pool build colour jolli big benefit u price could afford two rather share boy reflect though better found fisherman wharf sure howev none stood look particularli welcom took night trip alcatraz fantast one best tourist trip ever done boy also realli enjoy exploratorium scienc museum peopl warn san fracisco cold realli believ left sacramento mile inland temperatur f got san francisco f stay like week howev welcom relief heat experienc remaind trip overal although del sol fun advic find either fisherman wharf union squar',\n",
              " 'comfi festiv friendli',\n",
              " 'del sol famili stay del sol end juli love standard doubl bed motor lodg style brightli color call art deco courtyard small pool pool quit chilli adult kid age seem mind afternoon cooki milk also hit back deni quit small bathroom consist pedist sink shower stall commod said come san francisco bed comfort boutiqu soap shampoo treat overlook greenwich street get traffic nois read review also top floor probabl help area well fulli book littl bit nois heard die pm continent breakfast standard fare citi pay big eat free breakfast bonu biggest appeal marina cow hollow district wonder safe kid friendli restaur within walk distanc mel drive diner amici pizzeria along lombard st want someth offer quieter dine experi delici adult fare well kid menu perri union st also park free del sol car sf unnecessari bought muni pas u kid ride free bu stop block sinc main line abl go everywher ea neighborhood safe even stroll within walk distanc presidio chrissi field exploratorium palac fine art walk around neighborhood look architectur also san francisco must see final note say del sol realli make place stand book rental car day check head yosemit problem enterpris nightmar jorg heard problem offer call rental car compani u hour locat car avi also allow u keep avi came pick u almost pm other front desk also help pocket size map invalu ask recommend happili give',\n",
              " 'refresh mom stay del sol night san francisco recommend disappoint perfect block union chestnut walk distanc ocean ambianc refresh small basic bright color lot charact outdoor pool park small continent breakfast also part deal definit european feel may seem mostli european travel stay price incred reason definit back find break bank part bore ol chain',\n",
              " 'disappoint book entir due favour review site thing get overal quit disappoint whole time kept think wait write review place tripadvisor main problem tini cramp least one standard type queen bed everyon face fell first walk claustrophob read mani review back even mani favour one mention small bathroom equal cramp space shower stall disappoint bath person anoth disappoint lack fridg someth alway appreci anoth disappoint size swim pool much bigger bathtub cold temperatur water courtyard nice done particular night light palm tree breakfast fairli uninterest continent style danish etc realli complain rather simpl breakfast none cooki offer everi afternoon appreci kid anoth thing like hair product moistur soap love next time san fran definit tri somewher el',\n",
              " 'overr famili stay del sol four day august pay suit supposedli discount price frankli disappoint much brightli paint noisi motel small pool tini freez continent breakfast fair best realiz san francisco expens park includ big deal howev still overpr plu side extrem well locat peopl desk well housekeep love next trip san francisco pay necessari nicer place',\n",
              " 'ray sunshin book base review disappoint arriv uk discov book oop guy recept bat eyelid put u spare tire flight realli care went move stuff better morn awak time differ etc etc cheer night porter made coffe go young child tow grate mistak sort easili without fuss del sol tidi neat bright cheer famili dine close mel diner pizza chine japanes etc short walk excel public transport link also easi pleasant walk along front fisherman wharf area touristi bit san francisco cool misti pool equal cool still go dip splash kid breakfast standard fare juic coffe bagel cream chees pastri fruit adequ cheer friendli case went way sort littl error recommend anyon want frill comfort accomod away citi centr hustl bustl close enough get easili',\n",
              " 'place kid friend friend recommend place night san francisco everyth wonder arriv freshli bake cooki park free kid hung pool afternoon continent breakfast help u get go morn love neighborhood happi union squar buzz found del sol could direct u bu anywher want go walk lot found local restaur organ type supermarket nearbi also suit separ space adult kid return minut',\n",
              " 'decent decent includ park simpl breakfast bagel cream chees jam coffe hot chocol tea milk orang juic cooki afternoon one clerk friendli anoth le food recommend blah pasta place forgot name ho hum sandwich place submarin also averag pool freez cold elev brightli paint jolt stop reach floor need go step warn stroller bathroom shower okay shampoo hand cream park tight includ brightli colour cheer clean adequ storag quot phone june arriv someon front u got kind dbl bed ask got price check check',\n",
              " 'option famili book night del sol larg reput famili friendli place larg disappoint queen bed anoth may convert bathroom small year old love trundl bed age appropri child decor also ask crib year old although space littl tight reason comfort afternoon cooki milk hit courtyard pool although wind time pretti fierc breakfast realli noth special chanc start day coffe pastri bagel spent leisur morn plan day invalu beat regard nois thin wall solut turn air condit heat unit night white nois drown lot although never bother nois made sleep comfort friendli even let park small lawn courtyard avail park tight posit outweigh slight neg smallish odditi structur size famili unlimit budget fanci suit near union squar might stylish del sol option budget mind littl funki',\n",
              " 'away nois bother del sol okay howev nois issu enjoy use colour attempt convert motel someth current howev end fo day remain motel bathtub hook bathroom three day use bath soap replac electr outlet result mani thing ad outlet start worri small even one bedroom peopl cramp breakfast coffe juic fruit either overli sweet doughnut breakfast littl bagel cut bagel cutter mash bagel nois kept window close okay howev slightli open window kept awak night street traffic argument street guest noisili depart even window close unfortun group middl age folk motor cycl love rev even idl hog entir build liter shook per day internet ouch price impress howev alway plu one del sol advantag access key area citi one one half short block away muni bu take fisherman wharf except trip alcatraz want go know five ten minut union squar minut pas north beach chinatown view alcatraz coit tower telelgraph hill along way trip alon worth price ticket car free park major plu factor price friendli help day afternoon night could tell access messag close fun restaur chestnut street easi walk upscal shop union street free park want keep window close time avoid breakfast internet reason choic',\n",
              " 'go wrong del sol love lot charact help friendli hospit place kid welcom breakfast amaz even gener spread chees cracker wine etc friday afternoon warm cooki kid everi afternoon felt welcom stay one bedroom suit spaciou two larg closet two minor complaint wall thin mattress sag littl howev price san francisco standard anyway think highli recommend',\n",
              " 'famili arriv sf car famili arriv via minivan five day sf book base abl two suit gener excel review receiv guidebook found del sol exceed high expect almost everi way longer better like downgrad either expect someth e posh place middl walkabl tourist area someth w resembl hampton qualiti inn pretend none need use forum regist minor beef peopl absorb part normal hassl travel esp famili said experi w four peopl gener feel realli citi safe instead courtyard make thing seem overli noisi familiar expect ground outsid came feel familiar homey child urban savvi kid citi spend time watch back union squar even fisherman wharf lot european travel stay understand arriv anoth countri reassur place land fabul place walk eat either two block north two south also fast food taco bell colonel chicken w block small groceri store block away one citi best safeway five block away one best run rout ever right door toward marina gg bridg sf marathon goe along rout park one block away easi car access bridg golden gate park rest citi inclin drive park place imagin better unless need walk door middl everyth live nyc liken stay equival get upper west side nyc throng mid town plenti written breakfast w consist best breakfast coffe ever stuff add beef wise terribl shower water pressur know citi pipe pipe shower head issu return hd heartbeat though make reserv earli possibl could claim configur suit want laid bit differ',\n",
              " 'okay amaz book read super posit review tripadvisor view websit disappoint pro marina district restaur waterfront within short walk distanc love marina neighborhood love away tourist area citi perki pretti fun outsid qualiti bagel pastri fresh banana breakfast enjoy morn meal con full bed queen bed averag best comfort realli comfort night stay fairli small bathroom small also bathroom sorri shape rust evid worn small shelf hand held shower realli bathroom remind colleg apart dig quirki funki okay travel want feel comfort clean bathroom front desk guy young bit cavali tast mean enough level profession let feel compet hand overal choic quick visit noth get excit travel husband young daughter know fuss regard best famili choic sanfran mean nay sayer simpli find outstand place hype happi travel',\n",
              " 'cow hollow area small stori old nice updat color quaint relax restaur chestnut union histori transport shop go straight fillmor jr suit fridg q bed comfort comfi quilt clean bathroom w light shower sofa bed littl uncomfort roomi mod size closet safe tv vcr elev old jump end ride pool sunni temp clean ft ft breakfast snack around tall palm tree w light effect park free toyota runner fit restaur must go chestnut also walgreen bu muni goe ghiradelli sq goe columbu italian district citi light bookstor continu chinatown also goe near basebal park runner enjoy run around area close crissi field fort mason exploratorium stay fri mon marathon breakfast oj coffe doughnut bagel pastri usual fri sat night noisi peopl street keep window close overal ye',\n",
              " 'excel famili choic stay four night del sol day california trip wife two daughter age book advanc one two suit work perfectli u well worth extra dollar bed even pull comfort dvd player surpris issu lack closet space tini bathroom cope fine enjoy continent breakfast everi morn pleasantli surpris varieti qualiti food especi complimentari breakfast daughter made way pool coupl time despit eari june chilli day ok safe neighborhood feel crowd howev take bit patienc occas get taxi catch bu best bet call front desk minut want leav call cab wait get ate one restaur area recommend casual famili place front desk unimpress sever place close love tri look kid free conveni park big plu sever comment overflow lot problem across street overal gladli make anoth famili trip san francisco spike famili',\n",
              " 'choic first averag young man georg absolut wonder help u tremend knew go go made u feel like home right lombard street hwi busi road taxi car easi call get around f famili suit kid love bed theme real european feel time well worth money',\n",
              " 'valu return san francisco stay del sol week front desk peopl help kind lot dine option chestnut union street appreci ea del sol touristi fisherman wharf area etc bu system confus u first got hang travel citi also rent car get citi day trip everi night quiet except saturday night bar got two year old earli bedtim rise time stay small suit felt valu money unfortun crib pack play small child overal famili place front desk loan u sesam street video book particularli fussi even like review mention del sol realli glorifi motel feel clean safe quiet accomod definit',\n",
              " 'loud famili child nearli adult age spent one night front desk clerk help polit howev wall thin could hear way want unattend child woke knock door heard say wrong felt lack privaci properti courtyard cute look spaciou photo actual quirki drive car courtyard cover park continent breakfast look incom car sit tabl courtyard free park perk reason stay last night sf paid quit bit got return definit choic light sleeper young child phobic',\n",
              " 'fun friendli fabul book bedroom famili rollaway arrang u travel three older teenag boy plenti small kitchenett use although utensil need bright cheer spotlessli clean decor love small pool light tree add special feel night extrem friendli help breakfast plenti sun pool buse close place may want go like review love quick walk mel diner car mad men dinner treat mani love littl place eat brow bu wherev need go bought day muni pas give unlimit bu cabl car ride go anywher thank del sol love experi',\n",
              " 'valu next time sf famili sweden made trip coast coast day wonder town excel personel close buslin take heart sf minut recommend clean one day came back afternoon barbecu pool thougt special compani peopl told u even wine extra charg martensson famili',\n",
              " 'nervou first warm del sol book day del sol base frommer guid recommend one famili friendli hotel sf gener tripadvisor review first arriv disappoint realli motel nervou thin wall proxim street make noisi sleepless night never signific problem nois hear foot traffic stair morn usual awak anyway del sol clean comfort bed love aveda product wonder help also appreci free park kid love milk cooki afternoon warm chewi cooki hammock pool skip breakfast mani breakfast spot neighborhood rather drink cappuccino regular coffe glad tourist trap like union squar fisherman wharf think get better sen citi place like love neighborhood pretti laid back full shop food option walk distanc plenti site like crissi field fisherman wharf longish walk total abl definit kid opt someth refin husband',\n",
              " 'valu stay day famili mini vacat two child look safe clean budget easi get via transit excel restaur choic nearbi reccomend amici pasta breadstick felt safe whenev went area go sever hotel travel consid area citi felt made choic stay regular day upgrad one bedroom rest clean expected money servic excel friendli help breakfast milk cooki even',\n",
              " 'famili look sever trip advisor result hotel san francisco final settl del sol got min earli readi fulli understand earli apolog upgrad u bedroom suit inconvi supris arriv earli ask upgrad way start trip got treat yr old complimentari trip aqaurium bay everyon return anytim go citi thank del sol custom servic wonder clean well stock rave enough',\n",
              " 'cooki cutter free breakfast valu central marina district older motel type differ clean brightli color sunday night litt street traffic alway citi lobbi continent breakfast juic cereal coffe fruit surprisingli top line pastri free sf chronicl tini outdoor pool friendli servic unusu funki decor friendli small size even guest say hi unusu citi price without tax sunday night beat price clean medium size mid town sf',\n",
              " 'love area disappoint book base previou review firstli main reason book bunk bed famili suit child girl boy age big usual pull trundl bed henc find problem book arriv advis infact longer exist receptionist advis u someon inform u time book bear mind phone book three month previou specif ask bunk bed time actual end dec jan rd still advertis web site faultless infact possibl friendli help ever come across recept excel clean gener porter say though overal disappoint del sol quit get hype quit liter bog standard motel even brightli colour outrag expect guess previous mention fairli noisi alot traffic nois late even earli morn hear buse lorri infact could hear much outsid nois swear window properli shut motel fairli compact part servic rear outsid stair constant stream guest stair hour also previous mention nois heat air condit neighbour drive crazi toilet constantli block much longer went ask plunger went broom cupboard help need one frequent final check receptionist kind enough deduct coupl dollar bill due inconveni get bunk bed gestur honestli say san francisco year stay del sol valu money money expect littl comfort space quiet littl undisturb sleep',\n",
              " 'help peopl overal everyth written board manag front desk peopl wonder go way help let u check earli check late help u find open restaur christma eve christma day within walk distanc mani restaur shop interest street walk union squar fisherman wharf north beach etc bu line right around corner con paper thin wall actual heard guy next door u snore realli bother u much like nois probabl place',\n",
              " 'comfort bed colour clean littl motel turn pleasant clean bathroom although small nice decor also clean bed comfort aircon need pool larg perfectli adeqh refresh dip long hour flight uk breakfast fresh pastri bagel etc coffe juic fresh fruit eaten near pool back relax area walk fisherman wharf via park along side bay also take bu nearbi certainli recommend',\n",
              " 'kid recent travel husband year old month old mother stay kid suit includ seper trundl bed toy especi nap time mother also abl year old use pack play provid month old suggest bring linen pack play also kitchenett small serv purpos breakfast help also free park real gem find sf',\n",
              " 'love hip town neighborhood husband year old son visit san francisco long weekend first part octob stay del sol base review read tripadvisor well let say review right money love del sol highli recommend locat safe town neighborhood close everyth far enough away nois tourist trap locat marina district home shop restaur easili walk love explor differ street neighborhood restaur plenti outdoor cafe coffe shop upscal residenti neighborhood alot fun young help friendli gave u lot recommend restaur etc done bright color like show websit think could get better valu money took citi bu stop locat short block away everywher easi get around san francisco without car one thing awesom rent bike blaze saddl bike bike across golden gate bridg saulsalito fun day take ferri right back across bay san francisco beauti boat ride across bay defin return',\n",
              " 'wonder wow love place super kid friendli love especi cooki milk even rest u love neighborhood quiet still close lot place eat shop union street two block away marina district quick bu ride one way north beach way fisherman wharf pretti close realli worth mani better place see w e love walk street admir shop hous definit back',\n",
              " 'got back ten day san francisco stay del sol time luxori realli comfi spotlessli clean torn stay near touristi area fisherman wharf pay extra privileg save money stay h spend coupl night h visit fisherman wharf happi chose tourist area tacki restaur tri unless want eat chowder del sol cow hollow close union st fantast area full small restaur bar mostli full local tri get eat least beetelnut sure make reserv least day advanc alway pack serv fabul food easi get around public transport system problem ten minut ride union squar shop breakfast coffe orang juic cereal bagel pastri eat pool take back whole recommend',\n",
              " 'neighborhood cheer comfort place ye basic updat motor inn bright color comfort bed love plant realli make cut averag motel huge closet could store suitcas hang cloth bathroom fine usual low flow shower everyth clean extrem help recomend local restaur give direct thing love best del sol shop restaur park short walk away basic residenti area quiet night throw free park think hard go wrong place',\n",
              " 'love bright collor pleasant elev paint bright color furnitur fit right love window blind lent u babi crib charg best thing lot game young kid video could borrow kid still talk dora game play bathroom small ventil clean bed short e tall peopl foot stick edg breakfast basic worth write friendli problem check earli came get late check left overal recommend',\n",
              " 'area spent three night julyalthough basic motel done got certain charm particularli like colour bright kid friendli enjoy right center sf outdoor space pool even though small side right road kid particularli like even milk cooki two month later still talk also exploratorium fantast kid delight union st chestnut st short ride cabl car fisherman wharf could pay get nicer somewher central del sol valu place base',\n",
              " 'love del sol del sol first disappoint nice decor definit motor lodg issu ventil nois etc soon becam smitten friendli special touch aveda skin product friday afternoon regga barbecu palm tree lit night hammock world music pump elev name young restless courtyard swim pool small grassi area free park hurt either best part del sol right heart marina union chestnut street travel year old son ball excel neighborhood park right nearbi took stroller around marina chrissi field fisherman wharf definit recommend del sol',\n",
              " 'love famili stay night love friendli nice redon properti cheer color complimentari breakfast vcr video kid park includ amen even small outdoor pool definit',\n",
              " 'whil visit san fran second time partner use del sol second time realli place post said safe area plenti resaur within short walk distanc park free big plu sf breakfast noth write home point short walk put pay post also said motor lodg ye charm old fifti style motor court add use hotel recommend eat brazen head strang name food intend go back stay',\n",
              " 'smelli noisi cramp mind moldi smelli saw mold grow behind bed buy air freshenersno adequ closet space storag suitcas cloth bureau roomnot abl open bathroom door toilet locationno place hang wet towel familyhear convers footstep night earli morn stairwel adjoin roomshav request blanket return enough towel famili suit everi evening rock hard pastri bagel breakfastpark across street free park sight could accomod half guest go right ahead',\n",
              " 'wonder valu delight one gem found use trip advisor trendi marina district felt rather smug saw tourist pay nose usual chain hotel fishmen wharf area trendi peol get deal well simpl bright soft furnish clean bathroom perfectli adequ albeit littl small child thought milk cooki idea even teenag yet supper continent breakfast fine limit number tabl around pool guest tend hog longer appropri either wait member parti surfac simpli sit tabl plan day sightse minor gripe situat area plenti bar restaur within block walk ghiardelli squar day back even felt complet safe throughout littl itali chinatown direct bu goe right along union street within block conveni arriv need laudri get clean cloth pleasant help front desk recommend chine laundri close wonder expect fanci flash facil reason price base explor wonder citi hard beat arriv top star luxuri venetian resort la vega enjoy del sol much',\n",
              " 'still maintain high standard hot press review left today came absolut surpris accur reflect high standard previou review troubl give rave review folk visit make futur reserv difficult get actual alreadi made recommend enough del sol even credibl recomend teenag kid thought cool often parent kid agre anyth ok stop procrastin book',\n",
              " 'love know import love convert motor lodg right thrive marina district small done bright color open window breez flow nieghborhood full beauti build shop away main tourist locatiosn plu u pool shade day seem bother kid splash around morn even coffe bagel morn although breakfast mani littl place egg right around corner chestnust street even warm cooki milk famili sleep time much term servic friendli guy happiest desk clerk ever famili chill coupl uptight away',\n",
              " 'perfect famili two night del sol enjoy experi entir famili mother father daughter son except accomod friendli first night request move nd floor due frolic year old overhead met zero friction averag size brightli decor clean ground fun sunni feel pool bonu wast time lie around son enjoy swim daughter walk nearbi shop famili give although central trendi marina distict local chock full fantiast neighborhood restaur bar love feel much tourist trap go sure meal two grove corner chestnut hmmmm forget believ worth research local know anoth favorit andel street grove mexican cantina feel like del sol defin find',\n",
              " 'golden gate greeter program real winner de sol look trip advisor review prior book de sol book directli flash comfort offer everyth famili need make comfort union street shop road love restuar eat bu block away made travel easi free park car bonu breakfast look place eat child fun earli morn offer gude tour local golden gate greeter program main reason chose chain hotel plea took opportun greeter bob love person gave frreli time knowledg san franscisco local insit citi someon take u site made much easier get without aggrav find way around unfamiliar territori highli recommend htose happi liitl downtown golden gate greeter must tourist wish avail place donna',\n",
              " 'kid took year old niec weekend san francisco stay del sol fantast time accomod need got check video book game closet front desk favorit part chocol chip cooki afternoon hung hammock pool live nearbi chanc see neighborhood visitor safe neighborhood lot amenti nearbi price',\n",
              " 'kid spent night boy del sol april clean storag separ closet bathroom definit tini clean function especi shower enjoy del sol realli want enjoy upscal neighborhood marina cow hollow pacif height mani restaur bar shop playground short walk abl park car free san francisco definit plu hotel charg park breakfast ok expect much servic complaint overal valu especi car travel child',\n",
              " 'stay doubl doubl del sol night april adult child bathroom clean tidi shower walk wardrob storag safe bed comfort decor groovi bit small peopl budget stretch suit familli worth also heat pool kid avail use pm kid need supervis could seen bedroom window minut walk pier taxi ride restaur near post offic around corner lucki could get park within court yard otherwis addit park next walk along lombard street steep hill crookedest st part catch cabl car trolley cabl car museum union squar thu avoid minut queue terminu worth get one day travel pas per person use cabl car street car buse day otherwis pay get also get day pas',\n",
              " 'bathroom bit small perfectli fine',\n",
              " 'best visit san francisco block union street chestnut street abund shop bar retaur locat safe residenti neighborhood give visitor true tast local live easili visit nearbi attract walk take one mani thousand buse honeymoon cute eleg',\n",
              " 'almost perfect hidden jewel quirki funki base week long visit jan citi sinc actual convert motel park provid addl fee guest big plu citi although place older well maintain decor bright airi think overlook courtyard small pool bistro tabl vend machin two comfort queen size bed small tabl two chair entertain center held tv vcr small drawer larg walk closet person safe small bathroom bathtub expo ventil fan shower stall fan extrem dusti grimi look like never clean water pressur shower big disappoint u honestli slight difficult rins one hair shampoo condition heat cool unit effici modern although slightli loud one see daylight around close door though sinc larg gap door frame third floor two staircas either end floor also old tini elev near recept area lucki fit two u suitcas unit move slowli use elev transport luggag though friendli help although continent breakfast provid guest everi morn want full breakfast one day one suggest place within walk distanc food select portion price coupl night noisi one hear toilet flush door close etc regular basi nois fade background get use rowdi folk overal nois ge neral contain sign post around request folk keep nois night marina section sf conveni shop pier fisherman wharf public transport etc place lap luxuri wick comfort reason price return del sol price right although worri rins hair',\n",
              " 'famili chose del sol rate famili sf book pick bn although perfect posit far outweigh neg neg first stay week famili suit dresser place cloth closet tini cloth stay suitcas second need tv kid u fought one locat main final shower bathroom tub made difficult keep toddler clean sinc use bath like shower big deal neg suggest improv del sol week never use car exploratorium easi walk one direct northwest think fisherman wharf easi walk direct playground yard area safe peopl friendli need go farther like walk bu stop yard goe everywher citi purchas citypass onlin make trip ride buse trolley cabl car etc free day sf incred citi del sol wonder place enjoy plan mani visit futur',\n",
              " 'funki cute husband go sf night way wed want someth inexpens bargain got one funkiest hotel ever seen color scheme cozi littl noisi sinc next stair street care pool courtyard free breakfast decent front desk friendli help point u restaur coupl block away mention free park silverado fit site park free lot across street definit stay next trip sf',\n",
              " 'wonder place incred impress motel comfort bed ever slept manag even sent name compani buy one fantast color palm bamboo huge hammock aveda toiletri handmad soap larg walk closet desk area comfort sit area art terrif bathroom issu get extra comfi rollaway toddler clean team absolut best ad aveda daili even fold toddler blanki bear top fact entir impress cabana park lot terrif love view balconi coffe day gave toddler beach ball sunglass pool love place husband cow hollow beauti residenti urban neighborhood could walk everyth anyth bad anyth ok muffin homemad honestli love place much think everi owner manag requir everi understand excel renov valu excel go sf toss btwn castl inn glad chose del sol fantast earn lifetim custom u hard time imagin someon like wait go back',\n",
              " 'love del sol husband spent wonder night san fran littl find motel del sol place best kept secret san fran big fanci big lobbi doorman fanci overpr stuff ador color believ remodel end result simpli breathtak feel like walk onto set miami vice tropic color hot color pink blue yellow pastel wonder paint elev beauti color tile courtyard beauti tree hammock fun heat pool larg clean bright cheer wicker furnitur soft comfort pillow walk closet safe clean bathroom select shampoo soap plu real art photograph hang wall also vcr rent video free charg main lobbi color tile door number artsi color littl fruit treet floor outsid place pretti special wonder anyth make trip worthwhil best free park miracl san fran wonder breakfast morn lot bagel chees jam egg juic coffe set beauti someon must artist someon creativ realli special touch neighborhood best restaur found block either direct motel close lombard street crook street also union street like block sight see wonder shop world say pleasant surpris find tini littl place like mani person touch go san fran free park wonder art landscap ground pretti twinkl light night breakfast beach style ask anyth drive short distanc fisherman wharf see overcrowd high price hotel motel cram togeth realli make place feel like home hope help disappoint del sol special',\n",
              " 'place place park free also cover park clean clean excel also went way excel easi access access transit system block whether car place heat pool quit hope enjoy back soon',\n",
              " 'famili san francisco tourist night del sol must accept older motor inn given fresh coat paint paint longer fresh reason clean bargain famili two suit queen bed plu small bunk free breakfast day spice select local bakeri short walk away small pool cow hollow short walk trendi union street bit longer walk quit abl lombard street marina district fisherman wharf north beach chinatown free park worth citi central locat citi still fairli quiet night neighborhood set even loan free video movi set sf one warn sf summer quiet cool especi fog come wind blow view golden gate bridg day juli drive prepar light jacket fleec long pant ironi del sol juli sunni',\n",
              " 'fun fab attent free park cool decor return confer went one night see citi search search avid travel well extrem bargain hunter happi find funki older love sure gay anyth wrong group folk total rennov basic follow standard motor court shape door window face center courtyard small pool park underneath free park compar hotel charg night bathroom tile small shower motor court size fine child two bed bright accent paint accessori ad give cute modern feel without sacrif retro cool art furnitur bed give warm mod feel except friendli help direct etc even get free continent breakfast note coffe maker fine includ breakfast also lot towel upscal toiletri free video librari featur movi made san francisco pool heat cold outsid use bit neighborhood area call cow hollow area restaur shop area union street close urban spot upscal folk associ local groceri store hamburg shop yoga studio conveni fisherman wharf walk drive take public transport close marina district golden gate bridg crissi field presidio far north beach chinatown market street thank perfect price perfect spot defin back bright spot area vanilla accomod',\n",
              " 'plea pro friendli clean quaint set conveni marina district attract residenti set cafe live corner bar restaur etc min walk fort mason coastal park fisherman wharf park con bit expens accommod san francisco whenev return sfo certainli book del sol',\n",
              " 'back spent night del sol neighborhood resident short walk shop restaur close buse area renov motel color bright cheeri locat stairwel face street noisi time night howev slept fine small size complet fine decor color tire showerhead faulti spray water bathroom drain clog fun handmad soap aveda product bathroom park site free overal definit return look luxuri accomod place clean safe conveni rate',\n",
              " 'gem motel stay del sol august read realli glow review uk daili telegraph disappoint littl motel excel friendli help rel basic although clean spaciou quirki decor free substanti park facil real benefit yet motel mean san francisco main spot union squar fisherman wharf easili access foot even take account hill thoroughli recommend del sol posh repres valu fact consid san francisco littl gem place offer much better valu charact chain establish near fisherman wharf stay',\n",
              " 'fun color atmospher del sol fun relax color place surround bright tropic color hammock attach palm tree await clean comfort friendli knowledg alway greet smile away busi part sf yet close shop union palac fine art marina strongli recommend del sol everyon includ famili',\n",
              " 'tr ue showreview full',\n",
              " 'pleasant undergo renov rebrand construct go coupl day ago obtrus pleasant work kitchen downtown seattl near public trpt system attract pleasant enough help direct cant complain pleasant experi highli recommend',\n",
              " 'place famili five stay beauti bdrm suit dec th suit newli renov tell soon walk everyth look smell new husband slept spaciou bedroom comfi king size bed white bed fluffi duvet similar westin heavenli bed flat screen tv dresser modern furnish boy slept live area sleeper sofa roll away still plenti space realli like watch movi larg flat screen tv mount wall suit also kitchen everyth need make meal bathroom larg realli cool sink fanci tap also ga f p realli christma abl lay stock like home also brought small xma tree sat nice top cabinet next f p love boy alot fun outdoor heat pool realli enjoy sit outdoor hot tub sip hot tea cool air also indoor hot tub fit suffici husband quick work breakfast includ pretti boy ate lot favorit cinnamon toast crunch cereal waffl also egg sausag oatmeal bagel toast fruit yogurt juic coffe beat close restaur cheesecak factori street movi theatr shop cours lot free park around area well custom servic help u find restaur open christma eve christma day prompt request towel toiletri neg thing outsid small unattract lobbi area evid renov go although never heard nois definit hope price go much becom homewood suit hilton spring',\n",
              " 'valu friendli stay pike street suit last week novemb rd visit last year impress time famili travel seattl mini vacat shop trip sinc prefer littl bit space contact directli see option base recommend reserv junior suit adjoin king standard junior suit live kitchen separ bedroom adjoin regular king bed turn idea wonder deal lot small kitchen prepar dinner coupl night morn went complimentari breakfast lobbi whole fruit yogurt pastri cereal juic egg sausag coffe fresh breakfast bright clean miss fresh waffl use serv though close enough pike market number shop mall movi theater restaur use vehicl easi walk catch monorail seattl center space needl sci fi museum other front desk housekeep friendli compet like say thank britt sara dan especi help time seattl plea highli recommend',\n",
              " 'like lot custom servic need improv stay day end decemb bedroom compar best western stay big nice newli decor breakfast expect egg sausag pastri usual stuff outdoor pool warm kid lost fun bathroom fan loud front desk person male tri talk like girl help question get around shuttl take u fortun cowork came around help answer question quickli will pay park park outsid cheaper pm park free walk downtown shop market close cheesecak factori new favorit place eat',\n",
              " 'fantast place perfect famili enorm spectacular view space needl downtown maci set firework kick holiday shop season right downtown shop tour capitol hill except reason restaur breakfast substanti lot choic fresh fruit super help front desk bellman engin housekeep sleeper sofa bit beat process renov actual big enough took mattress frame put floor kid',\n",
              " 'place rude shuttl driver stay marin expo convent day bed comfort walk distanc everi thing pike street offer complaint courtesi driver sure guy manag keep job servic terribl rude time use shuttl servic basic act like piss ask give u ride day driver sure night driver tip minimum dollar short ride perk second next ride start piss attitud need work peopl skill mayb need quit job get job remot everyday',\n",
              " 'part realli anniversari prompt free shuttl servic train station back next day plu servic pike place market genuin friendli courteou super king size bed live area kitchen doubl sink bathroom whirlpool tub plu flat screen tv minor complaint door light proof lot light spill hallway remedi shut bedroom door hallway nois custom excess sound proof hallway wall otherwis surprisingli fantast place let u walk kind place includ paramount theater saw spamalot dinner',\n",
              " 'surpris wow book suit got huge one bedroom suit renov new furnitur carpet granit counter flat screen tv free internet breakfast deal back recommend sure',\n",
              " 'smoki dirti friend woman mid want weekend girl shop trip book hotwir said star place divey near convent centr downtown shop although call pike street suit famou pike street market nowher sight lobbi worn date front desk inconsist friendli rude none classi uniform bit odd first given sick reek smoke ash tray tv even though ask non smoke de humidifi blast tini carpet quit stain think csi miami clean crew went complain upgrad u suit amaz much cleaner big bathroom seper bedroom live area paid hotwir know type normal go adequ view well back alley highway mid construct although loud overal recommend tri give u sick complain trip lousi howev get suit free brekfast lot select',\n",
              " 'valu thought valu money sinc got upgrad suit due book close downtown fill full breakfast includ price construct problem notic nois complaint pool hot tub chemic must balanc end chemic burn think must get one control appear overli friendli broken item entertain unit cabinet door track minor detail mention thing hurri valu correct',\n",
              " 'current renov pike place suit current major remodel mode prepar expect construct nois day minor inconveni none le new contemporari without glitch remodel wire internet servic yet sofa sleeper still wire shut ship one phone improperli connect yet function engin pleasant quick remedi problem desk couteou help typic free breakfast fare valet particularli help bewar park garag meant small vehicl attest scrape wall bewar shuttl driver lloyd accommod one day mean nasti next pike place suit close everyth avoid shuttl read review request quiet side due renov request grant plea turn case though almost immedi front accept quiet window close plu citi view',\n",
              " 'fantast lobbi',\n",
              " 'disappoint galor properti drastic understaf accept felt sorri everi employe busi weekend sever marin game expect one front desk person one guy run tail get everyon car free shuttl ballpark crowd never',\n",
              " 'valu stay week attend convent realli conveni convent center downtown gener suit littl tire eg carpet sofa need replac bed comfort clean although need ask extrem vacuum friendli overal servic quiet often realli hard find cheapest place valu downtown seattl kitchenett definit plu recommend without hesit',\n",
              " 'pro con friendli bad experi check color put clearli smoke base smell despit request n advanc confirm check also poorli clean preoccupi young child thu took u day chang much happier housekeep still ok size layout gener picki disappoint get bad start one person tri tell u first n clearli one smoke floor rd breakfast conveni park valet tip involv car deliv quickli fair amount street nois traffic pedestrian plan walk place note walk back pike place market steep climb howev free bu shuttl',\n",
              " 'love two luxuri realli conveni convent center access refriger stove day night tea coffe averag fit center weight recumb bike ellipt trainer two treadmil breakfast though wish breakfast gener hotel ran love next time seattl',\n",
              " 'best experi ever seattl stay sever place seattl past coupl year pike street suit gave friendli courteou enjoy ever experienc businesswoman ordinari mom need night treat wonder everyon minut made reserv time left suit beauti everyth place includ disturb sign previou three place stay night check staf reason ladi front desk handl beauti pressur handl incom guest alway smile ever courteou earn loyalti head though choos use valet park servic need walk ramp park garag access elev garag',\n",
              " 'poor servic stay attend seattl gift show januari minut away recent renov servic mediocr tell miser job one place exampl tick day motiv write first ever review yet respond question phone bill front desk told someon get back phone three time told three time someon get back never get penni next time town',\n",
              " 'famili friendli breakfast ideal famili yr yr yr old crib thew bedroom kid sofa sleeper livingroom put babi nap abl play kid make snack access restroom without disturb babi travel kid full kitchen bless',\n",
              " 'valu chang hand current known pike street suit look independ oper temporari situat summer paraphras note elev hyatt pictur hilton take remodel suppos complet sometim summer part homewood suit chain ownership situat affect neg slightest found everyon front desk friendli help request high floor earli check got ask help get airport earli flight came amtrak flew back arrang everyth got best deal got one suit th floor face courtyard quiet nervou road nois realli bad imo request courtyard view properti must apart condo point sound insul realli pretti show age bit bad plenti bed comfort kitchen fridg stove microwav stock plate utensil glass use coupl time continent breakfast morn adequ usual suspect avail like fresh fruit cereal pastri etc run exercis decent true treadmil ellipt machin recumb stationari bike free weight also tv hot tub heat pool lot research book believ best deal downtown paid night book websit two block convent center close shop also minut walk pike place market le popular shop area like pacif place nordstrom westlak center like minut pioneer squar area still bad walk courtesi shuttl take ask spend per night coupl minut closer thing decid think worth sure mayb compani dime gripe vagrant homeless situat downtown bigger citi see peopl around big surpris seem everi corner downtown tend bit aggress ask money compar citi almost point hope walk sign cross intersect stop subject anoth face request money okay give chang power otherwis ignor usual go away',\n",
              " 'pike street suit chang name summer jan longer hyatt chain call pike street suit sign elev say undergo renov renam homestead suit think part hilton chain sign say manag remian friendli accomod one overlook freeway street nois background level honk horn differ differ floor plan bedroom suit kitchenett complet dishwash dish felt roomi fold couch bed adequ uncomfort breakfast quiet thick wall floor',\n",
              " 'bed stay excel next door convent center around corner pacif plaza mall short block pike place capitol hill end extrem small alon work two u challeng th floor face court yard made nois interest see high rise residenti surround courtyard could look other window kind disturb time intriqu remind rude watch peopl eat watch tv undergo name chang undergo sever renov much need sinc upscal area cours hwne get done probabl doubl price paid scedul done summer defin probabl spring suit rather standard also park day kind steep internet free even wasnt enough unsecur wifi network area worri charg decent experi overal know expect',\n",
              " 'place plea walk distanc plenti food option movi theater mall etc clean couch kitchen king size bed internet free yea breakfast typic free stuff extend place reheat egg waffl fruit etc fine encount dirt excess nois review mention road nois hear accept stay citi warn countri folk citi hear road nois go back suburb problem bought hotwir per night night best luck travel',\n",
              " 'formerli summerfield suit wyndham small need clean garbag floor dirti tabl top bathroom floor need clean said properti',\n",
              " 'home base seattl sighse husband spent long weekend summerfield suit alaska cruis steal night hotwir walk pike market space needl use free shuttl bring u waterfront dinner drive friendli got tip dinner elliott oyster bar one best meal ever free breakfast seattl summerfield suit clean view space needl friendli help heartbeat',\n",
              " 'bad block pike place market shuttl servic take visitor locat close shop lot eat establish huge one bedroom suit full kitchen door open small concret patio breafast buffet includ chees omelet sausag make waffl cereal milk fruit juic pastri yogurt oatmeal next door convent center comfi bed clean bathroom bad reserv said jet tub inquir one said mani primari reason chose sever other downtown seattl option reserv deliv made reserv two month prior websitew also request quiet fourth floor face boren street hill realli four floor traffic window insul traffic nois horribl sound sleeper use type thing may problem sure request face inner courtyard outdoor pool show wear put shabbi categori yet mold door track outsid patio',\n",
              " 'price sunset along pier',\n",
              " 'walk straight pike street block pike place market restaur right around quieter park downtown although realli close expressway clean check gave u new grade realli help whole place clean breakfast definitel oh perfect veiw spaceneedl place',\n",
              " 'place enjoy seattl place realli want park car walk take mass transit find well situat walk street pike market easi access monorail space needl number place visit suit pretti sever day road breakfast breakfast littl small alway take want pool enjoy hot tub outdoor friendli help park night excel bed much enjoy definit',\n",
              " 'deal tri hotlin stay summerfield suit pike street seattl sever time past two year alway hotlin buy per night deal price minifridg microwav sometim small certainli adequ two peopl ask quiet noisi street freeway excel free breakfast hot make waffl varieti fruit varieti cereal egg sausag etc avail free van trip downtown nearbi deal tip dollar park per night figur cost vehicl everi time stay loud nois central air condit unit alway came quickli turn seldom need ac seattl anyway help decent hotel downtown seattl seldom deal get price rang',\n",
              " 'move time book reserv time stay chang ownership wyndham hyatt chose particular go busi confer wa convent center block away like fact reason price one get kitchenett usual stay due fact wyndham ensur get ask chang hyatt specifi reserv want away elev vend machin also call directli week beforehand specifi request clerk advis cannot guarrante placement hyatt assign sinc made reserv non refund payment full wyndham also left work earli check soon avail could get quiet work got found next elev one side stair side extrem noisi told avail even though arriv minut check time everyon polit sorri cut one hear stairway elev traffic night work next day frustrat gener thing well attend wyndham ran thing exampl light work wyndham alway make sure fixtur fall disrepair coffe tasteless got roon around pm scatter array breakfast dish line hallway year stay wyndham hotel left dish lie hall day continent breakfast usual calor cocktail mini muffin microscop danish combin air starch crystalllin sugar chemic sadli seattl summerfield suit slide slope new capac hyatt pull toy disappoint quiet accommod well run',\n",
              " 'one night immacul profession small fridg free internet access realli enjoy breakfast buffet consist fruit cereal oatmeal juic orang appl grapefruit boil egg waffl made waffl maker toast toast muffin english muffin bagel cream chees yoghurt coffe tea probabl thing forgotten free shuttl hesit',\n",
              " 'stay summerfield suit night easter long weekend april made reserv hotwir check quick busi competit next door convent center mani high schooler walk around given th floor close elev open door someon walk back recept desk ask anoth check clerk saw made mistak gave u suit th floor suit big full kitchen live separ bedroom full bathroom trade small inconveni everyth suit clean bed comfort bathroom spotless toiletri hyatt workout hot tub outdoor swim pool th floor busi center although offer wireless internet take laptop everi morn serv complimentari continent breakfast includ bread bagel waffl fresh fruit cereal juic coffe first time seattl want see everyth practic walk everywher although tire pike place market block toward water offer free shuttl downtown area use drop u pioneer squar also found buse downtown area free last stop block summerfield suit right front convent center park charg park night car want pay fee park street night free pm sunday day park lot pike th th offer day park weekend paid total park second night peopl stay door suit dog hear bark loudli pm stop allergi pet may want confirm get pet summerfield suit next time seattl',\n",
              " 'summerfield heartbeat stay one night chanc bid pricelin perfect walk minut east capitol hill walk minut west shop district eventu pike place market huge attract quiet full size bed crowd tri fit adult bed fine bed comfort gross tradit comfortor continent breakfast hot cold food includ waffl bar front desk quiet welcom girl mumbl much ask sever time repeat figur deal minut check realli ruin experi use cab sure park cost inconveni place plan',\n",
              " 'clean comfort suit famili four stay summerfield suit seattl night march first bit nervou stay recent poor review wonder mini holiday appar summerfield suit taken hyatt group march reserv pricelin deal check given standard doubl bed clean mini refriger check told want upgrad one bedroom suit cost addit decid tri standard first fine u bit cramp young child next day inquir upgrad cost quot addit took advantag clean one bedroom suit spaciou huge king bed bedroom pull sofa live full kitchen larg bathroom comfort famili although unit overlook pike street traffic nois bother u shuttl servic take u pike place market scienc center etc complimentari continent breakfast buffet huge mani mani choic whole profession friendli easi walk distanc shop restaur area felt safe walk around night young child famili hesit',\n",
              " 'excel last stay previous wrote posit review time even better experi possibl book pricelin arriv check around pm wait three peopl check turn clerk told u automat given u late checkout pm rush morn happi particularli get without ask ask particular bed arrang figur work got imagin delight find two doubl bed bedroom well sofa hideab need use complimentari breakfast pretti standard person like le sugar whole grain protein option reason healthi select avail chose care suit two tv notic tv could rais high volum rememb read anoth forum hotel institut nois disturb neighbor make perfect sen two tv everi suit high volum could quit cacophoni one bother thing quest object review see coupl chip spot benefit spot paint fulli equip apart includ full kitchen facil note januari summerfield suit hyatt brand rather wyndham clerk explain improv got free local call free internet use either agre',\n",
              " 'doggi peopl smell stain hallway tell everyth cater peopl dog check stench dog potent clean solut smell practic knock u friendli tri accommod said design peopl mind pay dog obvious summerfield may place',\n",
              " 'bright spaciou function wonder trip seattl kind courteou allow earli check come earli flight even gave u upgrad bright spaciou function kitchenett safe area downtown seattl walk distanc pier nearli point interest citi though glamor doubt meet even exce everyth could expect need busi travel practic tourist',\n",
              " 'stay one night balconi overlook space needl downtown extrem help free shuttl restaur overlook puget sound defin',\n",
              " 'definit stay night juli aug chose primarili kitchenett need prepar meal year old bedroom suit corner comfort bright clean kitchenett conveni sure beat live bedroom small balconi gave littl girl explor play place felt like small apart furnitur comfort carpet need replac wise complaint straight shot pike street pike place market although walk back slightli uphil close shop depart store friendli help though miscalcul park charg put right quit easili definit',\n",
              " 'work well famili enjoy shuttl spent split time seattl trip vancouv stay time total four night clean kitchenett kitchenett handi picki three year old also vegetarian plenti leftov keep happi took shuttl oper everywher restaur attract microbreweri one place get microbrew beer seattl shuttl driver knowledg courteou made minor deviat rout help u get need go',\n",
              " 'deal kitchen use',\n",
              " 'home away home view toward capitol hill',\n",
              " 'disappoint like describ describ thoroughli disappoint experi made reserv properti month advanc base sever factor wyndham reput servic avail courtesi shuttl amen disappoint except upon check told reserv avail reserv king suit given suit two doubl bed specif reserv king travel infant knew extra space need portabl crib told properti sold noth could arriv even disappoint kitchen area filthi dish cupboard dirti utensil drawer full mold water bathroom mold caulk daughter month old found play empti beer back cabinet spent next sever hour clean portion kitchen satisfact feel comfort prepar daughter meal one day mother stay courtesi van take daughter space needl area extrem happi servic receiv howev readi return call driver come pick told pick courtesi pick area exactli drop morn discus extrem rude person spoke manag told outsid area manag state shuttl oil chang mother said wait van finish told come get attitud behavior desk aw shine star one member valet dan extrem disappoint properti attitud member whole experi put damper busi pleasur portion',\n",
              " 'place busi person extend sinc travel seattl time per year usual summerfield first admit place perfect howev money plus far outweigh minus starter place apart build convert mean vast major reason kitchen equip standard applianc except oven microwav oven cook know one bedroom suit spaciou bathroom cozi live tv live area bedroom mani balconi although chair mattress comfort south side side face away pike st surprisingli quiet consid close busi pike st join free wyndham byrequest program high speed internet free select free array welcom snack beverag deliv also specifi sort pillow prefer whether want extra towel hanger etc short tri make pleasant one close convent center littl known stairway step downhil front door take quickli convent center side door freeway park restaur conveni store tini lobbi buy food drink take complimentari breakfast breakfast lobbi better yet servic provid even excel tango tapa restaur block away also neighborhood within easi walk distanc bambuza vietnames cuisin union squar grill upscal chophous park per night night le sheraton hill car loss downtown seattl plenti place walk also offer free shuttl van drop pick back anywher downtown core regard price find best deal wyndham web site stay summerfield anywher per night per night price seem vari convent center use true public area get shabbi carpet need replac wall need repair whole place could use makeov howev minus reach critic mass opinion summerfield suit place alreadi made reserv next trip seattl',\n",
              " 'famili famili five stay two night august pleasant noth realli complain minut walk pike market drive park car easi access breakfast provid fruit roll etc cereal someth everyon huge u spread coupl night kitchen realli use except frig microwav like home exercis small pool spa desk friendli shuttl van gave u ride marin game walk back game littl far walk two teenag boy cheescak factori street right downtown pro con right downtown',\n",
              " 'go somewher el go somewher el caribbean ponc town pretti aw noth see mani abandon build littl outsid go beach definit shadi peopl loiter around sure year ago current tire deserv categori rate get hilton caveat famili big kid friendli activ play golf individu travel requir may feel differ word found disappoint stay hilton hawaii hawaiin villag barbado well hotel marriott sheraton st thoma bermuda found hotel far exceed qualiti accommod servic ponc hilton turquois industri qualiti tile think nurs home turquois wall rug side bed look like wal mart luxuri bathroom expect non exist bathroom utilitarian best think hojo far exceed luxuri comfort hampton inn stay san juan servic plate sit outsid door day night although ground pretti medium size pool seper area adult barbado overrun kid vacat local kid presum belong hilton beach club also supervis liter saw group kid scream profan eg two littl girl hit one anoth one interven towel hard find gone noon one hot tub hold peopl pineappl rind insid surround tub work facil like outdat ricketi treadmil hilton work night past year alon superior luckili use point although disappoint least pay hundr dollar night one bright spot nadin concierg extrem help candid friendli also meal la cava although expens qualiti food befit price',\n",
              " 'star pretend star bewar pretend consid star best star ocean view servic rang ok mediocr food expens noth die main lobbi way dark consid extrem elev crime rate area drive properti pay park fee interest fact personnel gate bunch crook assault shotgun took money petti cash employe actual told fact ye crime doorstep extrem care lookout gener make feel welcom place',\n",
              " 'get away got back night except clean well maintain quiet member need train hospit cordial littl casino cater mostli local unfortun there lot nepot custom grievanc handl hap hazardli unprofession wait realli tri treat custom like famili fantast job casino rate player abl get day blackjack hand virgin pina colada took slot tight sinc nicest area much choos sinc famili live area deal come hope positv experi rememb youv e warn isol spot plenti sun beach like volcan ash charg guest park overnight even thoough casino play local park valid charg resort tax boat kayak beach toy littl gym restaur patron day trip ponc area done three hour',\n",
              " 'excel retreat third visit ponc hilton addit excel ponc hilton offer mani amen reason rate walk around ground kept clean morn use fit center pool main time use pool clubhous highli recommend prefer quieter set mosquito huge problem spray night kept ground free debri food continent breakfast lunch cold breakfast buffet offer numer choic includ fresh fruit yogurt soy juic chees cereal pastri etc option hot breakfast well ponc hilton excel choic plan explor histor ponc puerto rico southern beach forest natur preserv ventur make sure stop front desk confirm travel rout import inform plan visit gilligan island chang plan base inform consierg obtain boat oper contact compani behalf main dock gilligan damag recent period heavi rain boat still oper access difficult',\n",
              " 'mosquito dengu fever wife drove san juan night date modern ok fridg love c diamond vip select chocol strawberri larg bottl fiji water wait casino even call attent nice style outdoor pool poor ratti fit center beach area watch undertow soft fine dark sand access exterior execut tower guess suppos exclus bad part perhap due recent rain per local ponc leeward side island drier hotter horrend mosquito invas could avoid even despit heavi chemic spray thrive love recess door patio area mention puerto rico close monitor outbreak dengu fever other run flail arm towel go outsid rememb access exterior truli horribl slept c fan high impress temp set degre ceil fan high bed slept cover cover head mosquito even free night use point comfort still paid park noth',\n",
              " 'clean rate hotwir bad place noth much around though kind isol decent exot look pool bad',\n",
              " 'wed bliss get marri local mansion castillo serral minut away felt best place host guest regret start plan wed march contini commun enid mont custom servic far one help person ensur guest got best accomid cater everi need also help get limo two day wed gave wonder recommend local venu day wed allow check morn order relax get readi chaotic day husband book spa day day girl spa amaz gladi carla friendli wonder job day wed stylist cancel gladi abl acommod morn wed servic bit slow understood host two convent weekend disturb term appear love pool open hour day pool clean enough host child adult alik true inde leav facil picturesqu like travel encount experi say non spanish speak guest abl get quickli right highway husband decid whenev go enchant island puerto rico least one night ponc hilton love recommend everyon',\n",
              " 'best area stay least time final decid write review nicest area pool area beach area noth write home leav beach area walk along beach citi park noth garbag dump alway stay busi execut loung area benefit hilton honor gold free internet free snack etc averag tower newer walk self park prepar slow servic restur dinner usual go bar smaller menu faster servic common area non smoke excel slow servic restur typic puerto rico',\n",
              " 'back past juli hop stay fajardo isla verd ponc stay ponc allow u visit central part island mani mountain incred beauti wich half hour away northern part island hour away west coast min drive never stay hilton read review help u decid risk well worth unfortun spent even morn enjoy facil enough next time spend time clean neat sort modern decor open lobbi invit enjoy ocean breez lower lobbi restaur seem formal semi formal set tri next time pool spaciou mani palm tree alot facil kid park extens casino entertain inexpens friendlier beach swim hey min away mani beauti beach minut south place call la guancha typic food music beatiufl sunset current comput background concierg gave u map ponc visit downtown histor architectur landscap unbeliev took pictur peopl friendli cop everi corner ck fire station ice cream store right front fire station coconut one reallll gooodcan wait visit',\n",
              " 'best holiday valu getaway super weather spent last xma vacat go back th time dec best weather island seldom rain side mountain easi drive minut san juan rais rate holiday beauti landscap pool area beach fair restaur ponc littl tricki find way around downtown golf cours hole reason rate le half golf rate san juan best valu find holiday',\n",
              " 'nd visit return ponc visit perhap year ago stay hilton want return pretti much rememb though larger realli enjoy open lobbi ocean breez blow got bounceback rate includ breakfast otherwis person ponc hilton hour drive san juan airport warn pr driver strongli favor ride along left hand lane slowest one particular migrat left soon make madden drive ad sinc last visit hole golf cours shuttl take bridg cours got realli rate saturday afternoon pm complimentari club club lot kid around offer free food kid stay parent larg number famili seem enjoy recreat offer etc chose eat lunch dinner instead drove restaur el ancla min drive along industri water front area seafood servic also wife came discount coupon took tour ponc play golf lunch waterfront area adjac hilton area industri area mani mani reason choic',\n",
              " 'book love first trip pr last love ponc hilton stay night exec tower pay ahead given unknown paid w tax includ never neg experi well attent help resort impecc maintain clean spaciou tast decor ocean front w larg balconi bistro set refriger hospit suit priviledg well worth expens alway well stock continent brkfst food thing miss meat egg move beyond continent fruit chees day p p hot hor deurv chees tray beverag juic soda water alcohol includ p p beer wine champagn hard liquor mixer even dessert even liquor p p save u deal meal ultra conveni also comput printer easi internet access chose bring laptop help dine chose local place wherev tour day resort food look fine get home tri experi local cuisin activ resort famili yr old daughter bike bike trail mini golf volleybal basketbal ping pong basebal equip includ cost check fit club fit club well equip clean saturday even hour latin danc demonstr incred perform near buffet area enjoy casino small open hour inexpens tabl limit minumum roulett tabl tri find vega biloxi even came around grill chees ham sandwich addit drink site club husband dancer take advantag mention real swim beach minut drive sever beauti one pool w hot tub plu access golf countri club facil pool got crowd weekend took shuttl countri club side much le crowd kayak avail unlimit time cool littl island aim explor snorkel decent countri club side better area car made excurs return ponc hilton night absent chang hotel sever time need wherev given size distanc rain forest beach old san juan area best beach area rincon swim beach sever le commerci one within minut drive ponc dive use paradis dive parguera min drive ponc hilton incl tax tank dive snack water rough sea sick prone take pill ahead time total trip time hour compar hawaii hr trip stay condado beach area night comfort inn make tour area easier love old san juan hate condado recommend condado area yr essenti go parti consid beach connoseur incred crowd drive exit well mark road construct heavi traffic add confus vacat hawaii often continu compar pr hi prefer pr east coast travel time far le crowd far smaller feel le like number condado old san juan definit get waikiki welcom island give money get way deal next person treatment pr much le expens hi essenti vacat obviou differ asian v latin cultur mani side trip day permit time must car realli enjoy place unless want day resort get away recommend rincon want ocean swim ponc hilton pool walk beach fine wholeheartedli recommend visit puerto rico peopl wonder price reason someth everyon thoroughli enjoy',\n",
              " 'clean spotless famili stay june rough week throughout pr viequ rel bungalow guest hous need place mattress hot water cabl tv night pleasantli surpris spotless clean shower pick place want enjoy ground ventur sinc explor week want relax surround explor ponc year ago like fact peski mosquito around ground took minut shuttl golf club pool side beach swim beach beach time got spectacular oceanview peac balconi let also mention arriv western pr avail',\n",
              " 'mix feel hilton nois stay hilton ponc busi trip sunday monday tuesday night june stay previous also busi moder attract properti interest airi layout lobbi main restaur lead pool area beach sit restaur look koi pond pool palm tree food ok littl expens dinner one beer includ tip plu tip continent breakfast breakfast includ varieti fruit bread pastri meat chees hot item egg pancak larg bed comfort real complaint poor sound insul one even woman phone convers appar balconi door open sound bounc concret beam outsid back even balconi door close could hear understand everi word perhap fortun place seem get crowd base two time never wait restaur beach small sort unattract pool surround play area volleybal mini mini golf basketbal enough look use huge excess park yet charg per day valet park west wing park closer valet desk actual le walk self park hbo premium movi channel cours pay movi colleagu work resid ponc area grew say central histor area want care area town travel',\n",
              " 'never go back one worst hotel ever stay servic horribl suppos resort tip want glass water w meal start ask earli took exactli request everi time got one magic number tip prepar key fail make sure take time god forbid get stuck outsid oh say night take thirti three minut send someon let tip import plan get buzz drink mix bar even though appear pour liquer drink take advic tab go liquer store locat outsid guard gate happi tell buy bottl purchas virgin drink add liquer expect get food either inexpens oh tip one woman american prepar appar puerto rican woman like american woman even though puerto rico part unit state treat friend horribl tip unless manhattan tampa bay might want take defens drive cours get prescript zanex never p r instor worst driver countri white line road ye right line therefor place never complain new york driver ever tip final one like blend driver simpli lay horn blow red light stop sign make sure music blar hear anybodi el horn fine btw servic beach expect resort style servic resort child disney resort advic san juan much much beauti hope help someon save hard earn money happi travel',\n",
              " 'beauti relax vacat ponc hilton ponc hilton golf club pool',\n",
              " 'friendli stay execut tower access execut pay littl extra get valu free breakfast happi hour desert fruit ect use comput express check friendli help facil beach enjoy',\n",
              " 'like part stay hilton ponc puerto rico review howev first think help say word puerto rico gener ponc particular visit puerto rico mani year ago day puerto rico poor frankli depress chanc trip back san juan year ago believ differ travel extens latin america recent trip punta cana dominican republ definit act togeth puerto rico clean prosper safe place visit head shoulder anywher el latin america ever visit puerto rico everyth work click click click place latin america know drink tap water eat veget wihtout wish trust polic bribe tradit use american money english wide spoken mani time could hear trace accent seem like nearli everyon drive late model car time visit weather perfect low eighti middl winter saw beggar street american store restaur everywher need passport get sprint cell phone free roam tell conveni could call separ teenag wander could call busi tell u get teenag sat balconi talk friend back unit state hour like san juan lot last visit stay hilton well also like lot decid go ponc four day see someth differ three u two adult teenag hitch ran book connect flight san juan ponc cape air cheepoair com itinerari cheepoair said book flight cape air state cheepoair cancel flight someth never mention u someth certainali never order agre howev cape air said could get u flight cost lot lot advanc purchas fare book know made mistak tend get littl suspici profit error anyway work declin walk right hertz rental car four day includ tax much le origin air fare connect flight one person let alon three except short stretch san juan turnpik toll way love drive roll hill took le hour half arriv schedul three hour layov san juan use car ponc total ga cost round trip run around ponc charg someth like day park hilton ponc bottom line like stay part call execut tower get substanti discount rate pay full advanc spaciou clean two doubl bed call bed roomi adequ balconi look ocean desk want nearli ten dollar day high speed internet connect execut center could get free wireless connect swipe card door get work peopl duti alway quickli buzz smile last even howev ladi duti told hilton vip member use noth door effect saw mention guest guid rub littl wrong say ladi apologet ground beauti landscap howev ponc beach destin narrow beach life guard suffer liter pool food bit prici outstand figur person supper tax tip person lunch think ponc famou restaur ate sever guid book recommend restaur ponc okay food hilton u spoil servic personnel spoke english well polit twice maid forgot leav coffe coffe maker time call front desk clerk show door almost coffe pack toilet stop call front desk guy show flash fix everyon went way friendli plenti secur uniform secur guard wander around time ponc littl squar downtown surround shop hard find place park park car coupl block away walk much problem sort shuttl bu get around downtown area use also boardwalk along harbor sever local restaur close place go stroll especi night ate one restaur boardwalk impress u ponc well kept littl town run thing see pretti fast worth trip town spent time hilton plenti arriv back san juan rental car hour mid afternoon flight drove part san juan call condado leisur lunch enjoy immens condado tourist area san juan close old town quit realli restaur sure beat air port food time car get short highli recommend puerto rico ponc ponc hilton condado san juan also recommend rent car drive ponc rather take connect flight',\n",
              " 'weekend getaway perfect vacat rejuven effect decid take weekend go carribean san juan last year thought ah ok ponc hand well least resort reason dont give excel first impress got person check u help grant check could friendlier two thumb ground resort kept well everyth clean lawn manicur small beach casino mainli slot machin crap tabl roulett tabl black jack tabl carribean poker tabl texa hold em tabl local regular casino seem retir age noth better burn money cost thing u price like travel r get dollar food expens dollar lunch buffet dollar dinner buffet one seafood restaur pito seafood restaur food servic ok went drive thru town golf area nice kept actual resid ground cours hole pga cours probabl mean get fund pga keep place clean quick trick decid go short pack light take carryon luggag rent car even day worth go town look around get economi size car cheap enough get around fork extra buck execut give acc execut loung includ free continent breakfast free drink non alcohol snack throughout day plu get free internet access could check print board pas readi leav check pier right lot food kiosk eat typic greasi puerto rican foodoveral fun',\n",
              " 'place beauti golf facil realli enjoy wife love beach spa facil food restaur best town relax vacat visit famili place also saw wed celebr pool seem also cater special event banquet group back valentin day spend anoth romant get away',\n",
              " 'relax view',\n",
              " 'place got deal full suit two four u overal servic servic redicul slow otherwis love',\n",
              " 'absolut terribl stay august one worst hotel ever stay furnitur applianc old thought motel small highway food restaur servic absolut terribl absolut unimpress',\n",
              " 'pleasant surpris stay resort three day like clean comfort bed facil well maintain could friendlier seem tendenc nickel dime restaur pricey enough pool beach chair go around tenni court activ guest want activ beach greatest quit stoni get place near citi also rout major shop mall still far enough away everi day life hide want definit',\n",
              " 'hilton feasibl option ponc wife son spent day ponc hilton earlier year februari beach greatest reasearch advanc knew drive half hour west guanica region higher qualiti beach food worth cost research knew local authent restaur ponc salina guayanilla go want clean newer construct execut tower pay extra willingli attract resort style facil rate le pay north coast resort place worth stay ponc adjac carib golf cours newer hole track hole oceansid rel flat unchalleng unless wind want ventur dinner italian restaur golf clubhous best option tip plu pool smaller nicer le crowd',\n",
              " 'resort return day trip ponc stay hilton read reveiw littl nervou end pleasantli surpris arriv immedi readi sat breakfast middl breakfast receptionist came tabl tell u readi thought servic anoth receptionist happili gave u perfect direct restauraunt ponc look beach resort may place matter think anywher ponc beach beach enough walk morn put foot water enjoy view go sit pool pool sat day long easi access tropic drink open air get breez whenev lobbi main restauraunt buffet littl expens lunch breakfast plenti option around noon friday sure check fashion show awkwardli entertain clean casino reason blackjack crap roullett rent car use self park day thought littl crazi charg park better valet unless extrem lazi need valet park lot right front ever go back ponc hilton next time sure bring stick order check golf cours',\n",
              " 'disappoint ucki beach ponc hilton',\n",
              " 'best ponc citi better place hotel ponc citi golf facil privat villag best casino citi pool other facil excel restaur expens food weekend life music differ show beach go saturday sunday caja de muerto island la guancha near beach caja muerto island excel see color fish seagul differ bird plant island litter museum bathroom facil histor ligth hous beauti view import think go caja de muerto island buy food walmart place island dont place buy return trash pr monday friday go car rent other beauti beach near ponc guanica laja town recommend beauti beach rincon aguadilla isabela town locat west pr hour ponc north beauti beach isla verd carolina citi better beach puerto rico locat culebra fajardo island east ponc citi mani attract place serral casttl best art museum caribbean histori museum museum ponc la guancha tourist place mani restaur histoy town secound mall bigger puerto rico caribbean mani mani place babi boomer adult puerto rico island x mile rent car cross island differ hotel recommend copamarina beach resortin guanica honey moon hilton ponc famili westin rio mar beach golf resort spa rio grand beauti conquistador fajardo san juan el convento one best world accord vanidad magaz intercontinent whytham peopl vip high class ritz carton paradissu puerto rico travel pr season come pr inform visit',\n",
              " 'okay want beach book pricelin got bad resort normal isla verd right next san juan famili near maniti puerto rico time want tri someth differ told ponc beauti let say dont even bother check ponc wast time dri like dessert dirti beach hilton horribl told beach black river empti area ugli beach resort basketbal ping pong tenni pool food resort expens guess that hilton money dont also pay arriv check bill day resort fee day park day valet park includ tip day want internet access add pretti quickli overal sinc ponc guess wont happen',\n",
              " 'wait go back stay ponc hilton night complaint regard properti check process flawless clean first night went boardwalk eat drive took minut next day went town center tour minut drive away everyth close rental car resort enough relax onsit entir food pricey cours expect resort never walk park area sinc alway person wait golf cart give u ride enjoy live music saturday quiet sunday beach best spend time anyway also sure take advantag free bicycl tour properti basketbal court exercis gym small suffici vacat need hesist',\n",
              " 'trip relax afford accommod stay six day ponc hilton golf beach resort book wife child travel jet blue jfk first opul moder resort offer mani amen sizabl expand time share purpos park lot massiv seat convent center vacation never crowd stay execut tower th floor view ocean yard away wonder way wake spaciou excel shower big overhead shower head cabl tv popular channel espn espn casino small puerto rico one largest featur game blackjack roulett crap slot ye poker texa hold em never puerto rico know expect weather weather amaz cloud humid degre landscap well maintain palm tree everywher pool shape like clover leaf spaciou weekend poolsid get activ lot mainland pop saturday sunday monday friday quiet peac pool also offer jacuzzi well pool tenni court bike trail basketbal court mini golf play beach bad written grew cal water contamin stop anyon dive beach small black sand water sky blue water warm downfal lot seawe grow sand kid play hour beach issu remain strip beach own litter beach metici maintain hotel problem offer shuttl golf resort take le minut get found golf resort beach much better plu swim pool excel golf hole play golf resort villa sale start k remind resort high end commit food littl pricey place go somewher tropic gener expens sinc kid morn buffet free child chow bad meal site time left resort eat one time pito seafood want go hawaii spend twice much money better beach want go vega gambl huge casino work wife work want go place never noth except soak sun swim pool go beach relax u',\n",
              " 'ponc hilton crack februari husband decid visit famili ponc pr told u best ponc read review trip advisor quit leari hilton way first live new jersey flight ponc left pm arriv realiz two airlin go airport jet blue continent flight arriv time peopl luggag carosel pick luggg next tri pick rental car peopl line pick car agenc open till disast start final got car hilton visit famili first book reserv aaa book excut tower execut tower entranc execut loung get food drink etc part price anyon know food pr expens also call confirm desk check front deck tri put execut tower without access loung said pricei paid said aaa contract paid got paper work show clearli state execut tower entranc loung saw way put want entranc loung also go free drink casino ask got ticket view bathroom spaciou fridg plu execut loung food okay worth extra money sinc dinner entre care coffe make blewup got new one pool beach disgust beach person travel includ hawaii time know beach hilton comb clean beach right end beach contin say mile junk beach oil can glass shoe plastic fish net gross see hotel around excus dirti beach seem lack pride land pr know hawaii similar pr landscap wise hawiian pride land unfortun live pr differ citi ponc part bad watch driver crazi blinker husband live ponc year grow shock differ want tell go ponc watch get rip tri restur store work u look like tourist get best sunday night husband want eat properti sushi place sancho golf cours taken golf cart ask front desk ye open go valet take got dress went loung drink ask loung sancho open ye stori went valet told sorri open tuesday also restur close go eat say lack commun among evid say least ia hilton go sake claim resort mean know check ask map thing discov everyth supposedli ponc build port cruis ship ponc continu cours poor treatment travel get repeat tourism need think pr get tourism creat job job creat money happi travel tell other bad trip tell world',\n",
              " 'ralli experi stay mostli husband could use casino friendli price charg food etc expens realli busi peopl expens account breakfast start dinner ridicul pretti much know captur go ponc realli feel safe thank god night besid fire station realli noth see pool smaller appear pictur beach noth write home question happi answer',\n",
              " 'real disappoint husband return week puerto rico honeymoon week spent bb forest accommod howev want luxuri last two night book hilton ponc resort spa disappoint everyon work unfailingli pleasant absolut best make manag decis made bore serious uncomfort way homework read tripadvisor fodor everyth hilton said place nowher anyon say almost everyth place close sunday spa close monday place get anyth eat sunday restaur outdoor hot cigarett smoke mosquito true breakfast bitten sever time breakfast second morn poor woman work desk could offer repel obvious know problem correct want use spa close one suggest spa complet separ golf villa found onlin got home beach bar never open neither bar upstair attend ever show booth beach whole time truli noth except sit ocean underfil pool wast money dirti smoki tini casino arriv fulli readi happi place resort u spa golf mayb play way expans shop arcad describ fodor one tini store besid equal tini minimart elsewher properti everyth el reduc meet obvious place haa reduc busi make clear other wast limit time resourc way',\n",
              " 'mix experi hilton ponc hilton ponc noth special husband stay one night two night melia downtown ponc stay downtown base visit citi drive around island went mountain arecibo everywher came hilton day pool sun okay call hilton ponc resort guess depend impress resort perhap spoil excel servic get cancun hilton ponc offer decent servic underst say american attitud peopl polit go way make extra effort exampl call book massag spa two full week advanc knew suppos fulli book want chanc call afternoon confirm appoint time nobodi answer phone spa specif ask last two appoint day could take advantag sun pool thought big deal call front desk ask time spa close call front desk ladi know answer question put hold coupl minut come back tell spa close monday well funni sure book februari monday husband start wave brochur front explain huge spa golf cours next ask front desk ladi possibl massag book golf cours spa clue talk apolog simpli transfer golf cours turn full servic spa golf cours give massag anyway lost spa reserv thought whole thing handl better least apologet instead seem clueless asid experi resort realli amaz definit need updat like chip paint kind thing beach realli small sinc learn side puerto rico beach pool smallish chilli lot kid learn littl late realli pool golf shop wish found morn seem much quieter also seem realli realli wonder part time share area call costa carib probabl go back plan trip ponc got realli rate drink pool bar expens especi elsewher puerto rico gener dirt cheap dinner salad bar soup dessert gave extrem big portion qualiti mediocr though husband never gambl decid poke casino check second smoki gross much smell fresh smoke bothersom smell year smoke penetr carpet everyth putrid even gambler smoker take pas casino',\n",
              " 'relax pretti realli enjoy mean noth special low key relax lobbi open airi pool area mani palm tree crowd realli abl spot accident drop necklac deck mention waiter told big deal fault wear necklac pool within minut guy take deck apart quick effici bad either could updat littl clean smell open airi one best opinion make sure get ground floor slider open right awesom view carribean pool right free breakfast select free entranc club premis fun salsa danc sport bar pool decent burger chicken ceaser salad also corona light hard get place u',\n",
              " 'resort golf cours flew san juan rent car payless forc take cdw even though show ny insur card check car co drove ponc hour pleasant drive thru mountain play round golf cours attract interest memor problem bogi golfer pond hole end ocean otherwis oceanview food sat night excel pig roast local specialti buffet meal par big eater get money worth wine list expens start ask offer decent list wine best meal mark melia ponc went time gone back pito ocean we also lunch drive pito otherwis take cab ponc area unless like drive around lost clueless seedi enviorn drove famou rain forest worth hour round trip nyc style traffic shoud ok san juan overal agre posit review',\n",
              " 'christma week hilton ponc pr return christma mid week hilton ponc littl concern read review cours alreadi book place jetblu getaway price go husband pr mani time teen daughter mostli stay around san juan took flight jetblu ny ponc night christma arriv short cab ride hilton one person work recept desk pleasent upgrad br suit w magnific deck husband crash immedi whilst daughter went explor dark secur camera secur folk everywher place beauti decor christma lot light flower everyon met friendli welcom plesent supris beach area ye gate lock night black sand unexpect carribian beach mile cresent perfect walk find shell beach glass pad loung chair treat waiter servic beach alway plu spent day loung reason relax water clear warmer pool lot folk swim recommend water shoe get past rock snorkel also hawker hair braider jet ski nois para sailer banana boat ride quiet resort hotel sight big differ isla verd condodo etc like see kayak cat use quiet worth trade place offer noth teen day night playground mini golf younger crowd also arcad pool tabl area rear lobbi play air hockey daughter coupl time dinner forgot mention bike avail free fit center tour ground ground public area never seem crowd even holiday week spa miniscul worker may leav manicur tabl answer phone make appoint massag tabl outsid better go day spa near home food drink price high expect best meal week came servic salmon done perfectli steak tender lobster night ran lobster order pm luck round drink compens tri japanes place shuttl golf area wait intermid fish fresh present ok waiter came everi half hour tell u food right seat two hour appet came pack kid run place scream help matter much round drink complimenti desert appropri balm frazzeld patienc place last minut anywher el back main complain front next day half food price remov bill right thing done clean pretti larg absolut complaint husband went casino three night lot local play lot money join hilton player club rec perk walk away ahead ok dealer seem know regular perceiv snobbish toward american drink hard come ask dealer told pit bos send waitress soon sit get drink w first hour play actual gave wait went adjo bar purchas drink one night also consid join execut loung continent breakfast delici cafe con lech well worth daili price o per last night request wake call set alarm thank good wake call never came check easi enough cab back airport get nervou departur found still wait front peopl behind u realli upset attempt get manag releas hilton van shuttl u go make time airport tini one screen area divid line jetblu continent also assur plane depart everyon got go back ye teen daughter perfect coupl long weekend probabl becom bore day without someth el use step inexpens local food drink option noth around place guid accordingli howev seek quiet sunnysid p r hilton choic content got came sun beach warmth clean beauti accomad',\n",
              " 'spent week hilton easter year visitor pleasant mix vaction busi travel english spanish speak impecc well maintain profession manag staf stay execut tower concierg loung access clean larg nice creativ furnish marbl bathroom larg clean concierg loung locat ground floor offer standard continent breakfast fare canap cocktail hour sweet later loung air condit well appoint free internet access offer well loung mostli staf enthusiast friendli student one local univers unfaillingli polit youth limit llife experi curtail useful inquiri hire tour guid contact realtor even eat field without much success beach look enough mayb walk sun dark sand water quintessenti gin clear look found island swim sea either beach chair taken windi mani appeal quiet place beach busi pool take sun read restaur bar servic offer area restaur well run staf though menu hilton north american standard local fish promin featur though might finest lamb chop quit time restaur adjac golf club shuttl pick truli outstand ate final night gone often discov sooner supposedli italian influenc restaur howev night offer limit menu rememb delici mahi mahi tomatillo cilantro sauc fri plantain',\n",
              " 'beach terribl return half week pr spent coupl day ponc hilton amaz ocean face north tower sound wave larg king size bed realli comfi bathroom could better floor tile desper need strong bleach disco call bohemia play peppi latino music casino lost money restaur serv decent food bar open till amaz pina colada ever pool side jacuzzi lawn well maintain pool towel free extrem help friendli help direct sight see howev beach realli terribl full pebbl stone rock tri take footwear went la paraguera tini fish villag hour drive facil snorkel beauti bioluminenc bay swam enchant water trip puerto rico complet without experi like magic kingdom surround star dust mix water tip wear wet suit avoid feel cold give opportun swim enchant water feel scare jump dark water wear life jacket',\n",
              " 'decent beach stay night day march th th ponc small area carv industri plant attract get interest drive san juan honestli take life hand drive beauti sj solid star black sand beach grey water continu cloudi larg unseen rock crack foot walk beach water got much clearer howev beach litter lot trash last day approach local state water pollut industri wast swim beach robberi american common away resort food upper scale restaur superb employe alway friendli help spaciou clean fridg pool fill loud kid go ponc plan eat fast food could find one restaur ponc proper littl place water seafood discov pr ff capit world look authent pr food probabl wont find ponc also given stink eye everywher went outsid resort see mani non local look trip boardwalk interest say least ponc local seem thrill tourist base observ crime rampant pr extra care leav posse rental car hous iron gate balconi door decent car larg lojack sign window defin visit side island look area huge touristi least friendli look ponc dirti littl bit scari howev pretti easi navig got hang',\n",
              " 'relax famili return day ponc hilton plea sorri review oregon felt uncomfort felt exact opposit white mainland small child alway friendli help comment servic pool half accur place order bar waitstaff deliv pool even waitstaff return see need anyth el agre comment food expens varieti eat whatev want whenev want last night went la cava year old daughter want pancak son want pasta marinara sauc happi accommod restaur friendli gener think paid total meal kid ate everi meal properti kid even got gift free ice cream love surround town excit defin place properti relax fit center although small everi piec equip need workout also bike ride walk ride path around perimet properti walk everi morn outsid perfect weather found pool clean kind float toy chair volleybal play pool volleybal net ad basketbal hoop last day kid play togeth fun beach bit disappoint shelli windi found sandi spot left enjoy warm water lot kid age basketbal half court volleybal court tabl tenni playground toddler older kid small rock wall lot beach toy realli thought everyth even water cooler beach thoroughli enjoy look place relax pool play game kid enjoy exactli found',\n",
              " 'glamour south end southern part island escap cold wind north ritzi small citi enjoy one night big open air lobbi larg pool black sand beach water clear observ distanc interest walk channel boardwalk ponc almost european atmospher cultur lot museum food servic ok spoke english well enjoy',\n",
              " 'relax goal stay busi trip husband came along get away relax flew san juan rent car drove minut ponc driver impati somewhat crazi self park car check fourth floor decor tropic feel clean like idea clean tile floor v carpet view beach area ocean place go want relax vacat time year number guest pool vari beach area lot loung chair play area child picnic tabl access appear inaccess public public beach area jog walk along beach gate beach close pm also enjoy use gym facil food averag averag buffet breakfast dinner watch sport big screen outdoor bar area access exec loung breakfast appet dessert coffe conveni outstand never eat la cava restaur sinc review site rave casino time could bit cleaner tidi fun friendli went way help u misunderstand inquir tuesday morn haircut told salon open friday saturday could arrang call someon declin call friday appoint told open week pm friday saturday anyway got haircut reason price citi quit readi tourist visit seral castl tourguid adjac cross downtown congest tri visit cathedr close pm day purchas made rum coffe travel ponc port expect find lot shop restaur found place go walk sever food stand place relax place busi travel look like golf cours quit wonder open air atmospher staf friendli help peopl spoke english enjoy',\n",
              " 'oasi showreview full',\n",
              " 'showreview full',\n",
              " 'place relax garden view',\n",
              " 'recommend rivoli adequ larg group got small balconi back side happi black secur shade breakfast continent full breakfast satisfactori walk distanc hard rock shop well night life rambla right front door littl deli next door food price groceri store right across street buy soda overli friendli rude either recommend taxi easi get price',\n",
              " 'check review book went ahead pure simpli ask got high floor rear boy view th floor balconi degre view rooftop barcelona buffet breakfast excel hot plenti choic everyth within easi reach catalunya squar yard away overal base barcelona recommend confid',\n",
              " 'u adult son age unbeliev slow small lift sometim prompt u deal floor stair learn squishi slow lift seem norm europ back small balconi enjoy quiet night bathroom larg small side inclin rate star even though breakfast quit compar part spain',\n",
              " 'rivoli rambla minut walk aerobu bu stop plaza catalunya directli opposit subway rambla better situat gener sight see clean tidi st floor rear wonder quiet alway help attent whenev need assist restaur use u breakfast pleasant wouldnt reserv use next visit fabul citi steve dark',\n",
              " 'averag found recept rude breakfast help sweet though excel rude enter put shown pictur bit cramp',\n",
              " 'stay juli right center everyth minut walk underground conveni supermarket across street mani worthwhil site walk distanc walk lobbi may littl dissapoint fear worst luckili first impress quickli dispers stay standard rd floor face la rambla get littl noisi night fairli spaciou clean cabinet storag space somewhat limit breakfast buffet nice done apart scrambl egg vari select tri get tabl outsid terrac claim wifi throughout howev sit lobbi order connect perfectli suit u adult week sightse star littl over though',\n",
              " 'fantast airport euro fare arobu everi minut take directli plaza cataluna minut walk la rambla left rivoli rambla could simpler warm welcom arriv pm give choic either st floor th choos th choic spacious bathroom jucuzzi larg wardrob safe euro per day key obtain recept mini fridg bed king size comfort ask book view person balconi right busi rabla quit even though central electr oper black blind breakfast includ felt cost expens coupl stride away could get english continentaln breakfast reason price pianio bar drink coffe set recept area mani bar restaraunt choos within easi walk distanc fantast right middl everyth tour buse minut away well worth trip see main highlight citi well worth visit highli recomend star right heart action liitl expens qualiti major citi',\n",
              " 'star attitud travel friend feel mark star worthi enough prefer apart bb book apart amsterdam compromis barcelona boy sad small non open window provid view back sublim uninterest wall servic aloof felt like intrud ask desk anyth one know smile alway hear french hate american rude spanish beat landslid bidet american idea use perfectli shower tub right next la rambla towel fluffi neither justifi price multi star',\n",
              " 'love valu money recommend time rivoli rambla price get reason size might even call larg european standard tast contemporari decor especi marvel right la rambla close placa de catalyuna airport buse even bother nois street though nyc clean slight drawback actual two build connect togeth one side littl inconveni get step elev heavi bag wheelchair hear scrape chair floor ton peopl hang bar downstair huge distract u bathroom detail gigant tub water pressur shower though door curtain get bit wet post bath bidet toilet sink larg surfac vaniti area detail bed reason size wide twin king bed two wide twin push togeth though mani blanket get quit chilli ac run mini fridg think electr kettl tea made perfect larg window face onto la rambla electron shade keep noonday sun siesta definit next time visit barcelona certainli recommend travel want without high price tag budget luxuri faux contemporari either actual contemporari one one recent renov',\n",
              " 'superb stay day juli surpris review excel overlook la rambla delight overal servic spotless towel chang daili ye renov work upgrad floor time floor work close resid disrupt whatsoev book local independ travel agent abl secur u excel rate internet alway cheapest reliabl way book accommod buffet breakfast adequ recept bar area small histor build heart histor citi go limit space qualiti three thing matter return without hesit',\n",
              " 'excel round read earlier review overli confid arriv realli star everi respect better famili spaciou equip whirlpool bath mini bar safe balconi view rambla could help friendli use terrac bar gym spa extra charg though area suffici piano bar main recept friendli bar excel six year old son appear undergon refurbish area extrem clean tidi atmospher breakfast includ price excel metr placa catalunya main line metro stop sight see bu tour whilst minor nois metro disturb day night return barcelona top list return plan trip certainli recommend top tip use pizzeria grill restaur opposit probabl worst food ever extrem price turn left toward end la rambla mani vari restaur',\n",
              " 'noth fair enough got discount last minut price still cost around euro per night bed onlygood top rambl supermarket immedi opposit get orang milk snack etc conveni place fridg keep freshbreakfast dinner price highth rooftop littl area stretch enjoy sunal pretti averag',\n",
              " 'love night rather concern travel read review contruct work heard one drill whilst breakfast last morn seem well comfort well situat shop art lot walk around town could alway find way back street well signpost side second floor overlook la rambla noisi middl night first thing morn howev small price pay could watch hustl bustl area fantast street artist day even balconi breakfast pastri bread though cook breakfast tast restaur open late even ish time barcelona citi wonder love visit citi',\n",
              " 'love experi stay rivoli rambla two day cruis med last year happi fantast size huge balconi terrac enjoy breakfast morn bar although could bit liveli also dine restaur travel guid recommend howev food dissapoint dine somewher el love time rivoli rambla defin recommend',\n",
              " 'construct alert terrac top floor',\n",
              " 'sad smelli rooftop terrac view bar piano live piano music advertis book particular breakfast buffet big disappoint euro lobbi funki garbag smell ok towel qualiti howev overal disappoint experi',\n",
              " 'ocean suit book old alloc ocean suit th floor never stay big other say definit pot luck alloc excel balconi sit earli even obstruct sun although overli noisi fact front mean possibl hear siren noisier tourist peculiar time morn ongo work th floor gym facil still open sampl anyth extra realli comment servic food price also agre excel explor citi one thing realis price quot via opodo exclus local tax',\n",
              " 'rate price summari rivoli rambla poor given cost four star rate much expect specif problem tire decor except rude scruffi bar warm air air con inde confirm recept common gym spa close due refurbish note earlier post underway juli unadvertis local charg sauna fee use safe drill hammer nois day owe refurb plu side breakfast one best realli prime get rate comparison other area may worth punt hindsight look avail star hotel price point',\n",
              " 'sewerag drench recommend rate blatant fals advertis overr sewerag drench hole spain smell sewerag everywher unfriendli small extrem small bathroom light fit fell window broken dirti curtin noisi much better expect per night',\n",
              " 'crack stay rivoli juli check easi servic standard cleanli high standard sheet towel chang everyday even maid went turn bed cloth back leav chocci pillow one newli refurbish love unfortun spa gym use due refurbish howev encourag use facil sister ambassador beauti member parti arriv differ day differ time check welcom simpl pleasant rivoli certainli go',\n",
              " 'standard standard return night rivoli posit side hotelloc excel although given ea peopl canfind way around citi matter breakfastwa also excel choic fresh fruit cook buffet style verygood well like gone websit built anexpect beauti spaciou well appoint youcheck standard anyth standard starhotel stay load hotel ireland standard rivoli standard push small carpet stain bathroom clear ciel tile bit debri fallen onto shower door didnt work floor flood shower th floor lift could bare hold peopl took age come balconi spectacular view next door back yard entusisat cleaner tri start clean air condit pathet sleep balconi door open luxuri paid euro per night approx stg issu pay euro standard accomod feel total let experi rivoli utterli asham dont know claim statu level accomod come across uk ireland see realli',\n",
              " 'get pay stay rivoli rambla feb got deal expedia standard arriv aw paint peel wall grotti decor move shown one equal aw move one modern love fab bathroom decor throughout obvious redecor settl time perfect centr rambla ok definit recommend nt settl rubbish',\n",
              " 'superb manag get real bargain expedia decor spanish rustic style even sofa well ludicr comfort bed lucki enough th floor back balconi tabl chair perfect watch sun go cathedr visit februari bathroom extrem high standard bath shower toilet bidet though array toiletri provid includ unusu spong comb hairdryer next basin rivoli breakfast euro probabl work breakfast england howev note addit iva real feast featur orang juic larg fresh fruit salad marin real orang juic bacon egg toast fruit e orang appl delici danish pastri one contain custard cream particularli popular toast croissant jam marmalad butter tea coffe final touch cl bottl cava ideal someth celebr second night arriv back late find bed turn littl chocol left servic excel speak english better spanish anyway happi order cab airport blue moon bar ground floor place relax drink perfect top rambla close metro el cort ingl cathedr short cannot recommend highli enough child welcom base famili wish explor citi definit',\n",
              " 'must chang hand read recent review hotel feel must chang hand stay june excel overlook la rambla food realli extrem help bar particularli bar live natur',\n",
              " 'vari obviou review site vari wide book three twin two nd floor excel everi respect howev rd floor smaller minor fault mirror bedroom sound sky miss light bulb quit well furnish pleasant balconi overlook rambla mani review comment help pleasant attitud assum chang personel sinc review found recept porter friendli help bar sore need retrain attempt make custom feel welcom smile eye contact greet drink plonk silent plenti pleasant bar around rambla frequent rivoli miser bar put miser moreov bar advertis piano bar februari piano player larg notic piano warn guest play instrument like afraid might actual enjoy piti sinc one parti compet piano player might cheer place bit spite critic return want insist paid price three feel standard score highli better',\n",
              " 'tale two rivoli rambla one best locat barcelona experi depond wether standard superior stay begin decemb standard star qualiti averag look refurbish superior see star excel suppos get pay differ seem unfair',\n",
              " 'wonder husband return short break barcelona stay rivoli rambla prais highli enough wonder third floor small balconi overlook rambla spotless bathroom gorgeou huge bath bed realli comfort plu mini bar realli accommod better shop doorstep taxi metro train close want explor afield thing warn light sleeper take front rambla bit jovial night place definit back',\n",
              " 'love rivoli rambla four star meet standard rambla close plaza catalunya airport bu stop metro although face courtyard problem bathroom well appoint breakfast includ rate bit steep euro ate one morn local restur euro',\n",
              " 'got paid stay may found alway pleasant help arrang larg vehicl get u ship lot luggag rate le taxi happi full size bathroom clean enjoy watch parad la rambla balconi price lower hotel nearbi plan octob',\n",
              " 'muy bien showreview full',\n",
              " 'wonder experi sign build',\n",
              " 'ok bad terribl loom noisi viaduct nearbi also king co courthous far lot peopl hang around around whole area greatest tourist destin near much better stay nearer convent center visit pioneer squar area daylight specif thing want see near convent center put closer place downtown area like pike st market',\n",
              " 'excel visit seattl elegantli restor insid romanesqu victorian style stay sept perfect',\n",
              " 'spent first night pacif northwest northern ca trip pioneer squar happi first shown slightli odd arrang tv side bed easili viewabl boston road first night world seri abl view tv import u front desk request easili polit accomod given tv viewabl found particularli free public transport offer seattl profession help slight neg breakfast found pretti mediocr overal happi select',\n",
              " 'hospit dear jo want thank let much enjoy beauti nice decor extrem comfort travel rus rosemari regn thank also includ u bottl champagn basket goodi sharedtheir bottl u first night share second night thank hospit extra courtesi extend u well made memor pleasur meet much see seattl much awareof love pike place market tour seattl definit worth certainli recommend place other greetingsfrom delawar rus pat clatt',\n",
              " 'excel short walk everyth',\n",
              " 'stay night start west coast adventur realli cheap chine next door clean big free internet complaint tini bathroom nowher lay anyth',\n",
              " 'conveni highli recommend husband spent week seattl basic sightse pub crawl tour citi one pioneer squar within walk distanc everyth fact across street waterfront popular place go walk sightse never rent car taxi need one grant walk mile day stop anywher want along way need car citi call taxi anyway walk alway clean decent size two u weird smell though someth toler though charm cozi within yard restaur bar fact meal ate restaur next door al boccalino best provid servic best italian food ever somewhat pricey friendli knowledg question ask help reserv victoria clipper bu take go ballard etc alway tri help quiet even though seem crowd recommend anyon aaa membership paid night except friday night expens',\n",
              " 'one night enough trust disappoint say best western pioneer squar alreadi said welcom seattl girl recept trip bell captain get vote best end long tire day travel plane boat reach seattl care disappear soon open door larg beauti decor king size bed take pride place look peac welcom period furnitur match appoint wait unpack relax cup tea light excel watt bulb evid towel plenti fluffi load bathroom lay toiletri thought frame pictur wall homey touch quiet nois disturb dreamless sleep night fact glad next morn set alarm night enjoy continent breakfast next morn toast jam yoghurt fruit coffe also cold cereal danish muffin offer learn bu transport free pioneer squar area bu stop step away entranc yesler howev sinc want explor foot easi walk uwajimaya shop complex chinatown delight place although rate littl normal pay retrospect one night worth everi cent fulli intend make return visit futur',\n",
              " 'noisi stay seattl busi check complic park avail arriv front desk help park situat compani pay arriv wait minut someon offic figur go arriv plesantli surpris larg clean comfort wireless internet left lot desir slow constant drop off even nois freeway nearbi constant money establish cost could stay sheraton hilton lot happier',\n",
              " 'lot charm normal best western charm high ceil warm appoint qualiti excel spaciou particularli consid architectur restrict older build use tini elev heck climb wide staircas heart step outsid fun day night life seattl one block waterfront trolley one block ton buse opposit end town space needl load store shop eateri nearbi bring comfi walk shoe alley next e one block directli behind wonder diner complet quaint vinyl booth get tasti fill afford breakfast get rate sure winner',\n",
              " 'custom servic lack area stay place busi meet downtown seattl right downtown seattl pioneer squar area area pretti bad walk around alon woman feel safe anyway pretti custom servic first rate larg bed extrem uncomfort pillow bodi ach sleep hard bed shower best part big plenti hot water love part luckili pay pretti expens worth money park mess park block away park garag run inconvein',\n",
              " 'game access pioneer squar cultur look boutiqu ish downtown seattl long mind cultur pioneer squar definit better hotel block two stadium middl district shop pioneer squar bit homeless problem never seen spill fairli small nice appoint free breakfast okay',\n",
              " 'okay seattl everi book histor remodel budget travel mind corner right next big outdoor neon sign luckili blink night coupl paper clip blackout curtain took care problem big clean heat unit bit quirki remot control maintain comfort temperatur challeng cycl either bit cool bit hot bath clean bathroom fixtur new flawless bring watt bulb want read bed open curtain mind pink hue biggest downsid thin wall next loud guest price qualiti expect',\n",
              " 'secur pioneer squar seattl two day moment check notic appear vagrant sit unattend lobbi coupl time includ earli morn check wife left bag moment get muffin continent breakfast came back bag handbag gone fellow sit across counter check see anyth see suspici fellow sit lobbi move bag manag sunday treat u like tri pull scam claim liabil baggag untend least take respons make sure lobbi clear derelict wait prey custom p suppos someon front door outsid hour nobodi clerk unabl see come leav manag say secur camera think bluf see back claim none employe morn knew camera furthermor manag never return call promis feel treat disrespect none suggest taken serious ie need full time front door concierg secur part seattl realli becom full vagrant bewar',\n",
              " 'old reliabl clean comfort quiet well locat leav car home take train seattl psh within walk distanc king street train station locat heart histor pioneer squar conveni waterfront antiqu art galleri design furnitur fine restaur pub club theater intern district pike place market downtown ferri alaska marin hwi stay recommend friend',\n",
              " 'place love amaz never seattl probabl terribl annoy endless question need direct extrem patient everi person talk say enough thing best western pioneer squar chose spotless time definit back',\n",
              " 'game book two night st august arriv pm told thay park given direct public park tell u match stadium could find anywher park drove best western execut inn space needl see impress servic phone back pioneer squar see could transfer book extra charg well done best western rememb book park space book drive',\n",
              " 'well remodel tast accommod help polit unobtrus major problem number outright face qualiti derelict inhabit everi street corner bench doorway pioneer squar area forc watch dont step someon urin trail turn back watch derelict urin broad daylight biuld main street push one away kept circl back closer closer much never downtown seattl well hundr dollar prison derelict taken pioneer squar bench doorway cover area pioneer squar wake seattl take citi back guess stay airport nextim lot restaur shop loo custom due preval derelict',\n",
              " 'pioneer squar area stay late august decent decent price time year servic awesom clean morn late afternoon candi pillow histor area right across street pier underground tour waterfront walk area posit transist older area town lot see easi catch bu area town total redon refurbish servic care view much cheaper rate howev older area town panhandl everywher panhandl quit polit aggres',\n",
              " 'histor area block',\n",
              " 'safeco field',\n",
              " 'one night catch clipper centuri locat pioneer district feel price famili bewar doubl bed queen bed park realli block night histor district worth ye homeless seem area due mission need send respons citi otherwis fault citi need respond someth w homeless entir citi probelm travel intern lot usa seriou issu beg hostil seattl show ugh',\n",
              " 'fine locat pioneer squar though quick walk water front pike market howev immedi bit rough around edg appar homeless popul walk sever block away toward market get notic better spaciou nice decor toxic clean agent odor requir u open window leav open otherwis big size bathroom breakfast serv adjoin breakfast cafe includ cereal pastri bagel beyond continent includ breakfast park block away cost day rel conveni though return back lot around pm attend wed sketchi shadi charact linger around garag lock requir access key card open door anyon cruis conveni decent place reason price look luxuri adequ',\n",
              " 'charm brace seattl park go read site review brace addit park fee stay anyway glad seattl like sfo nyc join rank big citi park headach drive prepar hand park rate graciou allow u check earli noon upfront day park deal street saw plenti park ticket windshield wiper downtown around pike take consider central locat walk pike restaur first pioneer squar boutiqu artisian storefront downtown shop servic pretti darn friendli say noth profession long know downtown seattl park pay pay pay go clean full charact breakfast bw standard fare bad recommend want littl old world charm round',\n",
              " 'almost perfect want love best western pioneer squar part excel nice appoint continent breakfast kudo best western fine biggest beef front desk person quit rude unbecom hospit profession conduct inappropri distast walk slouch desk look father unwelcom surli u number subject got thing rotten start howev found rest quit help friendli end happi stay',\n",
              " 'plan two night earli octob best western pioneer squar train ride la seattl first night see much within walk distanc ad third night typic best western beauti c build modern insid wireless internet access retain charm huge door beauti woodwork high ceil absolut spotless friendli help read mani review know expect free park issu rental could smallish side mine certainli adequ larger averag bathroom window airshaft chose lowest price expect use sleep view sceneri issu hear someon complain one morn highway nois side glad quiet brick wall offer continent breakfast averag separ lobbi numer tabl complimentari newspap two keep thing clean fill seattl pc citi ye lot homeless found street one bother concern walk restaur night alon street fill peopl quit late vibrant area rowdi mean recommend famili friend block waterfront ferri pike place market monorail station within easi walk distanc taxi seattl reason price easi find free citi bu transport within block everi kind restaur could desir mani antiqu art shop ever return seattl know pioneer squar murphynh',\n",
              " 'understand complaint websit stay two night late august love everyth first within walk distanc waterfront pike place market could easili take monorail space needl hill seattl someon troubl walk may want consid take bu taxi lobbi nice decor help pioneer squar meant could go next door right across street get drink someth eat cours walk squar night street peopl hung common sen never bother anyon well locat abl easili enjoy citi worri street nois call directli ask interior interior king quiet plan return seattl best western pioneer squar',\n",
              " 'custom alway right pioneer squar sunday night april town concert even crew gave effort physic show u differ smallest ever seen view backend brick wall led u believ ask park could either park street charg night park garag block road think get park pas save hassl later simpli said talk night shift get back set come back night young man work claim new got manag ask park ask park pas want refus tell led believ convers even shift free manag told u polici pull polici book either pay park street start meter news come exhaust felt cheat obviou bluff attempt proceed tell u check video tape told u everyth record throughout day told charg give u pas charg accept offer stare face proceed go back offer refus offer pas run circl mean give pas yet excus pas alreadi park lot park car middl argument pay check hour earlier told manag want money back go find anoth case refus refund u money forc night late tire run circl lame argument decid wake pay meter coupl hour leav give place anoth dollar next day found anoth near space needl treat utmost respect subsequ visit never dive thing reason gave one bellhop show u small help u door never swipe realli help u place base experi lack manag skill other read park problem hotel pas pioneer squar best western',\n",
              " 'everyth look perfect seattl consid best western pioneer squar also call pioneer squar locat squar downtown seattl block away waterfront within easi walk distanc safeco field basebal fan new seahawk footbal stadium pike place market far downtown hotel go best western bargain compar hotel calib insid decent size huge tini either clean friendli help along highlight neg thing think fact pay park complemetari continent breakfast lack term select qualiti said clean price heart seattl heck bargain back',\n",
              " 'fabul showreview full',\n",
              " 'valu locat close space needl valu two queen bed clean although carpet somewhatworn bed pillow linen bed lower qualiti like shower towel small view downtown littl far downtown area walk free downtown shuttl bu begin quiet night nois insid outsid',\n",
              " 'ok well look modern outsid front desk particularli friendli corridor dark smelt steam clean carpet mayb thing right space needl thrill first pull min walk away unfortun rear view build park lot even space needl view laundri supris larger restaur made mistak menu order new guy think numer item left tray servic breakfast phone call promptli deliv though',\n",
              " 'seattl valu pleasantli surpris bw exec inn fanci howev clean size excel also self contain restaur bar small busi center hot tub workout realli need remind star hotel stay europ modern standard bit date remind hotel floral print spread honey oak furnitur comfort bed funki shampoo dispens stuck shower wall call environment friendli hall dark low ceiling could use carpet clean lighten start charg park real bummer free park make deal downtown thing particularli seattl center area howev disco across street littl loud saturday night power sub station one end build overal ritz perfectli accept',\n",
              " 'price truli enjoy clean help bit walk pike place close space needl sure',\n",
              " 'place stay one night cruis could see seattl arriv natur readi store luggag left tour citi upon return went larg small stateroom week seem huge queen bed also microwav fridg place cruis notic shuttl pier morn ate restaur peopl friendli highli recommend',\n",
              " 'worth everi penni famili check two night terribl anoth check quick easi profession call morn check see could check earli want get crappi night soon possibl said problem lobbi comfort offer coffe morn fruit cooki day clean felt clean know mean bathroom clean plenti towel view space needl side view hill still plesant coffe maker real coffe blow dryer iron board cabl tv local call free help make reserv get direct read anoth review shuttl bust problem shuttl actual life saver walk seattl realli need ride call shuttl readi go even got downstair driver forgot someth drove u pick knowledg area use shuttl drop u pike st call pick pioneer sq quick even dur rush hour highli recommend tri shuttl use hottub time went empti peac also offer internet access two comput somewhat privat look attract price hour bad overal perfect space needl attract around one park lot away littl farther away citi center still pleasant walk distanc away issu safeti walk restur queen ann neighborhood back around pm still famili teenag tourist kind still fun walk back small child around pm downtown felt complet secur well overal vacat ad bonu',\n",
              " 'sleepless seattl unmark nightclub',\n",
              " 'averag outstid look rundown insid liter across street monorail termin space needl emp book impress park free actual day bad thought free boast free shuttl downtown begin run day noon spa also someth look forward broken entir overal deal',\n",
              " 'mediocr right across street exp music project space needl make easi keep bear get lost seattl site restaur decent food price site free park guest access password card freebi continent breakfast funki smell hallway kind pine deoder reason clean matress firm like soft sleepabl want place sleep close attract okay block walk free ride area bu servic major downtown area',\n",
              " 'right next space needl recent spent night best western execut inn averag locat next space needl ok king size bed comfi furnitur appear use date fridg microwav addit obviou environment far food foodcourt seattl center short walk varieti mcdonald starbuck block two away see choic nearbi nightlif offer free shuttl servic downtown long wait front desk call cab towncar plenti expens taxi airport reccommend tourist busi travel given',\n",
              " 'decent environment friendli stay two night problem speak typic budget decor furnish block seattl center space needl music experi shuttl avail take downtown littl mile pike place market shop district etc clean immacul view space needl window patch duct tape elev slowest ever ridden pretti annoy environment fluoresc light recycl bin placard request keep sheet towel durat declin choos soap shampoo dispens save packag kind think need spread personnel quit help other much second person ask refer zeek lunch two block away got salad pizza drink lunch',\n",
              " 'place stay best western execut inn three night trip perfect four minut walk seattl center see experi music project sci fi museum space needl monorail etc easi along sever regular bu rout near differ restaur eateri walk queen ann neighborhood problem term friendli doubl queen clean well furnish fridg microwav came handi also free wireless access throughout big plu previou review mention smell hour servic true think review confus best western loyal inn block look appeal best western execut inn seattl definit go book best western execut inn',\n",
              " 'back clean comfort conveni seattl center free site park gener friendli help one like walk mani restaur choos next door next time seattl first choic suggest one reli shuttl servic best accommod peopl alway avail time peopl like might use set reserv system one know whether mini bu avail need also miss continent breakfast mani best western provid although tea coffe well appl cooki lobbi earli enough',\n",
              " 'place seattl conveni locat close seattl center space needl emp northern surround seattl enjoy two differ stay juli fine servic larg wi fi avail free everi secur close park etc quiet top appreci qualiti food restaur recommend special elgian waffl breakfast know talk belgium excel choic seattl',\n",
              " 'first year stay best western year vacat stay differ bw locat plea execut book upgrad satisfi everyth even littl expens couch chair footstool fridg microwav king size bed touch made littl luxuri averag view space needl took monorail pike place market walk around waterfront pioneer squar glad drive seattl alon could ruin visit cheaper one waterfront right downtown busi district monorail free zone bu make get around easi actual like walk except mono back forth space needl front desk gave u direct ferri trip olymp penisula gener courteou help ever return seattl',\n",
              " 'servic rate star stay best western year mayb start indic clean quiet confort clean size decent exercis indoor hot tub price excel free park definit play decis book guest free shuttl servic use server time basebal game downtown drop etc wonder front desk friendli went norm help u question think young energi best western must train properli think greet almost everi time came day night standard actual made feel like want client rather anoth annoy tourist thank',\n",
              " 'better expect want someth cheap near space needl expect tire worn properti well care nice decor neighborhood two block space needl pizza salad head zeek',\n",
              " 'noisi soundproof showreview full',\n",
              " 'conveni terribl trip paid advanc charg second time tri get refund week non respons internet access except kiosk lobbi found shock consid even super offer free wireless last time stay dumpi side hallway elev scream run pictur websit decept look glamor eleg',\n",
              " 'bad one night stay sunday night front desk friendli help earli check earli check larg spaciou rather bland excel busi travel stayov earli departur phoenix sky harbor airport took minut get airport via freeway ideal afford rate low pool look restaur tri either one',\n",
              " 'know mani rate low thought fine shower head may littl weak work pool poolsid atmospher think theroom outdat clean locat arizona mill group factori outlet restaur',\n",
              " 'star know receiv star rate need updat shower head hang wall bathroom sink anoth metal pipe rubber pipe like one use car c work properli neither bath water go cold scald hot vice versa excel part town recommend never known better read use best western bed comfort either luckili lot help',\n",
              " 'clean decent stay attend confer clean larg comfort noth fanci nois though half empti extrem sensit nois hotel disturb even morn older build appear well maintain interior corridor clean well lit exterior ground well kept elev side build pool hot jaquizzi clean pool well heat swim possibl winter climat even night provid free pas gold gym five minut walk front door freindli profession part airport shuttl ten minut unless heavi traffic worst minut convien locat southeast phoenix right next temp neghborhood safe confer facil set well',\n",
              " 'total dump lobbi old date smell like mildew bed old uncomfort bed bed need remodel date like walk back time never',\n",
              " 'well averag look averag travel one night unfortun averag larg plain furnish fixtur cheap possibl show age badli need refurbish bathroom sink slight slant pull wall noth especi terribl unaccept subpar',\n",
              " 'star march march pleasantli surpris drove upto six stori pink build southwest theme ground top shape palm laden pool area sunlight exposur big king size bed full bath shower also fridg small cocktail sink coffe maker zillion tv channel movi left everyday around golf upon return made maid servic loung seper restur site front desk love young ladi name lindsey knew ever need know area airport shuttl servic avail plu drive area restur mall golf club within mile cannot give anymor star beacus need updat newer rug furnish bell whistl clean area go back',\n",
              " 'un road bello facad',\n",
              " 'alway phoenix innsuit phoenix northern blvd near th street alway phoenix area time due coupon receiv abl upgrad suit separ bedroom two doubl bed live sofa bed two bathroom person lr could use bathroom full tub shower without wake bedroom one night time take advantag small kitchen outdoor swim pool innsuit free breakfast best e seen waffl hot cold cereal egg hashbrown fruit yogurt etc also free comput use internet lobbi handi bring laptop sofab uncomfort older adult arthriti although fine kid quiet next freeway conveni airport take hwi north northern close foothil park hike',\n",
              " 'pretti clean conveni need place flew home close airport restaur breakfast healthi limit free recept touch pool towel skimpi big deal take two desk folk expect',\n",
              " 'ok price minut airport bad realli short towel pool towel like face cloth littl tire andtidi keep shoe carpet littl dirti happi hour bad breakfast hot tub air jet broken pool jet broken clean area safe towner',\n",
              " 'skip place got back phoenix stay four night normal hampton inn want squaw peak area thu decid right check known expect arriv earli check sinc travel often knew possibl leav baggag check initi rude gentleman final agre u leav luggag said check back later cours second floor elev conveni either husband breakfast bore thing everi day like hampton inn vari menu air condit function well water tub drain take shower knee water arriv ask one could go check e mail advertis list servic avail busi center told expect monday sat monday check told still tuesday one coupl stand desk ask question heard turn heal left businessman need servic inconveni still left wednesday mainten terribl lot evid place let go breakfast area small pool tendenc cater kid travel sport team lucki find spot sit second time encount best western never one hampton inn much better skip place',\n",
              " 'motel poor stay four night overal sen motel compar inexpens pro compar inexpens microwav refriger coffe maker decent repetit breakfast includ price wafl scrambl egg cereal etc free internet access includ print lobbi staffcon averag size limit space hang clothesmi biggest problem far away site want see',\n",
              " 'servic rude desk clerk oct arriv went front desk check desk clerk check inform comput ask suit avail call week arriv assur could upgrad suit immedi began yell want upgrad pay went took aaa tour book back desk show specif state reserv could upgrad suit avail free charg desk clerk start yell state told call could upgrad charg rule fact spoken gentleman call week never spoke ladi ask rais voic way spoke guest complet ignor kept yell ask speak manag told manag fact manag name clearli display wall walk away desk manag came assist min later incid humili guest present write review kind behavior total unaccept hope guest treat manner overal servic whole courteou help',\n",
              " 'conveni clean stay wide rang hotel star star gener expect manag bw actual littl expect part might fact arriv fairli earli check around noon readi upgrad u suit th floor suit best western still extra space conveni downtown although light rail construct go around citi need plan littl extra time plenti extra park although none cover leav anyth car summer cook definit also recommend restaur zen coupl mile north central ave recent open fit center bit joke pool although small clean ampl seat loung chair tabl',\n",
              " 'place recent renov averag especi consid price bed comfi pillowtop mattress complimentari breakfast includ egg hashbrown cereal toast bagel laundri facil make choic extend stay nearbi dreami draw park aunt chilada restaur bonus choic frugal travel',\n",
              " 'everyth need stay day phoenix three night wish book whole friendli avail time request someth attend right away clean bonu breakfast social time comput lobbi defin thank david pamela mila',\n",
              " 'travel toddler stay inn suit begin may look budget got awesom deal best western site night point clean comfort expect note travel year old crib playpen two queen bed prove problemat bed therefor keep mind order two queen free breakfast make waffl yummi lot juic cereal goodi unfortun breakfast small often cramp well may wait turn waffl cooker polit offer travel tip first wed month free bbq hamburg look ok skip pool cleanest scum around edg pool hot tub either bath tub temp hot also pool locat around park lot therefor relax privat scenic place sit outsid littl deck pool area close daughter sleep sat cement rail way clean advic travel kid especi young one resort lot amen want put kid hot car tri find place eat activ relax also avoid temp town lake much water park zoo fun choic lot shade avoid cost forgot name cowboy steakhous hill phoenix cut tie hang ceil terribl meal poor steak potato chip store bought bread one bowl bean share go back phoenix ye husband mayb older independ child could play pool lot enjoy shop ritz spa treatment ect',\n",
              " 'delux accomod fine stay star hotel wors thing like amen want high speed internet access cost free breakfast one typic continent fax servic n c pool spa two drink beer wine soda everi afternoon n c bed quiet w fridg price deal',\n",
              " 'plea minor quirk stay one night attend confer hyatt next door wyndham gave much better rate hyatt upgrad junior suit th floor bathroom spaciou incred comfort bed high qualiti linen wonder pillow ask quiet hear peek neighbor corridor pool pleasantli heat even swim unwind travel perhap best night sleep ever amazingli friendli help chill ice water await arriv touch phoenix minor quirk heater work although c notic morn usual watch v hotel v small old carpet upgrad post none problem top prioriti quiet comfort servic',\n",
              " 'blah like find typic wyndham gorgeou lobbi sub standard bad plain vanilla although comfort year outdat carpet get worn furnitur get scuf almost funni smallest tv ever hard mayb inch wide tini positv note bathroom area larg seper dress toilet area wyndham amen bath bodi work probabl tri hyatt next door think real step',\n",
              " 'confer confer job enjoy surround area could use better touch deal construct go averag averag help littl better averag charg arm leg park well averag recommend park lot across street look nightlif go scottsdal downtown ghost town dark',\n",
              " 'wyndham work return speak arizona state speech hear confer book wyndham th floor request sign free member receiv free snack soft drink busi travel dozen hotel year light sleeper bit troubl nois went way assist convent facil sever restaur within block walk also amc theatr ate breakfast also hous starbuck need grab quick bite ball park also close remodel work smoke situat awar problem cannot toler smoke never smell recommend anyon need downtown quit satisfactori compliment check',\n",
              " 'bad fabul lobbi beauti arriv prior check time problem went lunch return promptli given key fine noth use fit center next morn via pool patio door howev left fit center entir th floor reek cigarett smoke someth want breath work th floor return fit ctr entir th floor smell cigarett ask front desk th floor partial non smoke told th th floor smoke obvious ventil best smell cigarett smoke unpleas non smoker restaur breakfast buffet decent bad conveni diamondback game',\n",
              " 'worst experi life book wyndham hotel com arriv given paid non smoke doubl bed instead given queen size bed next pool gym attempt go sleep even howev peopl run hall person next throw throughout night peopl parti pool tri call front desk sever time howev answer around thought go quiet peopl start run treadmil side wall complain manag ask refund told could refund money take hotel com spoke hotel com call wyndham told thing took place case secur taken care romey wyndham even went far say one el complain know true becuas mani peopl front desk complain includ pilot flight attend upset fli plane sleep call romey wyndham ask tell hotel com someth untru explain mani other spoken andria day manger fulli awar problem occur throughout night romey rude said want call u explain satisfi like refund romey inform author gone hotel com appal wyndham allow injustic occur treat custom poorli never wyndham properti chanc right thing chose',\n",
              " 'much better star stay day attend medic congress nearbi locat convent center long trip greec hour athen new york thereaft atlanta phoenix found sure much better star food ok guest ampiou although without mini bar lobbi loung bar small well decor also downtown copper sqouar mani restaur nearbi overal opinion categori situat',\n",
              " 'wyndham phoenix big disappoint stay wyndham phoenix onsight confer januari travel bit busi demand lot disappoint major need overhaul talk mani cowork also stay said thing carpet worn stain enough lamp adequ light wall unit hairdryer longer hang get entir unit closet day bathroom tini mine unclean everi morn breakfast peopl complain hot water took cold shower two day lukewarm other addit remot tv work posit note lobbi fairli attract unfortun elev often long line take quit time get downstair want downtown sure obviou though recommend',\n",
              " 'decent pricey stay busi trip group rate night lobbi gorgeou help friendli easi walk basebal basketbal venu area clean bar restaur across street minut cab ride airport real complaint anoth poster allud fact tire need upgrad true carpet worn stain decor remind holiday inn wyndham problem elev work fine',\n",
              " 'lobbi need work downtown phoenix lot choic central lobbi wonder contemporari design place hang relax also starbuck lobbi renov obvious end elev look king petit suit roomi view th floor date carpet worn dirti servic front desk quick friendli servic lobbi bar non exist unless walk actual bar crowd busi got decent rate expect reflect cool lobbi disappoint',\n",
              " 'piti elev stay convent septemb larg spaciou comfort bed friendli happi attend detail arriv join free wyndham byrequest club see benefit list websit complimentari snack drink wait arriv central convent center block away lot place eat around well price rang qualiti happi howev elev realli let entir day stay problem occas took minut come th floor lobi could walk much faster option time elev arriv stop everi floor make tediou journey even orderli line form lobbi peopl wait go back understand mechan failur happen put short time entir time hope problem fix',\n",
              " 'bloodi bed like bloodi sheet comfortor clean elev wher broke work slow price ask clean bed',\n",
              " 'downtown stay august diamondback game explor phoenix extrem conveni downtown attract like chase field etc friendli courteou day clean comfort secur use servic eat restaur use fit center either idea vacat pool close guest given pas use hyatt pool right next door control much complain unless expect kind star luxuri treatment wyndham ritz need downtown recommend get decent rate thing around know roll sidewalk downtown phoenix around except local water hole restaur construct everywher downtown need outsid town much nicer park usual free scottsdal happen part town wyndham downtown avoid subway sandwich shop across street horribl instead go downtown deli also across street food delici',\n",
              " 'conveni downtown activ stay confer night may found king bed nice appoint spaciou disappoint aspect qualiti food serv servic found food level bland unaccept fortun sever realli terribl expens eateri immedi area excel restaur phoenix area',\n",
              " 'downtown stray go two game chase field short walk lobbi impress front desk friendli big bed comfort outdoor pool especi day excersis lot machin use park per day day bad downtown reccomend foranybodi town go u air arena chase field',\n",
              " 'reserv line gener okay deal w make reserv time wyndam main reserv line cumbersom ever dealt take minut make modif left phone w minut modifi reserv also explain problem experi make modif apolog profus person find nauseat need effici one time experi three separ occas call make modif gruel slow experi',\n",
              " 'talk modern got back arizona trip say take lot impress nyer sure impress love much expect see photo wyndham websit super modern super clean servic food wine list cocktail vacat actual set go tour downtown area ye dead small walk around seper night spoke bar club peopl look parti go elsewher sure arizona even parti place cancel plan look go grand canyon tour highli recommend work open road tour book rate cheaper differ tour arizona beauti honestli idea felt confid tour go worth everi penni wyndham recommend smaller expect amazingli comfort best bed pillow everrrrr wrote manufactur info order pillow bought new mattrress hold el get chanc see pool need print voucher one tour although lap top printer worri comput use comput internet access printer freeeeeeeee connect laptop print away need breakfast realli buffet worth starbuck lobbi hair nail salon lobbi well best minut airport plu overal plea definit',\n",
              " 'reason return wyndham phoenix must say impress begin lobbi new cold temperatur style match architectur big deal elev unpredict concern safeti two occass dark tire bathroom spaciou seper dress area howev must shower small dark cave bore littl scari night cannot reccomend return unless requir busi best worth le night sure pay amount',\n",
              " 'spent night wyndham overli impress especi money pay bad either whole area still construct hard rock cafe nearbi ambassador walk around help get around park littl much day difficult find front door front desk friendli effici best yet starbuck site got place eat bed comfi shower odd took figur closet bathroom took get use housekeep know rule',\n",
              " 'downtown wynhdam downtown locat citi center area phoenix ye lobbi still construct visit larg lobbi area courteou front desk comfort fairli larg offer roof top pool starbuck lobbi well restaur fast food locat across street coffe servic provid',\n",
              " 'alot thsi place frill sometim dark dreari remodel wyndham request member get free internet bottl wine snack free night find cheaper anoth websit alot busi alot choic choos unless downtown',\n",
              " 'lobbi still construct compani arrang tradeshow team wyndham outstand friendli help make arrang confer problem lobbi area remain construct might chosen bring client known',\n",
              " 'busi downtown go busi downtown weekend place dead howev servic beauti pictur window larg bathroom downsid contruct lobbi awar appar renov long time howev bother u stay th floor top floor conveni store sell stuff outrag price get anoth place go park easi access clean tri pool seem could see tv channel dissapoint expect full hbo golf channel choic woulnd vacat favour scottsdal paradis valley vacat',\n",
              " 'resort spent day wyndham rel pool area servic excel restaur mostli ate clean littl outdat still ok biggest complaint nois adjac highway definit normal light sleeper book view highway place mayb littl far citi busi',\n",
              " 'place lay head showreview full',\n",
              " 'lobbi construct januari showreview full',\n",
              " 'showreview full',\n",
              " 'choic showreview full',\n",
              " 'showreview full',\n",
              " 'bad servic bad facil bad worst embassi stay airport shuttl servic took hour three call pick call said way minut le minut given free dinner coupon troubl restaur either old sold rebuilt ask quiet especi sinc loud construct go courtyard place next busi street loud especi crack slide glass window street tri nap meet gave ask move desk person inform king busi side place doubl bed quiet first person desk tell explain sick request quiet tri use internet servic instruct given front desk wrong eventu figur correct sign work never recommend anyon marriott block closer airport much nicer littl',\n",
              " 'embassi suit phoenix th wonder wonder beauti built around love courtyard spaciou bed incred comfort went beyond left purs courtyard waiter recogn return even realiz left behind went way accommod help pleasant food restaur fit excel condit treadmil ellipt one stationeri bike plenti free weight lot towel minor thing like bathroom suit small side wifi free occas difficulti connect meet public restroom rd floor anywher near ocotillo confer use public meet open guest u use throughout day servic howev gener minor issu wifi charg option meant need sign make password need enter credit card number etc definit ever get back phoenix',\n",
              " 'absolut gross',\n",
              " 'swelter indoor phoenix even know began stay twenti embassi suit last eleven year first book twenti dollar cheaper hotel chain littl nervou never stay bad embassi web site mention outsid front back entranc lead outsid particular day degre phoenix arriv hot driven two twelv hour day sun want relax check front desk courteou gave u key went way first thing notic upon walk smell musti comfort degre air complet turn wait cool lucki two hour degre go lower medic suppos watch heat exposur alreadi way hot saw sign said pay internet local call also websit call front desk complain went front desk inform air said send mainten gold member internet free minut pas make anoth call oh yet probabl radio look speak manag oh one properti stand letter say rate u ten call manag duti find someon give call ok twenti minut pas call hilton number oh way internet strong enough reach temperatur still degre final hour first call mainten show meanwhil hilton honor tri get anoth hilton final reach manag say leav still pay way also ask switch told avail final three hour check releas go somewher el end beauti twenti dollar night believ problem resolv quickli hilton honor gold member way mainten took cover air condition took apart put back togeth said fix temperatur upon check degre away',\n",
              " 'forget park live northern arizona two hour away sky harbor airport famili alway night flight stay mani airport hotel never arriv late even sign earli morn shuttl airport pool degre offer respit degre heat defin date le optim neighborhood breakfast bad better embassi suit return one week later saturday afternoon call pickup told shuttl avail take cab reimburs driver cab driver ask paid refus pay stuck bill said record ask manag tamara carter want see receipt dug luggag produc receipt said neglect sign arriv week reimburs cab ride point park airport cost lot point stay known go charg transport administr obvious tri cut expens pay shuttl stick guest never found situat despit three four trip sky harbor per year past ten year mani airport hotel phoenix avoid one',\n",
              " 'greatest regular guest variou embassi suit hilton product one bust date need lot work noisi within construct nois even weekend earli morn bathroom small plumb problem front door old energi effici sound proof front desk could use realli lesson manner profession genuin hospit could use littl polish profession convers skill complimentari breakfast warm accomod manag recept kind sad w plastic cup instead glass pool area pool could use scrub slimey dirti tile could real gem sinc older properti build could get origin charact back renov better front desk',\n",
              " 'go use go night fli phoenix sinc handi airport offer free breakfast howev recent disappoint previous quieter side properti time bedroom window next busi street traffic nois kept awak cold draft air vent blow across bed properti start show age carpet stain front tv cabinet goug plumb line make lot racket also coupl duh note manag bathroom sink hot cold faucet wrong side hot left creat nonsmok suit simpli call need fumig everyth smell like old ashtray',\n",
              " 'wonder parti difficult find accomod u went phoenix spur moment escap cold mid west call around embassi suit best deal even better deal arriv right size adult child boy love pool excel breakfast crew work breakfast accomod miss alreadi thank job well done',\n",
              " 'think pilot mani hotel first time paid internet access censor could view privaci last time dealt someth like middl east',\n",
              " 'littl fan make luxuri stay mani embassi suit across countri felt fairli confid book suit one bit difficulti get due road construct help check though direct u park elev order fortun sever elev outsid build love pool hand wall live behind sofa filthi furnitur date worn one lampshad sever hole teen toss turn night tortur rack sofa bed everywher look littl pleat fan ice bucket liner paper towel rack even toilet paper hate break manag littl fan make desir luxuri exhaust travel decid tri restaur properti dinner huge mistak asian chicken salad came tomato wait assur realli bell pepper food equal odd flavor cook order breakfast next morn though quit long line',\n",
              " 'park ride rip bewar offer park car embassi suit altern airport park word verbal promis offer free shuttl airport lie return deni pick unless book forc pay cab fair minut ride',\n",
              " 'home away home stay embassi suit juli th th enjoy experi front desk help alway smile spaciou clean courtyard expans clean larg cover patio area taht two tv perfect place cold drink long convent need print document fron flash drive went front desk ask could find kinko offic max woman front desk print unbeliev also comput access internet fiound later stay pleasant experi',\n",
              " 'valu pack embassi suit felt embassi suit phoenix airport th street worth price person get pay complex consist four stori courtyard style five glass elev five set stair secur gate control key fit third floor agav grill onsit restaur locat north end facil portion date like floor bathroom popcorn ceil clean spaciou kitchenett bathroom sink made high qualiti granit kitchenett also microwav mini refriger bar sink coffe maker four set coffe mug glass two suit work desk telephon task chair sofa sleeper use chair tv second bed bureau doubl tv cabinet cloth storag iron board front desk manag restaur personnel maid servic outstand felt well maintain husband love temperatur freez level plea air condit felt air cold enough hot cook serv breakfast outstand nightli manag receptiion agav grill cost regard comment fear neighborhood walk across street groceri store name food citi consid ethnic orient area person use around peopl financi challeng may afraid howev crime happen anywher rich poor neighborhood person make individu call neighborhood overal felt enjoy certainli line paid',\n",
              " 'short stay busi stay four day three night busi trip first arriv given next elev nd floor made reserv fourth floor pool realiz went back desk request new request grant howev still nd floor howev wonder complaint servic entir stall wonder accomod meet held also nice handl food serv wonderul also complet book entir time parti never known pool relax well maintain even leav pool open later normal sinc guest meet dinner parti got back relax could pool time breakfast wonder cook funni start day cocktain recept fun place meet guest kept clean like said complaint howev want walk around outsid area wouldnt recommend well recommend area phx alon walk even daytim far concern howev one time daytim scare hear guest shower toilet go use noisey hotel guess one night howev extend someth super special somewher el perhap noth realli bad say',\n",
              " 'enjoy embassi suit littl nervou stay embassi suit read review pleasantli surpris return home stay two night first found outstand everyon friendli went way help second quit spaciou bed comfort realli near anyth except airport mind sinc meet recommend someon mind definit exceed expect',\n",
              " 'happili spent eight past nine night march problem breakfast pool appeal complimentari happi hour jovial servic cheer friendli servic restaur quit central far flung phoenix handi airport freeway groceri store coupl block away provid barbecu dish want dine east side quieter west peopl use park lot hour noisi',\n",
              " 'band kid well control restur servic bad husband dtr stay order get flight next morn expect embassi suit nois level bedroom side road loud disturb h band fiesta bowl still run wild pm servic restur terribl food mediocr eat',\n",
              " 'reason rate showreview full',\n",
              " 'place showreview full',\n",
              " 'thought fabul showreview full',\n",
              " 'got kid showreview full',\n",
              " 'got sleep airplan flight showreview full',\n",
              " 'valu showreview full',\n",
              " 'terribl experi twice bad manag stay april town nascar race arriv late night cold heat bring portabl space heater hot water mainten man work bathtub order servic right close forgot part order could call get left manag greg promis make u visit novemb came nascar check find hot water hair tub immedi check stay ay marriott courtyard street wonder day neither greg manag rick gener manag follow complaint bad manag bad dirti uncomfort accomod',\n",
              " 'old date dirti disappoint like embassi suit happi unfortun place huge disappoint old dirti date carpet stain furnitur cheap look dirti locat next busi freeway outdoor hallway main lobbi build odor like ga saw complain front desk escort anoth corridor wors smell like cigarett smoke even though non smoke bed spread cigarett burn hole third took slightli better stay admit bought anoth chain remind motel say major renov away place disappoint',\n",
              " 'love famili road trip northern california austin texa stay embassi suit phoenix north one night love moment step spaciou lobbi effici friendli help check throughout pool huge addit kiddi pool hot tub relax love ground breakfast also made order omelet french toast bacon sausag fruit etc free wifi lobbi area free cocktail appet even larg kitchenett separ bedroom clean nois price famili four adult includ breakfast certainli choos',\n",
              " 'stay fastpitch softbal team love extra place day breakfast overal price problem rule youth swim pm pool right outsid anyon summer vacat hot finish game girl want swim u adult present guard kick girl two adult pool',\n",
              " 'embassi suit level recent embassi suit quit horribl stay embassi suit mani time never expereinc one like level one start motel first arriv main lobbi musti smell second day start get use defint smell old pleasent carpet sever notic stain around ceil two buldg area look like could come soon also smell old musti floor slant strangest thing seem slant well walk way surround pool area start sink make matter wors offer free movi readi view tv could show movi servic person arriv tri minut said sorri noth night pool area decsent howev order sever drink famili pina colada strawberri daquri watter tast breakfast worker food area helpful rate three star old refurbish asap par embassi suit hotel come know plea know stay mani hotel travel often first time take time comment decid anoth embassi suit like hilton tri hilton garden inn newer hotel similar breakfast hotel howerv alwasi free embassi suit hope helpful',\n",
              " 'terrif weekend stay iin late may attend wed recept front desk cordial help arriv shortli noon due earli flight arriv abl give u sever choic relax ground enjoy cocktail even breakfast deck face courtyard larg comfort far front area like could take walk beauti well maintain ground sat around pool although swim enjoy go easi find close freeway stay embassi suit experi check',\n",
              " 'love ground breakfast want north side phoenix could fli even begin trip grand canyon morn without deal much traffic impress love ground includ beauti pool tenni court clean quiet comfort easi get interst free made order breakfast take patio eat overlook pool want someth near airport still go best western papago inn sinc littl money north phoenix love embassi suit',\n",
              " 'experi back night year old cousin pool love safe ground run around round pool courtyard ground outsid pool anim lover happen dog show within resort enjoy talk handler see dog ate restaur food slow servic happi hour hour free drink appet crowd first breakfast buffet best larg cook order omelet stay highway hear nois sunset beauti suggest built balconi face pool courtyard walkway attach build conveni definit return',\n",
              " 'famili actual stay mani mani time pool fantas famili child pool shallow shade jacuzzi larg accomod larg parti huge stay sever day buffet breakfast best made order omlett fresh fruit ton meat side dish everi afternoon cocktail free charg enjoy pool drink',\n",
              " 'unbeliev valu find hotel within compani budget get difficult time particular embassi suit solv problem phoenix although close scottsdal amen fair trade additon drive time make sure outsid near fine compani rate got wonder suit full size fridg microwav live kitchen tabl separ vaniti bath shower spaciou huge inner courtyard shallow foot pool still okay modest lap pool big hot tub restaur cajun new orlean style servic fastest ever price servic afford enough could afford eat per diem petit prime rib huge sweet potato souffl mix veget bread salad spaciou lobbi area breakfast cook order egg pancak well simpli realli deal phoenix',\n",
              " 'realli like place usual embassi amen pool clean bed comfort restur although slow servic even though sold never disturb outsid nois',\n",
              " 'free breakfast stay two night weekend thanksgiv road trip az check easi friendli help breakfast best buffet includ cook order omelett pancak french toast scrambl egg sausag bacon muffin fruit etc best alreadi includ bathroom small refridger deeper everyth clean overal recommend anyon',\n",
              " 'perfect nfl weekend stay weekend nov th perfect home base weekend ground beauti despit right freeway never issu nois face east roomi clean possibl bit date isnt w pool quiet even weekend despit temperatur breakfast brilliant cocktail fine except enough seat friendli accomod use free shuttl take u bar pick u end night perfect place spend weekend doubt next year',\n",
              " 'fantast return nascar race spent five day clean pool free cook order breakfast everi morn free cocktail two hour even friendli help clean recommend place anyon without question',\n",
              " 'noth special brother stay last week definit get face courtyard pool area rear properti face expressway loud even even expect embassi suit furnitur old show definit sign wear arm loo one chair shower curtain dirti along bottom larg outdoor pool better averag made order breakfast decent pm happi hour use internet due hefti fee unless confer visist make conveni averag expect embassi suit potenti solid properti avearg best',\n",
              " 'horribl servic place beauti servic disgust major hospit tourism manag work act way fire smile self lock door werent lock friend got broken could care le peopl make better scott front desk ladi scotland check one worker go forgot someth go late meet got document found gave told door unlock know lock first sign someth wrong door bartend well reccoment stay',\n",
              " 'minor problem older resort remodel request upgrad check ion upgrad two bedroom two bath suit microwav mini fridg utinsel kitchen itm provid unit clean ligith horribl even bulb replac still dark minor problem could tell place older bed comfort ground matur tree love landscap lobbi huge beauti arriv shortli wind storm pool full leav two night pool clean properli time pile leav left along pool side instead clear away pool enjoy maintain better breakfast buffet made order omelett pancak french toast fruit muffin breakfast meat etc even social hour also finger food alcohol non acohol drink friendli help accommod recommend bbq place call bobbi q best food two week trip get chanc make sure eat ate twice love reason price excel food definit request better light one first floor',\n",
              " 'fabul vacat embassi suit phoenix north exceed expect pool area gorgeou ground meticul maintain anyth could want avail breakfast buffet look forward drink snack happi hour daili famili vacat conveni airport tourist area visit attent need mirror closet door come track fall break housekeep mainten arriv immedi rectifi damag look forward anoth trip embassi suit futur',\n",
              " 'place spent last night grand canyon trip second favorit next night hyatt gainey ranch stay make sure ask face court yard pool get face highway noisey breakfast outstand free drink snack everi even bonu week go dinner kid decid order servic last night highli recommend food reasonalbl price definitli go back place',\n",
              " 'th embassi suit north phoenix two girlfriend go year phoenix basebal spring train sun seek shop done year row stay embassi suit north phoenix time keep come back due gorgeou pool area right mix sun shade lot chais loung also love free buffet breakfast also manag recept even free snack free drink drink limit beer wine serv margarita daquiri mix spirit alway tri tip bartend servic go ask interior courtyard side front freeway lot road nois averag embassi recent trip notic couch chair live small hole upholsteri bathroom sink crack issu regard function come microwav small fridg coffeemak wear tear issu furnish freeway nois reason give star instead oh one thing realli servic front desk check without u ask pedro ask u go phoenix took map show u easiest way get destin without get stuck traffic back next year',\n",
              " 'awesom showreview full',\n",
              " 'conveni way begin wester vacat showreview full',\n",
              " 'typic embassi suit showreview full',\n",
              " 'bargain showreview full',\n",
              " 'averag accomod showreview full',\n",
              " 'valu keep eye open special got price conveni airport gym averag weight equip ellipt machin bike treadmil work long flight hilton bed comfort airport nois heard complaint hallway nois unusu loud other point',\n",
              " 'perfectli close airport book proxim airport departur friendli help upgrad queen bed without u ask love quiet even though close airport hour shuttl airport conveni get minut ate restaur food hearti best avocado ever beat deal clean servic',\n",
              " 'valu paid book hotwir got deal three night two doubl bed hall littl stuffi first arriv clean comfort carpet could use clean make sure wear slipper sock walk around bed comfort back ach etc woke bathroom littl small seen wors suppli hairdryer shampoo condition soap shower cap mouthwash refriger fill drink snack pay lock ask key front desk need fridg person thing need ask one brought absolut anyth coffe kiosk locat downstair morn alway sure fire thing two three morn one tend self serv option also pay coffe get downstair kiosk might better make sure coffe pretti quiet area improv could nois hallway face hohokam highway quiet sever hotel area noth walk restaur better get back onto univers drive head bit east temp find lot spot hit',\n",
              " 'averag pick airport describ other late cramp clean bright shower work eeerili empti except contractor someth pool pleasant except plaster water hot sort place take walk outsid sit relax drink stp gap flight ok',\n",
              " 'expect much pleasantli surpris flight delay put expect dingi motel surpris clean even littl spaciou obvious ritz carlton say reliev come clean comfort ten hour airport termin continent breakfast excel want clean place without frill especi busi travel seem businesspeopl mind',\n",
              " 'littl kitchi southwest comfort delay due crazi monsoon got second leg week long busi trip wait littl shuttl rain terribl hot upon arriv test zip check seen hilton allow bypass front desk complet much like airlin kiosk got key start walk big squar think exact opposit corner spaciou clean comfort bed decor littl top southwest guess come territori workout ok c broken quit warm even window crack still pretti toasti overal pretti decent',\n",
              " 'busi busi travel kid comfort bed big pool area fit center lobbi common area excel shuttl servic sport bar food reason price downsid per minut charg use busi center comput',\n",
              " 'averag airport hilton hilton locat insid court alongsid hotel courtyard fairfield etc border expressway greatest area overal close airport seem safe enough open air lobbi make first impress seem effici enough park complimentari busi center new sweet sleeper bed minibar',\n",
              " 'get deal strand airport famili home book hotwir deal shuttl u comfort bed shower amenit luggag workout rm pool look',\n",
              " 'must airport told book balk choos airport hotel busi much closer scottsdal hotel offer nevertheless plea servic hilton certainli par even jacuzzi tub find amaz still smoke indoor arizona bar allow smoke opinion drawback',\n",
              " 'accept furnish comfort food restaur pricey standard everyth internet access hour period check flight use busi center cost includ three minut use internet print seven page board pas like except charg thing hotel provid free pleasant help',\n",
              " 'adequ disappoint phoenix airport travel phoenix busi want near airport first issu arriv call shuttl airport wait outsid hour wait normal bad except pm night tropic degre even check found heat work swap assur orgin suit readi first thing morn fact even pas inform night follow night suffer problem fire alarm alarm want wake check earli overal noisi clean one hope front desk unhelp fli fine night stick around week tri find someth el',\n",
              " 'solid buy get deal got night pricelin stay one night drive phoenix much expect sinc airport properti airport properti chic upscal downtown citi properti usual thing like sever entranc could park car near stay ground floor conveni load unload stuff unfortun key card work door nearest prop open went get stuff larger high rise hotel offer conveni someth look check properti extrem quiet got night rest hear freeway airport nois highli recommend properti seek sleep bed comfort warm next bed cool alarm clock apar standard hilton plug ipod conveni dbl bed nonsmok averag size decor southwestern style bit date tast hey arizona guess make sen gripe bathroom door open bathroom bathroom littl small door kinda block access shower singl travel want leav door open take shower let steam free wi fi abl pick access neighbor properti bother much ate restaur breakfast realli breakfast buffet hot cold item declin want eat much food server friendli problem take custom breakfast order menu healthi hi protein style order breakfast egg white yolk scrambl togeth food delici work properti well equip treadmil bike elipt machin stair clime machin life fit complimentri water work towel like hotel offer open pm use pool spa front desk told open til midnight pretti touch long drive chose work instead also bar onsit amen use say pretti pas phoenix even stay night look resort vacat style probabl place airport',\n",
              " 'solid reliabl place probabl fourth fifth time stay book pricelin hotwir someth dollar rang central locat interest shop food zoo excel eager plea public area attract coupl thing par time broken ice machin card key reader outsid extrem comfort safe bar restaur open late night forgiv',\n",
              " 'everyon el think honest everyon rate five either smoke crack travel much least guy paid buck got paid averag best lot option phoenix find one basic motel lame restaur servic wireless plan tether desk work vacat stay airport traffic pattern probabl need medic fair clean',\n",
              " 'love place even though airport realli like lot comfort pool view larg spaciou balconi two queen bed comfort hate get morn high speed internet reliabl reataur surpris array tasti choic highli recommend fish chip restaur front desk realli friendli suggest place citi visit eat work relax pool everi even peopl even felt almost privat neg airport plane come right properti land ignor begin notic park plenti free overal like whole packag apart aircraft nois outdoor pool highli recommend anyon look clean high qualiti accomod near airport',\n",
              " 'near airport asu th time stay properti definit next trip phoenix ideal near airport mile road asu near major freeway phoenix bed comfort pool whirlpool gener empti toiletri better qualiti star interior pool view much quieter park lot face interior also either patio balconi charg internet usag agre annoy sinc mani hotel provid servic free time go gift shop found price quit high plenti store within mile radiu realli need frequent',\n",
              " 'comfort showreview full',\n",
              " 'free inter showreview full',\n",
              " 'well averag airport hotel go showreview full',\n",
              " 'place conveni showreview full',\n",
              " 'weari travel showreview full',\n",
              " 'pricelin second class treatment showreview full',\n",
              " 'clean love ground terribl front desk complet unknowledg unenthus job follow promis report broken bed slide door twice never got fix check took min incorrect bill even time still charg incorrectli credit card wast time phone tri fix error bed uncomfort thing sinc uneven broken sleep number littl compet averag wonder instead alon made one prompt poorli review radisson phoenix airport travel review site visit',\n",
              " 'ok stay phoenix airport radisson coupl weekend ago around buck night got clean quiet front desk short staf best could get u check quickli possibl tv new sleep number bed well breakfast buffet next morn well plenti scrambl egg potato bacon sausag pastri fruit juic etc compar one get denni day real bargain around buck person need place near airport',\n",
              " 'front desk clueless everyth el ok book thru pricelin con air cancel flight find somewher web said shuttl air ran nowher web say call cab paid rental extra night transport airport close howev call cab mention front desk told must look wrong websit given kingsiz bed peopl ask two bed call book told request check told none avail resign sleep bed get find sleeper sofa could mention satisfactori return rental car call ride back tell meet van call blue diamond area howev airport employe call door south curb never airport easier everyon call thing call cab town car friendli driver u howev noon front desk u check wait minut someon come could checkout servic night delici prompt clean perfect need front desk frustrat day vacat flagstaff want simpl',\n",
              " 'ok layov stay approx hour layov three child elderli mother wait shuttl approx minut hire anoth compani night shuttl guest way home long vacat pc luggag plu carri on shuttl driver help upon arriv told four star front desk girl guest haul luggag laugh desk girl attitud arriv pm restaur close walk next waffl hous front take bad consid ok bed dbl comfort definit star paid hotwir pay night front desk clerk david made differ',\n",
              " 'overal problem stay one night gener plea arriv late night flight check front desk clerk friendli clean spaciou arriv unfortun attempt go bed sleep number bed inflat chang realli pleasant thing new bed work new call front desk request wake call late pm check receiv wake call late check document overal impress public area recent renov attract spaciou clean pool locat next freeway offramp deck area around small best experi accept airport see earlier review also mention non function sleep number bed recommend check bed soon arriv front desk friendli overli effect',\n",
              " 'near airport wife stay last weekend fli phoenix airport ungodli hour advertis hour shuttl servic fairli rare experi although claim expert check inform shuttl ran pm call u cab pay someth el never experienc past cab towncar servic somewhat oddli laid function radisson recent upgrad includ sleep number bed found bed comfort certainli comfort ever slept fair neither wife sleep well earli morn flight probabl due fear miss plane sure might optimist bed differ circumst well appoint rel spaciou one could found fault cleanli wireless internet servic includ well front desk pleasant profession drink bar tri eat site restaur overal excel recommend',\n",
              " 'husband young child stay night child fli town earli next morn upper floor balconi view balconi wasnt best neat leav curtain open look outward downward tv hutch broken biggi bed couch sofa bed also use ate dinner restr lobbi food margarita also use shuttl take son airport shuttl came back pick husband back meant park hassl airport anyth juli th weekend airport complet mess pack front desk servic wonder well restr shuttl driver',\n",
              " 'definit deal name price pricelin accept found afterward radisson phoenix airport univers blvd review bad figur price bad young son travel phoenix famili get togeth need one night arriv late rage monsoon storm yike got radisson night desk clerk man look comput screen seem like long time stand right across final look said need someth uh yeah check duh fine request pm checkout normal noon said problem got king sleep number bed got tri bed tri lower number side bed remot thing complet deflat flat pancak respond remot longer call desk move anoth execut level need th floor key card elev even go level seem cool littl safe buck beat new layout sure execut whatev bed work well disappoint fridg microwav help clean bathroom clean see problem give littl card fill hang door order servic breakfast need door deliv promptli indic next morn forgot toast call brought right margin get shower get dress etc go breakfast tire went swim later pool one except one guest check took quit long time one desk clerk two peopl front clerk profession woman foreign accent pakistan like think name venetia easi get conveni neighborhood fine understand peopl felt unsaf overal plea radisson sister paid full rate quit plea understand paid',\n",
              " 'ok get deal got discount radisson hotwir deal money comfort enjoy pool hot tub free use internet downstair neg lobbi first floor smell like bottom ashtray restaur look like afterthought workout open complain realli close airport shuttl avail also ground transport may take cab restaur offic park area waffl hous restaur saw within walk distanc',\n",
              " 'perfect ap central phx full servic central phoenix airport newli remodel bar restaur comlplaint',\n",
              " 'lousi servic star adequ front desk employe morn breakfast waiter le friendli like bother ask simpl question stay',\n",
              " 'small stay radisson last weekend desert getaway car thing within walk distanc waffl hous think food pool small loung chair got crowd quick peopl close relax clean pillowtop mattress comfort elev broke took stair stairwel st floor lock littl upset book pricelin overal valu got night sleep',\n",
              " 'radisson phoenix airport bad week end radisson told made reserv publc remodel certainli even swim pool limit told go across street use anoth pool bad news busi yet overlook busi street face west eight hour bright hot sunshin price depress decor aspect restaur food ok extrem price everi time ask question say know week two week tell u go street waffl hous better le expens food impress three day',\n",
              " 'love new travel phoenix coupl time year visit ail mom last time came complet construct left even stay return year pleasantli surpris find well turn complet redid everyth even new furnitur pool kid enjoy sinc much cold swim new expand fit center new equip plu husband happi quit breakfast food wonder accommod worri thing whole time must give chanc thoroughli satisfi',\n",
              " 'horribl check look outsid look terribl insid floor dirti well smokey smell travel throughout even smoke free big contributor well one night ask money back left care neighborhood surround',\n",
              " 'cosi fair price comfort safe conveni close airport interst maid perhap left aircon unit f outsid mean sleep hot realli comfort bed furnish clean bathroom power shower pool look downstair bar well stock cosi realli noth like bad made review clean well maintain polit friendli breakfast ok noth write home rang healthi option suit fine shop around could get deal bargain definit next time phx',\n",
              " 'pay dollar somewher el pay dollar somewher el friendli ok howev seriou need upgrad carpet worn bathroom bad shape hotel price rang much nicer cleaner',\n",
              " 'fine restaur lousi read neg review scare found stay fine ye could help renov larg comfort clean style absenc thereof complaint breakfast restaur howev liter ined servic poor tri nearbi waffl hous instead free hour airport shuttl offer lot conveni',\n",
              " 'love place resort beauti lush ground fireplac loung pool servic incompar incred profession food spa wonder top found deal expedia given worri keep mind per night resort fee top charg cover incred servic serious folk everywher anticip everi need',\n",
              " 'best experi wonder experi beauti ground cook restaur cant say enough food spectacular servic minut step onto ground minut left impecc photo justic spa outstand eucalyptu steam die cant wait go back romant place get away',\n",
              " 'wonder place fabul servic everyon work seem go extra mile make sure one exceed expect ground romant full flower also outdoor fireplac everywher book least expens still well appoint bathroom bedroom also ate dinner resort superb bar popular two fireplac invit space offer wine tast bar lot fun wine boot photo properti justic gorgeou',\n",
              " 'time came back love weekend royal palm visit famili knew spend fair amount time away resort therefor book one higher price still enjoy immens valencia casita number gener plea although bathroom definit need updat plumb ant sink big deal even though went properti fair bit still manag enjoy much royal palm offer love ground lunch cook well breakfast morn fit small reason well equip outdoor yoga studio love place excercis earli morn hot think spa wonder massag therapist excel facil love book right away troubl get reserv stay number place phoenix scottsdal includ hermosa inn love small fit facil site sanctuari overr thought though spa excel phoenician like lot though big fit facil spa etc biltmor also like also big visit second conclud like return feel',\n",
              " 'crack husband stay royal palm celebr th wed anniversari although ground beauti romant cook restaur loung servic pool extraordinari busi end leav quit bit desir arriv readi person check desk said call within hour let u know statu check receiv phone call two hour later stop front desk person seem rememb u anoth person desk ask phone number file said call second royal palm repres call end check pm hour schedul check time even though sent request ask earli check sinc knew arriv around although understand readi earli appreci call first repres said go make could made better use afternoon surpris fireplac call properti inquir fireplac delux casita book told fireplac yet place without one cozi look forward particular amen second night call housekeep receiv turn servic request towel chang biggest problem royal palm check bill procedur first minor issu ask board pas print sinc servic royal palm offer person front desk rememb give ask ok littl oversight coupl follow made littl oversight magnifi major issu bill first given wrong bill someon charg half paid per night lodg given bill three night charg rose petal turndown servic servic first night royal palm check repres deduct subsequ two night inform u receiv updat e mail version bill charg receiv e mail version bill credit card charg total invoic receiv upon departur addit amount call resort sever time speak someon account left messag ask someon send updat correct invoic explan addit charg receiv e mail updat copi bill anoth fraudul charg spoke someon receiv invoic seem bit annoy inquiri request charg explain remov final mani event host royal palm least one everi day visit often seem pull away lodg guest seem suffici address need guest lodg properti host special event properti size request royal palm request per night lodg servic seamless guest feel like special picki guest abovement snafu never interact royal palm sinc arrang activ dine option prior arriv event servic seamless guest made feel extra special properti manag follow guest best abil explain situat offer sort compens travel extens busi pleasur stay larg small hotel manag gener seem concern well guest feel approach royal palm',\n",
              " 'luxuiri relax resort pull palm tree line driveway got instant feel somewher el citi oasi greet u warmli help u vehicl arriv earli reserv front desk said may readi hour took opportun breakfast restaur properti cook breakfast excel valu readi within hour stay portion complex also sever privat bungalow spaciou quiet comfort love comfort bed candl privat balconi everi need request taken care spa well equip classic massag carol fantast pool chill cool heat day way relax unwind spend first night anniversari vacat',\n",
              " 'romanc busi robynn reiber nyc read review decid sound perfect one night scottsdal finish long difficult week travel sever citi thought last day busi spa resort help chill place romanc coupl peopl want veg spa tri take anoth level want comput connect work left alon write lot hot coffe exactli match made heaven truth felt like live altern univers everyon smile nod repeatedli ask fabul time w hen readi wait hour ladi front desk suggest get hot stone messag wait clear help write got fall nap hour rest finish busi someon knock door woke offer tea okay get place gorgeou ground manicur within inch life exceedingli comfort meant total romanc plea come probabl give star like mani given past stress produc work away like end leav stress edg enter',\n",
              " 'everytim perfect stay sinc think get better everi time come town servic top notch food excel cours beauti view qualiti mattress linen amen servic compar beverli hill exampl ask restaur brought review u decid dine made reserv print map everyth wait envelop went get car even treat well weather smaller summer discount suit march spring train employe royal palm inn go way assist best abil hear valid reason came altern highli recommend place relax pamper',\n",
              " 'shi perfect alway heard thing royal palm obvious judg comment mani loyal follow look forward weekend wife offseason rate mani satisfi guest note properti initim well groom histor romant part schtick promot romanc utterli refresh chang mega resort like biltmor phoenician nearbi camelback high point along servic friendli howev thought quit live expect frankli bit surpris surfeit tripadvisor rate royal palm design casita thought bit dark mayb bit face romant furnish fair theme place bathtub mundan tub huge walk shower one head far better thought tub two person jacuzzi tub shower routin stick romanc theme two patio back patio small wall high plant veget quit claustophob larger front patio sit eat breakfast one morn especi privat peopl could walk right within foot tabl curtain could pull across made le scenic also noisi ac noisi constant run water like toilet shower run next door mayb uniqu end row casita near kitchen could kitchen plumb overal seem pretti luxuri mean incident design casita west side properti bit isol casita ask east side closer pool spa final mind one drawback lack public ye know boutiqu kind establish guess expect guest walk ground hole coupl indoor public space lobbi big check area outsid outsid sit area alway comfort call nitpick perfect least judg properti tri reach custom base price rang problem recommend sweet altern big resort especi look special romant kind getaway',\n",
              " 'upset start place overal wife celebr year anniversari book back june montevista terrac suit arriv taken seem like last lot told chose u due extra privaci walk knew right away request ask go bellman chri contact front desk turn overbook gave u higher end wife rare complain situat upset tell front look lone window saw fenc whatev busi next door vehicl could see camelback spent hour tri get front desk cooper eventu move u design casita still origin request place later even knock door food beverag gentleman came w tray truffl plate card tray left card plate w u apolog expect place like least hide fact made sever mistak seem routin mayb last stop made genuin want bash royal palm impress place everyday servic everyon el state rick jose kevin solid pool valet make feel special cook opinion overr went houston nd night roy rd night roy appet entre beer glass wine dessert le appet averag meal cook see resort appear royal palm blow away definit return keep privaci door hanger outsid maid servic knock time day',\n",
              " 'beauti stay night last month littl old clean mind realli like warm spanish design interior big walk closet conveni bed sheet smooth enjoy sleep bed curtain pretti garden enjoy everytim walk outsid bar restaur especi enjoy sunday branch buffet buffet price one buffet buffet includ buffet one order branch menu menu buffet branch sort difficult understand system state clearli price includ buffet excel alreadi full meal tast desert unfortun sever kind desert look refin ate one desert rapsberri squar cake small one big plate tangi strong rapsberri tast person like much buffet beauti feel like go back phoenix steam juccuzi bath locat alvadora spa free use anytim pm give locker key park conveni vallet park downsiz sever mosquito bite outsid overal enjoy night',\n",
              " 'beauti resort excel servic read review websit other husband decid book resort anniversari resort websit indic per day resort fee cover valet servic gratuiti fit center etc even sure whether tip valet went ahead attempt give tip immedi said mam everyth alreadi cover servic tell worri figur amaz friendli resort receptionist valet way bellhop definit made u feel welcom even messag wait u phone welcom u resort book least expens expect much georgeou front back patio sit bed larg comfort beauti sceneri excel servic accomod guarante back',\n",
              " 'wonder arriv night th juli uk came la vega south west airlin vega stay four season arriv readi pm appear norm even though full occup spa give complimentari massag per person minut day therapist come massag draw bath herbal salt love herbal tea larg three part balconi realli view mountain servic housekeep bit slap dash time report certain incid happi howev dealt director oper gener manag immedi servic went overdr realli valu custom everyth ensur level comfort spa treatment pricey wonder cook excel ate three time love pool small never crowd especi love float pool servic chose hire car use execut car compani get around book normal hour ahead taxi liter imposs get cook loung bar atmospher well heal local left time day say time def return',\n",
              " 'unforget anniversari wife spent th anniversari royal palm put simpl come scottsdal resort wife felt like royalti servic spa grape ice cold towel pool cook restaur awesom well made celebr best far next time cheer',\n",
              " 'amaz sevric food atmospher husband confer royal palm came earli weekend celebr anniversari peac beauti landscap garden fountain spent time pool somewhat small side feel crowd drink pool cabana ask rick jose make raspberri royal menu request lunch pool cabana bar burger fri gourmet turkey wrap fresh husband sirloin burger chees never heard also breakfast cook fresh servic top notch anyth need fingertip ask bellman valet accept tip overal realli enjoy juli phoenix price except one last thing note lot histori origin home renov year camelback mountain provid beauti view behind husband hike earli one morn get earli like el wait park spot',\n",
              " 'predict perfect say th trip back alway end june royal palm graciou ever heartwarmingto walk day age greet name along inquiri famili member trip visit u previous sara offic outstand job welcom u back along favorit pool rick jose rick favorit drink wait u along amaz onion ring jose alway smile share like go back see old friend wouldb upset werent night enjoy listen dwight play piano bar jason entertain u stori wait return nextyear',\n",
              " 'regal paradis flair point accommod valet hand retriev car quietbad point mandatori valet brickwork near pool hot tub need foot rins prevent natur debri dust enter water layout confus mayb need simplifi map distribut upon check',\n",
              " 'realli confus aspect look small classi intim beauti resort ground public area stun cool littl nook cranni relax peac favorit thing see hummingbird buzz around earli even seen casita suit stay regular stay trip wasfin especi bath opul wonder closetin small real dresser drawer coffe french press style fridg charg accid pick item littl dark fulli open blind light thing perplex refil mini fridg coffe give enough coffe one use almost day figur maid servic replenish call front desk someon bring bunch loo coffe drink glass plastic also drank bottl water mini fridg first day never replenish call request replenish brought huge glass bottl evian restaur also small ant problem chair got bit toe one itch drive crazi phoenix thing happen overal definit place essenti free scream child reason alon go back probabl choos casita',\n",
              " 'best stay well say actual chang holiday plan went back night move sedona next bryce canyon end la vega night boston royal palm next stop perfect realli want chill bell boy park car need need call wait outsid main door air con alreadi fantast mention guy cabana pool bar ice water constantli top cold flannel given u keep u cool realli well look could get use lifestyl ground beauti small villa set amongst garden stay one villa return although prefer first montivista terrac newest resort fit beauti gorgeou sunken bath comfiest bed ever slept cook restaur resort fantast reccomend pork belli gorgeou definatley return royal palm one day wish today alaina we manchest uk',\n",
              " 'arriv resort pm saturday overnight getaway upon arriv everyon greet fianc u check quickli lead part montavista collect look websit sure book contact casita stay beauti bed comfort even though fianc complain bedbug think insect bite u lay hammock sit outsid patio area pool area small peopl visit bar area servic pool bar polit chit chat u citi surround eat cook reserv need order servic okay could offer better varieti food complaint visit spa either probabl matter long severli overpr visit recommend resort lot resort phoenix intim better coupl honeymoon',\n",
              " 'beauti choos local transport wise howev found last minut deal hotel websit le normal advertis rate expedia etc call directli said publish day alway check look beauti websit expect old musti absolut perfect ground could ask could wander around ground without even see anybodyels like guest beauti spanish home pool busi holiday w end poolstaff super attent star servic gripe transport first night order taxi limo pulll thought complimentari although littl expens taxi depend driver felt bit rip turn get taxi without wait almost min use limo servic alway alway charg difer price w end car use discount taxi call least half hour taxi allow wait ate cook restaur food bad atmospher wonder also love kettl cafetier never seen differ cuppa make get bed',\n",
              " 'relax vacat return night royal palm girl weekend friend anoth state wonder relax time love royal palm servic excel beauti quiet resort pool refresh enjoy relax enjoy perfect arizona weather went spa massag pedicur yoga pilat enjoy cook restaur one night servic enjoy garden fountain gener atmospher one day even bother leav day wait go back issu book expedia request doubl bed arriv told doubl bed given king suit one bed pull couch live well neither u want pay per night sleep pull couch bargain compar normal price made king size bed told u first night could move differ bed next day went offic next morn told differ peopl avail day could move next day well half way trip get rather annoy girl front desk seem accommod said best could ask speak manag inform manag anyway afternoon come u upgrad u spa suit still king size bed privat patio overlook courtyard fountain also inform come patio balconi safe indic websit told mistaken read want better call ahead verifi exactli get overal time definit recommend royal palm afford guy pool wonder enjoy pool side restaur everi day lunch lemon ice water best along ice cold towel brought chais loung sun treat felt pamper spoil',\n",
              " 'love treasur hunt realli fun husband stay royal palm day realli enjoy never arizona know expect resort spanish feel love foundtain garden suit spaciou though bathroom quit small comparison pool small enough problem get sunb also tri spa plesant though noth spectacular best part resort activit went servic encourag play treasur hunt game everi help direct u give u hint also stargaz huge telescop garden quit amaz overal thought royal palm real gem huge luxuri resort golf cours swim pool relax boutiqu ish resort servic amen',\n",
              " 'love return rd visit royal palm time splurg book design casita front back patio area fireplac beauti appoint alway ground pool area love surround fragrant flower plant alway backdrop camelback mountain servic front desk pool attent profession dine cook dinner one night food wine excel servic also outstand overal high end feel boutiqu inn look forward next vist thank make memor',\n",
              " 'royal palm hospit stay properti last night week arizona celebr wed spend previou night sedona two reason stay night first reason reduc drive time day departur sedona phx airport royal palm easi minut drive second reason mani friend colleagu industri spoken highli properti hospit extrem everyon profession resort fee includ bell valet gratuiti thought servic top notch feel high end atmospher attract paid attent littl detail everi properti wish pay attent honestli trip arizona mostli leisur take u sedona area consid make special trip spend extra day two properti realli want use spa next time brief tour look realli',\n",
              " 'place hang cloth wife love ground second visit defin return visit easter week titl review hope get attent someon royal palm manag address complaint place put cloth per night realli want live suitcas royal palm provid dresser chest drawer two small one drawer nightstand hook towel rack bathroom towel roll place counter hook anywher wet bath suit pj whatev wear bathroom cold marbl floor news last visit upgrad small suit bad news must handicap bar closet space lower wheelchair access memori serv correctli long hang abil ladi rememb problem rememb also conveni place put cloth wife hang fanci dress draperi rod ground camelback vista pictur postcard perfect food servic pool fantast need pool rick jose biggest reason return mpj',\n",
              " 'go back main entranc',\n",
              " 'intim beauti plea servic royal palm extrem attent help beauti ground suggest romant getaway small rommant littl terrac howev go lay pool small crowd want desert love one place activit quaint',\n",
              " 'slice heaven earth left royal palm phoenix want write review right away beauti properti simpli put win lotteri retir earli plan build hous mexican beach feel like place courtyard cover passageway nook cranni place embodi exactli pictur dream hous food uber help courteou view huge bed thick mattress hop giant shower touch ever get chanc visit place disappoint',\n",
              " 'amaz place busi trip paid compani thank good otherwis admit price bit much comfort bed ever slept fact pull bed could see compani made mattress came back home got one bedroom comfi sceneri amaz took mani photo ground best surpris citru tree fill fruit amaz outdoor fireplac sit around love decemb also enjoy dinner restaur outsid put larg heater keep u comfort stay valencia suit wonder husband get earli meet could get readi watch news slept amaz bed live open love courtyard sit area outdoor fireplac bedroom open patio servic breakfast one morn side view camelback mountain gorgeou visit spa love one nicest compani treat spous spa treatment ye spoil much around take walk neighborhood behind quit hike huge hill honestli content royal palm enjoy ground pool crowd decemb weather love',\n",
              " 'amaz weekend get away even know begin mother sister met girl weekend get away royal palm pick perfect place look relax place could spend time togeth live differ state across countri resort absolut beauti outstand spa beyond word told check resort fulli commit yet felt almost one casita consist live bedroom larg bathroom enough u comfort relax also patio overlook love courtyard area fountain sever wood fireplac pit lit friday night other littl disappoint howev sure ask lit done right away ate dinner outsid resort even enjoy cook saturday night overal love servic could better feel waitress could friendlier involv dine experi oppos serv u food fit center spa excel enjoy two treatment spa phenomen worth everi penni like comment one event happen explain royal palm royal book massag mother massag therapist talk eaten night prior mom comment eaten cook ask mom dinner mom told duck ask enjoy mom said ye littl dri went discus thing mom think anyth convers got back receiv call front desk advis u duck go remov bill surpris especi expect thing like make feel like guest truli care royal palm nicest place ever stay realli child die hard partier look night life entertain definit better suit romant look de stress pamper go hard stay anywher el time royal palm',\n",
              " 'beyond expect wow treat moment drive gorgeou driveway special place amaz level consider none seem fake pay offer activit guest properti receiv excel care servic one attend spa best massag life get regularli want leav steam absolut fantast favorit weekend getaway far',\n",
              " 'amaz experi stay royal palm boyfriend birthday back juli year amaz experi courteou cheer overal pool close renov rp offer free shuttl servic phoenician pool feel like swim bother u one bit thought touch accomod want swim alvadora spa coupl massag worth everi penni left spa feel relax scalp massag along regular swedish massag extra charg dinner cook call except servic averag last thing must share arrang breakfast deliv ahead time arriv promptli howev due spa appoint overslept ask heat food got back spa said thing cook entir breakfast wait u hot fresh return spa appoint extra charg awesom highli recommend resort anyon regardless age anyth el',\n",
              " 'wed night husband stay wed night instead crash home romant casita perfect romanc packag rose petal champagn chocol cover strawberri end wonder wed day stay one night place want go back anniversari everi year miss unfortun',\n",
              " 'enjoy royal palm stay royal palm almost five year ago memor reason wirit review late found given oppurtun return busi trip royal palm offer comfort delight breakfast wonder pool two one wife doubl two child spaciou howev costli compani paid ver relax emperi much like expect hawaii',\n",
              " 'book next left also cannot say enough thing properti moment arriv felt pamper relax spa phenomen incred book three night casita definit dine food except romanc director paul everi member encount went way unobtrus make u feel special well royal',\n",
              " 'royal treatment spent even royal palm busi trip think one finest hotel unit sata even major construct properti perfect condit well train inform over experi expect return guest regular think food track menu needssom updat over qualiti food need attent return without question',\n",
              " 'oasi desert say enough thing royal palm true star resort even though locat busi camelback road oasi calm beauti garden ton place relax outdoor comfort casita style accomod restaur phenomen waiter knowledg affabl know peopl complain resort fee tri tip valet bellboy want take money sinc gratuiti includ seem realli appreci insist think worth buck smile face definit go back hope longer next time',\n",
              " 'best best stay wed night night everyth need perfect exactli could say enough wonder thing member wonder beauti romant could choos go anywher got right right champagn strawberri rose petal truli impress servic highli recommend place even pickiest peopl one wish could stay forvev',\n",
              " 'love awesom spread casita privat like small apart patio plenti space ground gorgeou lot flower tree hammock fountain loung area throughout relax atmospher valet one guy wheel luggag stay half hour tell fun thing place go town front desk concierg impress much lobbi tini coffe breakfast morn oh resort fee includ night need tip hear spa one best countri toiletri made custom spa fabul next time hope get spa definit',\n",
              " 'absolut best stay royal palm earli june never impress everi need valet bellman front desk pool incred wonder rick pool amaz disappoint facil beauti welcom comfort clean absolut gorgeou',\n",
              " 'perfect stay two night memori day weekend romant quiet beauti casita well maintain attent detail bed extrem comfort although could use step get thick mattress overli larg mayb size funish fill say overli furnish appreci attent alway eager answer question resort area attract etc smoke permit decor ashtray place front rear patio make non issu smoker highli recommend properti afford',\n",
              " 'amend post earlier review disappoint small group royal palm also wrote gm greg miller gone board tri make right believ interest guest centric even refer post book properti rest assur correct error romant set expens get right worth certainli better hundr behemouth compet scottsdal brown brownchild com',\n",
              " 'birthday getaway april took husband royal palm birthday getaway th monday research mani resort narrow choic lake austin spa resort royal palm royal palm clearli interest destin option outsid resort endless chose book expedia rp either expens nd expens choic phx scottsdal area seem best fit descript site rp websit indic small person feel servic appeal websit award list beauti photo especi show proxim camelback mtn book packag air well advanc least month figur begin make spa restaur excurs reserv one month long stori short import call advanc soon book best order get prefer time dine cook dinner breakfast lunch re requir especi spa time ask intiti unavail even one month advanc also speak someon take name call week trip confirm appt work arriv welcom fabul servic felt like due frequent contact beforehand sure plan ahead rp trip worth expens plan detail miss opportun inclus stay reason give resort full although resort claim adult review even rp websit allud insur broker confer mani broker brought child minor issu worth note resort pool area intim child voic even joy one carri tend interfer slightli romant peac atmospher even book ahead time charg spa never saw onlin quot b alway seemingli random liter number simpli drawn lotteri way price check bill care speak someon charg correct bill time consum spa fabul will pay night pay standard minut massag ridicul think disappoint one day spa book two morn full spa activ servic nd th day could simpli ask minut massag confirm price write ahead time leav spa treatment worth everi penni minut massag manicur overpr nearli relax enjoy enough justifi price found anxiou entir time enjoy treatment b c knew spend hundr dollar someth le valu last day stay motley crew peopl look belong trashi music video took pool order grey goo champagn go style begin noon play loud music smoke cigarett danc scantili clad bodi around pool even brought yapper dog run around wildli bother guest folk obvious paid credit doubt two cabana inhabit matter b c size pool area modestli larger larg residenti pool plea also keep mind past day mani child present quit peac pool visit folk similar interest sunbath mayb drink lunch enjoyng peac romant atmospher rick fab ask keep quiet physic invad guest space noth could keep bring drink grin bear needle say pool minut last day disappoint sure rp could prevent occur shock sort peopl chose rp parti certainli match thank deserv special touch rp make worth cost could bellagio le one rememb name pool chair like whether prefer red white certainli receiv person sign note beginn end rose petal cover bed chocol cover strawberri surpris turn superb especi graciou friendli ground beauti food servic suit worth extra extra coupl differ sleep habit tip place person item pool chair earli morn get prefer spot sun strong sure wear sunscreen time sure go camelback mtn hike one recommend brochur level sunset horsesback ride highli recommend crowd hour classiest view breathtak go arizona hors one option skip shop especi live metropolitan area cook restaur site dine even interest formal meal inform steakhous cookout horseback ride sure check pizza bianco bar bianco pizza rest well worth wait cute set love even also right next stadium check decid rent car need unless plan leav resort per day def convert regret',\n",
              " 'breathtak love experi royal palm never seen beauti properti air smell sweet flower bloom everywher turn walk properti led discov wonder littl secret garden courtyard everywher hard believ previou review state walk ten minut front desk take ten minut get anywher royal palm ye pool small one thing love hate larg overcrowd resort pool worn chair person servic ambianc understand better other purpos darker give respit hot arizona sun give best world beauti bright exterior cool calm interior must take respons travel much research possibl clear everywher read restaur cook well known reserv strongli recommend advanc fan big trendi resort pool mani restaur look look magic romant quiet getaway grace fine european inn royal palm place',\n",
              " 'window open view hall air condit machin prettiest horribl ever possibl casita old section give rate see one corner plaze suit big extrem long walk two courtyard heart began sink saw first courtyard idea saw open window peopl close window along dark hall walk door open larg love live loud admittedli pretti stereo music greet u blind close bedroom adjoin open realiz bedroom look air condit system six huge compressor tri open window chanc live look dark hall blank wall tabl stop eye window open either sunni arizona way breath air unless prop door open crane neck see sun sky turn stereo could hear roar even left night still strang high pitch nois could obliter walk minut walk back front desk wonder patient bellman work second job tri get real estat licens ask differ choic husband broken elbow horseback ride wait told book new plaza area never told differ avail told delux live might ok exchang air went look balconi open door overlook park lot bother tri choic actual supposedli none look across courtyard much choic face road hall option window nt open noisi actual could still hear car fan vent bathroom ceil mention letter pool crowd restaur fulli book dinner got one suggest reserv also reserv dinner way turn lucki mostli close like could go daughter husband two son also book sililarli difficult experi learn alway ask window open american express say fine believ believ pictur save grace face east love sunris u',\n",
              " 'wonder place husband recent stay royal palm night one plaza suit receiv servic everyon resort also dinner resort restaur cook love smaller feel resort compar populart scottsdal resort visit like phoenician drink biltmor brunch ground absolut beauti perfect romant getaway see mani kid famili pool mostli coupl group adult relax also treatment spa enjoy spa addict compar mani place everth profession relax love return save first',\n",
              " 'royal palm hidden gem phoenix pool',\n",
              " 'royal palm old standbi anymor well thing must come end eight year run royal palm resort phoenix thought chang annual destin year decid chang someth usual well found front desk need train need learn treat guest faith mani return visit first choic request month prior trip day arriv specif ask avail given away minut given wait day clean etc told roll away anymor previou visit one issu year new rule problem sinc sold night unabl bed guest accomod find altern offer ritz resort spa find altern accomod p friday night basic ruin even next day check move next day although move phoenician pleasant one alway problem bill incorrect royal palm one night pool servic one guy rp take care entir pool knew entir book overwork littl cranki understood plight dont spend kind money relax weekend away treat poorli disrespect vacat time definit write royal palm let know return guest longer care happi go phoenician larg spaciou superb expedi servic everi arena may littl larger wow servic impecc p maid servic knock door weekend morn phoenician like royal palm need lesson luxuri accomod check rp notic love older coupl wonder casita reserv month advanc upset well head four season definit go back mani mishap list lot disappoint',\n",
              " 'love place one best hotel stay wife complet night royal palm resort phoenix love town wed stay royal palm abl make wed mini vacat u first night stay regular casita want full nice decor perhap bit small overal awesom friendli respons alway will help next day move delux casita fireplac though bit pricey per night love concierg help pool servic friendli thank rick spa also wonder perhap minor disappoint dinner cook state rather chaotic servic improv dinner though still standard overal resort clearli go back recommend will pay rate other without reserv',\n",
              " 'expect spent day resort defin price night also charg addit day tip',\n",
              " 'check math one mani courtyard',\n",
              " 'love place use live scottsdal go back love greatest littl bar live music danc night away spa wonder servic superb older resort world class ambianc like old fashion place modern type resort tuck away middl citi among larger resort',\n",
              " 'paradis desert word even begin describ love best kept secret tuck dusti foothil camelback mountain royal palm oasi histor palm tree lush garden vibrant lawn mosaic fountain reflect pool entir experi appeal sen mourn dove coo gentl breez carri orang blossom perfum cool mist poolsid cabana decad food exquisit appoint restaur loung mom went girl weekend indulg alvadora spa treament orang blossom bodi buff aromatherapi massag spa hand hand decad soul refresh spirit rejuvin space ever pleasur loung studi cater one everi whim could go endlessli peppermint towel plung pool privat outdoor shower suffic say nearli melt joy simpli royal palm infinit help friendli turndown servic chocol one mani touch special inn return plea ever chang',\n",
              " 'beauti resort boyfriend stay royal palm june busi meet rd decid use opportun extend travel lot busi stay best resort u royal palm rank top laptop crash meet concierg offer servic well find data dr nearbi even though resort peopl go get away well equip busi travel kri front desk recommend daniel small italian restaur camelback wonder highli recommend definit book spa appoint go book earli especi friday saturday understand one top rank spa u accomod ground beauti mediterranean decor exquisit bed soooo comfort one best night sleep road love definit go back look romant getaway royal palm',\n",
              " 'meditteranean charmer return girl weekend royal palm charm beauti decor properti lot uniqu touch e g garden fountain meditteranean touch big resort area laid alway plenti beauti thing look stay casita wonder garden front back help mostli pleasant alvador spa love place warm book earli appoint tend fill quickli pool smallish fulli book cook delici restaur everi meal day royal palm special place recommend coupl romant getaway ladi girl weekend especi engag coupl wed ceremoni',\n",
              " 'love pool',\n",
              " 'pretti servic averag return weekend trip busi royal palm put regular next road low ceil small bathroom water pressur dark main window look walkway open blind anybodi hallway could look right trueli aw setup also request king bed given two doubl instead bed extrem comfort like travel bed smaller mine home told move next day never contact bother switch tv old zenith inch dull pictur also towel small five star pool small loung chair occupi wait pool guy find chair somebodi left quit adult type area child posit side friendli went way help care food function ground wonder lobbi warm invit overal love resort dark depress sure want unless could get anoth stay upscal place scottsdal dark real turnoff also miss golf cours ground bring kid resort real dissapoint compar phoenician biltmor hyatt princess',\n",
              " 'relax right price royal palm resort rest relax place ground day romant night stay one delux casita fireplac exceedingli polit extrem help restaur control fabul food also interest art look ground howev told refurbish design alreadi felt littl warn realli star calib look better night compar four season st regi royal palm like disappoint also pictur web site look better real thing light bathroom harsh layout bed rel fireplac well thought bathroom fixtur decor look tacki cheap date privat terrac well integr squar seem odd even ugli part royal palm much cheaper star hotel made le disappoint',\n",
              " 'miss presid bush wow mani five star resort one rank top one return phoenix suppos street phoencian confer book recommend royal palm glad tour properti royal palm much intim privat phoenician seem like mall properti beauti amazingli privat fit center perfect pool right temperatur spa massag amaz best masseus told done bush daughter month campaign father restaur excel recommend ground floor handicap first night type abl hear peopl handicap access shower entic ask chang probabl plea chang sinc told get type le minut airport larger boutiqu style definit top contend phoenix',\n",
              " 'fabul fabul accomod fabul food fabul servic fabul spa fabul way around say enough thing',\n",
              " 'like come home better return spend past week royal palm simpli enough thing said visit moment arriv greet amazingli friendli warm care went way make u feel welcom first contact toni one valet attend open door introduc thereaft alway knew u name trait everyon met properti stay friend alway greet u way took care luggag check gave u tour properti show u splurg delux casita well worth beauti beauti royal palm place seen complet visual appeal resort stay tahiti obvious differ environ beauti beauti matter found entir properti make feel like live love watercolor paint color build flower artwork make seren sooth atmospher find melt quickli casita beauti decor roomi privat patio back view camelback mountain patio front well curtain let increas feel privaci sat enjoy love even bathroom slice heaven huge walk shower built tile seat spa treatment select soap lotion provid wonder luxuri offer enough prais everyon mean liter everyon work everyon happi mean freakish disney stepford way everyon absolut thrill job find way make feel content welcom never heard rais voic saw scowl face felt import guest food restaur wonder littl pricey pay unsurpass qualiti servic cook serv marvel meal cabana grill wonder casual lunch breakfast brunch sunday poolsid drink poolsid servic unsurpass rick jose say enough thing two either make feel visit home joy demonstr job wonder feel way use spa visit boutiqu area beauti well also well stock wide assort spa product last night privileg attend gener manag recept presidenti villa presid bush stay week prior regardless polit pretti cool know stand bedroom world leader recent slept wonder friend jose also joy meet greg miller gm rick behr delor hope spell name correctli director experi gregori casal head chef entertain charm love drink hor oeuvr made send last night truli sad leav fact left go back casita jose made point stop u let u know pleasur u felt much like say bye friend hug left husband seen resort hotel travel channel could rememb exact name resort sinc never phoenix meant search everi high end resort properti recogn royal palm pictur even look properti feel royal palm happier made choic place u futur visit phoenix come back royal palm like come home testament commit servic care royal palm offer look neg review compar resort see respons properti manag scant neg comment seen royal palm seem come complet unreason peopl opinion took time respond see could make thing right say finest properti phoenix hand need anywher el know thank everyon royal palm made absolut joy back',\n",
              " 'accept choic busi travel primarili speak nearbi confer site standard busi appear lobbi king bed smaller everyth spend much time sleep work enjoy overnight front desk help suggest nearbi restaur particularli recommend inexpens local authent mexican restaur nearbi busi travel famili visit phoenix scottsdal short accept choic one want relax night two numer resort hotel better choic whether busi pleasur',\n",
              " 'bad plan old date loud stay day end oct wow dive could spent per night point hilton tapatio cliff resort order magnitud nicer entir place non smoke fine stunk smoke mani burn mark carpet plea clean day bet first hour carpet still wet wife check front desk stood lobbi lisson man call polic report pickup stolen park lot ok point wonder car still lot lot work need done bring place par guy blimpi sub place accross street could get fine dinner price go back blimpi time port strom place fine high class long shot',\n",
              " 'okay noth excit outward appear attract lobbi woman check civil overli friendli indic stay two night told actual one night say anyth receiv key larg sticker say earli checkout could result fee call desk indic check one day check said oh check earli remind twice let know earli departur pretti frustrat fairli larg standard king size bed small sofa desk etc day internet charg use speak qualiti coffe well customari iron board iron also small safe closet condit main bed comfort look rel new bathroom paint ceil tile chip shower make look water soak pretti rough shape tile spotti mold grout order servic arriv promptli min order chicken caesar salad ice tea expens tast fine left tray outsid still morn quiet hear nois woke number time sleep reason shuttl airport take cab cost cab approxim gener averag venu group dinner restaur said food averag took two hour dine slow servic nearbi venu marriott hilton suggest use opt sheraton',\n",
              " 'horribl hot water spotti internet gener old without attent detail part spg starwood program disappoint',\n",
              " 'bad certainli mayb decent clean choic rate right except follow first pool filthi lot scum debri float surfac one skim coupl day never see first rate second bathroom pretti old tire talk tile bathtub uninspir free park rariti day comfort bed easi access mayb go high season rate might make gag',\n",
              " 'never never book last minut rather blindli retrospect spring train be time look deal phoenix grossli overpaid qualiti properti even busi time night tax fee total friday saturday pretti much middl nowher right highway somewhat work u citi well surround suburb get anywher dinner minimum minut drive conserv insult holiday inn level properti perform high except valet never show park car garag park second stroll probabl easier provid restaur recommend miss marcellino balconi face mountain sunset obstruct highway light decor expect sheraton low face highway even thick drape close nearli imposs get sleep due highway nois although exactli seen sheraton properti color bathroom seem littl outdat tile around tub mid best irrit pinkish orang match marbl sink worst part mold grout touch',\n",
              " 'realli bad sale team stay recent confer travel one two week month probabl worst place stay last five year level per night restaur tini menu expens aw unless need interst le five second worst part experi friendli useless one seem know anyth anyth lighter side despit van shuttl need go mani place phoenix one',\n",
              " 'comfort older sheraton crescent fine thing awar decid book much older appear websit issu also note experi club level perk hotel far better sheraton crescent alcohol free domest beer even hour dourv noth get excit chees cube veggi chip salsa etc unless like club level reason loung spend extra money also like note stay jr suit request king size bed king size bed queen fold wall comfort mind final call concierg recommend eat downtown phoenix transfer someon el inform phoenix familiar downtown ask could find someon told call back never heard past experi concierg even make reserv check breez clean recommend coupl night look reason price luxuri websit littl deceiv come appear disast disappoint get noth seem way present hope help make decis phoenix',\n",
              " 'okay place best pick price like starwood properti disappoint book lot parti music pepol constantli loud friendli check give u help inform ask bed best part trip comfi lack bad light first night hot water spend money',\n",
              " 'wife stay visitng elderli parent thanksgiv check ask upgrad said pretti empti holiday gave u larger busi entertain odd murphi bed tv face either chair couch bed invit went back standard turn fine usual gift shop item overpr bottl oj price conveni altough cybercent lobbi say compliment sheraton crescent internet servic free word impli come usual charg whether use laptop desktop posit side member courteou help one problem slow run drain quickli attend close metrocent big shop mall gener well kept next time phoenix definit look crescent',\n",
              " 'busi meet stay group meet accommod meet area clean well lit quit comfort food busi function overal pleasant experi',\n",
              " 'need help husband reserv bedroom suit month advanc upon check told type suit facil long period argument front desk final find suit reserv avail occupi question told platinum guest decid longer could make move set make shift suit huh okay accept check find air condition work properli warm one mainten could say cool soon okay second night huge cocroach night stand move night stand hallway inform front desk morn told put back remov nightstand bug still hallway even second call final remov recommend ever need major clean stain carpet patio dirti bad smell mani part side note gym awesom bartend jame',\n",
              " 'water slide stop peopl travel across u want bed water slide super found overnight stop arriv san diego time restur bar close year old u ask bar tender piec bread butter hot go look restur brought son warm cinnamon muffin wait restur open husband inquir nonwork hotspot immedi upgrad busi provid cabl connect servic water slide fun whole famili line',\n",
              " 'other got wrong stay sheraton late may starwood gold member alloc club floor main reason write arriv long flight london uk found recept friendli except help stay one night travel around arizona return two night end week found excel even rememb name especi assist u check next flight holiday agre look pool facil etc littl small side hesit use',\n",
              " 'busi travel set far outsid citi center wasteland tract home strip mall never one desk clerk duti result constant line front desk even wors despit advertis busi center noth internet bar provid access copier printer fax',\n",
              " 'bad look elsewher next time noth write home adequ night flight place start look tire small conveni pc print board pas hard find seem street sign street next street similar name well lit guess everybodi must make mistak next time look cheap airport motel tripadvisor howev find one place enough',\n",
              " 'night rest book thrown itinerari flight chicago delay come chicago thunderstorm forc plane circl airport delay plane refuel long flight phx suppos get around pm phoenix time drive hour north william howev go feasibl delay almost six hour origin book graciou enough understand cancel first night need place night sleep inn airport rate onlin plenti non smoke avail night book earli chicago howev time got turn away two phone call say vacanc sinc free airport shuttl probabl fill weari travel like u last minut shuttl took littl time get u place pick shuttl feel secur fault sprawl design sky harbor airport neighborhood surround wait anoth guest call shuttl nowher found driver call turn call guest found person middl taxi area make way pick guest ground airport consider distanc away either arriv plea see nice lit check prompt sign swipe go seem two part older part newer part hallway awkward jut left door first floor first floor half way hallway desk quiet expect almost midnight ish basic frill older sleep inn design built furnitur everyth open also stand shower pressur extra hot water exhaust fan water vapor dissipait quickli dri phx bed averag sheet pillow steam iron work morn continent breakfast typic standard fare plu wonder make belgian waffl everyth fresh tasti check fast surpris attend call shuttl u shuttl took u back morn airport could catch rental car bu facil driver drop u appropri place help luggag clean spend night valu weari travel',\n",
              " 'conveni need one night fli home uk book strength previou review disappoint check friendli help clean larg contrari review mayb king bed free ice juic tea coffe hr day lobbi complimentari razor deodor toothbrush toothpast etc forget anyth pool spa clean realli need deg f deg c arriv internet access free comput air condition littl noisi small price pay sleep rel comfort bake outsid bed fine ye pillow fridg microwav free breakfast next morn lot choic includ fruit cereal even hot oat type select bread n spread make waffl restaur site hilton across road restaur bar sandwich burger snack type meal even get scottish beer guest beer call kilt lifter also denni within min walk free shuttl airport run approx everi half hour take min need book arriv arriv airport need shuttl use courtesi phone arriv hall come pick price clean close airport flightpath realli go wrong',\n",
              " 'pool friendli want reason price shuttl u airport earli morn friendli mroe will help u direct want turn rental car night flew home provid u shuttl airport took minut comput guest charg u print board pas hotel charg per page pool size spent hour like stand shower tub sure bed uncomfort kept toss turn could knew get earli breakfast provid still abl eat left airport bargain',\n",
              " 'place day need clean reason price place busi trip stay n queen small mention other littl microwav frig although frig pizza box maid look cleanup also free wi fi import c typic noisi one window work well ok free breakfast think carb fruit hard boil egg free usa today paper went across street hilton sport bar happi hour cocktail free munchi mention anoth poster tasti free munchi free beer wine anymor restaur problem stay littl confus find th street next th place',\n",
              " 'got sleep sleep inn recent spent night clean averag size pool area near airport temp asu pleasant greatest long period time plan explor phoenix area town coupl day especi use airport fine',\n",
              " 'uncomfort bed ever strand airport pick airport courtesi phone give u toothbrush toothpast shuttl driver water bottl howev noisi husband said pillow may well toilet paper use comput nicer street le next nite',\n",
              " 'ok reason flight earli next day got strand cancel flight said perfectli adequ free shuttl airport avail hour day microwav ok breakfast spread start internet access outdoor pool perfectli pleasant air condition rattl littl littl difficult find place th street right next th place clean enough got u airport time low end choic chain expect realli three star place sleep catch plane morn rental car suggest head univers mill ave near asu campu lot restaur store peopl',\n",
              " 'get pay pro microwav refriger menu restaur deliv vend machin dispens hot pizza much pro impress feat food distribut friendli shuttl driver think cheech chong man breakfast includ waffl boil egg bagel cereal oatmeal etc con postag stamp size shower toilet enclav door lock noisi catch airport shuttl airport leav phone messag messag fail tell regardless must make way blue diamond north termin pick catch shuttl fact learn call front desk wait minut south termin asid vend machin sleep inn site food servic instead walk across street hilton enjoy free hor oeuvr happi hour pm site sport bar walk bar restaur indulg reason price dessert bottom line need spend night phoenix wait flight home next day one night sleep inn kill',\n",
              " 'absolut fine stay sleep inn th may want somewher arriv phoenix night pick car next day first news rang shuttl bu got airport told minut wait didnt arriv rang told way wait anoth still didnt arriv end got taxi news got minut away got immedi question ask refund taxi apolog realli dont seem well set shuttl bu wise got morn plain van hotel buse logo plaster anoth note bu goe half hour book earli prepar may get slot want fine size comfi bed microwav fridg vend machin load microwav meal similar stuff handi one night exactli want convini sort shuttl realli',\n",
              " 'poor servic place money near airport lot construct around sky harbor littl tricki black letter white sign see turn set back littl road get turn around hunt final found hunt call honestli let phone ring time time parti answer well think embarass chain custom line lobbi check final get hold cell phone hand ask clerk answer phone stand call see anyon ever answer ask knew sound next morn checkout respons daytim manag probabl smoke tri call direct problem anoth woman claim appar gotten far phone like knock bill frustrat hilton across way loung none slepp inn burger well clean quiet comfort could hire set',\n",
              " 'wow bargin sleep inn phoenix airport fabul park shuttl sweet deal hour shuttl set apart other start trip airport around unforeseen late arriv abl sleep inn second night return trip internet portal lobbi help alert other chang plan free guest profession attent need courteou compet phone skill bathroom set wheelchair microwav oven avail heat burrito tv dinner purchas lobbi vend machin',\n",
              " 'showreview full',\n",
              " 'smart smart price showreview full',\n",
              " 'small motel showreview full',\n",
              " 'buy airport showreview full',\n",
              " 'perfect price perfect showreview full',\n",
              " 'handi airport showreview full',\n",
              " 'recent return seven night properti check breez four standard suit one execut suit main build appear recent rennov bed comfort qualiti linen along coffe tea maker concierg help make dinner reserv ate one breakfast hole wall noth special huge fan dine meal outsid properti plenti nearbi dine option pool look invit howev unseason cold weather swim option play tenni basketbal well maintain court hike area mile properti provid map check painless locat one minor mistak bill promptli correct overal',\n",
              " 'construct still go notic review date back renov go took chanc schedul weekend well end still renov stay casita updat knew troubl open door ran bed small small closet small drawer cloth tini bathroom door lead patio share appear board strang want print board pas day left inform cost use comput printer hr busi center seem okay though pool empti probabl time year defin highlight resort probabl return',\n",
              " 'relax point getaway point squaw peak fabul night getaway thing went smoothli special thank wonder concierg help dinner reserv golf tee time babysit servic reserv bedroom villa spaciou bath small kitchen indoor outdoor seat area special note excel kid club call coyot camp boy love team run super accomod total top littl bundl energi rent car via lobbi desk easi meal fine pool wind around bit difficult know exactli child given time explor overal seem safe resort older charm respect new ultra luxuri top resort bed comfi go back',\n",
              " 'pool clean plenti space amen pool lazi river kid central greater phoenix area',\n",
              " 'boy love pool complet day night arriv pm told upgrad king exc suit huge bathroom huge live cour board tabl seat thing sofa pull boy much upgrad went anoth king suit overlook roadwork look like trip boy went queen suit st one offer queen bell hop hang found u queen plea overlook courtyard pool th floor area th floor peac partner hh gold vip breakfast coupon includ day child menu restaur reason plenti lot patio seat umbrella sad warm sit full sun ate hole wall first night conveni fire pit peopl take advantag resort special day includ extra water park pas per day anyon check local phone call use connect internet rather pay per day use pool fine child oh fee includ mini golf realli sit one spot see child time found look even though yr push come back like tri resort went differ point view thanksgiv dinner view definit recommend glad hilton need ride upto restaur appar much water slide kid spoilt mind say favorit resort one costa rica swim bar kid allow order meal drink etc',\n",
              " 'kid roomm',\n",
              " 'famili favorit stay love decid jw marriott closer grandma grandpa two night back point hilton rest kid friendli two child realli appreci bedroom famili suit separ live put kid bed time water park lot fun u also regular pool jacuzzi right rate decid place visit phoenix beat',\n",
              " 'better place money casita cul de sac',\n",
              " 'consistenli comfort stay squaw peak hilton night stay year ago experi seem renov properti unaffect suit style like husband want necessarili go sleep time bed pillow comfort clean free sort scent odor famili come london request build put u door one anoth much appreci love individu servic coffe maker make coffe use pool fit facil trip gone pool past definit',\n",
              " 'resort first impress check public area help le arriv suit north build elev order dark dingi ant counter drink area thing alway look better daylight decent night sleep still littl dark roomi view small pool separ loung area tv fridg comfi couch clean bathroom comfi bed internet access point main pool area excel clean invit disappoint close pm still hot could stay sever hour lazi river relax fun biggest problem find shade area lie food servic choic poor slim picken around pool area leav return anoth review said best buy daili access hole wall restaur food fun countri band friday night eat relax drink servic mexican restaur front resort excel servic food definit return',\n",
              " 'phoenix famili vacat okay want go jersey shore summer decid go somewher differ excit book point hilton sqauw peak week child water park two wonder pool clean everyth well maintain decid go sedona day beauti bit bore kid drove slide slip rock state park everyon enjoy river slide sceneri also wonder kid want leav sinc halfway south rim grand canyon decid go catch sunset way call insid park got lucki incred pictur justic next day took park tour buse extra charg although nation park free u citizen sinc pay tax left midday drove back phoenix day later made anoth day trip slide rock way went montezuima castl meteor crater pretti cool worth adult chilldren recommend adventur famili enjoy someth differ use frequent flier mile three airlin ticket hilton honour point',\n",
              " 'pool book base pool pool someth everyon main street clean friendli helpful ask direct coupl time walk u destin instead point tocasierra spa disappoint still construct properti also disappoint wireless internet go lobbi abl use laptop time overal experi price',\n",
              " 'love resort famili upgrad stori casita spaciou love larg live larg bedroom even park space stress free pool area lazi river waterslid water volleybal mini golf kid also like western theme restaur',\n",
              " 'night rest book websit describ studio suit found way easili sky harbour airport check quick easi direct back resort led outsid step top appar lock one casita park space abl park roadway outsid yard area travel sedona want night sleep travel hour uk consist king bed night stand tv washbasin separ bathroom clean bed comfort area quiet plea got rate includ complimentari continent breakfast option menu could substitut differ paid breakfast abl relax pool area continu journey',\n",
              " 'treat kid overal enjoy pool made whole trip worth sinc degre desir leav area casita larg furnish littl drab find coupl roach kitchen item help like toaster mayb kitchen trash could hold cereal box pool open littl later hot night though littl pool around casita mob hot felt oili laundri facil right near shop conveni buy small item fit center well equip employe snooti toward pay guest made u feel unwelcom appar fit club local resid terribl fussi think could updat littl cleaner pool also show sign wear chip tile around shallow end one hot afternoon whole pool close night child gone bathroom huge disappoint gener kid time age relax sit around pool see easili entertain day',\n",
              " 'somehwat disappoint although resort lush green look invit outsid bit disappoint suit work hospit industri la vega took notic certain thing regard disappoint see luggag rack wast basket powder narrow open opinion effect stay north build adjac pool area coupl restar shop howev felt like map campu realli scale sinc drive look spa salon follow morn hope late appoint build spa salon sign well construct go difficult manuev around campu spa salon treat welcom made sister feel well taken care pamper cranberri appl ice tea offer u delici sinc prepaid hotel com post credit card incident check breez howev disappoint ask anyth also report morn check found ant agent made note seem concern offer apolog also notic return home la vega even bite foot ankl mosquito ant bed bug know week still gone overal opinion resort fair score know return',\n",
              " 'renov enjoy hilton updat clean main pool realli made posit impress year old girl lot lifeguard big plu given size attract surround pool run clear part go renov high potenti',\n",
              " 'thank finish remodel book trip famili togeth three gener first impress major construct tape lobi much park area roll back dump trailer etc could easili get lobbi check met parent lobbi also check time frustrat also daughter famili check allreadi note request reserv build note redo check miss went pool area check entir water park area mess dirt chair patio bathroom disgust also pool live area fulli understand previou night diust blow take littl hose thing pool chair hilton stay cleaner motel cleaner pool area pool water clean look either littl green look dinner casadilla chicken fri steak drink soda dinner band pool ok tub father tub drain hot water shower ice machin work north build st nd rd floor servic bring bucket ice promptli north build elev scare u death rd floor chose use star even heat famili king suit check price charg higher card process get rate fix express check use extra place ton littl kid swim grandchild time year old return',\n",
              " 'awesom fun famili absolut beauti ground clean nice appoint friendli help hilton diamond member alway travel child friend highli recommend point hilton tapatio cliff minut away better choic stay busi round golf signific squaw peak resort offer water park fun activ restaur bring lot kid like keep go back arizona relax watch get cell phone recept mani place',\n",
              " 'fab u lou beauti definit cleanest ever use work holiday inn hous keep quick request front desk littl slow need help check everyth el perfect bed bed comfi everyon work told u hour drive grand canyon mom sister hour stop eat along way drive soooo beauti time car fli speak guest told go sedona go arizona must visit town everi bit beauti canyon also littl restaur call gallagh across street highli recommend littl sport bar pool tabl video poker menu cheap price much cheaper restaur gift shop price compar local souvenir store bother shop around definit go th ave shop scottsdal like parti must visit barcelona scottsdal well dress classi fun place parti danc river ranch water park resort also awesom kid perfect place',\n",
              " 'supercool phoenix place everyth spaciou situat small casita perfect clean offer tv air condit video game bathroom pool area fantast big pool volleybal net long artifici pool river swim along sensat water slide waterfal perfect famili kid thing complain pool area close pm servic hilton averag',\n",
              " 'place famili return past week two u travel three year old daughter suit remodel spaciou husband like late watch televis abl close bedroom sleep without disturb tv enorm line check man check u friendli apolog wait overal say friendli servic lack recommend spend money two place eat river ranch bit overpr bewar extrem high price drink previou review mention crowd river ranch agre appear peopl stake chair earli morn come go throughout day leav chair avail abl find chair go pool earli even stay close degre heat phoenix experienc work well u hottest part day anyway overal recommend properti famili due activ size',\n",
              " 'enjoy stay night realli enjoy resort south section clean comfort well suit famili teenag earli riser could section read watch tv drawback lack refriger cold water milk juic pool bring sandal concret extrem hot bare foot safe desk fairli quick allow u access safe provid weekend concierg excel recommend local restaur laundri facil area groceri store shop snack definit recommend',\n",
              " 'return trip two child upon arriv front desk could seem care le travel day get arriv degre heat hope line least go quickli least front desk personnel seem care even smile ok final lazili call front desk wait two child minut also night heard peopl u woke u televis laugh fool around daughter ask nois make someth answer told manag seem care much either pool area fun wait quickli often peopl bring chair right pool thought rather danger pool seem care either mayb heat gotten know recommend stay anyon',\n",
              " 'paradis preteen book want make sure year old enjoy quick trip phoenix tripadvisor indic phspr top choic famili could made better choic regard love pool lazi river water volleybal basketbal saturday night dive movi pool employe like camp counselor young energet lot game contest could easili spent hour day pool let suit spaciou stylishli decor much nicer expect air condition noisi use air condit problem sleep could hear nois adjoin unit resort quiet night complaint minor one pertain observ mani peopl pool stay accord phoenix friend resort crash common result hottest part day pool almost unbear crowd corollari tough time find place sit pool towel cover loung swim want watch son time sat edg pool chair reserv even though one ever came sit annoy sinc pool manag seem care practic advic anyon plan phspr show pool open place towel least twice mani chair think might need pleasant getaway huge hit boy',\n",
              " 'excel resort famili relax spent night one casita casita well kept servic housekeep twice day resort privat quiet mo old time water park never crowd ate restaur food fantast nearbi preserv take jog walk morn fit center also kid friendli also adult orient mani pool privat quiet one best thing close airport well scottsdal major shop easi get',\n",
              " 'resort stay night late april found ground facil condit friendli help expect hilton properti build brand new well maintain recommend upgrad casita much standard suit worth extra cost small pool locat throughout ground extra bonu main pool close restaur excel breakfast tri meal',\n",
              " 'fun famili got back week hilton comfort suit slept adult child live music lantana problem remedi turn c resort excel choic activ kid age water slide lazi river main pool mini golf tenni situat campu made manag due varieti activ day also least three addit organ kid contest per day like balloon toss slide race pool crew friendli help pool food hole wall dine choic fine expect deal kid meal although price soda ice tea coffe seem wack rest menu price go back recommend resort friend',\n",
              " 'night big let well travel famili stay mani differenthotel around world th u suppos qualiti hilton night fool fantast pictur holiday booksof pool look fantast freez cold river ranch though heat third day alway phone prior book disabl child go cold water assur pool heat year round complain guest told mani differentexcus mani say rubbish end pool stay frige unus full night one could use pool tri complain everi day noth ever done also hot tub none work light around work bubbl work also cold tile chip hang meant sharp edgesour chill time sit one glass wine kid bed happen tri compain told rectifi mean time told walk accross larg dark car park lobbi tri one light work bubbl manag heat one light put bubbl empti hot tub ranch except littl old lil rude abrupt slack sevic food best fast food cafe stay u somani time well accustom tip cultur alway tip like appreci told bill cover gratuiti tip still themiddl meal mani differ occaison order wrong get cutleri drink slosh tabl slam daughter even spoken pleasant banter even still tip first week hope get better sevic one day yr old founda larg black hair breakfast never complaind know canadian american befreindedbook go scotsdal hospit suit aslo stay past fantas front desk hilton appear enough actual noth help whole hilton experi led u book go tunisa north africa know get better treatment fraction cost tattersal famili unit kingdom',\n",
              " 'highli recommend famili return night point hilton squaw peak resort pleasantli impress resort famili esp young child year old year old realli love resort think best part coyot camp child program camp profesion run everi day offer differ activ center arizona cultur feel like kid actual learn someth plu made new friend resort fulli book crowd rare crowd affect enjoy lot day howev kid prefer go smaller pool outsid suit expect river ranch bigger lazi river long wind main pool realli big restaur properti need get act togeth littl better hole wall ranch went sever time could never get order right worth even dessert stop more similar price better servic food go lantana grill instead much vari menu lantana grill everyth sandwich gourmet entre poolsid servic ran mediocr poor lack experi server part sever time husband order someth bill came item expens tell u look old menu resort cleaner date expect low expect read websit south section renov clean plenti two adult two kid close pool hve disadvantag pool area noisi right pm despit minor complaint realli enjoy overal atmospher love suit coyot camp lantanna grill',\n",
              " 'return stay night squaw peak experi check late around pm sat march st receiv updat suit north build main pool lot fun open pm visit check given wrist band plenti towel went earli morn got spot upper pool basketbal net peopl reserv chair alway saw avail chair around enjoy two day pool child age met lot child enjoy activ go exampl activ water balloon toss water slide race music chair watermelon eat contest name sure alway mani activ go week easter spring break kid blast particip also colleg age guy girl run activ super winner even prize ticket free smoothi snack bar deal paid back gift shop candi counter icecream shop get soda lot le expens lot bigger ate lunch day pool order snack pool bar food expens pretti know resort price surpris unfortun get eat hole wall restaur daughter becam sick trip order pizza street new york deliv resort excel day left lunch aunt chilad walk distanc mexican thought clean well furnish bed comfort nois issu housekeep job thing work condit kid enjoy quiet pool right outsid build night arriv open pm go back',\n",
              " 'phoenix oasi older mega resort landscap matur lush one first water park still cool plan activ kid constantli underway one resort still tri maintain western theme pool area pretti casual abl sneak food without much problem two restaur bar onsit usual entertain sport bar fine dine sandwich shop cool mexican restaur enchilada within easi walk distanc onsit waiter ditzi patient check bill tab although use workout facil lap pool spa hike trail bad safe fridg although jw marriott nicer newer like one casual feel matur landscap',\n",
              " 'much malign place famili vacat read review preced pretti concern made best select pleasantli surpris experi resort beauti landscap servic friendli help request updat suit upon earli check given squeaki clean well situat suit plenti privaci two adult two year old perfect resort child teen mani pool activ especi golf worri gone point hilton tapatio cliff visit lunch agre squaw peak superior need food bit pricey typic resort made way block three time aunt chilada lunch dinner fun afford delici altern restaur onsit concierg extrem help give u restaur recommend map definit',\n",
              " 'husband hilton march second hilton check origin main build ask move cliff move right away day bedroom balconi direct access cliff right floor clean bed extrem comfort ground spread shuttl take resort want walk two main pool main famili pool adult pool adult pool quiet famili pool look lot kid includ water slide also number smaller pool resort fit center howev annoy ten dollar day charg use fit center ate breakfast resort bad ate differ point view one night outstand get reserv earli later time want sit outsid beauti tabl outsid sunset wonder come back',\n",
              " 'book want kid allot want abl go spa year old daughter treat howev could get reserv spa everyth book paid almost day standard roomi noth spectacular view alley realli dissapoint went use gym want charg extra day use pool area clean irrit check everytim want play water ranch get wrist band overal ok money look someth nicer next time',\n",
              " 'time river ranch pool area definit plu kid although request newli renov upon book full older avail pretti run dingi liveabl say within minut year old sock liter black carpet although someon sent immedi clean still job wore shoe time unfortun month old crawl floor though say custom servic anytim call request someon within minut request refriger crib pack n play suppli within minut arriv extra charg overal properti ground nice maintain properti seem sprawl describ previou review everyth definit within walk distanc',\n",
              " 'fun hilton book reserv phone number list websit specif ask reservationist check ranch pool hour arriv late book ranch open coupl hour arriv told open pm arriv pm ask bellman verifi ranch hour also said open pm well guess rush check rush chang run ranch use map bellman gave u get lost vast properti ranch close disappoint especi year old son book complain front desk manag told hilton respons inform given reserv agent sinc site ask bellman lack correct inform manag said talk joke besid issu ranch facil old seriou need updat regular pool area swim bar went could get ranch cold jacuzzi jet work jacuzzi water colder pool pool attend speak english unwil find someon help u also numer breakfast tray sit walkway led huge gap walkway stair rail could extrem danger young child posit note insid updat clean size everyth oper well maintain bed though soft like sure ask newli renov area book hate see unrenov disappoint experi hilton book real treat fairmont scottsdal princess fabul well worth extra',\n",
              " 'bit worn around edg phoenix sever time alway stay scottsdal sinc teenag son u decid water park water park inde make stay worthwhil everyth work alway case like hilton properti az servic poor call manger one day get water slide turn except concierg expect much servic base read site insist renov suit spaciou spotless gave u separ tv make everyon happi north phoenix drawback plu scottsdal minut away much offer place could use face lift rate kid kid tiim',\n",
              " 'resort draw back decent option busi vacat larg updat nice furnish comfort bed water pressur shower pool water park fun kid age conveni golf shop busi scottsdal area draw back servic bit spotti e g dirti dish servic sat hallway day slow non attent check sprawl natur complex inconveni make long walk poor cell phone coverag facil',\n",
              " 'roam accomod resort chose properti base hilton brand name plu casita entic review sound offer much squar footag averag reason trip annual getaway girlfriend upon arriv check promptli driven golf cart casita properti expans huge plu willing bell show w golf cart transport guest place place fact arriv phoenix friend rent car join later day bell actual drove van local walgreen drove back complet shop say origin casita bit shabbi carpet worn fray smell musti dresser proper closet bedroom book casita base hous reserv agent descript never occur ask dresser tradit closet bedroom immedi call front desk must say manag accomod chang casita much nicer offer upgrad addit adjoin bedroom suffic say three u comfort w two bedroom found later casita due renov next month april glad brought manag attent shabbi first casita especi pay season rate reflect properti manag right thing accomod guest properti beauti well maintain bit cold swim water park highli recommend properti vacat famili singl busi travel convent center attach properti fill capac one never percept pack due fact properti spread onsit restaur two well staf food servic crew er quit time disappoint alway strive correct problem also dvd player deliv w remot new one deliv next day charg although mistak made shabbi first servic omiss dvd player w remot everi effort made correct problem make custom happi final comment workout spa facil workout fantast long hour oper spa delight technician servic quit satisfactori definit spa beauti parlor w privat shower one chais loung ladi face wall dusti silk plant opinion facil call spa least relax w sofa loung chair technician deliv servic beauti price charg custom want bask true spa atmospher treatment recommend stay expect top notch well appoint spa even pay per night employe manag except friendli help except one front desk clerk ask want call remot w dvd player consid stay conveni locat near airport highway restaur shop yet feel bit seclud due beauti terrain mountain backdrop confid long toler person afraid insist upon proper servic',\n",
              " 'amaz pool area stay one properti casita twice last month review particular type casita larg privat carport privat entri lot famili downstair dine tabl sofa v wet bar small refriger bath upstair main bedroom full bath bed decor casita bit run realli old burgundi carpet outdat bathroom fixtur furnitur desper need reupholst think simpl remodel updat could first rate properti one casita larg balconi main bedroom huge sundeck right second floor sundeck full size tabl chair umbrella loung chair awesom soak arizona sun one casita overlook privat pool much fun step right outsid hit water super resort kid main swim pool area amaz hole wall river ranch huge lazi river waterfal mini golf western theme town gorgeou outdoor patio firepit smore night kid super place',\n",
              " 'like resort hate resort fee stay two day busi busi function includ food handl well true suit better embassi suit full refrig stove microwav larg flat screen tv bedroom smaller tv live small porch area tabl chair overlook courtyard comfort bed check friendli effici except forgot free bottl water hilton gold member biggi rememb ask fit fin multipl crosstrain treadmil bike machin free weight pool well kid pool area waterpark look like fun also close highway supermarket ga station restaur want use firt center larg pool kid waterpark put green pay per day resort fee compar pay day fee use fit center also wire internet day wireless lobbi go whack peopl day nickl dime resort fee use fit center larg pool seemd place otherwis classi resort',\n",
              " 'squaw peak better expect lazi river',\n",
              " 'noth special stay hilton squaw peak confer earlier review said bed extrem comfort howev properti littl rundown miss roof tile tire carpet kind thing fourth floor one main build get ride one elev mean servic elev half time tri negoti around giagant serivc cart mainten equip strang part stay reminisc super cheap motel outdoor walkway noth special certainli resort know confer planner think book spot clearli place famili littl kid minut nowher thing ask toilet fix ran time fix drip time equal annoy sleep depriv small european small dark dark dark trash can inadequ one desk although busi travel confer planner must day',\n",
              " 'busi confer larg meet planner compani nation sale meet year approxim employe stay point hilton squaw peak februari th th experi work event planner resort food excel clean comfort meet space ground beauti definit consid point hilton squaw peak anoth busi meet person travel sale meet attende impress plea',\n",
              " 'boy love place return day kid want move phoenix lot recommend hilton water featur particular boy age play mini golf put green surround pool hour could even let wander togeth without supervis huge plu coyot club realli larg facil clearli devot fun art project endeavor includ hunt arrowhead taken time scatter mountain hill ahead time coupl recommend go awar casita two floor door close upstair downstair want privat time spous kid well within earshot think might prefer stay larg main reason read anoth review lacklust mainten problem clog heat filter bang night long neighbor heat ac ran everi minut hilton credit apologet made appropri compens u report el superb tenni lesson paul dean tenni pro saturday yoga class also spa servic excel realli like spa treatment recommend drive one upscal resort biltmor phoenician speak lunch poolsid biltmor play checker lawn over piec beauti histor place worth see miss local eateri chelsea kitchen truli romant dinner tri lon boy love rawhid western theme place mile',\n",
              " 'spa first famili vacat two year old son look forward time river ranch littl due weather nap realli addit nice appoint appear newli renov unfortun thing end overal bit run hardli anyth includ price eat properti expens breakfast buffet lantana grill one meal hole wall servic terribl even plenti open seat live music fun kid though final biggest gripe spa call spa ridicul run athlet club appear beauti parlor attach scrub massag terribl mainli ambienc lack thereof worth one penni especi ever massag treatment place even slightli better vamp vamp vamp probabl go back food packag could includ consid get spa experi somewher el',\n",
              " 'kid famili highli recommend properti famili stay bedroom casita plese decis bed extrem comfort decor casita bit date clean well maintain coyot kid club probabl best kid club experienc neg side thing certain area near pool noisi seem much reduc nois coupl famili destin kid',\n",
              " 'wrap fine although think earlier advic found web site request newer portion key sprawl resort style like singl build version hilton accustom rest countri clean top floor stay north build quiet mainten could stand bit better shower drain ran slowli toilet never stop run latter item annoy given extrem shortag water part countri beyond real complaint',\n",
              " 'hit miss place definit pluse minus pretti suit quit embassi suit comfort nonetheless pleasant food pretti neg side place layout extrem confus hard find way around also spread larg area get one place sometim pretti long walk addit multipl elev work probali tri someth el first',\n",
              " 'help arriv christma day friendli wonder clean well equip remain friendli facil servic receiv grill excel defin hilton',\n",
              " 'solid hilton resort wife stay squaw peak hilton earli januari bc titl game spite hotel sold statu encount noth outstand servic make sure request one recent upgrad origin bit worn quickli accomod request differ pool look clean use visit rest ground outstand visit close freeway hike opportun squaw peak camelback mtn etc central locat scottsdal lot shop dine glendal game site overal resort hesit',\n",
              " 'relax resort wife stay weather cool snow valley time upon arriv upgrad casita basic small townhous apart upgrad due hiltonhonor gold statu livingroom diningroom kitchen refriger microwav bath upstair bedroom queen size bed full bath patio umbrella tabl chair chais loung pool hotub pod casita approx fountain pool ground made relax atmospher surround neighborhood safe mixtur condo offic build profession polit person went way ensur restaur averag noth except one dinner three breakfast breakfast comp recommend friend famili',\n",
              " 'horribl night boyfriend book last minut attend wed scottsdal realli excit heard realli place realli excit assign u condo type cover park space well drove back duplex one larger u upset four park spot taken know park street fine let get horribl part readi bed pm heard loud rap music appar come u call front desk call music stop okay fine right way awoken loud music bunch kid screem happi birthday call front desk sent secur music stop min later music start serious seem like wall paper thin could hear kid cuss yell even smell pot furiou point call front desk ask anoth refus said call secur secur noth made kid leav kid stand outsid window cur break bottl hilton call front desk yet demand new call polic still noth let tell even afraid go outsid check car well call got manag name obvious inexperienc kid morn spoke manag noth oh wait took bill furiou absolut never ever cannot believ hilton allow even mention kid came back morn began slam door plea want peac quiet',\n",
              " 'valu spent two night point hilton squaw peak jan arriv phoenix earli due medic appoint tri check rather earli standard problem housekeep complet finish suit breakfast one site restaur tour facil water park activ area kid suit comfort appoint unlik mani hotel clean fresh smell know mean king size bed pleasur sleep sheet seem thread count soft luxuri even meal lantana grill adequ golf sister resort nearbi lookout mountain golf cours cours wife stay pool area kid blast servic friendli courteou overal felt experi averag class valu rate paid night defin opportun aris',\n",
              " 'love kid friendli love went fiesta bowl know expect properti love place water park restaur',\n",
              " 'hilton squaw peak valu view balconi bedroom',\n",
              " 'stay week juli juli hot arizona realli enjoy pool complex appreci possibilti kid could late night dip pool friendli lot oppurtun sport tri golf tenni retreat pool way hot juli excel tonnesen famili copenhagen denmark',\n",
              " 'tip thank stay properti thanksgiv wonder time probabl place coupl retreat despit amen appeal coupl get away weekend place famili kid four year old ball cousin lazi river excel experi realli much fun pictur appear also enjoy waterslid mini golf say enough hole wall restaur favor review bargain pricewis food everyth famili ate tasti also enjoy outdoor fire introduc son more place nickl dime guest charg extra mini golf even mention sort extra charg cousin mom dad show use pool separ resort fee charg park coupl disappoint resort want hear peopl complain larg number kid pool hot tub enjoy next time phoenix area place high list return',\n",
              " 'never week long past thanksgiv week let say never place run bunch teenag especi night know noth custom servic secur think local law enforc even though older upon checkout notic charg phone call total never made make call intern number assum either scam maid tri make call unless let anyon charg call bad hilton spend time teach employe custom servic place could someth',\n",
              " 'use hhonor point squaw peak octob got gold upgrad casita quit spaciou casita excel close river ranch hole wall restaur fit center bed new quit comfort read casita schedul remodel shortli current unit littl date howev detract overal experi extra includ downstair powder bath kitchen especi kid excel experi hole wall eat day breakfast dinner servic food excel set overlook main pool waterfal night ga outdoor firepit roast marshmellow enjoy desert even serv warm fri bread meal describ tast like light flat doughnut excel uniqu pool relax super crowd time year poolsid bar select snack lunch item drink overal experi like return',\n",
              " 'beauti resort stay squaw peak first year anniversari mid octob south tower ask recenti remodel impress decor furnitur water park awesom often lazi river play basketbal beach volleybal pool play putt putt enjoy jacuzzi ate lantana grill enjoy food also free pool tabl outdoor patio fireplac two neg found got dozen donut breakfast follow morn cover ant call front desk come spray impress servic contrari review also experi hole wall restaur first breakfast cold got meal free decid tri second time end leav get servic minut overal impress resort also highli recommend hike summit peak take day tour see sedona grand canyon',\n",
              " 'wait go back spend week resort get away found help friendli time arriv till time check one casita smaller averag clean comfort probli renov year ago bed except comfort realli help food servic restaur exel bit renov stll happen one bigger build could even notic anywher rest ground pool bar drink pool bar expens time car take day drive sedona two hour drive well worth time awsom seneri',\n",
              " 'remodel need major improv time book told south tower suit remodel north tower get south tower complet arriv shock walk one bedroom suit everyth exactli stay year ago differ hilton bed comfort new tile bathroom floor chair rip old furnitur old carpet even took refridger left empti hole call mainten manag find old one sit top sink sister never got call remodel bathroom sink small toiletri put larg tv one shelv put stuff small drawer pool lazi river though wonder pretti landscap clean ground poor qualiti food pool bar small hamburg bag chip eat restaur even though get reason rate stay squaw peak due qualiti care take elev old one work time',\n",
              " 'best hilton stay second time septemb night unfortun hilton gold member stay mani differ hilton throughout year busi vacat happili say best ever stay properti resort servic amen locat onsit view surround mountain add beauti place ventur resort comment pheonix tourist destin upon arriv upgrad casita basic floor full kitchen dine area live downstair bedroom bathroom chang area upstair privat pool believ come cover park space probabl best stay big comfort airi lot amenti wireless internet access unfortun resort plenti pool spa lazi river run around fun play basketbal pool area follow loung lazi river drink river dirti ate dinner breakfast hole wall restaur think call excel food servic overal fantast short break recov vega grand canyon wish could stay longer',\n",
              " 'dr order end choos resort thank review tripadvisor com disappoint girlfriend stay fine resort day earli oct found review true accur rather share useless detail instead provid suggest enjoy fullest hope suggest make trip success request remodel upon make reserv remodel contain new everyth awesom check yet remodel price thank made request thank review tripadvisor com request fridg upon check cost u noth prove take advantag free shuttl system upon request bell desk grant u free shuttl fashion mall squaw peak summit extrem courteou inform assum adventur enjoy outdoor cannot say enough thing squaw peak summit climb mile foot beauti climber friendli view die sure bring camera plenti water eat hole wall food fantast reason servic profession time ate day domin waiter friendli take advantag concierg knew littl area along attract nearbi help provid array attract avail price recommend etc lastli plan make trip walgreen local groceri store first day water complet rip bottl drink pool weak mix drink neg could come first day stock water bought liquor groceri store order make trip afford enjoy highli recommend resort friend famili simpli hope enjoy trip much enjoy',\n",
              " 'famili friendli resort clean friendli stay suit north tower origin put u south tower ask north tower sinc part south tower construct pool area spent time north tower pool well main pool main pool servic go bar want anyth north tower servic better hole wall restaur surpris food reason look restaur close sure tri houston camelback rd fish market kid friendli overal pleasant visit',\n",
              " 'famili vacat spot famili stay resort night commenc august locat two storey bedroom casita unit close river ranch convieni disturb construct ongo nearbi fact impress sound proof unit seem resort kid swim waterslid lazi river cost refresh food poolsid high side certainli add thirsti hungri child servic receiv encount problem either check check enjoy separ pool near casita break river ranch well use river ranch close resort exactli look',\n",
              " 'major construct major construct go build put u dissapoint especi sinc mention either websit check sunday woken nois chisel hammer inconsider cheap leagu call front desk comment got notifi supervisor monday never heard back place',\n",
              " 'famili resort third year stay hilton squaw peak stay five day abl get complimentari upgrad w hilton reward point one bedroom stori casita perfect famili child river ranch wonder kid adult alik slower pace lazi river want float inner tube waterslid kid adult want go faster time year usual hotter az thu water park even relax extrem accomod friendli help watch bill accur quit bit accident charg hole wall restaur kid love order rattlesnak dinner roast more right tabl recommend arizona style bloodi mari drink serv oliv pepperocini extra spice tasti took free shuttl servic sister resort tapatio cliff min mtn enjoy pool one day tapatio cliff seem bit upscal squaw peak much adult pool cushion pool chair etc kid fun swim relax lagoon style pool well also enclos water slide cliff place resort conveni abl shuttl coyot camp place drop kid desert theme art craft activ etc age yr cost per hr per child worth opinion daughter yr go coyot camp yr row one favorit thing resort coyot camp alway warm welcom accomod kid year love also visit phoenix scienc center downtown phoenix stay hour highli recommend ate lite lunch victorian tea hous next door scienc center afterward also place eat even child menu spend order poolsid non alcohol drink soda tea pay glass cup instanc time want glass ice tea paid free refil definit add conveni sit pool someon bring drink food etc otherwis trip around summer best time go rate cheap definit recommend hilton squaw peak tapatio cliff anyon especi famili',\n",
              " 'time went night two girl age comfort northpoint love pool complex enjoy brunch lantana grill overal happi choic issu slow speed lazi river asleep allow u play go around enjoy dive movi rest complex',\n",
              " 'lazi river view',\n",
              " 'famil think twice let even feel like got deal properti date one stop short dirti huge poorli laid walk lot unlik park near charg everyth provid littl pay internet local call pack play cours fridg microwav continent breakfast like hi express et al water park ok unless say import part mind margin date though kid love fair best place servic wretch book non smoke call ahead ensur one cours put smoke elev broken whole soda machin ate money comedi error marriott desert ridg place save game bare bone hi express back',\n",
              " 'river ranch need lot help return hilton squaw peak must say major problem noweher websit indicaqt properti undergo major renov travel famili two air condition problem requir move move took least hour accomplish one move requir guest move luggag bellman refus move bag ask drag ladi dress ground told bell station move day due construct problem half close construct leav two ice machin entir wing meant hardli ice ever avail elev broke sinc one elev south wing want get walk pool kid enjoy south pool close get north pool fire describ event lanatanna caus restaur hole wall overal servic poor river ranch seem hilton qualiti like comfort inn qualiti',\n",
              " 'kid water go togeth place fun love lazi river place relax casita show sign get older though love bathroom vaniti though doubl sink balconi casita sit outsid night drink pool excel crowd weekend stay line long bar kid love movi water excel well summer month water reason',\n",
              " 'famili atmospher stay resort three day juli live phoenix area took advantag reason summer rate famili four stay cassita two stori townhous suit plenti everyon suit come one two bedroom upstair upstair bathroom downstair pull couch kitchen sink fridg microwav suppli cot addit bed need resort also motel suit two boy age realli enjoy plenti western theme pool areasuch tube lazi river basketbal sport pool miniatur golf ask valu pack save money miniatur golf fit club also saturday night movi pool area younger kiddi might want set pg movi sport pool area older resort kept pretti well pool area need kind pebbletec path avoid burn foot safe suit big problem whole famili goe pool resort close camelback area addit place dine fashion squar mall street well time',\n",
              " 'disappoint let first say particularli hard plea person join tripadvisor write review famili recent start w mani other readi time check time pm wait twice long line regaridng statu final got key pm front desk personnel rude offer apolog wait littl kid imagin wait around hour also park situat horribl park properti get spot lazi river dirti overal pool area overr food averag best way overpr local phoenix area never point squaw peak much nicer resort town similar price summer say pas go somewher like biltmor westin keirland',\n",
              " 'kid famili two adult four child age stay night coupl week ago stop san diego grand canyon book casita plea note close river ranch pool complex casita clean bed comfort even sofa bed although felt could brighten bit settl head pool complex quieter expect enjoy lazi river sport pool chose bring food breakfast keep cost back pool next morn open time retreat shade cool casita hour lunchtim found young pool area help ice cold water cooler bonu gift shop reason price son enjoy mini golf discov chanc second day entitl free golf half price ice cream appar valu packag told upon arriv awar courtyard near pool close pm group teenag seem occupi caus troubl loud young child could disrupt earli night therefor plea casita coupl day pool ideal u',\n",
              " 'love two child greatest time greatest time squaw ipeak best place child much kid hardli never left resort stay year old year old never want leav place teenag stay day could easili stay anoth day friendli help everi way pool stay open late consid hot tombston shootout excel kid love also movi night big hit everyon bar pool side polit friendli everi one love lazi river could stay day fit center includ packag excel class equip also hike mountain street fun thank make vacat fun reward time',\n",
              " 'enjoy stay squaw peak juli juli check friendli bell hop person help stay king bed suit bed linen towel spa product qualiti bathroom immacul clean bed verrrri comfort small kitchenett mini bar sink coffe maker couch uncomfort sit although son slept fine pull limit cabl channel tv rent still theater movi ground well maintain see roach peopl use south palmetto bug big ugli harmless southern state spray continu keep bay plea let see one scare time resort huge area noisier other river ranch enjoy lazi river got crowd go earli grab chair umbrella leav stuff save seat get pretti crowd poolsid servic coupl place get food plenti fresh towel cooler cold water drink long get earli enough chair make sure leav shoe walk around made mistak head lazi river without nearli burnt foot ha ha hot hot hot cubbi top leav flip flop found littl late saturday night close set dive movi night show pg movi poolsid pretti cool kiddi admiss alway free guest also pretti cool resort conveni day trip hour grand canyon scottsdal close check shop art shop view plenti restaur kind nearbi give rave review consierg dave awesom friendli insight know everyth everywher quick figur everi need like dislik ever make sure tell trip advisor member sent rave review profession way',\n",
              " 'thank decid take husband child relax father day treat sure wast money check adequ expect hilton guy recept job friendli niceiti chit chat inform check paper got taken golf cart boy enjoy point right direct river ranch convieni behind bag carri guy friendli right thing say chit chat pleasanteri ok sit area separ bedroom decor seen better day though wonder soft luxurio bed plenti squishi pillow ac work perfect tini littl outsid area call patio big enough swing cat look straight onto car park keep check van kept shade pull tri hide pretend realli river ranch fine boy love busi mani tweenag push front littl one fill water cooler occassion kill anyon spent time quieter pool within courtyard lobbi le crowd much relax dinner hole wall price worth server wait finish tabl could get parti walk door obvious go tip u left pitanc lousi inatent servic breakfast lantana grill realli fresh fruit cereal pastri egg bacon etc offer ment boy ate free adult meal mention u check told sat wast money cheap boy enjoy river ranch way',\n",
              " 'place stay wife two child yr point june last minut chang sedona due recent oak creek canyon fire resort avail inexpens need place move anoth resort scottsdal resort locat midst citi surround heavi traffic road etc though could hear road nois due landscap face inward pool area separ two queen bed bedroom tv bureau credenza closet secur safe though odd shape led use pocket door instead regular door plu one bed partial block door exit otherwis bedroom fine patio slide door bedroom look pool neighbor hallway enough two chair use dri swim suit bathroom split toilet tub shower one sink countertop open area next bedroom live sofa chair chair desk tv stand mini bar fridg counter coffe maker minibar stock usual minibar overpr drink snack ask refriger microwav deliv later day furnitur look fine carpet bit date fine though worn park far easi path get luggag initi day elev broken requir lug everyth second floor hand nd day elev function ground well maintain manicur greeneri best asset point water park pas guest quieter smaller pool two complex pool well maintain plenti towel chair clean pool kiddi pool whirlpool chill water cooler cup water park typic lazi river sport pool volleybal regular pool water fall busi need visit see offer adjac grill provid food food typic grill food child menu servic offer though partak slightli averag see cockroach bug place clean though bit date worn lobbi cheer friendli help place tri hard make peopl happi price',\n",
              " 'custom servic look clean spaciou conveni locat enjoy famili friendli environ except servic may although lack initi wow factor expect thought hilton provid amaz servic concierg friendli extrem help alway clean pool attend welcom servic quick delici thing wish bit differ sit dark even three lamp air condit littl loud sink mirror separ shower toilet light switch bathroom locat outsid bathroom door travel practic joker time expens noth earth shatter food thought back fun stuff offer mani differ pool accomod peopl age even movi night courtyard pool close earlier post may want check hour conveni locat sight see take time drive around look mountain gorgeou scottsdal phoenix wonder restaur ny pizza deliv fast delici charleston black angu casual wonder food excel servic bahama breez food fun environ also outstand servic kierland common desert ridg shop center offer fun shop area even window shop plenti antiqu shop golf opportun abound antiqu shopper travel famili bewar one town particular well known antiqu shop beauti brochur extrem mislead see gang graffiti turn around get much better obviou town tri clean thing actual downtown area renov look quit love surround area love worth risk although feel littl guilti indirectli rat feel deeper loyalti innoc famili may get harm way miss desert botan garden beauti peac also plenti littl squirrel quail amus everyon crackerjax offer miniatur golf go cart arcad although entir perfect hilton offer comfort environ whole famili near perfect servic rate right definet give tri',\n",
              " 'away terribl june june june arriv p kid readi get pool relax long day travel upon check greet check given key led appropri park lot build point direct carri luggag dark hallway last ok worth price paid smoke detector hang wall wire hang wall sure work said quickli chang head pool took u minut find pool found notic famili leav are child minut later realiz leav young adult clearli drunk act loud obnoxi drink inappropri behavior famal male happen jacuzzi area told kid end pool sinc realli want swim minut later young male clime top pool bar roof start jump pool final decid call front desk assur send secur minut later call secur personnel ever came pool area anoth minut secur personnel offic arriv young adult bad mouth secur refus get pool turn even guest littl later famili left earlier return kid swim pool secur offic wlking ground next morn left ground breakfast town realiz offer child eat free purchas adult meal that told anyth upon check inform inform special map inform hole wall water park complain guest relat told hear gener manag receiv call head secur explain young adult escort ground inform alreadi knew respons receiv issu address call guest relat inform heard respons gener manag told receiv call head secur address concern told custom relat true file anoth complaint led discount june bad offer discount given face courtyard seem attempt make bad servic previous experienc went pool enjoy quiet time got ice cold jacuzzi one help fix went back take shower question bathroom clean clean use bathroom use towel hang back door hair floor shower tub shower curtain angri point want leav got readi bed daughter pull sheet bed discov hair strand sheet almost threw verg tear want sleep next morn decid take kid hole wall water park attach discov mail pool close hour walk see open saw bug float pool roach type bug huge big ask real child toy real ground keeper maintanc worker run around morn know go know bug everywher spray think open later scoop bug pool right away scare let child pool know chemic bug also float lazi river yuk point want run fast could place water park rude one help call guest relat complain told hear gener manag today juli heard word anyon far away possibl could get better servic area far le money',\n",
              " 'stay resort one week busi confer phoenix one bedroom suit clean bed except probabl best night sleep ever stay ate two breakfast site slim picken restaur first breakfast buffet sunday except eat servic excel second time ate week breakfast cost servic accept thought young waiter quit meal properi well kept problem pool area locat area pool first day pool disarray everi morn towel pick food beverag contain still everywher night wednesday thing chang pool area spotless possibl person charg pool vacat begin week anoth problem pool privat compani give swim lesson small child day confer get pool alway possibl last pool rule post child throw ball dive pool dive sign mani obnoxi real parent go could said lazi river luckili relax vacat consid stay probabl look anoth place',\n",
              " 'awsom place kid adult still kid custodi year old grandson found squaw peak hilton websit want fun place take look like book becam concern read tripadvisor review stay number hilton properti tell child place go river ranch multipl pool long lazi river use pool suppli inner tube water slide kiddi pool neat waterfal kid adult play also hot tub river ranch food river ranch outdoor bar price pool resort littl pricey outrageuo plenti water station pool larg contain free cold water plenti cup along side aspect bother week close pm thought earli especi temp hit degre hole wall restaur river ranch price reason play miniatur golf hot look fun stay regular suit queen bed fine comfort bed could put person item fridg bought styro cooler street walgreen kept fill ice ice machin locat everi floor eat outsid resort need car walk aunt chilada mexican food neat atmospher reason price margarita purchas shaker take home need drive choic claim jumper price kid friendli neat menu choic die layer chocol cake dollar dessert feed host peopl anoth fun place take kid diner juke box everi tabl milk shake serv stainless shaker terrif food real realli reason price pizza inexpens street new york day go tour day trip grandson enjoy pool much matter u go anywher el pool close pm could swim south end pool complex thought water cloudi complex pool enjoy anyway look forward use complex hot tub river ranch close first night ice cold warm remain night though check hilton tapatio resort also phoenix kid adult like water play stick squaw peak think price squaw peak kid coyot camp high sinc grandson perfectli happi make friend river ranch water area use camp river ranch open later fri sat night show outdoor kid movi sat night kid swim watch movi time kinda cool bother safe need attent dollar day charg internet servic ridicul pay even thought took wireless laptop sorri free friendli took moment chat grandson whenev want show latest purchas gift shop need scotch tape glue someth work much appreci ladi rd floor kid concierg play board game one hot afternoon thank concierg lobbi realli knew area recommend print map u one night ask direct eateri print board pas day leav help u think need handicap park husband requir handicap park alway hard find one avail especi weekend realli fun time swim explor resort complex tri new restaur spend qualiti famili time togeth relax grandson readi go next year ditto husband',\n",
              " 'properti group friend stay point hilton purpos trip besid relax visit friend golf overal resort howev big luck get around w map indic pro con pro pool north south build pool hot tub bar river ranch huge multipl tier pool river although slow pretti long basic ride larg inner tube pool area famili kid gener servic thought servic help upscal stay regular bedroom suit speak bigger unit casita easi check awar pm check though servic meal con construct work floor chang lock much inconveni bit hassl get new key resort start show alittl wear tear henc need constant fix maid servic remind make resort bit expens hilton mani discount e aaa entertain exist famili resort howev given group kid tag along got alittl tire littl one run around problem go elsewher thing sedona day trip certainli make anoth trip someday golf play sanctuari arizona biltmor cours sanctuari tight desert cours biltmor tradit cours tempertur brutal howev degre',\n",
              " 'famili vacat spot season least stay squaw peak resort four night week typic lot research go vacat element vacat like qualiti make break entir trip must admit bit nervou reserv squaw peak resort mix line review peopl report poorli lit other said properti date one review said kind peopl though exactli sure meant scoop place four season phoenician howev charg star resort rate either paid night aaa rate true suit separ bedroom respect qualiti accomod squaw peak resort line embassi suit cater conventioni famli diver made possibl river ranch water park area famili orient swim pool recreat area separ buld parkng lot part separ keep famili away busi peopl le ornat pool respect wing overal ground pleasant river ranch area lazi river swim pool allow float innertub around properti fun highli relax photo seen lazi river realli justic pretti expans sceneri diver food pool area solid servic hole wall restaur border excel matter fact everyon friendli courteou also work area avail guest small fee much better standard gym extens weight separ aerob tri servic adjac spa look decent like thing life thing complain notic first day lot inevit litter drink cup etc peopl leav around multipl swim pool get clean epeci true lazi river crush beer linger day wall around one bend small complaint walk distanc anyth particular result realli need car want chang scenari minut drive scottsdal shop dine peopl watch second item much complaint concern place like spring break went low season kid school resort crowd told spring break summer highli discount rate avail place realli hop river ranch big big one probabl lot le relax time bigger wonder howev drink age kid could see mix colleg kid littl kid poor place serv alcohol pool side overal squaw peak resort offer famili valu dollar six year old thought par maui disneyland vacat destin pretti high prais agre pretti special trip definit',\n",
              " 'custom servic read review skeptic sometim wonder review help hinder trip famili girl travel parent phoenix day vacat mother hard plea time posit neg everi person encount friendli averag nicest hilton famili stay north build bdrm suit shut door watch tv kid slept one sink dress area bedrooom price actual rel paid basic best western near pool area pool right want chang wander river ranch someth child enjoy thouroghli food hole wall breakfast dinner bit pricey averag suggest rent car tri restaur phoenix offer cracker barrel restaur search one best also aunt chilada k come area mexican food enjoy restaur version tri eat macayo much better price better custom servic encount mani high end resort stay wonder peopl stay got compar review agre hilton instal safe father retir polic offic caught yr old tri steal wallett river ranch',\n",
              " 'time excel amen slight problem reserv call march week arriv told u reserv chang made decemb list anywher file reserv agent pleasant said couldnt chang reserv check day earlier plan sinc reward trip upset book one night sedona sinc go anyway wife check monday afternoon kid ask got upgrad casita ask check chang place magic say word cancel sedona reserv arriv even impress casita ground floor full kitchen din half bath plu live fold bed tv walk upstair bedroom full bath privat balconi bedroom car dont understand previou poster said noth within walk distanc aunt chilada strip shop center across street chine carryout sort sport bar mile away drug strore liquor store across street supermarket kid enjoy lazi river tube minatur golf end buy resort packag although golf free sinc diamond level send receiv larg fax made econom restaur open complaint food read post alway wonder resort peopl neg posit found balanc report tell',\n",
              " 'enjoy famili return last minut spring break vacat pack full capac decent pool area famili friendli plenti shallow wade area littl kid water slide bigger kid complaint amount peopl spring break expect crowd almost everi lawn chair taken chair pack close togeth walk definit understaf amount peopl pool area probabl appeal anoth time year make reserv request renov upper floor first bottom floor renov dark felt littl bit like motel request move second far far better renov two queen bed also larger one king bed hard believ charg price two differ lastli ac problem second request fix pm found fix offer move u pm two littl kid stay talk manag next morn took one full night inconveni appreci overal think valu pay probabl go back',\n",
              " 'famili resort recent stay hilton spring break overal fantast upgrad regular casita hilton honor statu famili four bump constantli two bathroom avail even privat pool tuck coupl build provid break noisier river ranch area ground found pleasant help concierg personnel help suggest alway work well card suggest locat address direct print conveni fault point earlier lack safe manag realli need ask temselv expect famili leav wallet devic leav morn spend day pool breakfast buffet offer onsit restaur averag made order omlett waffl often avail hilton resort addit ice cream candi snack shop onsit close pm unbeliev open later time year overal famili time definetli return',\n",
              " 'rob properti stay end arizona vacat decid high price resort give treat thought waterpark activit place famili vacat end unfortun turn way last day vacat went waterpark day husband place short contain wallet key eyeglass lock locker men chang went check locker afternoon discov lock cut bolt cutter sign breakfast morn also receipt number allow thiev go remov everyth valu comput camera pod mani person item cannot replac safe wait ten hour phoenix polic show thing hilton offer pay dinner still proccess sort financi problem advic insist stay leav valuabl home',\n",
              " 'absolut wonder famili stay numer time last juli stay mani hotel phoenix area best far u oh compar biltmor heaven sake scottsdal princess anoth trip without kid paid rate high night right depend time year either rate never greater time stay boy age entertain regular basi juli rate far best far manag rec hyster call even went manag ever seem book incorrectli u check one day prior arriv date manag assur although show problem follow day arriv follow day led townhous type request tell stay walk stori bedroom townhous suit complet deck bathroom smaller swim pool backyard share other treat friendli effici alway readi help maid servic except eateri exactli look fuss inexpens yet food delici alway serv smile night time sit fire talk til wee hour come phoenix least time year sometim kid sometim without main reason visit area close friend reloc nj mesa az impress dig move weekend stay night never dull moment water park start end point tour day welcom plain ol pool properti u adult revel lazi river even took ride stori slide tri ouch',\n",
              " 'famili younger kid suit amen excel central restaur hike spring train basebal accomod help whenev ask food fine decent price kid ok adult overal place u year old',\n",
              " 'teen outgrow point spring break trip probabl last ofmani previou trip point yearold final outgrown lazi river mini golfand koyot kid resort virtual sameplac visit first time year ago restaur serv averag overpr food virtual pool servic although everychair adorn servic flag brightsid suit recent remodel much modern decor still lack doublevan nutshel think resort stillnic kid year old younger want tohang pool older kid bore',\n",
              " 'beauti resort properti staf profession peopl arriv late tuesday went restaur wonder servic food wine littl expens glass kendal jackson golf cours spectacular per husband challeng lost golf ball warn properti larg may take shuttl around walk fair distanc depend realli mind walk prefer smaller properti larg two mini bar person item balconi primarili overlook park lot limit view butt properti kept clean free clutter also spa treatment ladi work spa help overal time problem',\n",
              " 'recommend review delawar place look lot better websit person pretti much overal agreement review comment dark averag smell strongli freshen nauseat decor standard hilton noth imagin interest came kid probabl appreci pool activ kid realli disney theme plastic decor includ fake old western town store front theme thought price per night pretti high got spa opinion misleadingli describ one best arizona know list work imagin case book massag massag ron quit kind money usual pretti spa experi goe along case check girl counter even offer take locker give robe ask locker regular gym type locker co ed steam sauna whirlpool saw man steam stretch hamstr full workout gear includ gym shoe gone steam paid shower badli need overhaul mildew water pressur wait basic sofa beauti salon strong smell nail varnish massag tabl rock throughout need sort repair everytim water turn hair salon heard loudli one place hike phoenix mountain park east glendal past highway hike although drive minut get aunt chilada place place grab bite coffe plantat near intersect glendal th also',\n",
              " 'famili best bed ever slept pool kid weather littl cool pool heat still abl swim afternoon plenti suit provid refriger charg brought quickli also print board pas morn leav think may renov kitchen food servic littl limit concierg abl provid detail local restaur inform close airport free shuttl servic avail sister resort tapatio cliff pool adult orient pool long resort definit',\n",
              " 'place famili river ranch main pool',\n",
              " 'expect view bedroom note brick wall size patio',\n",
              " 'star hilton star resort suit properti excel new bed fact give hilton bed nearli equal mark westin heavenli version rest properti bland think suburban version standard hilton citi pool well landscap coupl signific complaint per day use gym hand especi factor cost also sorri guest penal kitchen renov twice send food back servic poor qualiti',\n",
              " 'still second time around second time came first time studio casita time suit south tower clean modern comfi couch big tv live flat screen marbl counter bedroom king bed plenti pillow worri weekend waterpark crowd wasnt water park water heat point dont feel chill step give mani towel want bar cafe site burger dog beer also deliv food drink seat easili spent day love lazi river waterslid big waterfal tip allow bring pool toy long theyr huge restaur food friendli waitress abl keep cool yell crazi ladi kid sit across restaur crowd alway call order go pick minut later take back enjoy fave tv show small pool also nice heat late night swim overal price shop around discount dont get rack rate found deal night govt discount night season also go middl dec school find night',\n",
              " 'rate dissapoint chose read review ye ground pretti dissapoint especi phone advic recommend packag accommod suit sit sofa sleeper bedroom doubl first night south point block date vaniti end bed main bedroom small drawer peopl cloth week paint flake woodwork smell dirti even though look clean bathroom basic thought smallest bathroom experienc usa spent day drive shut put next morn got transfer north point block updat ground floor said ok desk clerk fail mention five foot screen blockwal enclos tini patio adjoin car park suit tidier bathroom even smaller first short tub slightli better shower head thank vaniti recess seper bedroom pretti granit countertop fit could get one side bed found got night crash wall quit petit cloth storag though suit better suit peopl occup teenag son amus maid walk time sofa sleeper wait shower made sure use disturb sign registr told u sorri wrongli advis book casita food advis take bounceback breakfast packag extra tax night kid breakfast free kid age confirm slip reserv knew age cut kid meal bounceback breakfast cost tabl cheaper pay charg tabl daili basi purchas voucher advanc kid breakfast includ breakfast bill extra daili top quot got anoth sorri misinform also check restaur bill wrong day bounceback breakfast option vari depend server despit written clearli menu opt skip breakfast face meal sorri misinform comment restaur close restroom hole wall label squatter stander actual found offens river ranch nightli rate cover peopl per suit extra kid daili anoth sorri misinform specif ask resort fee includ u book told ye cours river ranch lazi river actual river lazi slow paddl order move flume type slide toddler pool swim pool hot spa like clean one other dip toe said ouch walk away hot year old kept amus amount time regular pool older kid particularli impress actual bother swim everyday book specif treat kid better pool facil seen pool area websit look forward stay alway friendli courteou say sorri misinform point issu desk clerk check due departur date experi ruin vacat much check altern accommod refund unus bounceback voucher said im sorri get rest',\n",
              " 'love beauti friendli effici unfortun spent one night weekday probabl advantag expect weekend get pretti crowd anyway love stay longer definit plan return',\n",
              " 'beauti beauti stay one night arriv late enjoy sedona long kid disappoint find river ranch close arriv close open leav morn abl enjoy one pool suit huge bed comfi bar area refrig two tv easi drive mall got airport le minut check easi friendli enjoy time',\n",
              " 'excel luxuri live hilton reput stay night busi stay array hotel far best check quick easi arriv upgrad suit wow two huge comfi bed wide screen tv love bathroom kitchen area breakfast bar sit area balconi dont excel view lucki get pool view other look car park etc werent long manag sampl water slide pool love set also numer pool nearer jacuzzi open hour lot kid obvious get bit crowd meal hole wall restaur cow boy theme sell grill type food entertainmer sit outsid insid quit poorli lit found made drowsi inde also took quit food serv larg group u suppos could expect servic found friendli noth much troubl also shop onsit sell souvenir drink etc quit handi like spend bit time felt didnt realli see whole complex fairli larg complaint couldnt find safe sure well hidden haha defin',\n",
              " 'famili vacat stay hilton squaw peak week famili neighbour famili hh diamond book upgrad casita given two breakfast voucher per day kid age love river ranch friendli help went earli octob asid weekend peopl pool fairli quiet even saw peopl float lazi river read book probabl high season also spent afternoon tapito cliff hilton suit adult famili although waterslid excel vacat return next year',\n",
              " 'beauti landscap danger couch fianc e arriv squaw peak hilton night hilton gold card member upgrad spaciou half bathroom tv kitchen area larg couch boardroom tabl could seat minu sink outsid bathroom hate howev get settl happen notic small shard glass live couch alarm obvious danger someon sat child pick otherwis clean monday awok loud racket find larg crane right outsid bedroom balconi sort build work needle say ruin chanc rest morn finish question manag need disturb guest earli hour nois began fair enough earli directli outsid occupi ground beauti pool area clean well kept hole wall restaur option restaur renov also bar avail apart pool bar limit hour never hilton without insid bar least coffe shop neither',\n",
              " 'famili vacat spot got back five day hilton squaw peak found suit chang extra televis set daughter bed comfort linen comfort although need phoenix august felt dark need updat care sink outsid bathroom guess sink outsid bathroom initi check given first floor south suit like sinc dark part build seem way immedi went back desk offer u fourth floor better howev elev get c fan work realiz problem alreadi unpack five day daughter ran stair get husband decid tuff elev note told husband complain elev insist probabl someth well awar continu end review appear lot updat around premis elev pool area south build close due renov howev never wit renov work go water park area sinc midweek crowd contend lazi river soooo lazi sometim actual paddl way high mark cleanli pool area especi bathroom kept clean ate sever time hole wall plea food waitress first time ate sure return waitress brought attent kid eat free unawar bonu howev upon return visit charg daughter meal remind server servic got wors wors return trip never saw first waitress ate aunt chilada found excel dine experi chip also breakfast th diner enjoy everi time want eat away need drive least min like place eat shop bit closer walkabl select read mani review selectedth hilton base inform gather kid friendli factor key select daughter enjoy water park facil like spiffier accommod husband feel bit pamper guess rate got paid back elev stori forget check decid mention desk person elev part build c fan caus lot inconveni u said unawar one el mention husband believ seem sincer know',\n",
              " 'squaw peak score high excel facil restaur surprisingli valu consid hilton food excel hole wall restaur recommend buy day ticket allow play golf ride lazi river fit etc fit well equip could littl updat excel whole recommend',\n",
              " 'weekend getaway husband spent weekend enjoy excel resort summer rate regular suit comfort bed littl hard bad face patio instead pool quiet even night everyon came back water park river park lot fun even kid slide river float enjoy place peopl watch got crowd u went one smaller pool tip drink cheaper bar next pool behind main lobbi park want sit water drink spend afternoon guest big pool servic outstand servic guy pool boy everyon friendli seem realli enjoy job block highway squaw peak express get highway quickli basebal park minut away improv nightclub temp minut travel rush hour shop around heavili rate usual hilton web site best rate packag definit return next summer',\n",
              " 'famili fun stay night june book directli websit select bounceback vacat nightli includ breakfast two adult advis quick pleasant straightforward check kid eat free deal advertis came welcom surpris option daili resort pas explain u pressur buy fact seem repres valu share famili use addit facil book request far pool alloc remodel top floor north tower ye balconi overlook inescap car park directli beyond mountain fantast view sunris jet lag abl fulli appreci morn except casita close could river ranch pool ground attract landscap commend vigil maintain suit immacul spaciou comfort overfussili furbish well laid gener storag bathroom dress area fit superb wonder comfort bed especi plumpest ever pillow get special thumb river ranch famili younger kid noth hardcor thrill seek teenag mind one decent water slide lazi river waterfal sporti pool set volleybal basketbal etc kid pool name time gener staf well maintain particularli impress poolsid restroom easi keep spotless day long manag refriger drink water freeli avail throughout resort pool water probabl heavili chlorin skin appreci certainli pool river ranch open hour pm size tranquil courtyard pool hot tub open pm think nois sensit might appreci alloc ground floor area kid koyot club way budget send kid fun remain site per child per day session think dobt valuabl servic confer need time also offer midday movi popcorn entic kid midday sun ate three time hole wall restaur two breaksfast one dinner servic food consist except child friendli inde love terrac overlook river ranch ice cake lest review read like share holder although experi might consid let say neg experi breakfast lantana grill place seem orient squaw peak key market confer famili market visit custom seem outnumb one yet took minut order taken anoth breakfast arriv order wrong run late confess let go lantana grill menu price seem compar hole wall neither portion qualiti food close stood around larg group talk ignor u visit restroom clearli check hour bin flow wet floor strewn wet towel crawl along foor saw cockroach spot entir resort ground also dine adjac aunt chilada mexican enthusiast review site confess disappoint food appear tabl blink eye order taken bland overcook howev admit complimentari chip dip ever tast ambienc fortun visit midweek resort live enough buzz way crowd leav start juli holiday weekend clearli heavili book get hectic possibl may enjoy weekend quit much first choic romant weekend away kid doubt exclus resort phoenix plusher pool towel price rang daili delici gener breakfast four love environ relax day entertain poolsid without fork extra penni best night sleep away home quit distract lament heat manag hilton squaw peak extrem proud succeed keep place pristin provid genuin welcom famili',\n",
              " 'price suit couch chair wet bar fridg fill overpr goodi well larg televis sit separ bedroom also televis sink toilet shower tub separ neither larg fine two u linen qualiti towel soft absorb plenti fresh clean well maintain step pool night plu tax special price class reunion seem like anyon could say event get price seem like could check reserv depart find group time want join group spirit save help got u inform restaur direct get food bar b que restaur horribl nearli ined found el paso bar b que glendal terrif cheap hugh portion ice cream soda sugar bowl scottsdal blvd indian school rd fifti year old ice cream shop still treat buffet brunch camelback inn take book sit outsid spend morn eat much like welcom biltmor miss place visit place breakfast time money wright place suppos best place visit phoenix area paolo soleri arcosanti find internet sure visit facin',\n",
              " 'tale idiot desk clerk facil accept case water park desk could judg somewher incompet hostil arrang girl desk provid key son arriv later day reserv extra smilingli assur u taken care return late afternoon discov phone son still readi check suspect someth amiss wait line talk smile girl promis everyth go smoothli avoid talk u turn arriv signal male desk clerk take care u though point given sign upset simpli want know son arriv obvious knew thing proceed accord plan afraid face u direct rather escort speak male desk clerk alreadi bristl though noth yet said wife ask son arriv told ye given key pictur id passport flew montreal wife said lower voic speak man repli though note anyth extraordinari tone escapist repli might comic rude arrang given key wife continu nearli whisper glanc side formerli smile girl leav recept area escap possibl becom involv wonder man say regard passport obvious son could fli without adequ pictur id point hand man instead repli though wife rest right hand hold car key countertop left hand still hold purs desk clerk could term cretin loo cannon untrain idiot faulti tower like clerk whatev littl inclin ever return smile girl appar fear involv colleagu probabl interven refus son key point ground squaw peak extens search son nearli hour found path hole wall dantano restaur pool convent center nearli cross sever time till final call nth time one phone receiv word check joke p also receiv messag phone effect follow day idiot clerk grace u perki morn etc smile girl avoid look felt strong inclin answer morn rais voic escal thing moron got water park mayb justifi deal idiot leav matter guest balanc item non function e g high speed internet could easili overlook fact one overlook lot small defici civil took friendli attitud apolog display concern none idiot display',\n",
              " 'squaw peak hilton hilton phoenix north squaw peak cozi atmospher well restraunt love walk shadi garden sit outsid warm arizona air problem moldi bathtub stopper report manag problem dealt quickli otherwis clean comfort servic valu money recommend highli',\n",
              " 'poor servic recent point hilton squaw peak resort scalefrom stay one two bedroom casita although clean itdid old musti smell cicada date needof upgrad particularli carpet spare expens onth bed bed comfort blanket andpillow year old daughter said starhotel bed hole wall restaur food averag servic thefirst coupl meal fine one morn breakfast waitedov min never saw food water trackhim order get bill wife meet toattend box food take charg theyinform u busi morn apolog servic pool horrend peopl totak care larg area averag wait time ahalf hour drink one point server notic halfdozen flag loung chair told u serverwa busi walk sat next girl sun bath andcontinu talk wait guy show upther mani order take anoth min wereceiv drink oh forgot two daughter drink decid go bar slim picken onlyproblem enough servic serversand peopl bar peopl get serv wifewa meet pool servic continu like thisfor three day hungri wife day never servedbreakfast met u pool lunch figur hotdog lunch anddrink saw one server line thebar min wait wife call let manag knowthat pool way staf get serv andcan bring anyth pool area go eat manag sent u director slim picken hole thewal guy apologet offer get u aseat hole wall inform chancew get serv earlier experi breakfast man person serv u lunch pool hecomplet fix pool servic problem six peopl show andal line went away server walk around ask youwant anyth everyon taken care also took care dinner bill night also ate aunt chilada restaur food itcould coincid ok servic first night sow went back next night took two hour time satdown time got bill food though',\n",
              " 'squaw peak need face lift stay rent two bedroom casita travel parent two girl casita larg enough u size live area small kitchen noth refridger microwav bedroom fine bathroom need better light guess feel pay night alright date look dark worn look larg pool lazi river crowd stake chair earli morn normal went go lazi river came back small pool casita swim lay time probabl unless renov',\n",
              " 'place kid stay spring break night march u kid br ba casita pro ton casita lower level live area huge kitchenett cover park larg deck upstair br u br work fine two queen bed pull sofa bath downstair big pool area kid love lazi river water slide excel fit center plenti free weight machin cardio kid concierg area plenti free game check con breakfast everyday restaur mainli voucher terribl servic ye crowd still sever understaf also breakfast expens buffett includ coffe juic last day went buffett anyway wait order get food long though larg fine u definit date need remodel fairli soon though obvious busi time year pool area got crowd chair overal place pretti especi love swim littl one',\n",
              " 'chang pace spring break return nt squaw peak resort march th two famili went kid age felt resort better expect famili stay south point suit found fairli comfort famili splurg casita rate decent money issu coyot club kid star first class way kid beg u go well worth money wish includ price enjoy hole wall restaur night fire pit creameri aunt chilada pool mini golf cours main pool bit crowd spring break spent morn sister resort tapatito cliff chang pace warm friendli took guid hike enjoy spa mani attract az offer botan garden rawhid spring train basebal game time highli recommend resort ye nicer resort area one perfect famili small child afford price',\n",
              " 'famili holiday went point hilton squaw peak last march arriv pour rain flood everywher mind caus snow check went smoothli offer bellhop servic chose find request away hour pool le noisi top floor possibl request met clean spaciou even microwav view park lot partial screen huge palm tree grow right outsid window end row closest side entranc complex peopl walk back forth front bad view either window also garbag truck came side entranc might disturb nois bought bounceback packag gave u food voucher breakfast everi day either two restaraunt properti deal love lantana mexican shred beef hole wall fun right outsid pool suggest read far get earli caus fill fast never ate buffet mani tasti thing menu lunch broke bank order poolsid heh live quesadilla quit dinner went properti aunt chillada across street larg serv mexican reason price hike far side properti bellman drive cart went way town place sawdust floor neckti hang ceil place one guid book mayb frommer wast money sorri recal name pool lot fun even year old boy enjoy float slowli crowd bottl neck occur lot lazi river also fun larger pool well anoth hint still read loung chair hard get especi umbrella make sure get earli get pool get chair mean stand line pool entranc open lot other alreadi promis warn tri save chair sneak earli thru tenni court empoye watch tactic take stuff away send back way first hand experi fun play tenni choos earli morn even court time avoid heat sure book reserv fill fun disappoint famili resort destin properti famili tri see',\n",
              " 'place famili return day getaway realli enjoy warm pool beauti ground friendli water park fun lobbi pool close warm rain quit bit went pool anyway spa bit pricey pas ground restur back next year',\n",
              " 'ok noth select water park child enjoy excit literatur led u believ lazi river lazi realli realli slow kid went pool underwat bar close thought blast drink cours adequ terribl bright first assign first floor dark recommend bedroom decent size bewar though bed uncomfort u live area ok guidebook describ ground lushli plant bit gener ground noth spectacular latanya grill pretti fabul corn bread restaur within walk distanc aunt chilada courtyard food overal decent valu paid night place get excit',\n",
              " 'casita comfort stay bi level casita week comfort bed layout quiet felt pretti privat properti larg workout get crowd phoenix conveni complaint decor also littl light bathroom keep window open heat lamp see shower happi full size fridg privat carport will lot fancier option phoenix scottsdal price littl rather pay littl someth awesom travel busi get chanc tri lazi river pool look place bring famili servic',\n",
              " 'ideal famili stay point hilton august time polit help suit size famili four food drink overpr restaur kid ate free kid menu ask fridg could stock beer soda avail mind u take everyth mini bar use charg made hotel stay north point min walk main recept understand complaint area mile pool etc advertis larg resort expect plenti golf buggi scootin happi give ride waterpark quit impress imagin get crowd weekend kid enjoy get much alway use one smaller pool one right outsid door use one weekend build wash machin dryer one floor use realli enjoy certainli recommend squaw peak anyon want base explor surround area sit back glass wine kid spend day pool',\n",
              " 'phoenix best kept secret food qualiti accommod polit courteou excel facil kid certainli recommend',\n",
              " 'time point got back night resort went along two famili time arriv pm allow check earli request close water park mini fridg got also abl get right next told occup rate holiday weekend seem crowd fine size small bathroom furnish littl old sufffic famili five quiet clean ate lunch daili restaur pool daili food credit deal conveni food servic slow waterpark ok stay point south mountain last summer water park much better offer one small waterslid lazi river kiddi pool four year old well larger pool zero entri point south mountain offer free cabana umbrella lucki enough snag one get pool claim spot shade area met sever famili return everi year u rather spend littl money go back point south mountain offer older child also yr old resort seem littl newer',\n",
              " 'point hilton squaw peak stay three night begin june gotten internet rate includ breakfast adult normal peak time unprepar crowd water park nearli imposs find loung chair said child love waterpark pool saturday night resort show g pg rate movi poolisd kid watch water plan activ weekend larg clean food well price resort definit child',\n",
              " 'prepar crowd must stay busi weekend plan three night couldnt wait get one night told low rate offer local peopl season must taken advantag waterpark way crowd enjoy even year old didnt want deal suit famili decor pleasant think locat overlook hour pool didnt help either pool realli need open long breakfast includ rate enjoy coupl choic restaur better rate camelback inn doubletre paradis valley chose unless kid dont mind crowd water park',\n",
              " 'highli recommend famili though first stay year earlier enjoy much without child stay three night may tour arizona earli flight meant arriv though problem immedi check suit seper live perfect u year old son view love pool swim bar child pool downstair realli matter waterpark fun surprisingli relax son content float around lazi river age whilst relax waterpark busi sun quiet mon tue lantana restaur best place food though hole wall breakfast real complaint kid club close appar requir kid open guess start low season still disappoint blurb led u believ open year round travel uk book cheapli trailfind paid inc tax better web deal',\n",
              " 'place waterfal background point hilton squaw peak',\n",
              " 'fun resort older stay friend summer free voucher older resort older averag water featur kid adult alik love lazi river float around water cours innertub provid resort waterfal sever pool water volleybal fantast drink special western theme restaur dine plea go elsewher phoenix boast mani restaur none resort resort tuck away citi reach restaur etc within minut drive',\n",
              " 'famili vacat spot return resort husband two girl age ball river ranch fun someth everyon lazi river relax slide waterfal kid updat servic properti clean well maintain restaur enjoy famili friendli squaw peak meet need look relax fun kid phoenix area',\n",
              " 'disappoint stay squaw peak last week busi meet eagerli anticip sinc sister properti tapitio cliff reallli enjoy boy disappoint properti old look fine clean updat properti quit run front desk friendli help never got pas fact nowher near peak busi road across street bank ground elev hallway mess food main restaur adequ best servic think plan meet warn cater realli sub par busi never pleasur least earn hilton point',\n",
              " 'stay mandarin suit return one night edward ii inn choic san francisco holiday weekend one night limit place requir three night highli concern read review late took chanc sinc stay bed breakfast privat bath realli problem pleasant help clean mandarin suiteth odd short staircas directli breakfast door heavi sound adjoin issu door bit hard open lock secur decor asian theme orient black lacquer chine style headboard bed pretti paint screen rest furnitur quit date frankli need updat electr fireplac complet worthless produc heat face way see fake flame bed couch tv whop screen clear recept dvd player bathroom clean spaciou plenti towel none super plush smell look felt clean blow dryer shower enclosur bit odd said lot towel could clean spray odd thing bathroom door toilet shower sink look privaci forget bathroom door larg glass window cold mini fridg paid twice much hotel warm fridg small wet bar type sink closet complet ceil high light period appear old build ada compliant overal fine clean theme provid charm otherwis outdat interior window frost see minim alley type nois could hear dish clank restaur next door quiet pm next nois heard around garbag truck came hey crowd citi stay old build expect absolut quiet mani wonder place eat wine bar coffe spot shop chestnut one street lombard breakfast also quit price pay hot fresh homemad quich yogurt two type cereal store bought danish pastri sever type bread fruit plate milk water tea coffe hot cocoa orang juic dish clean jai kept bring pipe hot quich newspap access internet wait u morn told u leav open pub much public want drink even happi serv wish told u night check idea european share bathroom like think everyon satisfi bed breakfast guid u food public transport option think accommod fine certainli luxuri note take bu powel bart station attempt walk end trolley car line lombard inn mistak made come boy climb big hill suitcas gruel bu lifesav get oakland airport marina area problem take air bart bu bart station oakland head san francisco save money put toward meal',\n",
              " 'peopl limit budget notic reserv said share bathroom never stay someth like sinc book bed thought one bath share person lol tini bare fit queen junior bed ok know land expens breakfast better la quinta hot quich cake also banana milk coffe tea yogurt cereal area look scari felt safe front desk restaur around pharmaci bad side internet charg extra noisi face street woke time hte night friend said ok total dislik green mold around sink furnitur ye sink front face besid closet smell bad coudl even say pee absolut disgust surpris share bathroom share bathtub locat one toilett locat anoth one morn go ot bathroom saw man come bath towel take shower note toilett occupi think pee bath tub book becasu could find anoth go interview univers although student tri wave detail order get student price back find anoth avail hte whole sfo',\n",
              " 'miser experi recommend edward ii anyon except peopl put ahead everyth el tini extrem cold day night ask turn heat told build heat turn way heat individu closet contain two hanger advertis gourmet breakfast featur open bowl kind dark brown dri cereal open plate bread pastri along uncov gray look quich stale coffe left boil hotplat chose individu packag yogurt fruit gourmet promis lack elev take luggag famili never return edward ii recommend friend',\n",
              " 'grotti littl wife given tini stuffi suprem queen bed oblig shove one wall mattress sag disast ventil consist window broken blind open wall shower control broken loo tile bathroom tv remot work sign decay absenc mainten everywher breakfast consist cold quich packag pastri white bread toast use place price realli gone hill',\n",
              " 'place outsid',\n",
              " 'british b littl bb form tradit british bb owner jai love wife could done u visit car emerg aros jai drove wife store medic suppli help u finish vacat alittl piec britain marina district san francisco fli scotsman',\n",
              " 'anoth b went honeymoon tough trip reason kinda small cozi land place long day decid rent car instead use bu system go everywher made trip arduou fun fix next time last day jai oper guy earth like food gave u mandarin suit romant last night suit fantast recommend spend littl reciev much better far goe trip rememb thank jai rita',\n",
              " 'place aw disappoint disappoint husband want place spend weekend inn websit made sound perfect pub coffe throughout day english furnish even glass sherri coffe throughout day etc well disappoint two night tini advertis upgrad queen tini spar furnish hard thin mattress torn shower curtain wireless internet broken pub close perman guess food continent breakfast noth special propietor never show face suggest save money one dozen age motel area doubt wors place',\n",
              " 'honeymoon place vote one romant place san francisco accord msn decid book honeymoon needle say sever disappoint outsid attract neighborhood okay quit close fisherman wharf area first made u pay front night plan stay night night radisson miyako price climb flight stair tini spectacular view brick wall alley full trash serious remind old maid tapestri teddi bear wicker furnitur hear everyon come even though back could still hear traffic spotless though complaint depart pleasant decid one night sinc tire get refund night refund night park paid advanc oh yeah park lot far pretti scari continent breakfast usual fare okay guess honeymoon stay radisson miyako le night',\n",
              " 'valu scott lombard breakfast friendli manag adequ even though reserv share bathroom bother bathroom clean step view bedroom window golden gate bridg fantast bit noisey first thing morn earplug made provid need visitor sf spend hardli time return day tour receiv warm welcom big smile diolch yn fawr',\n",
              " 'valu octob famili stay inn night gener satisfi place premis clean knowledg friendli quit small adequ complaint regard breakfast inn fill near capac breakfast tini alway pack result either eat pub bring tray back also breakfast continent oppos fulli prepar meal gather concept b n b price reason close proxim sever san francisco attract budget trip citi',\n",
              " 'disappoint book famili last summer review big disappoin famili want honeymoon plain small ask ladi front desk let cancel reserv look anoth gave complet refund mayb better saw return tri',\n",
              " 'love legaci patio legaci',\n",
              " 'choic quiet relax conveni minut drive airport never hear plane surround nurseri condo place rural home quiet minut outlet mall arizona mill quick access freeway minut drive anthem outlet minut old scottsdal fashion squar mall regular retail design shop larg number restaur around gallagh want view sport mani tv screen restaur legaci never disappoint extrem clean lower rate given servic housekeep miss u coupl time week visit rd visit slightli odd set patio look park lot stay longer period say week sure keep one day asid hour drive sedona red rock format scenari spectacular grand canyon hour away tri plan overnight time allow',\n",
              " 'okay husband stay golf spa benefit corpor rate gave u well locat close mall highway etc arriv impress well ground kept larg complex beauti view south mountain pool clean peopl work friendli profession howev issu nois thin wall unit also patio door face main driveway nd floor nois car golf cart drive back forth littl disturb especi around end day also need refurbish carpet clean must also reiter though happi help accomod arriv earli check mistakenli given check hour prior everyth mess howev offer anoth said wait also given free lunch restaur bad place realli even golf laura ontario canada',\n",
              " 'place book legaci prefer access realli enjoy one week first studio upgrad bedroom walk model easi studio bedroom feel like home lot park site restaur small food friendli washer dryer even studio full kitchen everyth need go buy groceri move right fri market mile away downsiz resort free internet pay per day get onlin pretti much middl phoenix area easi freeway access quiet clean definit back legaci',\n",
              " 'well kept secret super book pricelin got studio night upgrad one bedroom suit time share condo studio one bedroom lockout unit one bedroom larger unit full kitchen unit cluster two stori eight plex unit elev view golf cours live dine bedroom agre posit statement made prior review neg six park space everi eight saturday night unusu one host parti guest use park space count car park permit last saturday night secur made attempt polic park problem plan enjoy nightlif prepar long walk golf cours park lot back condo housekeep clean last two day complain solut leav pm pm time clean sinc noon pm clean go along solut gave new towel long discus empti trash although wi fi free internet free access comput printer lobbi print board pas wait check also dial phone call fifti cent unlimit call typic time share king size bed bedroom queen size sofa bed live howev two drawer one small closet thank lot floor space lay suitcas',\n",
              " 'opportun legaci twice last month facil accomod top notch especi consid reason price defin stay futur',\n",
              " 'legaci golf resort place beauti ground larg unit plenti freepark charg use phone wifi best way go hwi use baselin rd use mapquest direct sever restur coffe shop nearbi haverestur site howev use sinc unit full kitchen like eat town ice machin broke one unit nearbi nois unit wall think central ac unit run nice decor clean tv pool except quit famili w kid min shade area help golf cours site add niceground part properti privat resid allgat',\n",
              " 'love suit food excel golf cours defin return',\n",
              " 'laud legaci visit legaci golf resort nd st phoenix regularli past year plan continu futur comparison resort valley sun find golf cours accommod amman repres valley best golf resort valu far golf cours kept superb shape even heat summer cours challeng fair test golfer abil practic facil extens golf shop select golf apparel get discount fill questionair swim pool restaur tenni sand volleybal hot tub also properti morn guest announc voic mail plan activ avail day one bedroom condo provid everyth need short extend washer drier complet kitchen stereo tv doubl vaniti sink jet tub separ stand shower anoth singl vaniti sink dishwash balconi dine area even studio dishwash washer drier fridg sink microwav burner rang area around legaci restaur arizona mill mall movi theater attract close final found friendli help guest could ask carol taken reserv girl registr check desk louie joe starter cours moto one cart guy nick zell given lesson two chri head pro chri morrow time share sale other know name impress get friendli sincer come across real peopl way rather robot type serv paid resort visit look forward futur visit nick next tackl short game lolsubmit allan popsack',\n",
              " 'legaci town wed april book bedroom unit legaci golf resort weekend request unit close pool nd floor view plesantli surpris upon check request met love unit spaciou new kitchen huge bathroom jacuzzi patio look pool golf area comfort live dine sorri check day like spent time travel phoenix area sever time year visit famili hesit return legaci',\n",
              " 'wonder view personnel spent week legaci golf resort although play golf enjoy view golf cours mountain ground excel condit employe friendli whenev saw help question sever meal restaur friend everyon prais food conveni airport freeway shop major groceri store nearbi stock kitchen complet full size applianc includ dishwash cloth washer dryer highli recommend legaci golf resort enjoy phoenix',\n",
              " 'doesnt get better balconi view',\n",
              " 'golf ye peac facil best phoenix lot shop within short drive clean excel maid servic even start dishwash gone properti golf cours outstand pool noth write home noisi lot kid servic except bar unfriendli except golf could count one hand number time anyon spoke ask need anyth golf accommod servic orient degre woke juli th nite multipl gunshot outsid window parti erupt park lot gunshot took place polic arriv investig scari probabl tri facil phoenix come back',\n",
              " 'new rule bar servic pool pm four u decid enjoy sunset pool margarita went dinner local restaur arriv pool near pm guy group went get drink direct bartend go clubhous pool bar close clubhous told liquor licens allow serv u drink take pool question bartend rude ask manag manag ryan confirm concess restaur pool bar sold differ parti effect jan result liquor law allow serv liquor actual observ pool confisc someon el drink later left pool went clubhous drink appet karen excel waitress indic could give u drink plastic cup take take pool taken u imagin resort expect vacation enjoy drink pool sunset essenti part vacat experi',\n",
              " 'balconi',\n",
              " 'bad thing need awar first resort pretti facil well maintain big wall thin pool bit smaller pictur depict usual bit walk music bit loud also weird part built scottsdal surround neighborhood bit rough say least mind expect secur gate entranc low behold resteraunt baselin road part go take bit drive find decent place eat golf cours real savior cours well maintain even consid june challeng',\n",
              " 'resort stay three night legaci ground beauti well kept stay one bedroom unit unit wall thin could hear neighbor talk restaur ate breakfast dinner tri numer occas call conceirg one ever answer call front desk ask question said know answer transfer u conceirg answer phone said ask someon el hung say neg experi stay ran coffe walk front desk ask time got back unit coffe wait toilet becam clog someon unit within minut overal experi legaci except concierg',\n",
              " 'love legaci golf resort return week legaci golf resort phoenix perfect u close airport asu attend graduat yet quiet away busi street larg groceri store mile away starbuck target mani store outdoor pool lap swim found pave run trail onlli mile resort could mile run away traffic bedroom unit spaciou quiet appreci dvd player stereo unit golf use restaur comment previou comment neg regard lack friendli realli much contact busi thing timeshar daili phone messag attend present never respond anyon confront u ignor phone messag much better way hound mexico defin',\n",
              " 'handi golf airport resort golf facil excel golf kitchen need restaur limit servic nd floor studio suit appear locat loud mechan devic rate star resort otherwis star',\n",
              " 'consist poor servic stay wed mid april properti look golf cours amaz pool back custom servic year old run place one person check readi pm lot guest wait check around pool day talk earli check request concierg year old girl spent day email text messag cell phone ask question even look away phone mind paid night part wed group gladli paid stay nearbi marriott resort serious',\n",
              " 'place last week march confer nearbi use legaci golf resort guest overflow extrem will assist member need everyon stay found accommod delight definit use',\n",
              " 'legaci compar marriott canyon villa wife stay marriott canyon villa cv scottsdal day timeshar promot marriott okay cv stay quit cramp hall lead stark concret poorli light park lot felt like crowd apart build feel comfort walk felt like park lot everywher use jw marriott across road drive take shuttl drove fairli healthi hike park lot huge facil everyth huge crowd corpor contrast finish legaci golf resort legaci pleasant place well maintain larger nicer marriott feel human pleasant walk around scale like wildfir faldo cours marriott golf cours legaci probabl bit challeng though compar much cheaper littl restaur club veranda food servic workout facil fine block away farm south mountain charm restaur one breakfast lunch dinner breakfast like legaci better',\n",
              " 'time legaci book group legaci receiv servic prior respons need provid prompt servic met need ensur pleasant check check easi beauti ground well kept book legaci',\n",
              " 'trip experi travel lot year land phoenix anticip stay legaci golf resort heard lot resort husband golf buddi overal trip clean went u spaciou nice decor overal happi highli recommend',\n",
              " 'legaci custom servic sub standard recent book suit legaci golf resort phoenix one worst custom servic experi ever experienc travel upon check appear littl time check guest arriv wait line approxim half hour told readi clear indic given readi upon inquiri includ request speak manag final given number told could check hous keep finish clean reason given delay previou guest check late resort control howev approach suit notic sever suit still process clean lead u believ resort staf one point made manag book suit fact love worth wait wonder view mountain golf cours upper balconi final abl occupi step onto balconi wonder view two larg eucalyptu tree total block view book suit resort sever time past reluct futur poor custom servic',\n",
              " 'resort dobbin lookout point',\n",
              " 'beauti accomod stay legaci septemb found accomod clean beauti decor two tv set dvd player kitchen jacuzzi tub dine area etc workout well equip date machin tv definit return',\n",
              " 'longest week life trade week timeshar mistak custom servic consist bad howev food wors restaur bar suppos close pm differ night close earli sheet short call housekeep offer deliv sheet stop housekeep entir week shower head like stand high pressur washer without actual hower given bad inform check internet question resolv issu told sorri anyth overal disappoint resort never recommend',\n",
              " 'fair read review need know golf interest pool book right price thought quiet relax week shop phoenix unless go time share present never know amen place noth even restaur menu get voic mail messag everi morn tell come concierg desk welcom packet packet famili activ week concierg give hard sell pitch go time share present pretti full schedul new phoenix want wast time present wall thin heard everyon around u tv like le averag motel heard outsid nois bird woke u morn hear rhythmic creak bedspr u pretti properi golf cours view relax kitchenett help bed comfort price definit right paid studio concierg seem realli know phoenix well heard tell peopl mind hear neighbor go season decent place noth special',\n",
              " 'resort golf husband along brother got back night legaci golf resort timeshar owner resort spread realli book one bedroom block call casita minut walk main build golf pro shop mind walk unless book golf drove bag drop area want walk far book casita furthest away spaciou amen expect although find remot nd televis call complain oh pepper shaker empti otherwis beauti brother slept pullout couch said comfort thought go target get bed pad never got around king bed ok definit hilton westin type one complaint close night life u year old drive minut old temp nightlif want seriou nightclub minut away never actual made one u alway sober phoenix old temp awesom alway happi hour close lot pub includ uno expect conceirg desk help want go casino conceirg desk ticket free limo ride take back long agre hour golf ownership rate spa owner sure incent go tour drove properti own legaci call orang tree got realli pretti golf cours expens right golf cours privat legaci legaci privaci edg industri area pool horsesho shape hottub love day golf also went phoenix coyot game bought ticket box offic cheap seat st period move better seat cheap entertain also drove tuscon way took detour biospher cool scienc saw facil peopl live glass dome year also drove grand canyon took hour went american thanksgiv road dead mapquest say suppos take hour judg drive worth gorgeou sceneri forget drive sedona hour phoenix total awesom sceneri hike like cheap shop minut away arizonz mill shop centr www arizonamil comwel sure come back year book two bedroom wish closer stuff',\n",
              " 'love two coupl use rci point bedroom week golf wonder clean spaciou date furnish one complaint sheet use fit sheet bottom kept come ground beauti easi access airport lot golf cours golf legaci twice cours well kept also golf raven south mountain okay like legaci better estrella mountain realli like cours especi back nine fav dinosaur mountain twice cannot wait go back hesit resort',\n",
              " 'relax timeshar exchang u bedroom u found quit spaciou ground beauti clean date young colleg age peopl friendli help abl talk learn alot area never arizona gave u lot inform whole resort beauti area around dreari definitey mani wonder place visit arizona',\n",
              " 'glad free husband stay one night incent sit bore sale pitch hour time share howev glad free refridger ran night long annoy turn one point bad restaur order hamburg fri tast like someth could cook home waiter pompou lazi told want order hamburg look like three head guess never heard hamburg ask bar wench refil water sinc busi lollygag kitchen employe overal glad cost cent certainli mad actual pay crap',\n",
              " 'legaci price vacat coupl went legaci boyfriend june bedroom casita huge immacul entir night left dish drainer even pop dishwash u absenc first afternoon problem pool close promptli reopen next morn although park lot almost alway jam pack guest place near entranc overlook golf cours quiet peac throughout resort warm earnestli help older woman help desk oblig soft sell timeshar said interest pitch immedi end brought sightse conjunct resort grand canyon trip organ day long van tour friend took u river tube also made way diamondback game first indoor stadium tour botan garden slooowli temp equal happi crash place watch dvd ceil fan patio love touch well go back legaci heartbeat afford vacat plu save major buck min layov flight',\n",
              " 'resort white recent stay legaci golf resort week go well start use fit facil basicallli boot fit center white felt like black man kkk meet thought racism die sinc appar dead wrong racism prejudic still much aliv countri particular arizona nt recommend stay resort unless white',\n",
              " 'resort everyth need got back four night legaci golf resort chose resort base posit review websit disappoint particularli fanci resort everyth need comfort especi famili apart like facil unit hand feel besieg kid run around resort spread enough resort part shell timeshar system pressur join resort consist dozen cluster two stori townhous unit balconi patio sit ask unit view got one second floor face th fairway studio spaciou king size bed sit area sofa two armchair full kitchen sink half size fridg coffe maker toaster stove two burner wash machin dish glass pot pan utensil rememb microwav unit also stack washer dryer handi provid soap dishwash also handwash dish reason soap washer dryer biggi clean seem rel new dirt peel wallpap visibl sign wear housekeep servic everi day regular park outsid unit ground well kept check smooth registr desk young somewhat le polish five star resort friendli effici problem high speed internet connect hour move anoth right away request instead send someon fiddl wire main build also hous golf pro shop restaur spa gym tri pro shop well stock well run golf cours shape well maintain score star golf digest high golf cours phoenix area fanci cours enjoy round especi twilight rate guest nonguest start noon ye hot expect go phoenix june breakfast dinner restaur basic food like expect clubhous littl pricey get outrag servic complaint use spa servic use gym reason well equip two treadmil bicycl weight swim pool next main build popular famili though use resort ten minut south airport other note pas coupl spotti neighborhood way may want think twice stop nearbi ga station late night peopl hang resort fine secur guard drive around park lot time felt safe coupl shop mall five minut away car anoth direct resort central locat access golf cours restaur think posit resort outweigh neg legaci place without expens frill summer rate amaz book directli websit highli recommend place',\n",
              " 'place valu busi trip phoenix decid legaci thought could get round golf busi figur place golf cours empti snow bird normal leav april luck place golf cours full brim go next door raven golf cours stay studio pretti well furnish deck partial view one fairway breakfast club hous reason also pool area must say employe went way say hello probabl busi anyway recommend vacation',\n",
              " 'resort valu stay legaci first night may came away w gener feel place first problem direct web site come airport rental car relev direct life becam better check w smooth check concierg went way solicit need mayhav dinner recommend rustler roost wine bar organ restaur next door new sport bar gallagh mile away big w sit area marbl bathroom bonu refriger microwav small stove dw patio w deck chair beer nite site restaur realli golf bar howev free corpor card breakfast morn top notch even chanc play golf one nite pm tee club complimentari stay site charg hole threw cart cours knowledg golf employe yet top notch resort w better site restaur bit better site experi could achiev coupl year valu excel w corpor rate stay legaci hampton inn price',\n",
              " 'love resort beauti ground stay two bedroom condo legaci week two teenag son unit actual one bedroom apart adjoin studio apart spaciou spotlessli clean boy use studio basic sleep wash hang although kitchenett terrac washer dryer one bedroom huge live dine kitchen fulli equip washer dryer dishwash etc deterg etc suppli go hike nearbi south mountain state park wash cloth afterward one bedroom bathroom enourm soak jacuzzi although jet back marbl shower toilet duh three sink studio bathroom pretti standard one bedroom two tv dvd vcr plu internet fee help whatev need gave u promptli smile food clubhous fine noth special golf cours pool area nice kept clean grill hous bar fit huge well equip better four star hotel actual travel lot busi massag daylong hike done quit well cmt strongli recommend request top floor quiet view either golf cours mountain week advanc call reconfirm happi accommod south phoenix neighborhood basic scari written certain stroll materi need go drugstor starbuck supermarket sever immedi area resort ground spaciou enough feel need peac dinner walk liter road nd st minut walk farm south mountain intern reknown slow food organ restaur coincident featur usa today one top pick countri open breakfast lunch happi hour dinner best place eat downtown wild thaiger block central ave past heard museum outstand thai food better la nyc overal certainli legaci deal easi drive place might want see phoenix scottsdal area',\n",
              " 'deal legaci compromis price valu mile airport drive pas basic neighborhood factor ground excel along accomod clean view restaur golf cours challeng golf rate reason includ discount stay club comlpimentari definet go back neg one time maid servic issu came ask leav stay night know call clean return pm seem languag problem understand english sure norm servic',\n",
              " 'wonder unit close proxim airport husband stay legaci two night one bedroom upstair corner unit overlook golf cours read review request upstair unit quiet view plea surpris request met furnish unit spotlessli clean view balconi love peopl front desk pleasant effici particularli like gym afford pleasant view golf cours got take food restaur reason price tasti enough swim pool look swimmer never ventur first night hardli slept kept hear sound like front door open footstep come hall bit scare even got investig big brave stay call front desk enquir go way heard nois day addit odd nois never figur nois end surmis perhap place haunt could build settl howev legaci close proxim airport ad attract',\n",
              " 'enjoy th elegaci golf resort three u stay legaci golf resort last week standard week long golf holiday cramp dough jam three u standard everyth fine pool close reno fine golf new pool open day depart look real golf cours noth special cours nonetheless clean comfort ampl cook facil inclin prep meal etc daili newspap treat neighborhood fine complex someth like acr le gate safe safeti non isus u despit one two folk say neighborhood minor issu front desk fax document u believ ever fax make wors document shred offic maintain polici say least found littl odd life roll legaci real close sky harbor airport downtown phoenix temp virtual everyth fax next time',\n",
              " 'place pool look',\n",
              " 'absolut fantast resort husband stay legaci resort day begin octob th beauti resort landscap fantast view incred food restaur stay time reseed golf cours pleasur crowd golfer view south mountain even beauti romant bedroom condo combin larger home beauti red marbl bathroom top notch furnitur kitchen applianc stay number gold crown timeshar place absolut best say enough thing place hesit go',\n",
              " 'time legaci love legaci stay four night earli octob studio suit golf cours view second floor first ton amen kitchenett microwav two burner stove mini fridg toaster coffe maker even washer dryer earlier review note bed littl firm side find inhibit sleep addit young famili check adjoin suit notic nois result howev think enough problem keep stay legaci view golf cours balconi pool larg uncrowd fun littl pool bar resort practic abut south mountain park phoenix resort activ offer lot free activ guest watercolor paint hike park etc also fit complimentari guest ate resort restaur food wonder creami rich steak dian well thought extrem well price book onlin book servic got deal realli enjoy legaci visit phoenix definit consid stay',\n",
              " 'amen well maintain stay two bedroom unit legaci golf resort resort well maintain two bedroom one bedroom plu studio unit impress one bedroom studio dishwash washer dryer two bedroom unit resort dishwash washer dryer larger unit huge jacuzzi tub touch full kitchen made conveni make meal eat time front desk accommod help enjoy resort way miss excel citi view south mountain park short drive resort sunset view fantast',\n",
              " 'simpli best stay night want return home site kept spotlessli clean immacul manicur cannot speak highli enough extrem friendli help particularli restaur golf shop play cours twice excel bunker punish cost use rang unbeliev valu free use chip put fantast mention neg choic restaur menu slightli limit although food servic excel howev part holiday explor place eat plenti choic short drive away conclus absolut best place ever stay wholeheartedli recommend cannot wait return',\n",
              " 'plan resort prior review say warn misfortun event sorri accommod manag thing asid situat rare affect other like legaci golf resort truli best experi resort time arriv everi level servic call ahead confirm reserv bedroom condo golf view incred thank expedia legaci golf resort awsom look forward visit soon',\n",
              " 'confort place find deal entranc legaci',\n",
              " 'terrif legaci beauti plenti space housekeep came inconveni time pm want get readi dinner kept spotless littl troubl broken coffeepot took tri day final go front desk pot ask new one view beauti golf cours south mountain love washer dryer avail especi horseback ride south mountain sedona pool area lot shop restaur closebi larg mall arizona mill baselin le minut plenti activ resort adult well kid go back anytim',\n",
              " 'place courtyard unit',\n",
              " 'resort showreview full',\n",
              " 'comfort home showreview full',\n",
              " 'excel one night given free upgrad king suit upon arriv suit larger mani apart king bed extrem comfort quiet everyth tri work internet fast chanc tri jacuzzi tub also time continent breakfast comment vend machin floor choic water soft drink shuttl ran everi half hour airport prefer everi minut idea standard definit',\n",
              " 'clean comfort quiet attract stay properti book hotwir check went smoothli front desk friendli help assign clean quiet comfort space especi appreci comfort king bed happili ideal access car phoenix airport arizona state univers temp',\n",
              " 'valu friendli stay night hour exrem friendli help clean adequ',\n",
              " 'exactli suppos look place sleep long transatlant flight distinguish mani other fine bed realli comfort quick easi find airport access drive phoenix next day breakfast issu concern restaur bar waffl hous car park bar restaur next door think deliv realli problem place rest weari head',\n",
              " 'place long flight book basi review site thank guy excel long journey due delay heathrow inevit long time take get secur get car hire centr get littl oasi need snack sold pot instant noodl shop trick spotless everyth need quick stop began road trip next day continent breakfast exactli describ set u day chap recept realli help question ask includ direct could onto inters next day comput connect internet recept guest use free big help need bit research travel think best night sleep whole trip apart anoth holiday inn express benson az',\n",
              " 'better expect stay one night flown new york head north flagstaff book two twin bed next husband kid check trip advisor review expect clean basic howev pleasantli surpris two queen size bed spotlessli clean bed comfort ever slept air condit work well noisi bathroom also spotless choic complimentari shampoo etc slight disappoint continent breakfast offer littl choic howev night reckon reason valu overal use',\n",
              " 'valu airport conveni recent drive phoenix sedona need place shuttl servic airport best place shuttl came within min call driver pleasant request first floor sinc travel mother help accommod u immedi everyth expect hi express especi cinnamon roll next morn shuttl bu right time next morn took u termin time place need near airport shuttl servic',\n",
              " 'choic earli flight choic quick access car rental return airport desk clerk friendli check plea everyth el clean small refriger microwav one pancak restaur nearbi drive littl way find restaur dinner sinc earli flight abl enjoy complimentari breakfast notic comput internet access printer lobbi checkout unnecessari sinc statement place door night need near phoenix airport happi',\n",
              " 'realli realli thought bed super comfi lot pillow choos clean shower definit ever visit area',\n",
              " 'bed showreview full',\n",
              " 'easi access rental car return showreview full',\n",
              " 'park showreview full',\n",
              " 'perfect need showreview full',\n",
              " 'perfect airport showreview full',\n",
              " 'excel h tel showreview full',\n",
              " 'recommend excel well locat friendli spa pool think top amaz howev perfectli reason price breakfast jerri deli',\n",
              " 'sofitel comfort bed',\n",
              " 'excel way servic top notch time walk door reluctantli leav bellman front desk servic waiter spa everyon amaz attent curteou friendli time alway immedi servic smile decor modern surpris sinc last time stay year ago conserv french decor ultra modern favorit tast nonetheless bed amazingli comfi comfort pillow feather bed top mattress flat panel tv everi high end toilettri maid servic effici neat everi night gym realli one nicest ever seen alway high end hotel free water gym internet servic lobbi gym oddli enough conveni also alt internet access nobodi expect concierg friendli well experienc spa amaz offer foot soak hot tea wait treatment therapist excel spa beauti nice appoint also fresh rosemari grow outsid spa aroma walk slight problem w valet slightli disorgan first morn left rush get work wait min key although call ahead car sit front attend much concern w car come one leav wait long forgot give tip insist give key made stress start day excel food breakfast dinner outsid bar wonder fire pit made cold night enjoy seat insid restaur comfort unbear wonder',\n",
              " 'regret longer perfect time walk sooooo friendli eager help perfect across street beverli center minut walk robertson boutiqu minut ride rodeo drive travel alon want make sure stay place felt comfort despit hot spot quiet clean bed heavenli never want get shower cool see hollywood sign hill behind definit recommend plan return longer',\n",
              " 'best place ever stay best time ever view north',\n",
              " 'glossi exterior incompet servic decor chic look night sleep decent servic got neither th floor could sleep wee hour morn music blare disco st floor music discontinu call complain beg question prioriti run disco repeat slip up breakfast order put night lost anoth breakfast order arriv peanut butter god know butter toast lunch worst ceasar salad chicken soup ever ate articl cloth lost bag move one anoth bellman never recov favor find compet le chic',\n",
              " 'ultim place front exterior',\n",
              " 'super love frett towel linen roger gallet toiletri hollywood regenc dorothi draper style decor heaven complaint stone loung drink expens still believ put margarita small wine glass also stone loung loud tri busi meet',\n",
              " 'excel anoth pictur',\n",
              " 'comfi bed stay sofitel renov year ago decid give anoth go see chang still effici becom friendli seem littl smaller bathroom bit bigger much nicer bit clutter shower enorm two differ shower head choic bed plea say must believ bed die sooooo comfi unbeliev',\n",
              " 'love comfi bed view see hollywood sign',\n",
              " 'experi everyth top front desk help courteou small suit beauti done flat panel live area bedroom small televis bath bose sound system although brought cd two sofitel cd internet servic free provid cord desk drawer connect bed comfort almost want leav extra thick feather pad four pillow assort firm top wonder comfort perfect shower anoth treat rainhead think name window could see bedroom also flip switch becam opaqu privaci big jet bathtub well go sure drink bar downstair stone rose later even busi lot fun outdoor patio wonder couch give feel privaci also fire pit sit around wonder meal restaur simon la patio wish paid attent order seafood appet price pp make kind expens plenti lobster shrimp mussel clam oyster delici variou entre especi sear tuna fit area well done free weight cardio weight equip provid headphon water bottl fruit cool damp towel scent w mint also went spa ideal facial vanessa nearli best facial ever friend massag said start spa experi tea foot soak relax access steam bath shower guest even spa treatment shower woman locker area jet minut recommend everybodi told went extens renov year ago place la',\n",
              " 'choic recommend better architectur interior design bathroom incred ok thing like spent one night pay internet connect servic employe realli kind also valet guy',\n",
              " 'best lo angel sofitel recent stay lo angel sofitel say best stay anywher beauti friendli smile will help make sure one pool clean even bbq go need go look place eat clean view hollywood everi detail perfect carpet art gym best clean suppli water towel fruit well alway come back lo angel sinc sofitel lo angel beat long shot',\n",
              " 'back upgrad soelit sq ft king bed laid like rectangl larg small triangl cut diagon top corner larg triangl bathroom larg bath fulli glass enclos rainfal shower vaniti toilet small triangl step closet two set french door lead onto tini balconi deep shoe still touch bed one lmost king husband foot reach way end bed soft comfi plenti pillow like firm bed like soft light either side bed reader also two small dresser one doubl nightstand chais desk wheel littl cramp fit much furnitur overli advertis plasma tv actual lcd still tv alarm clock adaptor mp player obviou bathroom light took minut figur multipl posit rocker dimmer phone next toilet need connect time tv sound also play bathroom want hear tv get readi water pressur also much hubbi prefer bit le shower sink small towel rack next shave makeup mirror use sink shower glass wall huge shower stone tile small built bench shelf toiletri photoelectr window look bed flip switch opaqu flip clear much fun flip switch back forth shower view hollywood hill amen closet frett robe pair slipper pad lingeri hanger well made shoe horn safe fit laptop thought slipper touch even littl put idea wear sed slipper closet also terrif sew kit queen amen bath small canist cotton puff q tip plenti fluffi towel usual array soap shampoo bodi lotion roget gallet brand hairdryer small cubbi vaniti take excess counter space also bathroom loofah mitt seal packag thought littl silli wore adhes bra even scrub excess adhes next morn high speed internet pay day seem littl steep low end motel offer free wifi comput savvi husband abl find unsecur network easili comput skill need pay mini bar well stock although crazi expens mini bar tri get anyth e left behind gift shop sell everyth soap robe lamp sheet mattress toothbrush bottl aspirin howev hour drugstor chemist right around corner everi need polit help still small snag although specif ask hollywood hill view made reserv first given face beverli center sure get hollywood hill view much nicer also ask check pm check last day got new request seem go last morn chambermaid tri get still bed call front desk straighten quickli bit hassl first night stay want watch pay movi system call front desk someon suppos call back fix glad never went sleep midnight skip turndown servic one night major issu know take decor pillow throw bed valet stand alway seem like one knew go car alway wait u soon call made clear park day given realli choic small snag certainli stay sofitel',\n",
              " 'realli like often sofitel hotel one right line sofitel chicago enjoy labor day weekend upgrad sick view hollywood hill big signatur sobe amaz floor ceil window bathroom also size huge rain shower complaint slide door bathroom shut way servic par sofitel everyon polit best part besid view free poolsid labor day weekend bbq awesom fit center will pay per night rate definit recommend area fun full restaur shop close everyth',\n",
              " 'outstand sofitel got back england wonder night sofitel la arriv greet friendli porter valet servic men desk also friendli superb specif hd tv stylish bathroom shower enjoy complimentri spa steamroom sauna facil visit everi morn prime access beverli centr includ top design shop also stun bar restaur overal found sofitel truli unforgett experi definit',\n",
              " 'elsewher never stay dazzl pitch black hipper thou faux trendi cor place otherwis amateur hour sofitel took beauti french style comfort reason turn exorbitantli overpr hideou post modern hous nightclub spa charm cultur revolut seen everi inconveni common arrog aggress post modern design lightswitch insid door stagger around dark find one electr outlet lamp plug therein work alarm clock work none key card work go way downstair get new one front desk everi time went light bathroom harsh extrem poorli aim hard locat oper travel partner unaccept small strang triangular wedg exorbit rate normal rectangular featur glass window bed look bathroom sinc activ bathroom consid accept display window bedroom bed cover huge duvet quilt top sheet one lay feel like thick floppi supportless goosefeath pallet kind bedboard actual mattress pallet rip pallet undersheet threw complet human stain floor extract quilt duvet cover approxim univers standard mattress normal bedcloth sundri shop noth happen tri get servic like check tv set clock back twenti year requir front desk check pitch black lobbi hideou metal construct match alreadi thread bare carpet elev aggress unattract orang curley que corridor carpet number offset diagon read one pas door inset number noth date faster today hip trend even done artist fine cash happi twenti someth seem exclus clientel seem happi cut edg yesterday',\n",
              " 'sofitel amaz stay sofitel busi night recent renov catapult differ categori entir beauti well comfort bed extrem soft white comfort pillow bathroom design amen top notch rain head shower brand name toiletri even speaker bathroom may listen news get readi morn also locat across street beverli center mall road cedar sinai restaur loung lobbi serv food typic price well worth cotton candi dessert die ask waiter assort tray dessert even loung becom vip type place expect velvet rope come',\n",
              " 'overr hallo travel book specal rate ok clean check internet cafe next recept stick keyboard found open bottl wine behind flatscreen tv best cool guy valet park cool forget client',\n",
              " 'suit bedroom',\n",
              " 'mix bless stay night first face beverli blvd sleep downstair nightclub close larg french window poor nois insul second third night better got face hollywood hill could even see hollywood sign bed still constant slam door made rest night sleep weekend close imposs profession courteou understand restaur breakfast brunch dinner excel valet fast reliabl summari get even number face hill still expect rest atmospher one otherwis expect level',\n",
              " 'ho hum stay final push refurbish thing pretti topsi turvey incred help noth much troubl even mention smelt spent week nicaraguan jungl howev huge expens clean came back jungl bake rather clean given upgrad junior suit look beauti bed sumptuou howev whole thing rather spoilt road nois doubl glaze look main road found bit bind guess british like walk take buse everywher long hot walk hollywood buse seem stop near mayb use wrong buse food restaur without first class',\n",
              " 'plea la due corpor polici wish case hate stay sofitel certainli love said perfect bed unbeliev comfort soft actual sell e e contempl buy one probabl move walk closet perfect woman exactli travel light bathroom also spaciou shower w bench toiletri rather masculin smell use may sound silli also alarm clock soo loud never overslept despit super comfi bed manag beyond aw everyon unfortun overshadow bunch wannab actor job use person credit card check alert cc compani travel go straight instead ask call verifi charg well check guy made loud fuss card declin insist possibl care argu tri receiv phone call cc fraud dept ask charg call verifi final got hour later apolog wannab actor upon checkout learn compani ridicul fake superfici sinc checkout info enter system consist fake everi time arriv hope fire nope lway unless like locat near express way highway ot sure larg fast road horribl view non exist also locat across street monstros known beverli center beverli center handi ton mass dept chain store shop exterior hideou cute gift shop stock wonder thing like marvi toothpast alongsid novelti like mile high kit lastli la everi fun pool scene strong restaur fun bar except sofitel like mix busi pleasur plan head hotel nightlif destin',\n",
              " 'heart sofitel sofitel leav one detail spare stay king superior night shop mani mani la bh hotel found reason one night sofitel regret one penni spent decor white brown modern clean appear shower unbeliev fog window watch tv hd lcd surround sound bathroom shower wish suppli bathroom fine soap shampoo enjoy travel ton custom servic excel never felt place swanki someon help everyth luggag valet housekeep come prepar plenti bill park night compar la hotel ad expens must consid pool fit center excel luckili pool crowd quiet relax pool chair super comfort fit state art best equip avail also offer free bottl water cool scent towel sofitel futur whenev possibl',\n",
              " 'amaz travel ny week sever year like place fun howev wont sacrific servic enjoy busi trip work music busi time call travel offic told new tri sofitel la resist heard assur place sure enough met artist usual hot place everi mani year problem usual someth hot bar hot eateri howev usual bad servic l stori case servic area nightlf even surprisingli outstand spa look like final found hot one fade scene overlook someth thought everyth look like la step game found new home away home dont need spend like king bore posh locat consid anoth busi trip might well enjoy trip check place true hollywood hollywood peopl dont see guest part scene though one famou celeb live beverli hill treat well im look forward summer secretli enjoy trip la everyon work think im anoth arduou trip work',\n",
              " 'ok nice locat near everyth ok shower like everyon mention must everi averag size bed comfort view side mall huge billboard evan almighti conceirg fabul help best part bellhop doll soooo help guy front desk bit stuffi never got use pool close pm learn nobodi like walk la chose walk farmer market grove peopl thought nut bad took cab back walk distanc ivi lunch walk also close spago dinner park la bad fun call everi time need car cours time call car tip valet mall across street felt safe time sofitel overal think overpr noth write home though',\n",
              " 'manag replac fourth refurbish book sofitel prioriti servic clueless fact comfort book premium singl clerk tri book minimum lower floor face berverli center everytim arriv ask stay front desk valet recogn sinc drive la desk clerk manag weakest link servic front desk need work european man front desk instead peopl sell coffe starbuck return anoth use check wait twenti minut belman',\n",
              " 'experi perfect shop restaur lobbi beauti check realiz cold turn heater wait hour never got warm appar window seal move u anoth extrem hot air condition work move u third time small appear work heat air could final settl rest manag apolog even offer explan fact person front desk rude check first thing next morn went hyatt wonder never understand thing happen apolog',\n",
              " 'love go back',\n",
              " 'comfort free silpper',\n",
              " 'fabul la highli recommend stay time last year want add voic prais sofitel stay penthous level run hous balconi high floor get view la skylin local area realli atmospher perfect get feel high qualiti stuffi plenti custom servic concierg fantast waiter servic fixtur fit extrem high qualiti refurbish programm made even better bathroom lot littl extra even thought larg plasma screen tv choic channel well stock mini bar top notch snack drink fabric furnish high qualiti bed comfort like soft bed taxi rank next alway least coupl car wait westfield centuri citi name chang shop area also grove minut taxi lot shop best part find beverli shop centr opposit side road lot shop even cinema catch latest movi whenev go back la stay understand point made anoth review slightli sniffi french servic recept uk use deal french problem recommend expens worth extra dollar',\n",
              " 'profession servic one problem recent stay sofitel la night overal servic excel profession fast graciou howev one issu way handl surprisingli unprofession first comfort bathroom shower excel huge bed pretti new count lot littl soft side due featherb turndown servic night bottl evian someon alway front door welcom open door one door one valet saw come ran open breakfast simon time excel time serv excel french press coffe terribl coffe snob one morn ask new cup let coffe turn lukewarm instead got entir fresh new pot french press forgot avocado omelet rush entir plate avocado also let u sit forev sunni morn also dinner drink simon stone rose scene littl much food excel best thing order menu iron chef burger tini perfect burger fri truffl oil littl milkshak miss fit center clean open help shoot also provid bottl evian chill towel browni muffin internet access comput headphon pretti complet place hang spa treatment facial massag though pricey new york compar priciest spa howev top massag relax set coupl minut bed sauna open yet unfortun locker el beat walk dinner mani night sure even possibl part la also walk shop weekend coupl minor servic issu along way maid open door came one morn still bed apolog quickli left shampoo condition replac day call housekeep get new one sent came quickli big deal ok bad day two car park front desk call confirm credit card charg pile charg ask oh per day per car charg extra park rental car day went front desk speak manag problem pay whatev need paid thought wrong told mention valet ticket hand mention literatur mention packet give check option park separ lot instead apolog inform u charg make small gestur exampl credit restaur spa someth cost much god forbid apolog said la park premium ye said understand new york problem pay park problem sneak charg onto credit card someth le profession place fit rest experi anyway continu way manag refus acknolwedg told get increasingli huffi mention night end paid consol take extra browni bottl evian fit center still place though pain say probabl',\n",
              " 'sofitel lo angel c est si bon photo',\n",
              " 'like like short drive rodeo drive think mile sunset blvd also right across mall also big new furnitur like marbl bathroom adjust shower pressurew eat say gym pretti larg fulli equip equip littl old',\n",
              " 'stay sofitel lo angel night stop first impress one sinc check took minut get pm also request view reserv view wall beverli mall initi disappoint clean nice decor bathroom help friendli breakfast servic ok excel excel opposit beverli mall plenti walk distanc short taxi ride',\n",
              " 'overnight la stay la begin tran california roadtrip arriv christma day front desk friendli courteou even though clearli quit crowd given stylish seemingli new furnitur bed concierg effici knowledg self park u valet u expens seem norm la area breakfast morn incl free aaa rate delici friendli highli recommend surprisingli reason rate',\n",
              " 'excel servic big problem outsid nois terribl rate wonder servic travel frequent busi typic star hotel reluct complain never ask chang anyth like read first review see mani complaint nois guess book last minut negoti lower rate elig quiet perhap quiet alreadi taken make sure get high floor ph least bar front drive construct site oh construct th floor avoid well bring earplug cautionari tale given th floor bar outsid area first night subject loud music rowdi patron well wee hour wednesday night manag extrem sympathet move u side th floor person inspect also gave u discount night seem quieter day got back around pm could hear raucou parti band tent front luckili end pm tri go sleep night realiz directli front driveway busi intersect valet blow pierc taxi whistl car honk etc also construct site across street noisi luckili brought earplug abl sleep otherwis remark friendli help profession mind cost valet park conveni fast well worth even clean bug windshield drove sf touch',\n",
              " 'excel servic centuri citi hyatt make delight place servic highli profession attent detail everi singl interact delight also larg clean well appoint much enjoy sit balconi watch sunset even confer meal confer defint well averag thing could realli find fault price high night howev lo angel prime price tage go',\n",
              " 'constant world chang stay mani year one amaz thing number long term seem abl effortlessli rememb year year make transact realli amaz must see thousand upon thopusand peopl week week realli relationship base atmospher realli constant world chang seen number chain run place remain thisck thin sure minor niggl hotel thing go wrong time time alway proper respons issu certainli plan stay forese futur make sure northern end properti away construct site occupi site former doom st regi start earli call advanc',\n",
              " 'ouch conscienc hurt stay confer mean pay kind money belong kid colleg account chain delight servic housekeep front desk realli larg super comfort bed small okay bathroom thank cover unhygen bedspread freshli launder duvet cover wish everi star stay omni cnn atlanta still appreci makeup mirror found toiletri strongli scent tast u fragranc allergi hello peopl cute balconi overlook bank build across street five minut santa anna wind sent insid allergi attack much use anybodi real kicker kid realli laugh later starv arriv find restaur price rang mall nearbi know yet order servic pizza came anoth tax servic fee charg ate pizza never hear end kid probabl never last',\n",
              " 'excel stay busi happi qualiti check easi welcom starbuck lobbi pick coffe walk offic morn larg furnish modern comfort suppos night meet cancel therefor stay problem check earli charg cancel fee second night rate despit give le hour notic polici state impress tri doubl dip',\n",
              " 'hyatt centuri plaza top notch centuri plaza wonder arriv late ask colleagu abl check wheni spoke front desk follow soon gave name without look record front desk agent said oh colleagu check servic throughout short front desk offer amaz servic howev restaur fall short expect food altern high qualiti mediocr servic slow seem confus',\n",
              " 'centuri plaza ten second time stay centuri plaza use westin hyatt regenc experi simpl locat walk distanc incred outdoor mall restaur shop excel view attent well appoint simpl clean buzz feel southern california energi peopl move lobbi lobbi bar alway peopl meet enjoy class act highli recommend central locat far larg number lo angel hollywood locat conveni say enough thing chanc',\n",
              " 'still one favorit stay hyatt regenc centuri plaza westin look forward return busi month disappoint although wear tear properti continu excel choic area conveni locat profession also wonder starbuck properti agre review bathroom dark side think notic la place made get readi full schedul dinner meet bit difficult definit hyatt recommend due intens competit area manag fund upgrad properti',\n",
              " 'servic clean well appoint sign age noth shabbi outdoor area',\n",
              " 'friendli place stay day confer south end hall drawback earli morn nois construct next door late night nois loudspeak fulli autom park garag rememb take park ticket park day privileg properti structur behind day hike includ inclin flight stair properti structur architectur straight think auster glass featureless hot day glass make entir western exposur furnac keep black drape drawn day amount c night cool get sun day long skimp housekeep day still made p p glass line hallway morn still along trash left behind housekeep morn bed dream towel soft plump toiletri though gener use prefer fragranc free understand hotel provid shower cap anymor item cost coupl cent matter much pay anymor never get one plead housekeep send cost labor walk upstair save leav make look soooo cheap new flat screen digit tv sleep timer remot new fangl clock radio let dock gadget got em way set time correct time way adjust blindingli bright display dark shockingli poor condit furnish ballroom area someth remark filthi stain worn upholsteri chair sofa loung area stuf come pillow dark ugli stain chair cushion poolsid cabana guess given choic rather sleep better maintain okay overal impress make serious erod condit public area size public area leav lot desir one smallish restaur reason item lunch menu turkey burger excel sandwich astronom price poor servic eat hunch coffe tabl lobbi loung ask twice napkin silverwar long wait check close starbuck shoebox size gift shop offer soft drink candi bar option servic menu limit extrem prici know custom say busi clientel definit right vibe vacation pleasur tripper charm warmth expens',\n",
              " 'lot kink nice appoint howev major problem internet servic complet mess abil work compl servic complain matter internet servic expect busi focu properti like servic menu way limit bathroom dark need light',\n",
              " 'better hotel la stay hyatt centuri citi late juli bar exam quiet nice furnish complaint though found toiletri subpar coffeemak feel free spend money starbuck downstair guest allow put anyth mini bar fridg never heard thing park expens either night expect la quit hike lot also walk distanc centuri citi mall bloomingdal overal ok visit la much centuri citi except mall probabl better time stay beverli hill',\n",
              " 'excel except construct work go stay centuri plaza night got ph penthous level rear build view littl surpris get easili got cheap traveloc assum quiet found reason next morn build site came aliv around mention book recept check complain although mention checkout due earli next morn anyway know fairi consid basic financi offic tower westfield shop centr across street ideal grab food maci bloomingdal amongst other minut walk rodeo drive area seem safe enough also bu form big blue bu compani leav around corner go santa monica take min depend traffic cost c per person one way absolut bargain get detail bu stop concierg found help car need know could get easili foot public transport overal enjoy go back la probabl somewher el compar',\n",
              " 'famili friendli pricey worth money kid look elsewher famili restaur poor expens food refriger came pre stock expens snack put drink water repeatedli ask towel two three peopl park also expens prepar keep lot extra cash tip valet',\n",
              " 'expens stay centuri suit realli comfort quit spaciou care minibar pay item moment move spite come back recommend',\n",
              " 'beauti renov spent three night late august year old son terrif time properti renov eye detail dark wood modern furnitur larg lcd tv terrif bed stylish bathroom bathroom light function properli promptli sent courteou repairman fix problem even hallway elev lobbi floor stylish told pool area renov soon kind surpris look forward see book aaa rate pleasant surpris given voucher free breakfast u three day restaur breez serv terrif breakfast although certainli spend breakfast two come pocket terrif went eat centuri plaza mall sever time standout houston french terrif food treat son respect food court top level lunch option well went see harri potter movi new amc movi theater mall comfort stadium seat real issu valet park charg feel excess hotel southern california think outrag asid love place back',\n",
              " 'cool best pool area hot tub lo angel area hoel huge quiet lucki enough backsid view mountain westwood area pool area servic present well came promptli order bed firm comfort individu c work perfect park easiest yard park ran day valet park consider also short walk westfield shop center plenti restaur quick bite eat look middl hollywood close rodeo beverli hill',\n",
              " 'love love dog husband stay unplan gross le parc check immedi made reserv day valet line use free wi fi found everyon extrem accomod spotless balconi equip small tabl chair love dog alway welcom book yahoo receiv food credit hint avoid servic charg order meal go restaur sushi walk rodeo westfield mall right next door gelsen market die enjoy everi minut outsid park lot across street want pay park bonu farmer market across thursday fresh produc prepar food',\n",
              " 'amaz fabul close shop restaur sampl nightlif local short cab ride sunset strip easi access public transport santa monica one way hollywood help immacul luxuri huge balconi could sit pool area although use alway live huge shop mall liter doorstep plu market book pricelin got deal impress say least',\n",
              " 'beauti decor stay hyatt two night earlier month girl trip american girl store drive disneyland call find long take u get told two half hour incredul sure enough took u le hour arriv check ask long take u get american girl store grove mile away told forti five minut mayb gaug travel time base peak travel multipl car accid along way estim far realiti help taken aback valet park charg per day told altern park priveleg park valet front desk clerk told u cost u everi time park left arriv late want get sleep park check verac inform regard park lot anoth review mention front park area quit congest sure call ahead car brought around use park everyth beauti lobbi hallway bed comfort decor love probabl cring thought park charg use pool one even close think bit earli consid loud voic come outdoor bar area well past midnight sinc visit center around visit grove american girl store perfect took u minut get go morn',\n",
              " 'place fantast say enough much enjoy clean date love view hdtv friendli extrem help close mani thing la spent day la famili vacat central locat attract wish visit fortun elimin deal traffic concern made sure locat non busi floor distract mani busi travel deliv everyth expect pay',\n",
              " 'noth special fine busi travel certainli noth special constantli line front desk hold intermin call report problem televis housekeep bit spotti day other king reserv avail arriv offer move next day construct go next door begin quit earli morn equinox gym wonder day charg bit steep',\n",
              " 'fee charg guess fee get wrong quit love look clean well furnish lobbi someth seen travel bewar charg anyth come reason servic becam requir gratuiti conveni feeour park one night yike let forget hefti occup fee supris get top price still understand one got waiv occup fee top thing wed night knew note reserv congrat check nothin opinion hyatt slogan regenc centuri hyatt lucki even let',\n",
              " 'fantast use site thought contribut least give review hope help peopl choos hotel la visit la sf ny stay hotel along way hyatt regenc centuri plaza far best whole trip stay pick hire car airport drove directli omg traffic got pm valet park bit chaotic limit space front lobbi grand could expect hyatt went receipt told detail show newli regist gold pas told sinc use onlin agent point earn except incident nevermind worth tri guy alessandro someth polit nevertheless park think ask high floor got assign th floor tip guy help thought given smallest surpris big king delux could easili fit anoth bed face ave star directli opposit offic build across road could see bit distanc hous even bit sunset although right main road hear much door balconi shut balconi carpet two chair still space move around bathroom huge well plenti toileteri shower power though space put toileteri ledg rack bit inconveni sinc eaten sinc morn hurrili went centuri plaza well recommend food court omg stuck mani choic settl sushi min check counter ate outsid bewar pigeon hungri eye quit disturb went gelson get fruit water etc store recommend store close one open hour think sonta monica blvd close san vicent intersect much cheaper centuri plaza famou brand though went back check pool gym pool one main coup splash pool kid outdoor ok sure temp arrang gym next door equinox need pay use appar popular among celeb long wait list membership express discont pay use one basic facil alex guy mention whisper person talk immedi offer breakfast coupon shut u magic tip got enjoy breakfast everi morn mari breez restaur serv u morn attent tip everi morn food ok chose buffet breakfast easier fruit choic cereal cook section could better choic limit ok though also newspap daili time got probabl one goldpass benefit enjoy much highli recommend think star star opinion defin given chanc',\n",
              " 'biz recent renov mod plush gorgeou bathroom tv furnitur top notch get la experi pool ground restaur new x bar realli cool outdoor loung firepit cool night excel safe albiet happen spot close everyth rodeo drive univers pch melros',\n",
              " 'luxuri book pricelin look safe conveni base first trip la mom teenag girl turn excel almost everi way perfect close major arteri la around corner santa monica blvd close beverli hill hollywood site friendli help concierg gave u easi direct day suggest public space clean updat love overlook pool cool view night bed realli comfort slept late morn realli beauti other state drawback ridicul valet park charg although valet kind effici per day lot tack alreadi expens realli choic mall next door saw park garag next block inconveni also expens found park la exorbit everywher went first time life paid park mall hyatt certainli make enough money reason park system much ask',\n",
              " 'love love classi love lobbi beauti pleasant eat locat short stroll upmarket outdoor mall restaur cafe valet park servic pricey return uk appear charg wrong amount credit card tri sort email insist write want copi account huge conveni live side world hope get sort appear significantli overcharg sort',\n",
              " 'hyatt first rate got pricelin beauti everyon manag valet guest friendli mo son microwav refriger deliv could store prepar food everyon attent guest need sat lanai everi morn watch car peopl go park pricey luxuri hotel come across charg rate think someth get away unless lower end self park troubl worth opt valet servic centuri citi mall next door groceri store bottom level awesom neces need quickli overal enjoy',\n",
              " 'valet park aaahh recent stay night juli conveni next centuri citi mall close beverli hill luxuri comfi bed view open balconi love pool area suitabl age starbuck onsit complaint mandatori valet park found expens per day plu tip park station around back charg per day quit walk safeti like late night park mall day free st hour least save pay tip quit aloof attitud similar new york hotel encount mall supermarket gleeson deli coffe shop',\n",
              " 'excel centuri plaza recent return reluctantli return might add excel hyatt regenc centuri plaza l busi central provid u outstand home base west face view pool area larg extrem clean modern invit larg balconi overlook pool fabul flat screen televis touch clean polit accommod front desk concierg valet extrem polit help pleasant starbuck main lobbi welcom addit earli morn also two neg day park fee absolut excess valet servic avail directli inconveni one car brought time want leav day bit pain given rate park fee opinion unreason unless laptop comput internet access avail anywher except busi centr need access home email coupl time short period time unabl anywher except busi centr lower level inconveni outstand certainli found new favourit place lo angel',\n",
              " 'need car one hallway ever slightli curv',\n",
              " 'book pricelin got fantast rate town son graduat ucla andw plea size withbalconi look gorgeou ground hoteland mall right next door handi walkedov lst day got salad groceri store andsat outsid pleasant overal wonderfulstay clean conveni',\n",
              " 'got pricelin night although reserv pricelin gave th floor renov comfi close beverli hill big shopper mall nearbi park insan expens still well worth night',\n",
              " 'fantast spent five night may fabul extrem busi whole time stop go way make u welcom rememb u whenev saw u lobbi sean front desk lanc lincoln nicest peopl went way u well locat right across road larg mall fairli close santa monica beverli hill quit central thing although la need car spend month travel u love end time oversea definet note peopl like curiou mini bar lift someth fridg charg warn',\n",
              " 'place stay three night june plea larg big enough daughter size three phone might bit overboard bed comfort desk swivel chair came handi bathroom larger agre previou review front could get noisi road traffic new construct th floor woke sound speed motorcycl car coupl time contruct work start earli morn next block woke daughter slept right wake earli problem howev balconi offer place sit read paper morn first visit l without rent car park rate help decid tri cab public transport long way subway bus slow pack westfield mall across street place visit everi major store might want taxi ride airport earli sunday morn traffic might taken one gelson groceri store mall garag sandwich salad pick someth twice took balconi offer place sit eat enjoy cool breez also plenti restaur mall varieti food overal place probabl rent car next time pay park',\n",
              " 'friendli help cleanli awesomeamen pool famili orient restaraunt shop across street w movi theater complaint park said park garag state price day littl walk away challeng much stuff small kid valet park day includ tip close la hollywood beverli hill site area',\n",
              " 'classi stay hyatt regenc centuri plaza near beverli hill one night recent plea experi pro lobbi sophist quiet hallway widescreen lcd tv hi def channel comfort pillow linen portico bathroom suppli friendli valet servic con breakfast restaur insan price pancak c mon nois road front also begin big construct across expect nois get wors stay backsid way go could bad depend look within walk distanc mall shop quick eat food court also somewhat uniqu mall b c open outsid downsid near parti district type place howev right santa monica easi get area like west hollywood beverli hill park bit steep well self park w valet per night w valet servic pricey use pool look pretti heat',\n",
              " 'noisi weekend parti husband recent stay hyatt regenc centuri citi memori day weekend lcd tv well stock bathroom real plu friendli help walk wilshir beverli drive easili friday afternoon huge sandwich favorit deli nate n al could beat busi district therefor quiet daytim hour one downsid overal weekend amount nois meet hall area lower level occur even th floor probabl bad peopl music two parti held saturday sunday even excess thank hour day disneyland made u tire slept much nois accommod let u know parti express apolog bargain book expedia packag howev one alway bewar cheap rate classi',\n",
              " 'wonder decor contemporari style abstract paint hallway outsid friendli accomod group need cozi roomi pool area beauti provid lot sun conveni locat right across outdoor centuri citi mall also open cool x bar decent walk run beverli hill conveni access freeway right heart citi relax enjoy beauti surround',\n",
              " 'breathtak best breathtak balconi view mgm studio opposit',\n",
              " 'mind blow found rate onlin paid per night expect much paid bit intercontinent next door previous lot lot loew santa monica two night earlier pleasantli surpris queue check kinda long pretti effici wait minut lobbi magnifici lot open space polish quit big superb stone throw away centuri citi mall cab instantli avail outsid rodeo drive quit close quit gener proport big plasma tv pool view bathroom clean well maintain problem huge though enough bed cozi soft howev turn servic avail pool area amaz spaciou main pool surprisingli big unlik intercontinent next door servic concierg go way help find inform direct drink reason price mojito amaz one best hotel ever experienc',\n",
              " 'awesom return hyatt regenc centuri plaza saturday reluctanli realli experi arriv sunday around abl check soon arriv husband request west side wonder view ladi desk will help request got coffe maker call request one brought within matter minut receiv coffe maker guest servic even call make sure receiv problem coffe filter previou user still realli big deal wait limit time car time request concierg help tour get back airport whole quit attent request recent went major renov definit return hyatt regenc centuri plaza',\n",
              " 'enjoy enjoy centuri citi hyatt book two adjoin travel famili three kid clearli busi famili orient part problem kid read list anoth member serv free starbuck coffe gold passport member platinum hyatt gold passport member littl disappoint awar offer plea size view pool like deck servic directli middl two place want go hollywood santa monica one disappoint rather offend near spa fit center pool side decid walk get mall across street treat rude spa employe could see door exit onto street insist walk back spa pool area walk around block child allow spa child loud toddler first sign spa fit door ask child enter secondli spa front desk right next main entranc spa therefor convinc time gotten desk spa client inconvenienc u continu said guest hyatt tri save time cross street woman spa said part hyatt yet list spa hyatt door attend also appear work door well outfit etc plan book spa servic decid due one interact beyond spa plea defin',\n",
              " 'wonder hyatt stay properti gone million renov look updat modern fresh beauti public space enjoy well pool area love spaciou get face ocean pool love see west hollywood santa monica mountain well larg citi terrac feel even larger clean well decor incred prompt servic person well alway tri use name make larg chain littl person concierg arrang tour restaur reserv keen idea need famili la experi made excel recommend u especi enjoy tour recommend drive hollywood get small co offer knowledg tour origin hope santa monica experi defin return superb central locat everyth le drive result also outdoor mall across street food court option want get car eat although enjoy restaur go la child highli recommend fantast',\n",
              " 'older still winner older properti last stay ten year ago feel servic pretti bed comfort larg flat screen tv plu park expens day valet pay lot day coffe could get golf channel disappoint banquet facil meet facil excel cours centuri citi area la',\n",
              " 'one best hotel u stay confer newli renov beauti properti stay classic even flat screen tv beauti bathroom balconi also amaz will help conceirg even abl get ticket see jay leno',\n",
              " 'qualiti plaza expect u bedroom larg balconi bed incred comfort bustl lobbi area pool area although gym current temporari marque new gym finish look like high qualiti gym across road excel shop mall realli food court one thing say lack evid histori like',\n",
              " 'kind restaur manag breez ireland scotland excel time new centuri plaza run hyatt compani chang servic come everi decemb franc week shop christma area ate breez morn got know breez day manag got know u forget hi name ireland lot laugh morn highlight day wonder staffjean blanc',\n",
              " 'nice renov hyatt near centuri citi beverli hill view entranc',\n",
              " 'pleasant la hyatt experi photo',\n",
              " 'new stay night back octob end month around world trip go major renov check upgrad u newli renov floor th gestur lcd tv love king size bed didnt eat gener find pricey westfield accross road restaraunt open night hertz agenc locat handi hire car drove around mailub santa monica beverley hill central locat major plu also far lax either hope help',\n",
              " 'introduct la pool stay confer look forward confer quit time kept check websit inform websit told pool go close due construct renov lobbi construct bad sound like peopl bowl floor begin expect type forewarn use stay best western qualiti inn realli look forward stay basic amman found lower class hotel miss instanc refriger coffe maker hand soap bathroom importantli one travel la seattl octob one expect pool close pool probabl biggest disappoint bowl alley sound anoth strike think construct happen put peopl floor directli underneath construct definit lack basic commun custom servic skill valet confer facil right next outdoor mall',\n",
              " 'cur behemoth first stay centuri plaza back late peak play host luminari like ronald reagan other earli start slide bought westin chain abandon recent appropri hyatt last fifteen year somewhat cur busi fallen lost glossi sprawl sheen use feel like barren architectur husk left side highway admittedli transit signboard lobbi tout glori come redesign new spa sumptuou new restaur right howev disast gift shop fire sale clean cart stand idl abandon lobbi servic tray congeal food line hall utmost look posit offer brisk servic midst gloomi malestrom around fight lose battl make matter wors centuri citi construct day mammoth busi complex futur home talent agenc caa erect right across street awaken everi morn sound ear split jackhamm forc busi spent whole time wish could slip next door far grander park hyatt even better four season doheni give centuri plaza second chanc new year rude pre emptiv suppos right avoid cost',\n",
              " 'star treatment front view',\n",
              " 'except locat minut drive sunset strip except regard amen undergo million dollar renov stay renov section larg extrem clean newli furnish except modern bathroom fit centr rival profession gym size qualiti quantiti equip pool hot tub outdoor area provid place relax curteou help alway offer friendli hello afternoon even drawback price park valet option public lot charg everytim enter lot howev valet servic expens quit conveni quick call guaranti car wait exit exit enter mani time like',\n",
              " 'love return stay hyatt regenc centuri plaza convent juli th pricey even convent rate well worth money time pull valet park area check treat u import guest check readi ladi desk put hold doubl bed abl check within next hour bag promptli brought bell man wonder duvet cover tabl two chair workstat bedsid chair stand mini bar empti small fee could use refrig picnic suppli closet iron board safe bathroom wonder coffe maker also view pool mall next door slide patio door balconi felt like get star treatment abl handl convent peopl turn around day handl high profil polit person stay without compromis convent activ locat wonder area minut hollywood minut grove minut beverli center minut lax defin recommend other',\n",
              " 'impress centuri plaza stay night move world class beverli hill bland lobbi much charact kind remind walk larg offic build plain lacklust like year ago stay issu two three telephon work one lamp back chair miss light bulb balconi filthi stain balconi carpet cigarett butt left corner previou guest entir th floor musti smell well invest air freshen far outstand valet friendli kind went way guest housekeep bad left trash knock door even disturb sign got decent internet rate per night plu tax bad consid close beverli hill also pool potenti poolsid attend actual job bring guest drink stand around talk wait guest think ran better westin manag',\n",
              " 'love stay centuri plaza week th wed anniversari trip worth everi penni got doubl bed suit breath take view citi linen comfort ever slept pool area beauti peac cozi spotless park pricey day valet treat like gold never wait long car public park lot behind choos use affliat howev much better use hotel valet servic highli recommend romant quick getaway weekend plan stay',\n",
              " 'pricey worth friend travel la confer hyatt construct littl santa monica blvd exitng freeway sever lane close time upon arriv hyatt abl check quickli front desk friendli accomod congest front like other guest load unload valet park etc park issu u respons valet park area day self park found garag behind spa own third parti use guest shopper centuri plaza mall guest farili larg doubl closet safe extrem small jewelri face construct site across street yuck cute balconi chair let get beverli hill sunshin day bed bathroom clean well maintain bed pillow comfort plenti fluffi like hotel meet facil acoust alway plu mostli acces main bank elev mezzanin level acces staircas lobbi second bank elev shopper love close proxim everyth centuri plaza maci loui v ann taylor etc directli across street rear door hyatt rodeo drive beverli center mintu drive away nightli rate hyatt run upward case worth u',\n",
              " 'best hyatt bad got decent price pricelin easi get beverli hill strip also santa monica concierg servic fantast call multipl restaur get u tabl saturday night also made suggest follow call cell phone confirm plan excel servic valet price top choic consid part cost sign hyatt gold passport free websit use gym free otherwis pay exorbin fee nickel dime bed comfort size hear real hallway nois though street nois present even th floor obvious put lot money updat otherwis date eat drink lobbi vibe lot busi travel drink time',\n",
              " 'experi tarnish gothcha check fast car surround valet park guy aggres hype valet say save money self park got bill shock ad half day park add tip came nearli first offer smell strongli like smoker move u quickli hall similar otherwis ampl rollaway deliv quickli unpleas surpris suppos tv movi order daughter simpli turn tv watch hr disney sit com cost obviou disclos guest remov charg polit protest heart centuri citi busi district street park whatsoev kind want opinion exploit otherwis decent accross major high rise construct quit worth incl tax etc paid wire gotten much better valu pricelin half one third cost nearbi anaheim doubletre suit read review hyatt common theme emerg aggress charg extra cloud view otherwis roomstay comfort bed bath etc',\n",
              " 'stay day visit la valet terrif although daili price littl high loung area drink appet wait restaur superb u tast test differ smoothi walk distanc mall movi theater ate fabul italian restaur call carmin santa monica blvd short drive long walk hyatt bed pillow rollaway bed first class',\n",
              " 'pool ok food stay hyatt centuri citi day busi confer spaciou bathroom neg comment housekeep took minut get fresh towel one even day row bathroom area swept mop still plenti hair bathroom floor pay night la expect housekeep servic bit better cater serv bellpepp goulash differ occas get old fast go use cater depart plea tast food hand suberb friendli',\n",
              " 'read review bit skeptic upon arriv pleasantli surpris find none problem other experienc board clean comfi bed spaciou bath well car park valet priveledg within minut call car wait front mini bar snack quit expens notic sheet product check use contact front desk told u charg also incorrect charg upon check taken care well front desk polit friendli help print board pas u definit recommend la awar much way entertain restaur etc surround need car avail',\n",
              " 'live beauti place clean nice decor kind bed pillow comfort never want get extra per day love spa steam sauna fabul shower excel work facil front desk servic although spa especi adept help acquaint first time user facil hope much possibl',\n",
              " 'wonder experi beauti suit th floor view',\n",
              " 'valu stay carri hyatt westin name four night one top floor well furnish beauti modern bathroom bed extrem comfort free ether internet access upon arriv earli hour morn notic tv work quick arriv mainten technician soon solv problem spite late hour initi concern see major construct site across road nevertheless never heard anyth forgot first class expens spa mall current refurbish minut away experi',\n",
              " 'disappoint recent stay centuri plaza lo angel quit disappoint stain carpet mildew bath along miss grout floor actual slant wall point tv armoir acut secur wall heavi chain spent per night posit bed comfort charg use courtesi bar never open although took charg complain went front desk get new invoic note clerk phone anoth guest appar charg bar call complain erron charg almost felt like kind scam valet park privileg pricey per day recommend given poor condit',\n",
              " 'stay night septemb overlook pool thought decor bathroom decor hip bathroom clean size bed super comfort normal like bed one amman side price fortun got special rate busi howev think price overal high even get breakfast gym free use ridicul also price expect common corridor lot cleaner thought carpet area look bit dingi person someon left servic dish hall drop someth forev think star rate price clean stay hotel price star rate never leav dirti servic dish hall way send someon collect dish anyway go anytim soon get face pool construct across street view valet park pricey day privilg believ cheaper self park floor servic though clean except also thursday patio area give complementari manicur tip entertain etc',\n",
              " 'okay aw conveni centuri citi mall car budget stay day quickli becom bore hall lobbi luxuri gotta keep appear alway clean point spent day beggin august happen arriv midnight arm full bagag none help u two woman made lobbi could understand word ladi check u say went th floor follow order take elev opposit side check desk still one help u baggag enter smell musti old drop bed slept instantli awoken construct cold came balconi made ici cold even drape close use touch floor rd day employe knock told u due leav earlier morn told day day excus say must comput error ran cheke desk scare charg u imaginari day credit card confirm comput said suppos day told voucher gave check said day cours said lost voucher make research everyth settl departur date tone clearli said leav side check take day credit card pay back lie call travel agenc call could confirm day paid went back desk ask paper say take money credit card told end day noth said manag want wait hour make paper could understand said ok noth ask paper next day yell young guy nice print front page file comput eventu know irrit woman told come back noth woman pretend help u look u like dirt shoe travel agenc call even concierg help think limit knowledg job',\n",
              " 'better option la better bonaventur ok size redon catch none cool new featur like flat panel limit benefit platinum member club concierg level free breakfast welcom gift bonu point exchang lack welcom gift even though ton suit upgrad offer upon check valet buck self par includ priviledg ok pool ok due massiv construct accross street fron side nois hvac system mall back side spa fit center look beverli hill price internet work fine tv around channel ten espn sport network',\n",
              " 'classic la stay recent busi trip quintessenti l even plop blindfold known la got feel larg clean heavenli bed dissapoint servic food except steak sandwich best ever deliv quickli pool bar area also look entic hollywood although never use two minor complaint servic averag pretti much expect imperson chain central locat actual build kind desol surround offic build mall walk la westin hesit recommend anyon la busi pleasur',\n",
              " 'westin centuri classic',\n",
              " 'clean well locat furnitur updat modern bathroom realli picki thing notic carpet littl worn noth complain bed bathroom everi balconi view downtown la pool patio area seem get spend enough time though complaint valet park kind mess took littl get cab keep mind la realli walk around citi drive take cab pretti much everywher locat right huge shop area short cab rodeo drive area sunset strip go back heartbeat fyi got deal pricelin made even better',\n",
              " 'rude physic plant love public area pool etc westin sever time month usual servic lux westin properti rude unhelp exampl someon call sale manag incred snobbi snippi ask simpl question chin length straight blondish hair look went pool towel stand empti towel two peopl stand behind counter woman uniform man suit ask could find towel stare coldli respond guess beneath answer standard justifi question valet incred cold snobbi movi star dare approach ask autograph drive expens car tip extravagantli basi idea problem except recal sweet older asian gentleman polit help worst one valet tail top hat older man bore slight resembl victor garber treat u filthi street urchin stuck finger food also heavenli bed least heavenli westin stay mattress especi comfort',\n",
              " 'fine bewar construct spent three night love howev signific construct happen across street get face ocean view quiet destroy book two king bed said want construct view get two two doubl bed supposedli king face construct see one look nightmarish romant stay bewar larg bed crucial enjoy howev spaciou balconi excel view hill west la santa monica pacif horizon fantast ocean breez check process smooth friendli valet servic excel effici fast clean comfi bed bathroom includ doubl head shower decent super spaciou bathtub internet servic fast give genuin hour dollar wireless lobbi well servic fast effici breez site restaur delici mani item organ free rang hormon free meat veggi grown dedic garden cook fresh pleasant dine outsid patio definit come back assur face construct done',\n",
              " 'fine enjoy love weekend westin centuri plaza came la see king tut exhibit spg gold membership upgrad love suit view pool hint pacif ocean howev enjoy comforat bed contemporari bathroom like turn servic twice daili housekeep happi suppli extra towel robe request superb close beverli hill shop pool morn afternoon sun block neighbor mgm build spa look book treatment fault plan ahead lunch dinner breez pleasant servic prompt acur problem valet park call ahead car overal return',\n",
              " 'stay night may shop vacat conveni beverli hill santa monica right santa monica blvd centuri citi obvious visit la need car except short drive almost attract comfort bed bathroom excel counter space enough three woman get readi closet space well balconi pool area appear howev cold explor fulli attempt self park self park sign take garag affili privileg servic ask air condit turn extra towel receiv request immedi also allow u check pm day leav rather problem definit next la trip',\n",
              " 'wait get cancel best western wish save money thought treat soulless place match westin hotel stay avidli read review site high expect place spend first night la big disappoint workmanlik feel realli welcom individu expect pay car valet park suggest take bag deepli disappoint bath tub one night bother complain starwood prefer custom also annoy get bath robe conveni centuri citi mall breez restaur never easi woman eat somewher reliev check',\n",
              " 'bad news book westin centuri citi birthday getaway spent time argu front desk valet servic wait minut front desk check even given accomod reserv elev broken none ammenti preffer guest robe coffe etc oper imposs reach phone travel day month mostli stay high end properti never mani thing wrong one compound disinterest personnel ever encount realiz mani defici due long run union strike explain around midnight everi night horn megaphon engag outsid street draw attent strike say necessari evid add insult receiv ax bill charg incorrectli spend time argu make wide detour around disast',\n",
              " 'complaint work twin tower across street year eaten meet compani parti recent first opportun attend back back ucla event build newest curv build bit throw back differ era add charm ampl upgrad made westin bed alway comfort bathroom far lack bit cozi recommend peopl stay one one sink bathroom big whoop quit bit construct go abc entertain center across street transform enough wake silent either valet impress prompt obnoxi long wait either servic decent noth spectacular breakfast breez bit overpr typic dine varieti afford walk across street centuri citi plaza food court side mall enjoy walk favorit mall best starwood prefer guest sign onlin charg request late check pm relax lay bed watch movi',\n",
              " 'comfi stay one night end disneyland trip closer lax attract bed super problem first given bark dog next quickli switch anoth quiet larg first sinc one night complain breakfast next morn breez dine food servic bit pricey adult child visit getti center hollywood',\n",
              " 'dull place snob locat dull enclav build centuri citi noth interest vicin upon enter startl mani rich arrog snob knew disappoint charg everyth includ use gym park valet servic rip food expens employe except maid realli stuck secur attitud problem harass wear jean hideou look like thing bad roomi found small problem upscal evid incl mold curtain tile ice bag tonsil bad tv remot stain pillow sheet stay felt uncomfort snobish attitud big factor dress casual stand secur think walk street bore place avoid cost',\n",
              " 'bed amaz servic realli fast found friendli also massag spa amaz min',\n",
              " 'deal book via price line got rate per night well worth larg busi hotel make balconi excel patent bed shower clean modern upscal work facil part spa per day averag also get access locker sauna steam whirlpool rainfal shower five minut drive rodeo min west hollywood',\n",
              " 'adequ stay centuri plaza twice recent last margin first thing pretti central locat get downtown west side valley canyon commun easili courteou help hand standard adequ short quit small busi spa facil standard glare problem servic bill highli pad fee deliveri servic charg food ined order calamari ceasar salad appl pie calamari ball batter dip sauc rancid salad dress oili mess even ceasar appl pie bitter fortun discus upon checkout meal remov bill stay centuri plaza',\n",
              " 'drawback stay week august nice decor ampl space servic gener front desk bell hop valet park profession bed linen bath towel comfort breakfast breez restaur one morn experi servic qualiti food restaur expens surpris howev starbuck across street aig sun life build open weekday cheap breakfast carri back also larg shop center right next door starbuck get varieti meal day per week starbuck shop center short pleasant walk everi terrac provid wonder night time view surround area high floor especi like quiter locat la found central travel activ univers studio hollywood soni studio pasedena near beverli hill rememb la mean drive everywher matter famili vacat park la cost expect get free except sunset plaza strip shop center near mel diner valet park per night unlimit found conveni charg everyth includ fee make toll free phone call use internet busi center mani smaller chain charg local toll free call often provid free high speed internet access pc busi center bill error drawback thought could better job clean never heard vacuum entir felt bathroom simpli reciev wipe instead disinfect clean give star rate expens place felt receiv money worth use starwood best rate internet price guarante match lower price found web',\n",
              " 'love wow upgrad suit complet live dine tabl larg bedroom bathroom furnitur decor date eleg ground pool fabul westin hotel awesom kid deliv high chair crib anyth el need cost toddler receiv complimentari cooki milk bed time kid menu servic could ask better help friendli',\n",
              " 'perfect famili consist visit la summer stay mani star hotel la santa monica area centuri plaza pleasant surpris famili uxuri nice decor maintain valet servic help assist u direct around town spaciou nice decor balconi overlook pool garden landscap pool area fabul pool side menu locat directli across westfield mall groceri store movi theater spa top notch array servic pamper two complaint heavenli bed white bed consist stain even ask bed chang ew bed stain well yuck complaint pay time use fit facil pay grand fit includ surcharg regardless bed fit absolut centuri plaza wait next la visit book centuri plaza',\n",
              " 'aw food food expens bad breakfast three peopl includ tip attend convent meal luncheon dinner aw though near beverli hill mall across street extens food court restaur heavenli bed shower wonder watch daili starbuck coffe though first item free charg make second packet',\n",
              " 'wish spend time check went spa mystiqu coupl massag spous quit experi even though got late much time massag realli relax area massag sore day got sleep tiger deep tissu massag boy loosen muscl balconi realli th floor view well bathroom pretti larg stylish love defin',\n",
              " 'comfort stay centuri plaza quick overnight trip size bathroom quiet best part heavenli bed make worth close second best showerhead everyth well accommod park expens self park valet expect time tri restaur bar pool definit westin dreami heavenli bed close ucla westwood',\n",
              " 'time lobbi pool one neg fit center realli cost day though waiv buy spa treatment day neg outdoor mall next door much el within walk distanc far could tell car fine short drive santa monica rodeo drive etc tri eat outsid mccormick schmick rodeo wilshir',\n",
              " 'place expens account showreview full',\n",
              " 'eleg showreview full',\n",
              " 'attract showreview full',\n",
              " 'saw mani star place showreview full',\n",
              " 'place showreview full',\n",
              " 'bellissimo',\n",
              " 'quiet place big citi bed',\n",
              " 'care cheap shabbi place well past best check initi impress c realli work fridg kitchenett close properli clean need updat wife could sleep doubl hot non function c posit areahelp staffnegativespoor park enough shabbywil go back',\n",
              " 'valu boston stay one night easi get heart boston subway spaciou free breakfast got earli let u check earli area seem safe sure cover use airmil extra score',\n",
              " 'experi u immacul extrem clean visit boston univers daughter ten minut ride train one block impress inform complet renov april breakfast serv lobbi tea coffe cereal waffl lot free park someth find mani place around boston also took train downtown one day realli conveni exceed expect wait go back see like renov complet back everi time back boston',\n",
              " 'aw book boston colleg websit list local place plan stay two night book two rate per night arriv husband comment look like bate motel insid horrifi decor never updat extrem shabbi bedspread carpet stain worst disgust smell smoke stale air bad told front desk clerk want clerk inform u may charg u anyway told fine know stop credit card payment make formal complaint trip boston area end love check suit happi rate actual le expens two suit accommod famili fine bottom line best western inn boston mani option place',\n",
              " 'ok con stay night octob clean seem safe neighborhood provid adequ breakfast one block walk green line b branch washington st howev rather far downtown trolley ride slow tediou found green b line train infrequ usual took u least minut get downtown addit second night kept awak loud parti call front desk found extrem unhelp complet unconcern best valu could find still decent neighborhood clean problem howev due inconveni unhelp',\n",
              " 'happi local transport boston yard away overal happi condit friendli help abl park right outsid king suit seper kitchen live bonu larg tv main problem breakfast area small meant get much could carri go back eat also nois train start run overal happi',\n",
              " 'area end get pricelin confer town hard time find anyth el even regular reserv overal disappoint start first shower wall bust mold wasv everywher also kitchen list everi kitchen must save pricelin custom move promptli bit larger kitchen least tact pro unexperienc quiet residenti right next tcon dirti bathroom infest hous centiped saw famili bathtub drain took hour shower finish ask everyday fix never larg group neighborhood quiet group lot parti non smoke smell thick smoke report unhappi corpor offic said contact manag one ever contact potenti need complet overhaul',\n",
              " 'expect book close boston univers drop daughter graduat school area fine abl walk grab bite eat surround area without difficulti free park definit plu main gripe damp warm night whole even bed linen felt humid damp also free breakfast margin mani peopl scurri tabl toward end design hour stop put food could pick other look anoth place go back visit boston',\n",
              " 'best best western stay month old daughter week june suppos non smoke certainli smell way area seem ok howev hear sound like gunshot exactli make u feel secur basic clean refurbish seem like year feel realli clean first portabl crib sent broken bad respons want took day fix ac heat worst e stay mean definit best standard expect best western probabl',\n",
              " 'tourist valu book best western terrac inn per night special go boston card order onlin tourism dept call day advanc reserv realli per night right green line although almost outsid edg near boston univ west min downtown drive free park okay free expand continent breakfast waffl cereal fruit etc wonder spanish restaur around corner friendli price abl extra day marriot embarcadero charg per day park',\n",
              " 'short trip game clean small clean includ mini kitchen ie stove top fridg mini microwav sink dish cook wear suspli shower cramp clean bed say queen seem like doubl kind roll middl day check new bed instal might help excel help arriv check instantli safe free park close mayb block walk boston exspect walk went game clean quick close one note ground floor level light sleeper could hear upstair walk around night next morn proptli ask book soild could switch problem could said feel like gentleman went way rebook make perk deffiantli return game visit sox lost visit return hope see win game',\n",
              " 'free park favorit spent night terrac inn locat area larg tend roll center bed make long night love short block walk mta line conveni take public transport especi sinc dig collaps made car travel even difficult park free big plu boston ice machin locat block away differ build last day help abl leav luggag lobbi pick go airport howev fail deliv messag u shuttl servic say minut late even though sit lobbi read caus u anxieti unneed call shuttl servic',\n",
              " 'pleasantli surpris pleasantli surpris servic price downtown boston price near per night offer refresh discount next subway continent breakfast right pay high price downtown liter minut away',\n",
              " 'bad terrac inn conveni well maintain reason breakfast reason price boston like rate star annoy thing happen stay recent made reserv month prior date boston univers graduat weekend wife rel come call sever time month make sure stil time reasur reserv got letter state sinc busi weekend deposit non refund cancel within week date accept sinc come sure arriv day came pm told u reserv readi yet problem leav luggag see sight wonder boston return dinner safe call pm see need anyth el reserv said everyth taken care return pm told overbook sinc thought could get said nice complaint weekend night manag stuck situat didnt creat boston book late gave u gave u two suit two rel share two singl bed wife next morn request got addit upon check ask manag happen said purpos sometim happen travel tell happen frequent never happen year email best western offic said hear within week heard anyth week terrac inn got ok one night big deal question take money show make sure everyon put money look mistak see often happen respond question refer main offic suggest studi overbook polici drop refund polici busi weekend make reserv might want cancel reserv somewher el case',\n",
              " 'total gross cheesi let first admit give ok rate due fact wi fi work connect walk look aw super cheap comfort aw applianc realli dusti gross closet unsur feel realli walk carpet make sure think co worker travel plu horrid smell ok clsoe train hard find drive realli worth find fine go night could least get musli smell first time last time sure',\n",
              " 'valu mani conveni stay terrac inn dozen time busi alway found clean comfort like terrac inn free easi park friendli help kitchenett free wireless cheap book directli often get mid week manag special unbeat market close bc bu one block away whole food market usual get dinner also mani small restaur nearbi stop block away b line comm ave incred slow stop nearli everi street corner weather may faster walk beacon street catch c line may faster bad weather walk brrrrrrrr usual skip breakfast provid basic cheerio plain froot loop yogurt toast english muffin pastri appet hard boil egg juic coffe tea wish offer fresh fruit breakfast pleasant open pm guest use microwav nuke kitchenett often cabl select includ hbo laptop use comput lobbi free printer also avail know charg per page one water pressur shower fairli weak typic hotel categori lot hair budget extra time shampoo toiletri basic one review complain seem fine hairdryer earlier review complain bed problem perhap like firm mattress regular littl dark keep low wattag bulb lamp stay coupl hampton inn recent boston much nicer also much expens two star terrac inn amaz three star still pretti budget need name brand shampoo mint pillow look',\n",
              " 'eh stay overnight first posit close stop block away brooklin area neighborhood littl way tourist area price reason adjoin littl kitchenett use could help rel clean basic lodg free wi fi work free park neg bed hard stone sleep well even glass wine small rough bath towel soap smell like dial soap bring soap dial realli harsh door handl loo made u littl nervou leav laptop littl noisi could hear peopl u walk around teenag girl adjoin bagel got breakfast buffet hard bed jokingli call barney betti rubbl overal chang bed someth comfort better towrel toiletri budget option famili',\n",
              " 'paper plate wife stay august found place clean present breakfast bland edibl toaster one side toast take juic coffe polystyren cup paper plate well yard away hire car troubl park eat area vinni come top pino pizza door vinni also worth visit run cash cheap cheer food',\n",
              " 'stay day pleasantli surpris especi read neg review post experi e cobweb etc kitchenett stove refriger iron board also queen size bed price night includ tax clean housekeep job daili also wifi access wonder use daili notic howev certain part signal stronger other seem strongest sat desk continent breakfast block boston subway conveni took citi graduat boston univ took also close boston colleg overal friendli help although one guy kind attitud thu give rate also recommend other best western hilton valu think',\n",
              " 'roomi suit could cleaner suit best western terrac inn decent size plenti storag area full kitchen sofa bed uncomfort continent breakfast includ help front desk free outdoor park pc free internet access print locat front desk could cleaner rug need vacuum could without web wall visit boston colleg boston univers northeastern',\n",
              " 'best best western found far stay terrac inn begin march delight find qualiti high well appoint spaciou car park adequ well control valid friendli help especi toward novic tourist definit place recommend',\n",
              " 'wors miyako showreview full',\n",
              " 'away new otani showreview full',\n",
              " 'ok bit isol n showreview full',\n",
              " 'littl thing count second time year stay lux sunset agre review call littl could take time updat improv certain thing pro cool vibe huge bathroom con valet park take long shuttl servic anywher thin wall front desk need train basic knowledg concireg never return call went home even leav u find restaur make reserv ask help front desk could name one mexican restaur area front desk knowledg spa make reserv inform charg cancel talk front desk manag get thing fix littl thing like burn light wrong servic menu welcom folder forgotten turn servic dead batteri remot control tub drain entir weekend air condit shut middl night one person know reset common occur happen june well mind took place execut juinor suit like interior get pain call front desk everi minut remind someth front desk manag reduc rate troubl got togeth could',\n",
              " 'lukewarm experi stay lux bel air seem idea close destin like roller coaster moment seem well next pro freeway place look outsid front desk friendli valet friendli confus time cost park day use pool restaur et al due lack time peopl use restaur seem fine clean bed comfort tv tv plu movi free internet connect con servic inconsist told front desk hour servic yet late hour servic consist cold item menu page read hot cold item question said know call u back daili paper offer e g lo angel time lo angel ask one got back u one could get one checkout time offer full valet park personnel bellman caus long wait bring baggag hallway paint dark color look long dark suit inconveni electr switch small section carpet wet bedsid showerhead regular rather delux expect suit situat could watch tv bed sofa mini bar small liquor bottl scatter top frig plu stock well help somewhat servic defici',\n",
              " 'recommend young peopl pool',\n",
              " 'get pay travel l everi coupl month reluct tri due somewhat mix although mostli accept review wife town last weekend attend genesi concert hollywood bowl client look someth close wilshir park n ride concert purpos also near getti center lunch next day lux angelino next door fit bill experi latter decid give lux shot say thing start littl rocki car packag troubl get reserv depart respond inquiri confirm pickup car much effort part thing final sort day prior arriv gener manag one depart need get act togeth arriv sunset boulevard tini sign easili miss front equal well conceal driveway lead uphil pull entri court valet park clearli peninsula howev done decent job updat old spaciou facil like review think could use bit polish appl ikea qualiti roch boboi although clearli look go lobbi entri area look promis decor light chic replac old steel door mould bathroom fixtur patina use draw attent updat long overli dark hallway tri cool attitud realli come long overli dark shame thing consprir cheapen otherwis stylish decor biggest issu detail exampl idea hd flat screen mount wall hd signal come everi channel look distort due expand aspect ratio flat screen spring hd servic solv ill fit front door close tightli let lot nois hallway wall other mention bit thin nois adjac obtrus said basic ingredi success present love new carpet decor bed decent bath huge ground common area especi outdoor seat area loung restaur love one realiz foot away unless fring properti valet park respons well rate hotel l quibbl tip valet repeatedli go motel god sake l get practic stuff money hand seem reluct accept tip restaur small well appoint servic leisur breakfast although kitchen seem know egg easi suppos look like price reason lo angel true highlight front back hous absolut warm graciou help l attitud arriv bit earli offer complimentari glass wine wait check housekeep supervisor le peopl call came sure everyth order welcom bag dri fruit nut market director touch score futur busi sure realli intend posit review price qualiti hard press touch elsewher l unfortun easi nit pick lux much right know littl money work invest facil make place even finer sure star treat like star guest low key eleg surround privat clubbi feel forget bargain rate come expect everyth actual star qualiti price rang lo angel overal experi simpli cannot beaten honestli say got way paid wait return',\n",
              " 'love lux stay lux august august love much came back end august anoth week australian travel la upon hear return lux genuin thank kept thank u come back lux beauti boutiqu clean well maintain prefer smaller name hotel found one perfect help friendli alway say hello whether front desk housekeep valet per previou review thought park enough tip never treat rude valet alwasi friendli never wait long car although servic menu huge food reason price servic menu restaur menu poolsid menu love get food drink pool pool area realli relax never busi alway got bed refresh towel sever time day pool heat temperatur matter time day music play loud steep walk get pool front golf cart give ride pool want walk also tenni court provid racket ball basic big roomi bed extrem comfort plenti pillow decor realli nice nad brown beig pictur shell flat screen tv cabl also provid free wifi throughout well busi centr use comput printer free charg bathroom also roomi kept extrem clean housekeep came everyday first locat valter park area never problem nois car peopl locat sunset blvd border brentwood extrem upscal neighbourhood mostli gate street neighbourhood extrem safe walk regularli took walk local shop call brent air milk one time jennif garner get dinner also stay soprano bad boy actor joe pantoliano locat directli freeway although close could never hear traffic nois close mean easi access want go locat minut drive beverli hill east minut west pacif coast hwi santa monica excel safe defin next trip la could afford live brentwood cannot say enough posit thing lux averag u per night well worth money area safeti extrem import area cannot beat find someth wrong kind person find someth wrong matter price star rate',\n",
              " 'time arriv th august left th well averag two section upper level problem bag car although valet park english pay day includ far concern abil go come plea extra cost whatev yank say love quiet well fit although lift floor top floor help housekeep need check help gave u direct need breakfast well price ok servic well refurbish pool wife certainli recommend lux vacat la',\n",
              " 'disast stay lux near home due plumb problem hous arriv person front desk decid base appear came late work inform cloth husband releg far level told driven tire went go get shuttl told drive husband arriv separ upper level valet park fine told also park level third floor fourth floor elev told either carri comput heavi bag upstair ask queen bed told believ true next day left earli morn return coupl hour request given late check went sleep twice employe attempt enter although privaci hanger place door time door open person could enter sinc door chain respect sign fail advis member late check complain made partial adjust bill beauti new disappoint poor servic bad treatment part hope isol incid',\n",
              " 'huge almost uncomfort solo travel sqft amen separ shower booth etc consist build main spa tower assign latter like ride main tower steep uphil offer ride internet improv wireless valet park take long short staf breakfast need car nearest starbuck probabl eat restaur get fwi need make sharp left busi sunset blvd come back problem',\n",
              " 'love seren comfi sadli need go l moment notic go famili funer lux bel air made trip relax comfort king overlook front drive lower build furnitur decor west elm bo concept style giant comfi bed dozen pillow white chocol brown chrome color scheme sleek ipod dock style alarm clock flat screen tv hear street nois familiar la even though like bev hill bel air spit distanc freeway right next ucla westwood halfway beach melros weho farmer market museum area also reason drive valley servic alway kind respons front desk alway friendli incred knowledg local dine reco seem new area alway got car valet within minut one hand hill one build steep hill alway found valet take u pool area upper build via golf cart feel like walk one afternoon local rel came littl kid adult kid could swim eat lunch graciou one question whether kid guest etc one valet even gave kid zig zag disney tram ride golf cart pool prompt respons request extra towel servic restaur friendli slow esp four hungri wet kid want chocol milk hot dog fri burger otherwis servic breakfast prompt esp one morn told hurri book expedia get breakfast includ plan pay top dollar still usual lodg budget plu charg night mandatori valet park yike consid circumst regret decis complaint mandatori park charg bathroom need towel hook common defici hotel notic teeni tini closet p mazel tov girl bat mitzvah parti sunday night fun watch distanc',\n",
              " 'miss attent detail recent stay lux bel air first time furnish nice though everyth seem paint oliv drab green pleasantli surpris upgrad suit although nd floor rather noisi driveway valet area lot door slam loud voic etc clean comfort well decor find thing simpl light swtich chore maid turn bed turn number light none work wall switch lack conveni plug charg cell phone laptop show age origin construct attent detail thing shampoo lotion bathroom remot control thatwa inop rectifi quick phone call housekeepk realli nescessari level facil bathroom light well suit bathroom difficult see shave aw appli make wife marbl shower motel shower head high enough tall person excel wireless internet free surpris find daili newspap door although claim offer websit attent detail lastli request airport pickup drop concierg prompt courteou extra cost handl outsid servic oper henc return airport town car smell like old ashtray',\n",
              " 'outsid stay two night birthday weekend give b overal pro courteou comfi bed beauti restaur airi walkway fairli decor close getti fine dine con nois night valet park broken fixtur seem like tri cover formerli crappi paint ikea ish furnitur accent make seem luxuri realli sever wall outlet cover fall ipod dock clock alarm broken wall fairli thin kind welcom one inconveni mostli made fault doubt night though',\n",
              " 'amaz servic ambianc poolsid',\n",
              " 'littl could stay lux one nite vacat travel thought place pretti appeal also thought could put bit money could realli littl gem initi poolsid view second floor upper build littl balconi could hear nois quit charm furnish fine refriger look like came someon dorm hear loud hum motor come think aircondit unit u roof think could find way dampen sound realli stay hot weather cycl time could quit annoy shower handl came tri use call mainten within minut someon take look explain abl fix immedi move anoth surpris speed within anoth minut someon came move u husband ask time citi view former la resid thought citi side balconi hear littl highway nois view pretti amaz anyon want think busi might want upper build go lower build breakfast bar lobbi etc etc hurri might want walk take golf cart shuttl packag came breakfast food fine outdoor eat area best part place truli pleasant help next best thing pool fine think tini bit upgrad could quit joint',\n",
              " 'like lux stay lux weekend feb th th realli love decor lobbi modern w clean line throughout realli spaciou got doubl bed also like friendli issu sunset right bit noisi need silenc sleep may place hear freeway park cost day uncommon la howev day self park permit top charg tip valet park car unabl rate restaur pool spa realli use crashpad might say averag except nois',\n",
              " 'disappoint expect much sinc think got excel rate u per night expect ritz friendli enough recal see clean size two size queen bed separ bathroom toilet overal plea howev stay happen wed parti sort face rearsid overlook outdoor dine area back kind hall privat parti made hell nois jetlag thursday night parti went earli hour even shut window help care parti happen time littl way car rent one charg someth like u per night overnight park noth hourli charg probabl got rate rate higher',\n",
              " 'excel read review littl nervou stay reason price howev made give go along close proxim stay night found comfort larg clean although state review wall seem littl thin could hear toilet flush next door say anyth neg friendli problem check definit lo angel area',\n",
              " 'cozi modern quiet time insan high price lo angel give place surpris seem recent remodel era done quit modern danish asian style warm earthi tone like larg modern amen flat screen tv radio alarm clock ipod dock station tuck back tree hillsid even though next conveni hear car quiet food restaur open air lobbi resort like feelpotenti drawback colleaug said wall paper thin construct build seem',\n",
              " 'renov nightmar suppos holiday lifetim holiday book nov first choic signatur mean reput firm three week prior travel told u extens renov appar go sinc oct manag knew unlik finish time tell u state disrupt get shuttl bu hour return anoth across la pool close fridg nois pm day due complet day return ad wish enjoy holiday noisi work disrupt defin recommend',\n",
              " 'lux sux though bel air address conveni tast decor make one think upon arriv true gem found fool juli fill seriou costli problem fro begin arriv home rnovat pool spa continu avail inform given fact websit phone mean inform park steep day valet one arriv option choos electr went everi day three four time daiy although noth plug origin garbag eft patio near patio door day bake heat asn remov sever call later child accompani lock fix manag amen wer avail robe slipper pool spa inform post convey issu anywher anyon manag honor reserv price list confirm websit confirm worst hundr dollar unauthor charg bill credit card lux realiz pon rturn home wolf sheep cloth',\n",
              " 'enjoy husband teenag son stay recent trip tour ucla locat freeway sunset blvd stay far main lobbi averag chain decor modern enjoy chang marriott sheraton etc bed comfort concern reserv one u queen size bed doubl twin size roll way bed older son realli appreci roll way real twin mattress one mattress fold half comfort free wireless internet connect strong abl laptop connect internet bathroom beauti travertin floor shower tub bathroom averag size upgrad sink hardwar bathroom clean mold mildew lot counterspac pool renov avail mention arrang guest use anoth pool elsewher ucla believ park thought steep la bewar leav almost imposs go east sunset go west make u turn leav extra minut overal definit told tour ucla gave ucla rate think cheeper tri get discount',\n",
              " 'amman servic lack husband stay attend wed site weekend read review ask renov ad price renov huge furnish decor even kitchen request one wide flatscreen tv mount wall discov shower broken knob pull get shower turn broken call front desk promis get somebodi fix fix time return wed inconveni request servic breakfast next morn arriv time request notic nobodi even pick request left door morn get order prepar quickli anoth minor inconvi upon check ask could use busi center print airplan board pas center occupi front desk offer print u',\n",
              " 'freeway oasi ditto',\n",
              " 'cool conveni well locat right sunset easi get restaur street sunset cool old la kind way know la stay mean way larg comfort look pretti servic spot look star servic want everyth brand new',\n",
              " 'larg comfort showreview full',\n",
              " 'quiet servic showreview full',\n",
              " 'dissapoint problem bed forget king size bed like request look like full ask smoke could find ashtray besid shower handl felt like go come wall water pressur miser toilet look like someth see jail movi even cover realiz biltmor older classic seen nicer budget motel anyhow feel like got paid hotel defens hurri time allow address concern',\n",
              " 'run star war bar mean pay attent photo anyth read make think worth price arriv call night supervisor confirm reserv tell listen bark differ adjoin two next rude comment got call said mix review onlin peopl complain like go live manag need read comment respond chang manag confirm run way',\n",
              " 'worst experi ever plea cannot believ still busi check sunday night thanksgiv week min later want car park outsid sinc park fee night got car back car damag told fill accid report told someon call back next day one call complaint front desk told none busi park outsourc differ compani today week thanksgiv still receiv call might fix car insur unprofession care custom',\n",
              " 'biltmor millenium beauti foyer restaur terribl stay millenium octob work night downtown la lot go downtown la pm work convent convent center anyway walk impress beauti foyer chandeli high end restaur etc hustl bustl go dinner night fit center pool also restaur esmereldi food breakfast pricey sai sai expens sushi realli food atmospher sport bar littl dirti pub fare millenium lack old carpet small old bed realli old tv small get internet pain long hallway walk bathroom poor water pressur overal millenium histor peak dean martin compani use ang seen pictur properti place busi travel',\n",
              " 'worst bed ever organ luncheon peopl biltmor spent night night ate late dinner grand avenu bar waitress mix order food bland bed club floor horribl could feel individu spring mattress bathroom realli small old club floor breakfast custom servic outsid club left lot desir think twice host event sent u diagram tabl insist set threw fit min luncheon began also find twenti one x foam core board deliv day luncheon board appear min luncheon found insist',\n",
              " 'old world charm la busi spent night biltmor downtown la grand old pro con pro includ high ceil wide entryway give one feel space furnish tast bit date closet dresser space limit though main drawback lack electr outlet outdat least appear natur exist one rest offer fantast photo op ornat lobbi grand hall dine fresco chandeli even pool fit center recommend stay downtown area although deal even',\n",
              " 'one expect much book via british airway ba e mail e mail sever time simpl request regard quiet view miranda reserv said problem experienc complet differ common area ground floor simli majest mixtur alphonso xiii sevil nacion de cuba havana howev beauti stop view imagin u shape wall window base u limit view upset though spend time e mail busi hallway difficult sleep h flight h differ london disconsider young girl shout hallway la time door thin nevermind engin like perman nois came somewher outsid probabl underground made even thing bathroom vibrat doubl glaze basic look like star offer next floor probabl problem went busi print page cost togeth min spent onlin amount almost dollar could pricey american seem suit big noisi group quiet tire peopl receptionist said plan futur renov bathroom definit benefit check comfort check beverli hilton call outstand servic base lack sleep present rate experi terribl star',\n",
              " 'tire got pricelin fair price downtown la need near disney concert hall never huge place public area quit beauti tire mostli base fact bathroom renov year mismatch tile etc housekeep standard terribl thick layer dust bathroom light ventil grill also expect much higher qualiti bed go claim star',\n",
              " 'love stay septemb make reserv read review mani contradictori made littl worri peopl rate terribl other excel dump one love place anoth expect brand new peopl stay certainli nobodi go paint wall guest leav tri say review help time take truth check parti peopl help check prompthli big nice decor clean love hearbeat',\n",
              " 'tire recent stay biltmor downtown la disappoint part larg profit confer group guess rate stay like say confer facilit food better averag type situat realli tire old fade furnitur old bathroom tini tv non littl amen make bit nicer ie makeup mirror mini bar safe even upgrad suit bigger pretti barren least suit slightli larger tv closet plu busi center charg minut use comput realli nut downtown la sketchi attend confer biltmor tri one hotel nearbi fine accomod poor',\n",
              " 'disappoint stay part road trip expens disappoint time snooti recept desk surpris clientel dress casual given one worst place dank dark dusti complain immedi someon front desk said alloc anoth materialis phone front desk four time one need long journey want unpack take shower given slightli better still disappoint plu side met coupl member concierg could help ladi serv bar love think care book wish gone someth like chateau marmont similar',\n",
              " 'lot histori defin place heart histor downtown la book thru pricelin bid dollar star downtown came one sure tri find park one public lot street park though pull lot virtual block pay buck valet worth park outsid like buck even le also buck sandwich water bit pricey style may wanna steer clear servic dont use pricelin end pay bathroom door wouldnt lock close bathroom pretti small huge lot class sure that pricelin send',\n",
              " 'love round well say perfect bit apprehens first time la read mix review say found everi aspect fine receptionist bellboy valet etc helfp friendli standard adequ coffe maker power shower ideal get shop bar restaur close went day night felt quit safe arrang tour la hollywood u inform valu money collect taken meet tour bu return afterward know other complain valet cost seem high dollar look around averag hotel la area mr edg liverpool uk',\n",
              " 'ok recept look seem guest time busi travel rude noisi could open window nois look right also could figur work heater cold big tv radio alarm clock bed sever lamp light walk way front door window dark bathroom small necessari amen ok area busi hour otherwis',\n",
              " 'amaz histor downtown',\n",
              " 'histori come aliv amaz appreci beauti earli th centuri architectur open still retain earli grandeur clean larg stylish two doubl bed averag size fine restaur expens side lo angel neighborhood heart downtown femal alon feel nervou uncomfort area peopl complain area must make first trip lifetim big citi never seen homeless person love biltmor wait go back',\n",
              " 'simpli beauti beauti everyth lobbi area hallway architectur beauti stay one club busi travel th th floor one perk access busi loung th floor offer continent breakfast morn refresh even inclus rate keep mind pay higher rate sure necessarili worth leisur travel breakfast averag coffe juic cereal fruit yogurt pastri even refresh consist soda cracker chees meat fruit cooki set loung area tabl couch flat screen tv internet access also free access loung speak internet access cost hr period also build older wireless recept signal quit weak make sure bring ethernet cabl along plug cell phone recept also quit weak mine kept fade depend bewar size awesom much floor space sit area couch tabl also sure avail club standard featur disappoint bathroom size one hand huge ton floor space even walk closet yet bathroom tini much move also tub bad shape crack drainag area think bathroom need renov place excel want downtown seem like quit restaur area much time get grab bite smeraldi one night sai sai next night restaur within smeraldi italian meditteranean touch realli food excel creme brule best la far sai sai japanes place beauti set excel servic',\n",
              " 'mom year old daughter year old daughter spent night earli august choic vacat found biltmor perfect central touristi thing want day venic beach santa monica pier rent chopper bike hour sooo fun day san diego wild anim park day shop melros robertson cours day catalina island day disneyland perfect u easi drive everyth larg bathroom look fit center fine busi use solid star fine littl time spent park underground across street instead valet perfect u felt complet safe even return late midnight dinner fast food place within walk distanc la eat sever love late dessert fanci restaur biltmor pleasant surpris definit go back highli recommend',\n",
              " 'charm king',\n",
              " 'love shame area arriv problem book famili didnt credit card go charg per night cash alot haggl got per certainli didnt need hour flight beauti clean couldnt fault found littl rude didnt clue transport around area easi use metro train bu frequent cheap area full tramp group youth hang troubl area upgrad lot build work take place noth open pm noth travel see anyth metro easi conveni use',\n",
              " 'close attract stay august found central place tourist look see la abl visit univers studio beverli hill rodeo drive malibu pacif coast highway mullholand drive venic santa monica beach with rang also lucki see lot film video shoot downtown area seem lot around downtown save money park expens tri park underground garag locat oliv st across street rear entranc cost overnight park weekend even cheaper eat subway quizno domino oliv street right behind locat within walk distanc one complaint bathroom smell horribl like mould grow felt safe walk night',\n",
              " 'rudest encount extrem rude especi concierg nobodi speak english get direct amen speak english know anyth everyth extrem price park drink vend machin websit say continent breakfast complimentari breakfast breakfast outmeal bagel cost access fit center pool walk elev main lobbi set stair',\n",
              " 'disgust horribl despit histori first took hour check famili six ask two next imposs second took hour deliv bag liter hour mayb tip enough way day park next biggest complaint histor dark appear never clean bathroom tile taint black cigarett butt corner non smoke top road nois reach way ninth floor fall sleep parti held around never recommend ever unless yyou want take pictur beauti lobbi',\n",
              " 'overal experi stay millenium biltmor night la wed realli enjoy fortun enough get big book grab realli enjoy beauti decor fabul lobbi corridor cognac bar place meet friend sip wine agre review charm ever seen feel bit like anoth faceless guest time except one waiter restaur effici help area around thing interest block away downtown librari art exposit go time lot outdoor art around mani skyscrap build car almost essenci though want see anyth block away quit empti pm desert weekend',\n",
              " 'beauti gem heart la night biltmor lo angel lobbi common area absolut beauti home academi award bathroom small everyth need shower highli recommend anyon look afford central downtown la neg cost valet park day privileg overnight park across street park per day better option',\n",
              " 'balanc pictur biltmor write review dispel complaint first downtown lo angel homeless peopl femal never felt threaten surround concern neighborhood ask tip guidelin go anoth fact visit lo angel need car downtown la like mani busi center empti workday option might limit ye rel small bathroom also bathroom show tini sign neglect look hard see never felt pen ac strong cool broil socal weekend howev respons lobbi inde gorgeou like restaur check mani fine dine establish commonplac downtown la need car enterpris offic across street lot potenti around biltmor overal though biltmor fine definit four star like best book pricelin hotwir let bad review scare away',\n",
              " 'horribl paid arm leg worth disappoint outsid internet photo biltmor still look grand luxuri realiti subpar bed joke thin bounci mattress thin pillow linen made itch minut sit littl creepi kept date histor way small tv littl counter space stuff park day outrag look websit find much cost could find price list anywher see star downtown hotel charg day valet drive car distant park lot somewher downtown wait get back left stand wait v e r long time appal even sleep left hour stay somewher el',\n",
              " 'love architectur grand stay day husband two teenag decor beauti remind extraveg luxuri hotel past upon arriv cherri coat chocol personalis welcom letter main restaur smiraldi servic excel food defin best al cart meal america waiter extrem friendli profession defin recommend anyon want experi charm grand old lizzi australia',\n",
              " 'amaz old entir build unbeliev realli ornat like palac built almost year ago sure make hotel like anymor littl prici downtown la much histor appeal worth splurg',\n",
              " 'grand first blush servic extra cost ruin valu histor grand common area look servic target rental meet rather servic travel fool websit photo photo provid accur overal pictur environ gener use choic hotel clarion decid go someth ordinari make trip excit bad decis true cost reflect rate charg everi servic use dingi dire need repair upgrad enter certain star repair tile plumb fixtur look like perform bellhop workmanship materi low grade tile grout replac poorli instal silicon caulk ultra cheap servic hr internet access free internet access someth come take grant anoth mistak news la librari half block away offer free internet access public walk destin breakfast earli dinner charg local call charg toll free call linen terribl sheet thin pillow towel thick park per day fan give car stranger goug park park across street even underground park garag felt safe secur littl elev driveway valet drop pool exercis pool classic look tile throughout attract brass rail around unfortun small three peopl pool felt crowd get also floor surround pool dirti exercis equip might instal origin grand open cram much le space need enjoy workout restaur ate smeraldi first night food servic slow price reason second even stop tout downtown la hottest sport bar must downtown la sport bar open sunday uh sport event occur sunday anyway food poor beer warm servic slow actual get tabl go bar ask drink refil environ dark dreari plenti televis want watch game lousi place whatev cost final cost far high accommod valu',\n",
              " 'better expect recent stay millenium biltmor even juli th need place lo angel area without drive back riversid even slightli concern read review stay bad fear arriv around pm even th quickli help bellman car whisk away within second unload wait check polit profession bellman liter follow u friend except take servic elev took public one even though met th floor time quickli show u unload bag friend quit shop trip rodeo dr earlier day ask need anyth addit even offer fill ice bucket thought touch plan go later even call ahead valet get car readi time walk call approx minut car readi wait u state previou post older holtel vari size locat quit larg mayb even bit larg furnitur believ could use bit upgrad term bed rest furnitur seem plenti plenti electr outlet stylist product friend use view much could see part oliv st better build smaller size crowd downtown check fast effic call valet get car readi ahead time time minut left car readi wait overal profession help hesit stay age bed linen could defin use upgrad bring standard',\n",
              " 'terribl servic husband stay biltmor wed night book special treat could afford honeymoon sinc graduat student sinc histori buff book biltmor histor valu seem like closest could get european grandeur without go europ vega heaven forbid like other state entranc spectacular pictur speak book standard hope get free upgrad similar class hotel provid servic new bride groom fact nearli friend receiv free upgrad complimentari champagn strawberri wed night similar hotel area hilton westin intercontinent hyatt walk full wed attir receiv mani congratul random peopl howev met rude concierg servic curt mention congratul ask kind upgrad servic avail front desk person seem appal even ask mention friend receiv servic omni recent said well mayb book omni expect demand kind upgrad inquir base upon experi marri friend fact rebuf rude way major sore spot wed night end stay almost offens price paid even stay nicer hostel europ fraction price husband felt sorri spend wed night like close get anoth bonaventur street stay although small furnish decor par star even call bonaventur biltmor inquir avail ask servic new bride groom concierg repli profession guarante ye bonaventur alway provid upgrad bride groom base avail definit receiv suit book even ultim decid book sinc exhaust wed want pay anoth valet park top wast night fee grand day biltmor certainli behind judg servic tell struggl cannot keep competitor standard measur hospit downtown lo angel rapidli develop iron swanki fashion biltmor abl keep gentrifi surround',\n",
              " 'gorgeou delight arriv look like palac europ incred ceil hall bright clean surpris even though book hotwir upgrad suit love king bed walk closet separ sit sofa dine tabl downsid soundproof could traffic nois audibl though bad prevent sleep',\n",
              " 'classi old girl millennium biltmor beauti old public area gorgeou old girl definit sen histori especi enjoy work facil pool felt like work realli fun quit larg well apport abl get wireless work quit well conveni shop dine difficulti find concierg former conicerg often depend upon concierg ensur concierg hard find altern betwee upstair loung downstair desk overal',\n",
              " 'classic eleg stay biltmor one night recent everyon least one night gorgeou old simpli experi small window let lot nois decor luxuri trap miss galleri bar place hang watch drunken bridesmaid hit old bartend profession courteou front desk check time consum nightmar price make inconveni though overal',\n",
              " 'terribl money love downtown la much stapl center public transit subway long beach restaur dodger stadium short drive away la everi month work alway time mention love stay lo angel lobbi bar absolut beauti wait get roomth bad accept actual thought serious go differ luckili wife doubt stay bed linen must year old everyth look tire dirti tv inch tv kitchen year ago ask employe ever eaten sushi restaur ever heard anyth said eat note smell realli fish time heard bad thing stay competit bonaventur marriott wilshir grand gladli stay although ecommend wilshir bonventur deal kind neat hang around rememb none modern mavel',\n",
              " 'low price exquisit becam life time memori stay like stay palac howev feel lack market price worth far ask peopl will pay thing includ ask price park internet refreger microwav date tv set feel price far defin',\n",
              " 'price better boyfriend stay night millenium hilton short lo angel polic concert dodger stadium book expedia rate saturday night includ tax fee rare upscal day especi larg citi recent paid price fleebag motel monterey pro amaz public space felt like transport glamour day hollywood past felt like grand old new york style bar sport bar main bar attach lobbi gorgeou drink howev expens appletini free nut though charm high ceil mould bed comfort quiet care tv bit small watch tube easi find neighborhood scari like peopl report busi district lot go night need drive want nightlif unless cours walk standard roof top bar club con sport bar ech dark dingi serv late night food actual realli difficult find late night eat besid servic menu expens valet park per also crowd air confus drive car whisk away even know go make sure thing exit vehicl heard difficult retriev item car park visit pool like comment pictur look amaz worth money back oh one thing expedia give half star rate class believ base review star report websit agre star rate could use littl tlc',\n",
              " 'wonder experi everyway kansa anymor insult disagre grew kansa citi slicker see homeless peopl around street clean safe live san francisco much intimid love servic furthermor want star rate per night park believ way peopl self serv ruin experi price averag incom work american see histor architectur place restaur everywher walk street last night pm problem aint four season overal best downtown la',\n",
              " 'mix reaction believ letter sent manag afteri check sum expier prefac thing expier past get respons manag phone call follow give high remark howev manag offer compens kind said call next time stay letter check today june honestli say one worst experi stay nd pleasant experi last time think twice reserv continu recommend friend famili assign drab wall bare piec wore badli rm ask switch class reserv stuck overlook industri portion needle say left shutter shut disgust view addit unfriendli one everi smile point except maid made point say hello morn everyon el big chip shoulder valet attend lax hung around one decid get car one point wait minut get car entir time guest drop pick car saw ticket come car lien guy stand around noth least minut one decid pick slip retriev car pay day lastli check even ask typic hospit protocol given bill sent away even opportun reviewth bill charg credit card print hand shock horribl everyth establish like realli greatli disappoint',\n",
              " 'experi biltmor perfect interest grandeur past housekeep servic quick clean effici tea love except server engag hand bartend loung outstand terrif stori past look flat screen tv sleek duvet trendi touch place love ambianc garndeur public space time check',\n",
              " 'star love histori servic grandeur biltmor ball',\n",
              " 'millenium biltmor real treat',\n",
              " 'classic meet space classic outdat biltmor realli feel like la old common space lobbi meet facil dramat beauti fill histori book meet happi meet host academi award star fill function look today must year ago anoth stori open wardrob find look like year old small tv sheet blanket thin old bathroom function small larg bed moder comfort food ok old outlet premium especi laptop blackberri ipod etc plug got rate expedia fair',\n",
              " 'servic take one incid bathroom',\n",
              " 'excel choic wife stay millennium biltmor memori day weekend initi went base deal expedia hope best right arriv thing went greet warmli check inform upgrad junior suit huge super modern immacul also given voucher free breakfast two morn round drink bar compens minor remodel go weekend effect qualiti one bit gorgeou throwback old l place ton histori charact still basic ament need modern world e high speed internet busi center indoor pool gym etc central locat base explor lo angel final highli recommend martini offer galleri bar',\n",
              " 'stay millennium biltmor confer earlier month immedi present challeng area feel comfort safe singl femal travel walk around day let alon night common area realli quit beauti reflect grandeur glamour old hollywood howev posse none allur worn dingi sheet question bedspread match dismal view constant hum busi downtown traffic could go banquet food par dismal suprem could bridg gap make experi memor fell short howev notabl except julio bar posse savvi servic level beyond properti also director whose name escap misquot servic deliveri time failur deliv packag ridicul charg chicken finger bar yike worst part apathi lack ownership appar everywher problem seem go mantra place care return',\n",
              " 'okay best biltmor millennium confer earlier month agre major previou poster travel quit bit busi feel lobbi public area guest sadli overlook arriv definit impress lobbi front desk area truli stun front desk clerk tri upgrad check night fee declin howev say larg step one lucki one confer peopl half size mine matter pr market person state old properti definit understand variat older hotel understand howev lack qualiti everyth insid guest small larg sheet thin paper like pillow like burlap sack comfort ratti bathroom amen shampoo soap etc never replac entir even though use fact one day maid knock lampshad lamp make bed even though back two addit night never fix tick though way nickel dime understand high busi thought process peopl expens account care thing cost wrong day strict budget need adher travel busi appreci charg print board pas flight grand total time busi center minut advertis hi speed internet public area guest awar certainli complimentari food confer howev meet littl chilli meet beauti ballroom extraordinari alway pleasant helpfuli agre poster howev best wise tourist feel unsaf neighborhood get littl seedi night renov complet think fine properti event busi meet tourist howev reconsid',\n",
              " 'grand seen better day spent four night biltmor say lobbi meet impress opul old world hollywood way attent polit profession howev seriou need updat bed pillow hard comfort remind someth seen budget hotel restaur servic extrem overpr ate restaur three differ time servic slow food except overpr enjoy part histor suggest night howev look comfort luxuri look somewher el',\n",
              " 'avg terribl neighbourhood member help common area quit beauti love high ceil well kept howev stay quit small tire look view brick wall linen old luxuri mean neighbourhood around pretti sketchi much particularli weekend even starbuck close close sunday downtown la next time meet downtown la santa monica beverli hill rent car',\n",
              " 'beauti husband recent stay millennium biltmor lo angl busi trip overal say pretti satisfi beauti fascin histori care watch walk busi look beauti wall ceil lucki enough get see sever ballroom confer attend amaz rest small suffici keep remind older hotel necessarili big right elev though heard ding elev hour night air condition work well made aw bang nois turn could even hear bang air condition neighbor also troubl water drain bathtub probabl le minut shower water ankl late night snack count vend machin floor altern vend ice machin search coupl floor vend machin turn coke machin friendli food restaur expens somewhat expect problem saturday sunday store restaur citi close much choic eat food option also fyi inform amman offer e restaur menu least highlight price rang pool hour fit facil hour citi transport inform etc found bit odd',\n",
              " 'much return day lobbi meet quit love old hollywood feel howev need seriou updat larg dreari window overlook brick wall hardli chanc sunlight sheet low qualiti bedspread dingi shower head low water flow base vaniti kind paint plywood could go busi meet downtown conveni much el tourist like see also feel safe walk around weekend even',\n",
              " 'place best coffe bar ever',\n",
              " 'millenium biltmor basic overpr boyfriend stay night octob arriv greet friendli effici manner direct lobbi public area fantast exactli style contemporari decor public area look fantast tradit decor enter corridor lift though notic standard drop dramat instead look fresh like lobbi corridor look date need redecor enter star plea grubbi fact move chair toward wall make bit space crumb previou guest obvious clean properli dark bathroom complet outdat dirti look old tile wooden panel paint white long time ago dirti yellowi colour noth special bathroom impress go complain ask chang decid mayb expect much like probabl later lay bed intent watch telli larg mahogoni televis drawer unit foot away end bed side face bed pull slide tray televis far could swivel far could still could comfort see televis bed bad set altogeth mind chair front televis unit perhap meant watch televis concierg though help help u organis rental car day trip disneyland brilliant help u must say first morn went breakfast hotel restaur mistakenli thought includ price fault walk seem bit help take order tabl set waiter stare u approach explain routin felt pressur someth took seat free tabl waiter approach ask could take order want bowl frosti slice toast boyfriend order omlett got feel waiter must someth wrong order caus inconveni never took time explain suppos therefor could rectifi result whatev wrong waiter proced quit rude abrupt u throughout serv u nearli cut look ask nd glass orang juic next thing shock horror bill arriv breakfast believ price dollar plu tax small bowl frosti dollar plu tax one slice toast butter dollar small glass orang juic dollar omlett serv breakfast potato queri waiter polit whether breakfast includ stomp check recept came back said argu took bill left u momentarili organis money total bill includ tax around dollar put dollar bill booklet stood leav waiter practic ran tabl pick bill booklet front u rude open bill acknowledg dollar threw eye heaven loud tut clearli think dollar enough tip make peopl feel uncomfort rude right throughout servic sport bar dingi realli undesir ate first night food ok homeless person manag come hassl u tip eat wise ok rent car day two also metro stop around corner brought place easili enough bit trek hollywood univers studio gym swim pool poor well unfortunatl feel urg use facil saw unfortun price paid grubbi accomod especi measli overpr breakfast rude waiter dirt sport bar enough say money could probabl get better la possibl better honestli recommend anyon especi tourist mayb look u felt could throw u old content honest seem hold lot busi confer etc day restaur breakfast seem classi financi district type restaur profession go busi meet dinner someth could concentr accommod though unless differ set busi guest understand night',\n",
              " 'enjoy millenium husband stay two night millenium biltmor la wait board cruis ship first time la thoroughli enjoy citi car rental must though get around see everyth impress old beauti comfort bed wonder restaur accomod highli recommend',\n",
              " 'biltmor bit loud spent four night end april must say realli disappoint stay previous face courtyard street trip eigth floor think street nois factor unfortun old doubl pane window hear everyth outsid sinc l alway busi alway nois also drape morn sunlight also problem woke much earlier prefer huge corner suit small chair desk couch loung unfortun also ac work half time sound like lawnmow run closet valet also brutal car take forev pull driveway realli small accomod lot traffic restaur either close realli earli overpr need seriou upgrad come back',\n",
              " 'lobbi horribl stay one night ilast decemb famili moment arriv yo see beauti lobbi get want leav even servic realli extrem old old charm appear tri find downtown worth',\n",
              " 'beauti reason price old husband stay millenium biltmor long weekend realli enjoy common area breathtak carv ceil especi noth terribl special clean spaciou theveri reason price think choic',\n",
              " 'classic even trueli classic grand public area demonstr rich wood high ceil flair tast take back earli th centuri old match stay x standard club level need degre freshen gener furnitur decor date worn club level bit provid size corner suit plenti light includ level excel breakfast offer juic fresh fruit yogart assort fresh bakeri good etc well appreci provid similar happi hour sort earli even also touch much prefer club level consid stay servic overal accept superior terribl sever restaur within close walk distanc choos look luxuri boutiqu surround across street checker stay also visit biltmor lobbi expect pay seriou cash differ',\n",
              " 'class also flaw arriv biltmor enter lobbi impress inde spaciou rather grand long hallway run behind lobbi contain restaur shop convent busi near dorothi chandler pavillion went check wait minut entir comput system crash howev way wait way unaccept first look like someth older look low level queen bed complet style cream bedspread dust ruffl match fit torn retro bad retro bad carpet stain small dark view wall bathroom tini poorli remodel one wing back chair look incred uncomfort also small possibl sit chair watch tv tv dresser desk desk chair howev desk tabl nightstand weird heavi box like object like overturn comput box lie floor right next bed variou wire attach sure bed light place put anyth lay bed see clock phone desk reachabl bed worst part howev huge stain cream color bedspread point demand new upgrad junior suit larg separ sit furnitur still somewhat date fairli describ suit attract luxuri carpet stain tile miss dress area counter tv best bathroom ok small also bit date also mini bar bottl water coffe tea sure vend machin tap water noth drink servic unremark neither bad concierg help checkout slow peopl line one person provid assist servic breakfast fine prompt tasti dinner japanes restaur servic make use facil get impress end could mean differ decent unsatisfactori one sure type need request club level mayb better overal experi mere okay second stay mani nicer hotel price thu probabl look elsewher return',\n",
              " 'restor stay millenium biltmor town guest could shop jewelri district conveni plea get ding overnight park charg mention book although expect pay charg park big citi expect attent unload bag check etc got way way end feel fortun valet final park car beauti restor common area immacul clean stay concierg floor th plea bed comfort quiet fit center fairli small steam love gener hard find concierg loung accept realli anyth special need get earli interest snack run replenish friend experienc poor servic big bar went find sport bar enjoy much servic issu although small prevent give maximum star overal realli enjoy',\n",
              " 'upscal common area averag price stay sever time past year never disappoint first impress lobbi ballroom hall bar fantast reminisc old hollywood gym also need updat bed linen get par chain hilton bathroom bit small cramp tv small wireless internet park guest think outrag book far enough advanc rate beauti amman never paid night downtown la rate hilton across street close night sport bar pretti food walk block mccormick schmidt well certainli recommend busienss travel even tourist least check place',\n",
              " 'movi set biltmor kept tradit manner full histori respect fascin use mani mani film tv show recognis sinc stay stage oscar jfk campaign hq lot claim fame still well appoint larg comfort clean well appoint window old therefor nois cold problem also bit problem arein la tourist quit way hollywood blvd fro exampl street around biltmor night virtual empti lead feel bit intimid walk back metro etc lucki enough abl watch film without trace done lift use recept day gone interest see stay defin worth speak member histori place seem well educ workplac al capon beatl victim black dahlia murder',\n",
              " 'old school charm stay millenium biltmor busi downtown easi get park valet area biltmor old school charm attend sever confer gone smoothli ballroom beauti look old pictur past event celebr first given time check walk strong mildew smell bottom comfort stain also drafti loud window seal inch gap top bottom window ask move put anoth smaller cute comfort clean dinner servic alway prompt food breakfast fit center open peopl get go earli work fit center varieti weight machin cool indoor lap pool front friendli effici',\n",
              " 'look exud golden age hollywood lobbi common area noth short spectacular sure look wonder photograph memorabilia strongli suggest visit drink walk recommend overnight eleg end get compar cheapest motel cheap bedspread linen bad furnitur terribl art etc mini bar coff pot one cup paper le model bathroom even wors attempt bring date fail miser instead captur era piti mix style terribl use space add shower water pressur tepid water morn worst one made attempt soundproof least diminish traffic nois th floor sworn window open old origin window place plantat shutter broken piec noth muffl nois neither drape older hotel fan ac system turn high muffl street sound one stuck nois far wors heard nyc read chang review terribl okay lobbi beauti structur make woeful inadequaci bill luxuri properti noth luxuri accommod',\n",
              " 'architectur public space understand public space done five seven year ago fact movi film least margin clean everyth seem empti larg bookcas secretari desk book scratch paper pen etc astound learn manag compani chang five seven year ago yet item logo name still old manag compani locat downtown la learn downtown area essenti close pm walk around within block either direct find restaur deli get someth eat arriv night noth open walk block found area rather seedi think attend confer use base vacat',\n",
              " 'beauti lobbi ballroom unless royalti stay christma may see histor tour l old hollywood buff want see academi award held lacklust underkept comparison lobbi ballroom ballroom lock best part lock guest sneal peek one day biltmor bowl crystal ballroom beauti got lucki day film crew unlock restur bother ask coffe go cup told cold distant secur plenti cold also hard get peopl smile around two queen bed bathroom worst mold old broken cheap fixtur bathtub never clean grand come short guestroom money must go keep lobbi ballroom beauti look pretti onlin main entranc like plush cleanli',\n",
              " 'spent christma biltmor rendev court stairway',\n",
              " 'suitabl tourist stay novemb three night beauti decor histori place interest worth get earli jet lag walk around fine old size adequ ye bathroom small expect old stay brand new hotel smaller bathroom clean servic everi day look side nois bit problem traffic stop london light sleeper might want pack earplug recept fine concierg help problem la three night want see sight downtown took long time get anywher even metro one option menu breakfast buffet tax slightli steep compar hotel stay plenti choic servic fine though waiter could littl friendlier recommend anyon stay busi anyon go la leisur pick wise unless want beauti decor bit hollywood histori glamour',\n",
              " 'fine price basic neat tidi third floor',\n",
              " 'biltmor blue run walk hous event town option chang plan disorgan disast heard sold may account poor servic weekend long front desk gave away bridal hospit suit though sign six month ago sign contract argu ever guarante though recov bridal suit late day friday found hospit parent locat differ floor guest rather one mom schedul six month ago ineffici ineffect crown mi manag error came woke sister new husband dawn follow wed say bill must settl immedi villain hoteli actual came suit pound door refus leav alreadi imprint credit card desk plea tell friend away venu act togeth',\n",
              " 'grand old recent stay biltmor night friendli arriv clean tidi coffe tea facil two doubl bed small tabl chair foyer recept lobbi area impress arriv demonstr persh park creat nois window open overal quiet hear neighbour plea servic cleanli histori shop full interest photo fact lo angel',\n",
              " 'grand histor biltmor rendezv court could get drink late relax',\n",
              " 'worldl luxuri wonderful experi larg charact situat downtown la atmospher ombienc classic experienc believ doubl check paid sure exepens load load histori visit hearst castl day like go back hearst castl must visit believ',\n",
              " 'beauti classi plea pay attent say neg thing biltmor obvious expect new hilton someth like biltmor lovingli restor origin built decor classic enjoy moment step foot insid perfect everi need quickli attend checkin breez alway easi gigant wed go wander around look banquet beauti restor mould beam mural carv like absolut beauti work origin muralist known smeraldi whose paint also sistin chapel restaur simpli breathtak beauti food unparalllel high tea rendezv someth want miss tea love scone goodi excel servic ambienc make feel like royalti th floor furnish nice well care obviou older still remnant dumbwait littl bygon era touch love place wait return',\n",
              " 'experi love new store come la ca biltmor la everi month made trip california last weekend septemb must say wonder experi lobbi impress alway love littl shop one older shop replac new shop believ store name treasur beauti store product help servic addit ideal tourist like go buy suveni definit stop next trip definit reccomend toursit visitor biltmor overal wonder experi doubt carolin r',\n",
              " 'see problem stay millenuim biltmor septemb th th thoroughli enjoy lobbi public area beauti felt like old world hollywood size small two doubl bed plenti relax spread bathroom adequ larg even although start show age whole well maintain clean found pleasant help provid u direct advic valet excel mani complain price park welcom big citi holiday come sydney australia price par cours far went u easi get major attract car train two block away',\n",
              " 'unimpress biltmor biltmor old beauti downtown lo angel howev old portion outweigh beauti part lobbi accompani area quit well done interest stay host mani award show seem though redon sinc right show surpris tv color modern featur appreci histor hotel point guest need updat properti larg figur reason housekeep shabbi job clean overal disppoint especi come anoth histor santa monica done everyth right need downtown la busi downtown howev work bring citi look elsewher qualiti biltmor miss mark',\n",
              " 'could far one best hotel stay see anyon rate bad beauti everybodi help one problem air stop work upgrad price everytim show pictur everybodi comment pool area recommend everyon matter state blitmor go wrong ye bit homeless peopl ga bother step show bless attract sate',\n",
              " 'book two concert overnight impress friendli help put least book pricelin sometim case clean charm lobbi glamour expect origin sight academi award breakfast outstand walk hall take histor photograph visit entertain histori museum use pool truli work deco art somewhat worri book read neg ta review posit one start finish mean everyon go plea everyon go end bad experi either highli recommend love step away typic citi high rise',\n",
              " 'beauti lobbi friendli servic biltmor lobbi beauti courteou friendli book delux king howev travel preteen girl need bed first night receiv two doubl bed queen avail comfort older insid anticip though clean along courtyard ask could chang two queen follow day accommod u extra charg much expect downtown traffic bit noisi tire play much matter',\n",
              " 'mix feelinga biltmor mix feel biltmor let start positv price valu especi includ breakfast bulid impress grand clean comfort breakfast excel attent waiter like use nearbi subway station persh squar get univer studio hollywood public transport cheap effici even got bu santa monica howev neg arriv pm flight uk first told avail despit book pay well advanc reput compani uk receptionist offer u upgrad club floor allow use extra facil floor told phone pm see avail u adult kid age tri get bit rest doubl bed lucki gentleman check time sent away despit reserv number pm advis avail pm point spoke manger told go meal got back want anoth half hour later nd albeit floor one probem manag get late check free charg day left ask given grudgingli receptionist seem think upgrad suffici compens subject differ could see club standard decor newspap deliverd free bottl water clean comfort need littl tlc bit worn place need upgrad bath small even british standard definatley need upgrad pool use repairloc lot panhandl problem may make peopl uneasi probelm check end spoil wari stay',\n",
              " 'millenium biltmor unfriendli place stay biltmor juli th th famili husband three child age travel australia day disneyland stay anaheim move anaheim biltmor immedi felt fit ladi recept extrem unfriendli ask question answer extrem reluctantli husband drink galleri bar child watch tv barman also friendli concierg wonder man call jame made unfriendli charm friendli manner gave u sort help tip market nearbi could purchas fruit child bought banana u cent wow australia current banana cost au advic sort tour la go ye biltmor beauti impress colour histori howev first stay bar fridg cost extra per night pool child desper tri avail whole time middl summer grrr spaciou comfort overal',\n",
              " 'glamour biltmor exterior biltmor classic architectur',\n",
              " 'pay stay night meet glad pay lobbi ballroom love stop small dingi bathroom gross mold tile bathtub drain properli end stand foot water toward end shower say regard meet logist av problem took forev get took long time get thing straighten speak english well seem fulli understand visit admir lobbi beauti never pay',\n",
              " 'top shut water',\n",
              " 'biltmor spectacular',\n",
              " 'noth better fantast wife anoth coupl come la confer end april reserv biltmor start read review know review map posit neg well let conserv canadian edmonton describ biltmor first impress drive entranc wow let u check hour adhead post check time servic averag size king size bed care bathroom littl small rang thu end short hall nois ever nite becam becam friend doorman bellman fantast champ sport bar friendli food pool area averag histori noth amaz public area like noth ever seen neighborhood felt comfort go walk morn nite far homeless far polit homeless met citi importantli take time talk realiz like rest u reason afraid also polit enough say hello everi day rememb biltmor neighborhood one want downtown place easi minut walk stapl center convent center need commend posit attitud although world travel hesit recommend biltmor back recommend peopl know go la manag thank wonder experi',\n",
              " 'shini front shabbi back smoker brochur websit photo laud grand ballroom lobbi inde magnific beli behind somewher better walk look usd night expect find bathroom door hing continu struggl trivial provid coffe satchet guy fix door resign fact colleagu real job hand told u lucki plumb problem park expens valet compulsori valet servic get surli tip extravagantli plu side smoker biltmor fire escap lobbi alarm monitor open littl balconi perfect quiet smoke without get dress leav',\n",
              " 'enjoy histor experi wife stay biltmor one night part much longer trip la southern ca lot tourist busi travel go biltmor high class reput histor signific part self guid architectur histori walk tour highli recommend btw check la conserv web site best featur public area make sure alloc time sit lobbi look banquet drink martini bar expens romant definit swim beauti italian tile pool think awar popular public area got dress took sever pictur pool point secur person show look left smile wave small clean bed wonder decor classi materi somewhat old bathroom small nice tile work well view interior air column walk around downtown la say benefit much exterior view polit busi get impress lot peopl check time internet free park expens neighborhood improv lot last decad felt safe night lot dishevel mutter peopl wander occasion panhandl polit southern california style overal comment worth histor reason experi person recommend kid long tourism experi outsid downtown la area',\n",
              " 'complain beauti',\n",
              " 'overpr relic thought magnific piec histori thing confin past standard relat price poor comparison place stay california found car park charg per day park free hidden cost could done without oh valet park care rental car want know nearest conveni store bother ask receptionist overal clean bit relic heart place servic polit necessarili effici cannot speak english certainli four star',\n",
              " 'classic wife spent three night biltmor heap prais upon attent particularli personnel dine made comfort plea gener favor hotel size ofth biltmor princip think thatth servic suffer recommend propertyfor larg crown base mouldingsand shutter spectacular lobbi wonder settingfor tea offer afternoon surprisingli well equip gym next art deco pool atmospher grace note downtown la whirl activ biltmor near freeway even better think metro union station wish get explor suggest take train pasadena long beach short trip skip socal traffic dread next visit lo angel return biltmor',\n",
              " 'alway want disappoint old alway wish list place oppurtun came visit mother christma holiday knew right want time check everyon plea keep mind travel alon year old woman look took serious answer question thing like expedia tell book need credit card could hold day extra charg phone call servic etc explain front desk clerk happili waiv fee use phone lobbi could still receiv phone call charg cell phone work fine th floor problem wonder dash servic get almost anywher downtown quarter drop right front goe bu underground system block away shop maci plaza shop th fig block away food din bit pricey ton fast food small place around area mention domino pizza deliv concierg desk help inform need place eat downtown museum hour holiday get histori comfort clean mini bar thank temptat regular happi choic recommend anyon pleasent place within piec downtown lo angel histori',\n",
              " 'phantast histor valu view persh squar',\n",
              " 'love old spent long weekend biltmor pluse friendli help surprisingli huge quiet valet park effici quick afternoon tea delight gym indoor pool time machin explor peopl watch conveni everyth downtown minus nonexist water pressur shower love view airshaft price valet park overal recommend highli definit',\n",
              " 'servic questionn millenium biltmor expect millenium biltmor start total complet miss everyth import qualiti first arriv larger event p took u minut even get close park valet area ugh check know p reserv restaur publish open till desk call say late ask bag taken could go dinner bell hop said must cannot deliv minut explain dinner reserv said bad relent take minut later got restaur p ugh basic blast extrem unfriendli hostess ladi get new job one heck unpleas person deal said bad peopl call cancel reserv close restaur seat get ugh guest mistreat get yell went upstair talk front desk ugh suggest coupl place could dinner said block away arriv close p ask last place know place open luckili standard standard actual food fun bar area went back toilet broken wait hour get fix also found bathroom extrem tight corner ugh price worth stay find servic menu enjoy servic japanes breakfast cous got use check non function took bit get car front door valet note morn bell hop wonder time short servic want get yell told wrong inform mistreat way went bar stay open till midnight munchi menu realiz custom bar simpli move',\n",
              " 'getaway stay thanksgiv buffet enjoy bar area especi standard rooftop loung old place park includ club rate breakfast bar follow day',\n",
              " 'millennium biltmor beauti return la stay night millennium biltmor grand beauti spaciou comfort stay standard treat decid upgrad club last night happi standard adorn oil paint beauti furnitur bed comfort coffe maker club cours bigger luxuri furnish coffe maker request one suppos reason club guest access club loung serv complimentari beverag includ alcohol snack pm fridg ice avail variou floor throughli enjoy experi millennium biltmor servic plea servic bell servic concierg front desk housekeep also enjoy tradit afternoon tea rendev court impress spread delight sandwich tart cake price food rendev court reason wonder ambienc casual yet stylish fountain centr breakfast smeraldi anoth reatur food two wed held ballroom peek entranc ballroom get ballroom readi beauti also short walk depart store maci robinson may number cafe restaur within vicin locat financi district nicer part downtown la summari grand histori enjoy splendour grand old build love millennium biltmor',\n",
              " 'surpris millennium biltmor convien locat downtown lo angel near freeway access shop plaza across street lobbi public space beauti full classic mold decor like histori enjoy stay feel like walk back time walk hall lobbi even hall full photo first academi award ceremoni held ballroom problem peopl work check clerk valet park attend everyon friendli u book pricelin upgrad suit pleasant surpris four u husband two young child extra space wonder bonu suit size small apart complet small entri hall huge live dine plu wet bar refriger separ spaciou bedroom doubl bed bathroom two tv kid could watch show one clean nice furnish window shutter block sunlight morn suit locat corner could see across street toward persh plaza roof top lower build felt comfort safe stay peek standard report standard spaciou averag bedroom suit disappoint standard review mention coffe maker one mayb came suit alway request coffeemak free state guest book also includ packet coffe paper cup sip go lid complaint water temperatur bathroom uneven happen lot shower water temperatur sink ok also took forev hot water reach u slow time wed thur guest friday saturday hot water come soon turn think need upgrad bathroom especi shower although understand park space premium downtown la anywher la matter thrill per day valet park fee ye garag across street around block charg fee even entri pm charg per hour total come close much save figur money save went toward park overal everyth even per night still deal downtown la park includ overal definit recommend biltmor anyon',\n",
              " 'like one night wed took place view may askew wed area dine wed took place magnific famili comfort larg nice appoint addit roll away bathroom dirti old old compar rest feel like bathroom third rate problem luggag anyon fact call someon come shine kid shoe wed sent someon immedi shoe get shine find brown sued polish hey made effort food expens overpr mani inexpens perfectli food option soon walk door overal like',\n",
              " 'confus anyon girlfriend spent two night biltmor thought beauti whose gener pleasant person rude u doorman check guy perfectli pleasant u way assum treat terribl level servic seem vari wildli area around bit dodgi gener safe daytim besid need car get interest stuff anyway pool roman bath style decor bar expens speak concierg variou ghost',\n",
              " 'good utter let huge disappoint book two month advanc three night first univers studio packag breakfast uni studio ticket valet park two weekend packag includ valet park rate admittedli unlik one review read actual extrem easi find use googl map direct aid howev upon arriv wait minut get valet park area grant prom night got recept area beauti quit empti look could use decor greet use word grain salt check counter rude young man made feel quit uncomfort got pretti inde went bathroom reddish sort stain bathtub fixtur dirti look though never clean saw view also club floor distress view back build wait luggag arriv want go even need chang time tick still luggag also realiz given univers studio ticket check directori servic menu etc call bellhop find luggag might ask ladi ask luggag brought umm yup cours repli ye ask valet send even told exactli bag need put hold intermin length time came back phone say know want brought umm interest sinc record reserv three day realli sure without luggag plain view car like direct car could go get exagger well never ask littl dumbfound gather wit nice said impress bellhop bring transfer bellhop shockingli also ask like come get put perspect yr old daughter three week roadtrip two larg suitcas one smaller suitcas one laptop one larg toiletri bag sundri bag carri manag amount luggag go pick lobbi anyway eventu brought let tell hard give guy tip even though cours none fault phone front desk ask uni studio ticket question say given check surpris hear guess believ told given think easili enough check put hold age final came back ters said send ask directori said housekeep issu speak point transfer although half expect hang phone spoke housekeep luggag still arriv fact eventu arriv taken hour fifteen minut time late u make dinner reserv west hollywood month littl choic order servic menu unlik person nebraska comment price reason omg hamburg call reason must heartili disagre believ budget mind person stretch imagin bill came hamburg tini half bottl piec appl pie ice cream includ although inform gratuiti ad tip make total tax phone day later ask bill high told gratuiti alreadi ad said refund tip fact done made differ anyway quit unbeliev badli want complain whole experi thought wait anoth night see thing went end complain though truli wish done person check u rude made feel uncomfort felt terribl intimid even ask point said someth whether everyth like question come expect calibr hotel say noth surround area inde slummi look area come north highway fine mu metropolitan art etc area immedi block south around becom highli unsaf look feel advis daughter look anyon drive area ugli scari look member canoga park said area unsaf kid say east must mean block east west south well circumst walk around daughter area surround fact chanc male adult either never unless take seriou instruct custom servic art deal peopl effect peopl care repres impress leav peopl appar manag advis downfal probabl reason get littl repeat busi architectur beauti histori steep tradit big shame ruin lack servic mani front line shame shame mani employe huge disappoint',\n",
              " 'love biltmor stay biltmor sever time past year andhav alway love area downtown la biltmor isloc danger near skid row east ye occasion panhandl minor nuisanc lot see downtown museum contemporari art disney hall concert etc beauti mural theloung next bar miss eaten sai sai japanes restaur mani time excel roomsar charm mani view',\n",
              " 'thing alway better second time around husband stay wonder time promis go back well wish kept promis arriv front desk peronnel friendli last time fact help bellhop sooooooooo without ask told u everyth la could could go also told u amen inform stay th floor club level told check renov happi oh renov hate see rest th floor smell old musti bathroom dirti wall look patch shower head disgust look like clean sinc first instal sat bed felt hard rock call housekeep ask bed pad ladi told think pad call front desk ask move sinc mattress replac last year mattress one one call front desk said check front desk call back rude inform mattress floor replac noth could said send housekeep put pad bed jump thru hoop get stay club level even snack continent breakfast wow definit worth upgrad breakfast delici plenti fresh pastri scrambl egg bacon sausag fresh oj freshest sweetest mix berri ever eaten ate sai sai site japanes restaur eaten wonder experi time waitress hand u menu return minut later exagger ask u made mind told need time becam irrit hover u without help whole time felt like uncomfort food arriv cold th floor concierg definit much help friendli lobbi gentleman man concierg desk spent consider amount time show u map la tell u go eat follow suggest disappoint check differ stori valet must bad mood rude everyon peopl complain manag sad sure happen last year biltmor big disappoint u back stay old hotel updat facil without lose histor charm unfortun biltmor one place also hope front desk valet rememb repres seek friendli advic bellhop',\n",
              " 'best choic downtown la one best region millenium biltmor classic excel servic beauti atmospher guest immacul tast appoint restaur superb architectur make landmark local treasur exclud glamour eleg bygon era lo angel almost extinct hotel la area histori ambianc biltmor definit worth visit downtown la vibrant citi biltmor within easi walk ye walk la distanc major corpor cultur tourist site want walk cab limo easili obtain biltmor must experi lo angel',\n",
              " ...]"
            ]
          },
          "metadata": {
            "tags": []
          },
          "execution_count": 35
        }
      ]
    },
    {
      "cell_type": "code",
      "metadata": {
        "id": "9tk5RoYJRvWD",
        "colab_type": "code",
        "colab": {}
      },
      "source": [
        "for i in range(len(Text_data2)):     \n",
        "    Text_data2[i]=re.sub(r'\\s+', ' ', Text_data2[i])     \n",
        "    Text_data2[i]=re.sub('[\\d]', ' ',Text_data2[i]) \n",
        "    Text_data2[i]=re.sub(r'[^\\x00-\\x7F]+','',Text_data2[i])\n",
        "\n",
        "    Text_data2"
      ],
      "execution_count": 36,
      "outputs": []
    },
    {
      "cell_type": "code",
      "metadata": {
        "id": "zRtKPWDWSYSE",
        "colab_type": "code",
        "colab": {}
      },
      "source": [
        "# Splitting the Data\n",
        "X_train,X_test,y_train,y_test = train_test_split(Text_data1,train['Sentiment'],test_size=0.3,random_state=124)"
      ],
      "execution_count": 37,
      "outputs": []
    },
    {
      "cell_type": "code",
      "metadata": {
        "id": "B7R1YipeSnnC",
        "colab_type": "code",
        "colab": {
          "base_uri": "https://localhost:8080/",
          "height": 158
        },
        "outputId": "d9ab0985-7fb4-4c0c-91c8-216d97f04837"
      },
      "source": [
        "print(y_train.value_counts())\n",
        "print(y_test.value_counts())"
      ],
      "execution_count": 38,
      "outputs": [
        {
          "output_type": "stream",
          "text": [
            "good         2263\n",
            "excellent    1355\n",
            "bad           782\n",
            "Name: Sentiment, dtype: int64\n",
            "good         950\n",
            "excellent    616\n",
            "bad          321\n",
            "Name: Sentiment, dtype: int64\n"
          ],
          "name": "stdout"
        }
      ]
    },
    {
      "cell_type": "code",
      "metadata": {
        "id": "scfOEIP1SsLT",
        "colab_type": "code",
        "colab": {
          "base_uri": "https://localhost:8080/",
          "height": 52
        },
        "outputId": "f61ed3d9-0e66-41ca-a50c-cf523ccf4085"
      },
      "source": [
        "# Creating a Tfidf Matrix\n",
        "tfidf_transformer = TfidfVectorizer(ngram_range=(1,1),stop_words='english',max_features=350)\n",
        "X_train_tfidf = tfidf_transformer.fit_transform(X_train)\n",
        "print(X_train_tfidf.shape)\n",
        "# Get the tfidf matrix for test documents\n",
        "X_test_tfidf = tfidf_transformer.transform(X_test) \n",
        "print(X_test_tfidf.shape)\n",
        "\n",
        "test_tfidf=tfidf_transformer.transform(Text_data2)"
      ],
      "execution_count": 39,
      "outputs": [
        {
          "output_type": "stream",
          "text": [
            "(4400, 350)\n",
            "(1887, 350)\n"
          ],
          "name": "stdout"
        }
      ]
    },
    {
      "cell_type": "code",
      "metadata": {
        "id": "u9EheH_rS3RR",
        "colab_type": "code",
        "colab": {}
      },
      "source": [
        "# MODEL BUILDING\n",
        "# Navie Bayes model\n",
        "\n",
        "nb_clf = MultinomialNB().fit(X_train_tfidf,y_train) \n",
        "\n",
        "pred_train = nb_clf.predict(X_train_tfidf)  \n",
        "pred_test = nb_clf.predict(X_test_tfidf)"
      ],
      "execution_count": 40,
      "outputs": []
    },
    {
      "cell_type": "code",
      "metadata": {
        "id": "pWZvHJZoTDnn",
        "colab_type": "code",
        "colab": {
          "base_uri": "https://localhost:8080/",
          "height": 52
        },
        "outputId": "e7877e48-8d15-4c35-825c-90fb1d8b3b7a"
      },
      "source": [
        "print(accuracy_score(y_train,pred_train)) \n",
        "print(accuracy_score(y_test,pred_test))"
      ],
      "execution_count": 41,
      "outputs": [
        {
          "output_type": "stream",
          "text": [
            "0.6322727272727273\n",
            "0.5871754107048225\n"
          ],
          "name": "stdout"
        }
      ]
    },
    {
      "cell_type": "code",
      "metadata": {
        "id": "9BcJySOqTIxV",
        "colab_type": "code",
        "colab": {
          "base_uri": "https://localhost:8080/",
          "height": 52
        },
        "outputId": "74a3a5f8-5aea-4091-d2fa-563382cdda75"
      },
      "source": [
        "# LOGISTIC REGRESSION\n",
        "logmod=LogisticRegression()\n",
        "\n",
        "logmod.fit(X_train_tfidf,y_train)\n",
        "\n",
        "pred_train_log = logmod.predict(X_train_tfidf)\n",
        "pred_test_log = logmod.predict(X_test_tfidf)\n",
        "test_pred = logmod.predict(test_tfidf)\n",
        "\n",
        "print(\"Accuracy on train is:\",accuracy_score(y_train,pred_train_log))\n",
        "print(\"Accuracy on test is:\",accuracy_score(y_test,pred_test_log))"
      ],
      "execution_count": 42,
      "outputs": [
        {
          "output_type": "stream",
          "text": [
            "Accuracy on train is: 0.7186363636363636\n",
            "Accuracy on test is: 0.6486486486486487\n"
          ],
          "name": "stdout"
        }
      ]
    },
    {
      "cell_type": "code",
      "metadata": {
        "id": "QO4syGxaTP4e",
        "colab_type": "code",
        "colab": {}
      },
      "source": [
        "# Using Grid search Model\n",
        "\n",
        "param_grid={\n",
        "    \"C\":[10,20],\n",
        "    \"max_iter\":[100,150]\n",
        "}\n",
        "param_grid_model = GridSearchCV(estimator = logmod, param_grid = param_grid, cv =5,n_jobs=-1)"
      ],
      "execution_count": 43,
      "outputs": []
    },
    {
      "cell_type": "code",
      "metadata": {
        "id": "Nfdv3h6QTa37",
        "colab_type": "code",
        "colab": {
          "base_uri": "https://localhost:8080/",
          "height": 390
        },
        "outputId": "70e20307-ad9e-449a-e6dc-f46715cb62f8"
      },
      "source": [
        "param_grid_model.fit(X_train_tfidf,y_train)"
      ],
      "execution_count": 44,
      "outputs": [
        {
          "output_type": "stream",
          "text": [
            "/usr/local/lib/python3.6/dist-packages/sklearn/linear_model/_logistic.py:940: ConvergenceWarning: lbfgs failed to converge (status=1):\n",
            "STOP: TOTAL NO. of ITERATIONS REACHED LIMIT.\n",
            "\n",
            "Increase the number of iterations (max_iter) or scale the data as shown in:\n",
            "    https://scikit-learn.org/stable/modules/preprocessing.html\n",
            "Please also refer to the documentation for alternative solver options:\n",
            "    https://scikit-learn.org/stable/modules/linear_model.html#logistic-regression\n",
            "  extra_warning_msg=_LOGISTIC_SOLVER_CONVERGENCE_MSG)\n"
          ],
          "name": "stderr"
        },
        {
          "output_type": "execute_result",
          "data": {
            "text/plain": [
              "GridSearchCV(cv=5, error_score=nan,\n",
              "             estimator=LogisticRegression(C=1.0, class_weight=None, dual=False,\n",
              "                                          fit_intercept=True,\n",
              "                                          intercept_scaling=1, l1_ratio=None,\n",
              "                                          max_iter=100, multi_class='auto',\n",
              "                                          n_jobs=None, penalty='l2',\n",
              "                                          random_state=None, solver='lbfgs',\n",
              "                                          tol=0.0001, verbose=0,\n",
              "                                          warm_start=False),\n",
              "             iid='deprecated', n_jobs=-1,\n",
              "             param_grid={'C': [10, 20], 'max_iter': [100, 150]},\n",
              "             pre_dispatch='2*n_jobs', refit=True, return_train_score=False,\n",
              "             scoring=None, verbose=0)"
            ]
          },
          "metadata": {
            "tags": []
          },
          "execution_count": 44
        }
      ]
    },
    {
      "cell_type": "code",
      "metadata": {
        "id": "pXERBL4hTiWn",
        "colab_type": "code",
        "colab": {}
      },
      "source": [
        "y_preds_lr_train = param_grid_model.best_estimator_.predict(X_train_tfidf)\n",
        "y_preds_lr_test = param_grid_model.best_estimator_.predict(X_test_tfidf)\n",
        "test_pred_gd = param_grid_model.best_estimator_.predict(test_tfidf)"
      ],
      "execution_count": 45,
      "outputs": []
    },
    {
      "cell_type": "code",
      "metadata": {
        "id": "-AxShKkyTr5J",
        "colab_type": "code",
        "colab": {
          "base_uri": "https://localhost:8080/",
          "height": 52
        },
        "outputId": "92d6a445-40bc-4fee-8a9b-0c8e774c5c02"
      },
      "source": [
        "print(\"Accuracy on train is:\",accuracy_score(y_train,y_preds_lr_train))\n",
        "print(\"Accuracy on test is:\",accuracy_score(y_test,y_preds_lr_test))"
      ],
      "execution_count": 46,
      "outputs": [
        {
          "output_type": "stream",
          "text": [
            "Accuracy on train is: 0.7304545454545455\n",
            "Accuracy on test is: 0.6359300476947536\n"
          ],
          "name": "stdout"
        }
      ]
    },
    {
      "cell_type": "code",
      "metadata": {
        "id": "APtdEj1gTxp0",
        "colab_type": "code",
        "colab": {}
      },
      "source": [
        "# submission file \n",
        "test_Id = test.Reviewid.copy()\n",
        "submission = pd.DataFrame()\n",
        "submission['Id'] = test_Id"
      ],
      "execution_count": 47,
      "outputs": []
    },
    {
      "cell_type": "code",
      "metadata": {
        "id": "nu9_l6voT4s2",
        "colab_type": "code",
        "colab": {}
      },
      "source": [
        "submission['Sentiment'] = test_pred_gd\n",
        "submission.head()\n",
        "submission.to_csv('final_subsmission.csv', index=False)"
      ],
      "execution_count": 48,
      "outputs": []
    },
    {
      "cell_type": "code",
      "metadata": {
        "id": "UfD4TmgSUCRG",
        "colab_type": "code",
        "colab": {
          "base_uri": "https://localhost:8080/",
          "height": 52
        },
        "outputId": "2c324c62-3b61-45b9-98b1-964e0eca473e"
      },
      "source": [
        "# These are the other models\n",
        "# DECISION TREES\n",
        "dtc = DecisionTreeClassifier()\n",
        "dtc.fit(X_train_tfidf,y_train)\n",
        "\n",
        "pred_train_dt = dtc.predict(X_train_tfidf)\n",
        "pred_test_dt = dtc.predict(X_test_tfidf)\n",
        "\n",
        "print(\"Accuracy on train is:\",accuracy_score(y_train,pred_train_dt))\n",
        "\n",
        "print(\"Accuracy on test is:\",accuracy_score(y_test,pred_test_dt))"
      ],
      "execution_count": 49,
      "outputs": [
        {
          "output_type": "stream",
          "text": [
            "Accuracy on train is: 0.9881818181818182\n",
            "Accuracy on test is: 0.492845786963434\n"
          ],
          "name": "stdout"
        }
      ]
    },
    {
      "cell_type": "code",
      "metadata": {
        "id": "lCqcWFHnU0QU",
        "colab_type": "code",
        "colab": {
          "base_uri": "https://localhost:8080/",
          "height": 52
        },
        "outputId": "192c5bbb-b6e1-406f-d0cc-a583c51cc5a6"
      },
      "source": [
        "# RANDOM FOREST\n",
        "\n",
        "rfc=RandomForestClassifier()\n",
        "rfc.fit(X=X_train_tfidf,y=y_train)\n",
        "\n",
        "pred_train_rf=rfc.predict(X_train_tfidf)\n",
        "\n",
        "pred_test_rf=rfc.predict(X_test_tfidf)\n",
        "\n",
        "print(\"Accuracy on train is:\",accuracy_score(y_train , pred_train_rf))\n",
        "\n",
        "print(\"Accuracy on test is:\",accuracy_score(y_test , pred_test_rf))"
      ],
      "execution_count": 50,
      "outputs": [
        {
          "output_type": "stream",
          "text": [
            "Accuracy on train is: 0.9881818181818182\n",
            "Accuracy on test is: 0.6179120296767355\n"
          ],
          "name": "stdout"
        }
      ]
    },
    {
      "cell_type": "code",
      "metadata": {
        "id": "FmSLITD5U_aT",
        "colab_type": "code",
        "colab": {
          "base_uri": "https://localhost:8080/",
          "height": 87
        },
        "outputId": "0a53535a-b521-4cbe-daef-f4cd22cd3711"
      },
      "source": [
        "# ADA BOOST\n",
        "Adaboost_model = AdaBoostClassifier(\n",
        "    DecisionTreeClassifier(max_depth=3),\n",
        "    n_estimators = 600,\n",
        "    learning_rate = 1)\n",
        "# Train model\n",
        "%time Adaboost_model.fit(X_train_tfidf, y_train)\n",
        "\n",
        "# Predictions and Evaluations \n",
        "pred_train_Ada = Adaboost_model.predict(X_train_tfidf)\n",
        "\n",
        "pred_test_Ada = Adaboost_model.predict(X_test_tfidf)\n",
        "\n",
        "print(\"Accuracy on train is:\",accuracy_score(y_train,pred_train_Ada ))\n",
        "\n",
        "print(\"Accuracy on test is:\",accuracy_score(y_test,pred_test_Ada ))"
      ],
      "execution_count": 51,
      "outputs": [
        {
          "output_type": "stream",
          "text": [
            "CPU times: user 31.6 s, sys: 74.6 ms, total: 31.7 s\n",
            "Wall time: 31.7 s\n",
            "Accuracy on train is: 0.9006818181818181\n",
            "Accuracy on test is: 0.5871754107048225\n"
          ],
          "name": "stdout"
        }
      ]
    },
    {
      "cell_type": "code",
      "metadata": {
        "id": "GmPqI_uNVVwY",
        "colab_type": "code",
        "colab": {
          "base_uri": "https://localhost:8080/",
          "height": 87
        },
        "outputId": "7a3c3f54-1802-4a9c-f84a-eafeb90f5aab"
      },
      "source": [
        "# XG BOOST\n",
        "XGB_model = XGBClassifier()\n",
        "# training the xgboost classifier\n",
        "%time XGB_model.fit(X_train_tfidf, y_train)\n",
        "\n",
        "pred_train_XG = XGB_model.predict(X_train_tfidf)\n",
        "\n",
        "pred_test_XG = XGB_model.predict(X_test_tfidf)\n",
        "\n",
        "print(\"Accuracy on train is:\",accuracy_score(y_train,pred_train_XG ))\n",
        "\n",
        "print(\"Accuracy on test is:\",accuracy_score(y_test,pred_test_XG ))"
      ],
      "execution_count": 52,
      "outputs": [
        {
          "output_type": "stream",
          "text": [
            "CPU times: user 4.64 s, sys: 11 ms, total: 4.65 s\n",
            "Wall time: 4.74 s\n",
            "Accuracy on train is: 0.7484090909090909\n",
            "Accuracy on test is: 0.6120826709062003\n"
          ],
          "name": "stdout"
        }
      ]
    },
    {
      "cell_type": "code",
      "metadata": {
        "id": "LZX0rQN9VfPf",
        "colab_type": "code",
        "colab": {
          "base_uri": "https://localhost:8080/",
          "height": 621
        },
        "outputId": "c644d29a-1a4e-4e3e-a975-218c332c8ce1"
      },
      "source": [
        "# Preprocessing on Existing Hotels Data and New Hotels Data\n",
        "# Verifying the NULL values\n",
        "print(\"__________On existing hotels data _______________\")\n",
        "print(exist.isnull().sum().sort_values(ascending=True))\n",
        "print(\"__________On New hotels data _______________\")\n",
        "print(New.isnull().sum().sort_values(ascending=True))"
      ],
      "execution_count": 53,
      "outputs": [
        {
          "output_type": "stream",
          "text": [
            "__________On existing hotels data _______________\n",
            "Hotelid                        0\n",
            "userid                         0\n",
            "reviewtext                     0\n",
            "Date                           0\n",
            "NoOfReaders                    0\n",
            "HelpfulToNoOfreaders           0\n",
            "Value_rating                   0\n",
            "Rooms_rating                   0\n",
            "Location_rating                0\n",
            "Cleanliness_rating             0\n",
            "Checkin_rating                 0\n",
            "Service_rating                 0\n",
            "Businessservice_rating         0\n",
            "AverageOverallRatingOfHotel    0\n",
            "AveragePricing                 0\n",
            "dtype: int64\n",
            "__________On New hotels data _______________\n",
            "Hotelid                        0\n",
            "userid                         0\n",
            "reviewtext                     0\n",
            "Date                           0\n",
            "NoOfReaders                    0\n",
            "HelpfulToNoOfreaders           0\n",
            "Value_rating                   0\n",
            "Rooms_rating                   0\n",
            "Location_rating                0\n",
            "Cleanliness_rating             0\n",
            "Checkin_rating                 0\n",
            "Service_rating                 0\n",
            "Businessservice_rating         0\n",
            "AverageOverallRatingOfHotel    0\n",
            "AveragePricing                 0\n",
            "dtype: int64\n"
          ],
          "name": "stdout"
        }
      ]
    },
    {
      "cell_type": "code",
      "metadata": {
        "id": "3pw_q6-lVrFL",
        "colab_type": "code",
        "colab": {}
      },
      "source": [
        "# Separating the Averagepricing Column\n",
        "exist=exist.join(exist['AveragePricing'].str.split('$', 1, expand=True).rename(columns={ 1:'AvgPricing'}))\n",
        "exist = exist.drop(0,axis=1)\n",
        "\n",
        "New=New.join(New['AveragePricing'].str.split('$', 1, expand=True).rename(columns={ 1:'AvgPricing'}))\n",
        "New = New.drop(0,axis=1)"
      ],
      "execution_count": 54,
      "outputs": []
    },
    {
      "cell_type": "code",
      "metadata": {
        "id": "4M2a1HNDVzP9",
        "colab_type": "code",
        "colab": {}
      },
      "source": [
        "# Creating a LengthOfReview Column\n",
        "exist['LengthofReview'] = exist['reviewtext'].apply(lambda x: len(str(x).split(\" \")))\n",
        "\n",
        "New['LengthofReview'] = New['reviewtext'].apply(lambda x: len(str(x).split(\" \")))"
      ],
      "execution_count": 55,
      "outputs": []
    },
    {
      "cell_type": "code",
      "metadata": {
        "id": "ULQfF--XV4Sx",
        "colab_type": "code",
        "colab": {}
      },
      "source": [
        "# Dropping the unnecessary columns\n",
        "exist = exist.drop([\"Date\",\"userid\",\"reviewtext\",\"AveragePricing\"],axis=1)\n",
        "New = New.drop([\"Date\",\"userid\",\"reviewtext\",\"AveragePricing\"],axis=1)"
      ],
      "execution_count": 56,
      "outputs": []
    },
    {
      "cell_type": "code",
      "metadata": {
        "id": "xLsRGpNbV-y-",
        "colab_type": "code",
        "colab": {
          "base_uri": "https://localhost:8080/",
          "height": 550
        },
        "outputId": "80001141-6b2a-4d13-eb3f-e46ece4f4d78"
      },
      "source": [
        "print(\"___________Existing hotels Dtypes____________\")\n",
        "print(exist.dtypes)\n",
        "\n",
        "print(\"___________New hotels Dtypes____________\")\n",
        "print(New.dtypes)"
      ],
      "execution_count": 57,
      "outputs": [
        {
          "output_type": "stream",
          "text": [
            "___________Existing hotels Dtypes____________\n",
            "Hotelid                         object\n",
            "NoOfReaders                      int64\n",
            "HelpfulToNoOfreaders             int64\n",
            "Value_rating                     int64\n",
            "Rooms_rating                     int64\n",
            "Location_rating                  int64\n",
            "Cleanliness_rating               int64\n",
            "Checkin_rating                   int64\n",
            "Service_rating                   int64\n",
            "Businessservice_rating           int64\n",
            "AverageOverallRatingOfHotel    float64\n",
            "AvgPricing                      object\n",
            "LengthofReview                   int64\n",
            "dtype: object\n",
            "___________New hotels Dtypes____________\n",
            "Hotelid                         object\n",
            "NoOfReaders                      int64\n",
            "HelpfulToNoOfreaders             int64\n",
            "Value_rating                     int64\n",
            "Rooms_rating                     int64\n",
            "Location_rating                  int64\n",
            "Cleanliness_rating               int64\n",
            "Checkin_rating                   int64\n",
            "Service_rating                   int64\n",
            "Businessservice_rating           int64\n",
            "AverageOverallRatingOfHotel    float64\n",
            "AvgPricing                      object\n",
            "LengthofReview                   int64\n",
            "dtype: object\n"
          ],
          "name": "stdout"
        }
      ]
    },
    {
      "cell_type": "code",
      "metadata": {
        "id": "KsMnfJpIWM0l",
        "colab_type": "code",
        "colab": {}
      },
      "source": [
        "exist[\"AvgPricing\"] = exist[\"AvgPricing\"].astype(\"float64\")\n",
        "New[\"AvgPricing\"] = New[\"AvgPricing\"].astype(\"float64\")"
      ],
      "execution_count": 58,
      "outputs": []
    },
    {
      "cell_type": "code",
      "metadata": {
        "id": "CmN8bjvSWQA_",
        "colab_type": "code",
        "colab": {
          "base_uri": "https://localhost:8080/",
          "height": 550
        },
        "outputId": "20ca4773-340c-42d2-96b7-b163f7e11406"
      },
      "source": [
        "print(\"___________Unique values count on existing hotels___________\")\n",
        "unique_counts = pd.DataFrame.from_records([(col, exist[col].nunique()) for col in exist.columns],\n",
        "                          columns=['Column_Name', 'Num_Unique']).sort_values(by=['Num_Unique'])\n",
        "print(unique_counts)\n",
        "\n",
        "\n",
        "print(\"___________Unique values count on New hotels___________\")\n",
        "unique_counts = pd.DataFrame.from_records([(col, New[col].nunique()) for col in New.columns],\n",
        "                          columns=['Column_Name', 'Num_Unique']).sort_values(by=['Num_Unique'])\n",
        "print(unique_counts)"
      ],
      "execution_count": 59,
      "outputs": [
        {
          "output_type": "stream",
          "text": [
            "___________Unique values count on existing hotels___________\n",
            "                    Column_Name  Num_Unique\n",
            "3                  Value_rating           6\n",
            "4                  Rooms_rating           6\n",
            "5               Location_rating           6\n",
            "6            Cleanliness_rating           6\n",
            "7                Checkin_rating           6\n",
            "8                Service_rating           6\n",
            "9        Businessservice_rating           6\n",
            "10  AverageOverallRatingOfHotel           6\n",
            "2          HelpfulToNoOfreaders          36\n",
            "1                   NoOfReaders          48\n",
            "11                   AvgPricing          66\n",
            "0                       Hotelid          75\n",
            "12               LengthofReview         620\n",
            "___________Unique values count on New hotels___________\n",
            "                    Column_Name  Num_Unique\n",
            "3                  Value_rating           6\n",
            "4                  Rooms_rating           6\n",
            "5               Location_rating           6\n",
            "6            Cleanliness_rating           6\n",
            "7                Checkin_rating           6\n",
            "8                Service_rating           6\n",
            "9        Businessservice_rating           6\n",
            "10  AverageOverallRatingOfHotel           6\n",
            "0                       Hotelid          25\n",
            "11                   AvgPricing          25\n",
            "2          HelpfulToNoOfreaders          35\n",
            "1                   NoOfReaders          40\n",
            "12               LengthofReview         506\n"
          ],
          "name": "stdout"
        }
      ]
    },
    {
      "cell_type": "code",
      "metadata": {
        "id": "lRsH16j1WWhB",
        "colab_type": "code",
        "colab": {
          "base_uri": "https://localhost:8080/",
          "height": 72
        },
        "outputId": "896567fc-4d4f-4ea5-e59c-1ece2a7ec612"
      },
      "source": [
        "# Feature Engineering\n",
        "# On Existing hotels Data\n",
        "MR = exist.groupby(['Hotelid']).mean().reset_index()\n",
        "\n",
        "MR.drop(['NoOfReaders',\"HelpfulToNoOfreaders\"],axis=1, inplace=True)\n",
        "\n",
        "MR1 = pd.DataFrame(exist.groupby('Hotelid')['NoOfReaders',\"HelpfulToNoOfreaders\"].sum().reset_index())"
      ],
      "execution_count": 60,
      "outputs": [
        {
          "output_type": "stream",
          "text": [
            "/usr/local/lib/python3.6/dist-packages/ipykernel_launcher.py:7: FutureWarning: Indexing with multiple keys (implicitly converted to a tuple of keys) will be deprecated, use a list instead.\n",
            "  import sys\n"
          ],
          "name": "stderr"
        }
      ]
    },
    {
      "cell_type": "code",
      "metadata": {
        "id": "54MLBUUeWkdM",
        "colab_type": "code",
        "colab": {
          "base_uri": "https://localhost:8080/",
          "height": 265
        },
        "outputId": "a53dc3d3-f2d7-4413-ac49-c53d72999d70"
      },
      "source": [
        "Existing_Hotels = pd.merge(MR1,MR,on=['Hotelid','Hotelid'])\n",
        "Existing_Hotels.dtypes"
      ],
      "execution_count": 61,
      "outputs": [
        {
          "output_type": "execute_result",
          "data": {
            "text/plain": [
              "Hotelid                         object\n",
              "NoOfReaders                      int64\n",
              "HelpfulToNoOfreaders             int64\n",
              "Value_rating                   float64\n",
              "Rooms_rating                   float64\n",
              "Location_rating                float64\n",
              "Cleanliness_rating             float64\n",
              "Checkin_rating                 float64\n",
              "Service_rating                 float64\n",
              "Businessservice_rating         float64\n",
              "AverageOverallRatingOfHotel    float64\n",
              "AvgPricing                     float64\n",
              "LengthofReview                 float64\n",
              "dtype: object"
            ]
          },
          "metadata": {
            "tags": []
          },
          "execution_count": 61
        }
      ]
    },
    {
      "cell_type": "code",
      "metadata": {
        "id": "C7cl4RKQWpps",
        "colab_type": "code",
        "colab": {
          "base_uri": "https://localhost:8080/",
          "height": 72
        },
        "outputId": "835c8685-e23c-4732-f8d7-6faecf448439"
      },
      "source": [
        "# On New Hotels Data\n",
        "MR2 = New.groupby(['Hotelid']).mean().reset_index()\n",
        "\n",
        "MR2.drop(['NoOfReaders',\"HelpfulToNoOfreaders\"],axis=1, inplace=True)\n",
        "\n",
        "MR3 = pd.DataFrame(New.groupby('Hotelid')['NoOfReaders',\"HelpfulToNoOfreaders\"].sum().reset_index())"
      ],
      "execution_count": 62,
      "outputs": [
        {
          "output_type": "stream",
          "text": [
            "/usr/local/lib/python3.6/dist-packages/ipykernel_launcher.py:6: FutureWarning: Indexing with multiple keys (implicitly converted to a tuple of keys) will be deprecated, use a list instead.\n",
            "  \n"
          ],
          "name": "stderr"
        }
      ]
    },
    {
      "cell_type": "code",
      "metadata": {
        "id": "bkVdNgGlWxLx",
        "colab_type": "code",
        "colab": {
          "base_uri": "https://localhost:8080/",
          "height": 265
        },
        "outputId": "f8f65745-a04c-4d7c-efc9-8bbd0ea1d98a"
      },
      "source": [
        "New_Hotels = pd.merge(MR2,MR3,on=['Hotelid','Hotelid'])\n",
        "New_Hotels.dtypes"
      ],
      "execution_count": 63,
      "outputs": [
        {
          "output_type": "execute_result",
          "data": {
            "text/plain": [
              "Hotelid                         object\n",
              "Value_rating                   float64\n",
              "Rooms_rating                   float64\n",
              "Location_rating                float64\n",
              "Cleanliness_rating             float64\n",
              "Checkin_rating                 float64\n",
              "Service_rating                 float64\n",
              "Businessservice_rating         float64\n",
              "AverageOverallRatingOfHotel    float64\n",
              "AvgPricing                     float64\n",
              "LengthofReview                 float64\n",
              "NoOfReaders                      int64\n",
              "HelpfulToNoOfreaders             int64\n",
              "dtype: object"
            ]
          },
          "metadata": {
            "tags": []
          },
          "execution_count": 63
        }
      ]
    },
    {
      "cell_type": "code",
      "metadata": {
        "id": "KYzQyCOhW2Wb",
        "colab_type": "code",
        "colab": {}
      },
      "source": [
        "# Drop the Hotelid Column\n",
        "Existing_Hotels = Existing_Hotels.drop(\"Hotelid\",axis=1)\n",
        "New_Hotels = New_Hotels.drop(\"Hotelid\",axis=1)"
      ],
      "execution_count": 64,
      "outputs": []
    },
    {
      "cell_type": "code",
      "metadata": {
        "id": "_Pb69r8GXDTQ",
        "colab_type": "code",
        "colab": {}
      },
      "source": [
        "# CLUSTERING\n",
        "# Standardizing the data\n",
        "std = StandardScaler()\n",
        "std.fit(Existing_Hotels)\n",
        "X_train_std= std.transform(Existing_Hotels)\n",
        "X_test_std= std.transform(New_Hotels)"
      ],
      "execution_count": 65,
      "outputs": []
    },
    {
      "cell_type": "code",
      "metadata": {
        "id": "Yd8A48ywXL-v",
        "colab_type": "code",
        "colab": {}
      },
      "source": [
        "# KMEANS Model\n",
        "kmeans = KMeans(n_clusters=2,random_state=99999)\n",
        "\n",
        "kmeans = kmeans.fit(X_train_std)\n",
        "\n",
        "labels_train = kmeans.predict(X_train_std)\n",
        "labels_test = kmeans.predict(X_test_std)\n",
        "\n",
        "# Centroid values\n",
        "centroids = kmeans.cluster_centers_"
      ],
      "execution_count": 66,
      "outputs": []
    },
    {
      "cell_type": "code",
      "metadata": {
        "id": "4D5QYB7CXRgp",
        "colab_type": "code",
        "colab": {
          "base_uri": "https://localhost:8080/",
          "height": 123
        },
        "outputId": "cb92e589-8bfd-45a0-f56a-25665cbed9cf"
      },
      "source": [
        "## Checking the values\n",
        "centroids"
      ],
      "execution_count": 67,
      "outputs": [
        {
          "output_type": "execute_result",
          "data": {
            "text/plain": [
              "array([[-0.46805497, -0.46441865, -1.24320582, -1.17685725, -0.78544215,\n",
              "        -1.28385294, -0.956444  , -1.18630668, -0.57484694, -1.08942392,\n",
              "        -0.59377456,  0.46238611],\n",
              "       [ 0.17020181,  0.16887951,  0.45207484,  0.42794809,  0.28561533,\n",
              "         0.46685561,  0.34779782,  0.43138425,  0.20903525,  0.39615415,\n",
              "         0.21591802, -0.1681404 ]])"
            ]
          },
          "metadata": {
            "tags": []
          },
          "execution_count": 67
        }
      ]
    },
    {
      "cell_type": "code",
      "metadata": {
        "id": "rtle7sqNXYKK",
        "colab_type": "code",
        "colab": {
          "base_uri": "https://localhost:8080/",
          "height": 87
        },
        "outputId": "081cfbda-4ed0-4236-f441-59f8eb176c6d"
      },
      "source": [
        "labels_train"
      ],
      "execution_count": 68,
      "outputs": [
        {
          "output_type": "execute_result",
          "data": {
            "text/plain": [
              "array([1, 1, 1, 1, 1, 0, 1, 0, 0, 1, 1, 0, 1, 1, 1, 1, 1, 0, 1, 1, 1, 1,\n",
              "       1, 1, 1, 1, 0, 1, 1, 1, 1, 1, 0, 1, 1, 1, 1, 1, 0, 1, 1, 1, 0, 0,\n",
              "       1, 1, 1, 0, 1, 0, 1, 1, 0, 1, 1, 0, 1, 1, 0, 1, 0, 1, 1, 1, 0, 0,\n",
              "       1, 1, 1, 1, 1, 0, 0, 1, 1], dtype=int32)"
            ]
          },
          "metadata": {
            "tags": []
          },
          "execution_count": 68
        }
      ]
    },
    {
      "cell_type": "code",
      "metadata": {
        "id": "sPLwBUMJXdpr",
        "colab_type": "code",
        "colab": {
          "base_uri": "https://localhost:8080/",
          "height": 52
        },
        "outputId": "e2d96bb9-006d-4ffa-8b6b-f28081cf84f1"
      },
      "source": [
        "labels_test"
      ],
      "execution_count": 69,
      "outputs": [
        {
          "output_type": "execute_result",
          "data": {
            "text/plain": [
              "array([1, 1, 1, 1, 1, 1, 1, 1, 1, 1, 1, 1, 1, 1, 1, 1, 1, 1, 1, 1, 1, 1,\n",
              "       1, 1, 1], dtype=int32)"
            ]
          },
          "metadata": {
            "tags": []
          },
          "execution_count": 69
        }
      ]
    },
    {
      "cell_type": "code",
      "metadata": {
        "id": "KkSt9zATXl8J",
        "colab_type": "code",
        "colab": {
          "base_uri": "https://localhost:8080/",
          "height": 105
        },
        "outputId": "97e50de3-1d19-4b91-8d6b-801185ee468a"
      },
      "source": [
        "print(kmeans.cluster_centers_)\n",
        "print(kmeans.inertia_)"
      ],
      "execution_count": 70,
      "outputs": [
        {
          "output_type": "stream",
          "text": [
            "[[-0.46805497 -0.46441865 -1.24320582 -1.17685725 -0.78544215 -1.28385294\n",
            "  -0.956444   -1.18630668 -0.57484694 -1.08942392 -0.59377456  0.46238611]\n",
            " [ 0.17020181  0.16887951  0.45207484  0.42794809  0.28561533  0.46685561\n",
            "   0.34779782  0.43138425  0.20903525  0.39615415  0.21591802 -0.1681404 ]]\n",
            "626.2831957272008\n"
          ],
          "name": "stdout"
        }
      ]
    },
    {
      "cell_type": "code",
      "metadata": {
        "id": "XsF-WrjLXwuu",
        "colab_type": "code",
        "colab": {}
      },
      "source": [
        "#  Checking For Various Values of K\n",
        "wss= {}\n",
        "for k in range(1, 10):\n",
        "    kmeans = KMeans(n_clusters=k, max_iter=1000).fit(X_train_std)\n",
        "    clusters = kmeans.labels_\n",
        "    wss[k] = kmeans.inertia_"
      ],
      "execution_count": 71,
      "outputs": []
    },
    {
      "cell_type": "code",
      "metadata": {
        "id": "_pGTAUmcX-u8",
        "colab_type": "code",
        "colab": {
          "base_uri": "https://localhost:8080/",
          "height": 278
        },
        "outputId": "3e1182c4-756a-40db-9080-10f11504c4a6"
      },
      "source": [
        "plt.figure()\n",
        "plt.plot(list(wss.keys()), list(wss.values()))\n",
        "plt.xlabel(\"Number of cluster\")\n",
        "plt.ylabel(\"WSS\")\n",
        "plt.show()"
      ],
      "execution_count": 72,
      "outputs": [
        {
          "output_type": "display_data",
          "data": {
            "image/png": "[encoded data removed]",
            "text/plain": [
              "<Figure size 432x288 with 1 Axes>"
            ]
          },
          "metadata": {
            "tags": [],
            "needs_background": "light"
          }
        }
      ]
    },
    {
      "cell_type": "code",
      "metadata": {
        "id": "j5OHwTLgYD3E",
        "colab_type": "code",
        "colab": {
          "base_uri": "https://localhost:8080/",
          "height": 176
        },
        "outputId": "7adc44b1-39a2-4932-b296-2fa319d68b2b"
      },
      "source": [
        "wss"
      ],
      "execution_count": 73,
      "outputs": [
        {
          "output_type": "execute_result",
          "data": {
            "text/plain": [
              "{1: 899.9999999999999,\n",
              " 2: 626.2831957272008,\n",
              " 3: 515.1707051731564,\n",
              " 4: 425.7339367789922,\n",
              " 5: 383.05498959326485,\n",
              " 6: 330.8482584764987,\n",
              " 7: 310.1082306394598,\n",
              " 8: 292.06135404134307,\n",
              " 9: 266.08859762567874}"
            ]
          },
          "metadata": {
            "tags": []
          },
          "execution_count": 73
        }
      ]
    },
    {
      "cell_type": "code",
      "metadata": {
        "id": "AR6wqvVFYLer",
        "colab_type": "code",
        "colab": {}
      },
      "source": [
        "# KMEANS Model with \"K\" value\n",
        "kmeans = KMeans(n_clusters=5,random_state=9999)\n",
        "\n",
        "kmeans.fit(Existing_Hotels)\n",
        "\n",
        "Existing_Hotels[\"cluster\"] = kmeans.predict(Existing_Hotels)\n",
        "New_Hotels[\"cluster\"] = kmeans.predict(New_Hotels)\n",
        "\n",
        "# Centroid values\n",
        "centroids = kmeans.cluster_centers_"
      ],
      "execution_count": 74,
      "outputs": []
    },
    {
      "cell_type": "code",
      "metadata": {
        "id": "PJMpFd8HYTWb",
        "colab_type": "code",
        "colab": {
          "base_uri": "https://localhost:8080/",
          "height": 105
        },
        "outputId": "72bbd7dd-912d-408f-c5d4-36621f45abb3"
      },
      "source": [
        "# Checking for cluster Stability\n",
        "indices=Existing_Hotels.sample(frac=0.8,random_state=123).index\n",
        "print(indices)"
      ],
      "execution_count": 75,
      "outputs": [
        {
          "output_type": "stream",
          "text": [
            "Int64Index([23, 68, 24, 43, 45, 72, 42, 73, 37, 70, 51,  8,  4, 61,  9, 26, 65,\n",
            "            67,  1, 74, 62, 58, 31, 14, 53, 16, 19, 54,  6, 60, 44, 29, 59, 15,\n",
            "            18, 13, 22, 10, 69, 11,  0,  5,  3, 40, 12, 50, 34, 27, 30, 21, 33,\n",
            "            38, 52, 28, 35, 41,  7, 48, 56, 71],\n",
            "           dtype='int64')\n"
          ],
          "name": "stdout"
        }
      ]
    },
    {
      "cell_type": "code",
      "metadata": {
        "id": "MUdFkU11YZBS",
        "colab_type": "code",
        "colab": {
          "base_uri": "https://localhost:8080/",
          "height": 34
        },
        "outputId": "9082d7b7-58d1-4c11-8f32-3aa9137d229a"
      },
      "source": [
        "# Subsetting 80% of train data\n",
        "Alpha = Existing_Hotels.loc[indices,:]\n",
        "Alpha.shape"
      ],
      "execution_count": 77,
      "outputs": [
        {
          "output_type": "execute_result",
          "data": {
            "text/plain": [
              "(60, 13)"
            ]
          },
          "metadata": {
            "tags": []
          },
          "execution_count": 77
        }
      ]
    },
    {
      "cell_type": "code",
      "metadata": {
        "id": "hABgsq2yYkMM",
        "colab_type": "code",
        "colab": {
          "base_uri": "https://localhost:8080/",
          "height": 34
        },
        "outputId": "aa2419fc-376f-4e99-bf2c-999735302ad7"
      },
      "source": [
        "kmeans = KMeans(n_clusters=5,random_state=45)\n",
        "kmeans2=kmeans.fit(Alpha)\n",
        "print(len(kmeans2.labels_))\n",
        "Alpha['cluster']=kmeans2.labels_"
      ],
      "execution_count": 78,
      "outputs": [
        {
          "output_type": "stream",
          "text": [
            "60\n"
          ],
          "name": "stdout"
        }
      ]
    },
    {
      "cell_type": "code",
      "metadata": {
        "id": "fK-W8T_lYqdb",
        "colab_type": "code",
        "colab": {}
      },
      "source": [
        "g1=Existing_Hotels.loc[indices,'cluster']\n",
        "g2=Alpha.cluster"
      ],
      "execution_count": 79,
      "outputs": []
    },
    {
      "cell_type": "code",
      "metadata": {
        "id": "QaeGzagiYvfI",
        "colab_type": "code",
        "colab": {
          "base_uri": "https://localhost:8080/",
          "height": 34
        },
        "outputId": "d59cbe73-ce96-411e-d29f-41c2b9002e79"
      },
      "source": [
        "# Cluster Stability\n",
        "adjusted_rand_score(g1,g2)"
      ],
      "execution_count": 80,
      "outputs": [
        {
          "output_type": "execute_result",
          "data": {
            "text/plain": [
              "0.9407254875415934"
            ]
          },
          "metadata": {
            "tags": []
          },
          "execution_count": 80
        }
      ]
    },
    {
      "cell_type": "code",
      "metadata": {
        "id": "F7jUEkKGY0p0",
        "colab_type": "code",
        "colab": {
          "base_uri": "https://localhost:8080/",
          "height": 105
        },
        "outputId": "2838b5ca-6d4f-4e18-b8f7-2076f7b86e2f"
      },
      "source": [
        "print(\"__________On user ratings data _______________\")\n",
        "print(ratings.isnull().sum().sort_values(ascending=True))"
      ],
      "execution_count": 81,
      "outputs": [
        {
          "output_type": "stream",
          "text": [
            "__________On user ratings data _______________\n",
            "userid           0\n",
            "Hotelid          0\n",
            "OverallRating    0\n",
            "dtype: int64\n"
          ],
          "name": "stdout"
        }
      ]
    },
    {
      "cell_type": "code",
      "metadata": {
        "id": "Im8aF8HrY-R9",
        "colab_type": "code",
        "colab": {
          "base_uri": "https://localhost:8080/",
          "height": 105
        },
        "outputId": "d15bd7c4-6634-4e0b-bd47-9e44468306aa"
      },
      "source": [
        "# Verifying the unique counts on the data\n",
        "print(\"___________Unique values count on existing hotels___________\")\n",
        "unique_counts = pd.DataFrame.from_records([(col, ratings[col].nunique()) for col in ratings.columns],\n",
        "                          columns=['Column_Name', 'Num_Unique']).sort_values(by=['Num_Unique'])\n",
        "print(unique_counts)"
      ],
      "execution_count": 82,
      "outputs": [
        {
          "output_type": "stream",
          "text": [
            "___________Unique values count on existing hotels___________\n",
            "     Column_Name  Num_Unique\n",
            "2  OverallRating           5\n",
            "1        Hotelid         130\n",
            "0         userid        5010\n"
          ],
          "name": "stdout"
        }
      ]
    },
    {
      "cell_type": "code",
      "metadata": {
        "id": "GhSRRieVZHBs",
        "colab_type": "code",
        "colab": {}
      },
      "source": [
        "# Feature Engineering\n",
        "# calculating the mean ratings for each hotel\n",
        "  \n",
        "rating = pd.DataFrame(ratings.groupby('Hotelid')['OverallRating'].count())  \n",
        "rating[\"ratings_count\"] = rating[\"OverallRating\"]\n",
        "rating=rating.drop(\"OverallRating\",axis=1)"
      ],
      "execution_count": 83,
      "outputs": []
    },
    {
      "cell_type": "code",
      "metadata": {
        "id": "MnOUUss4ZXak",
        "colab_type": "code",
        "colab": {
          "base_uri": "https://localhost:8080/",
          "height": 227
        },
        "outputId": "af2b09b9-ba59-49bb-efd8-cd864b612c97"
      },
      "source": [
        "# sorting based on count of ratings that each hotelId got  \n",
        "  \n",
        "rating.sort_values('ratings_count', ascending=False).head()"
      ],
      "execution_count": 84,
      "outputs": [
        {
          "output_type": "execute_result",
          "data": {
            "text/html": [
              "<div>\n",
              "<style scoped>\n",
              "    .dataframe tbody tr th:only-of-type {\n",
              "        vertical-align: middle;\n",
              "    }\n",
              "\n",
              "    .dataframe tbody tr th {\n",
              "        vertical-align: top;\n",
              "    }\n",
              "\n",
              "    .dataframe thead th {\n",
              "        text-align: right;\n",
              "    }\n",
              "</style>\n",
              "<table border=\"1\" class=\"dataframe\">\n",
              "  <thead>\n",
              "    <tr style=\"text-align: right;\">\n",
              "      <th></th>\n",
              "      <th>ratings_count</th>\n",
              "    </tr>\n",
              "    <tr>\n",
              "      <th>Hotelid</th>\n",
              "      <th></th>\n",
              "    </tr>\n",
              "  </thead>\n",
              "  <tbody>\n",
              "    <tr>\n",
              "      <th>hotel_608</th>\n",
              "      <td>2489</td>\n",
              "    </tr>\n",
              "    <tr>\n",
              "      <th>hotel_557</th>\n",
              "      <td>2487</td>\n",
              "    </tr>\n",
              "    <tr>\n",
              "      <th>hotel_555</th>\n",
              "      <td>2487</td>\n",
              "    </tr>\n",
              "    <tr>\n",
              "      <th>hotel_552</th>\n",
              "      <td>2487</td>\n",
              "    </tr>\n",
              "    <tr>\n",
              "      <th>hotel_620</th>\n",
              "      <td>2487</td>\n",
              "    </tr>\n",
              "  </tbody>\n",
              "</table>\n",
              "</div>"
            ],
            "text/plain": [
              "           ratings_count\n",
              "Hotelid                 \n",
              "hotel_608           2489\n",
              "hotel_557           2487\n",
              "hotel_555           2487\n",
              "hotel_552           2487\n",
              "hotel_620           2487"
            ]
          },
          "metadata": {
            "tags": []
          },
          "execution_count": 84
        }
      ]
    },
    {
      "cell_type": "code",
      "metadata": {
        "id": "p9K92P7RZkiY",
        "colab_type": "code",
        "colab": {
          "base_uri": "https://localhost:8080/",
          "height": 276
        },
        "outputId": "acb5f1a7-bcd4-4b72-c819-6d6ef2cf16fc"
      },
      "source": [
        "ratings_pivot = ratings.pivot_table(values='OverallRating', index='userid', columns='Hotelid')  \n",
        "  \n",
        "ratings_pivot.head()"
      ],
      "execution_count": 85,
      "outputs": [
        {
          "output_type": "execute_result",
          "data": {
            "text/html": [
              "<div>\n",
              "<style scoped>\n",
              "    .dataframe tbody tr th:only-of-type {\n",
              "        vertical-align: middle;\n",
              "    }\n",
              "\n",
              "    .dataframe tbody tr th {\n",
              "        vertical-align: top;\n",
              "    }\n",
              "\n",
              "    .dataframe thead th {\n",
              "        text-align: right;\n",
              "    }\n",
              "</style>\n",
              "<table border=\"1\" class=\"dataframe\">\n",
              "  <thead>\n",
              "    <tr style=\"text-align: right;\">\n",
              "      <th>Hotelid</th>\n",
              "      <th>hotel_501</th>\n",
              "      <th>hotel_502</th>\n",
              "      <th>hotel_503</th>\n",
              "      <th>hotel_504</th>\n",
              "      <th>hotel_506</th>\n",
              "      <th>hotel_507</th>\n",
              "      <th>hotel_508</th>\n",
              "      <th>hotel_509</th>\n",
              "      <th>hotel_510</th>\n",
              "      <th>hotel_511</th>\n",
              "      <th>hotel_512</th>\n",
              "      <th>hotel_513</th>\n",
              "      <th>hotel_514</th>\n",
              "      <th>hotel_515</th>\n",
              "      <th>hotel_516</th>\n",
              "      <th>hotel_517</th>\n",
              "      <th>hotel_519</th>\n",
              "      <th>hotel_521</th>\n",
              "      <th>hotel_522</th>\n",
              "      <th>hotel_523</th>\n",
              "      <th>hotel_524</th>\n",
              "      <th>hotel_525</th>\n",
              "      <th>hotel_526</th>\n",
              "      <th>hotel_527</th>\n",
              "      <th>hotel_528</th>\n",
              "      <th>hotel_529</th>\n",
              "      <th>hotel_530</th>\n",
              "      <th>hotel_532</th>\n",
              "      <th>hotel_533</th>\n",
              "      <th>hotel_534</th>\n",
              "      <th>hotel_535</th>\n",
              "      <th>hotel_536</th>\n",
              "      <th>hotel_537</th>\n",
              "      <th>hotel_538</th>\n",
              "      <th>hotel_539</th>\n",
              "      <th>hotel_540</th>\n",
              "      <th>hotel_541</th>\n",
              "      <th>hotel_542</th>\n",
              "      <th>hotel_543</th>\n",
              "      <th>hotel_544</th>\n",
              "      <th>...</th>\n",
              "      <th>hotel_599</th>\n",
              "      <th>hotel_600</th>\n",
              "      <th>hotel_601</th>\n",
              "      <th>hotel_602</th>\n",
              "      <th>hotel_603</th>\n",
              "      <th>hotel_604</th>\n",
              "      <th>hotel_605</th>\n",
              "      <th>hotel_606</th>\n",
              "      <th>hotel_607</th>\n",
              "      <th>hotel_608</th>\n",
              "      <th>hotel_610</th>\n",
              "      <th>hotel_611</th>\n",
              "      <th>hotel_612</th>\n",
              "      <th>hotel_613</th>\n",
              "      <th>hotel_614</th>\n",
              "      <th>hotel_615</th>\n",
              "      <th>hotel_616</th>\n",
              "      <th>hotel_617</th>\n",
              "      <th>hotel_618</th>\n",
              "      <th>hotel_619</th>\n",
              "      <th>hotel_620</th>\n",
              "      <th>hotel_621</th>\n",
              "      <th>hotel_622</th>\n",
              "      <th>hotel_623</th>\n",
              "      <th>hotel_624</th>\n",
              "      <th>hotel_625</th>\n",
              "      <th>hotel_626</th>\n",
              "      <th>hotel_627</th>\n",
              "      <th>hotel_628</th>\n",
              "      <th>hotel_629</th>\n",
              "      <th>hotel_630</th>\n",
              "      <th>hotel_631</th>\n",
              "      <th>hotel_632</th>\n",
              "      <th>hotel_633</th>\n",
              "      <th>hotel_634</th>\n",
              "      <th>hotel_635</th>\n",
              "      <th>hotel_636</th>\n",
              "      <th>hotel_637</th>\n",
              "      <th>hotel_639</th>\n",
              "      <th>hotel_640</th>\n",
              "    </tr>\n",
              "    <tr>\n",
              "      <th>userid</th>\n",
              "      <th></th>\n",
              "      <th></th>\n",
              "      <th></th>\n",
              "      <th></th>\n",
              "      <th></th>\n",
              "      <th></th>\n",
              "      <th></th>\n",
              "      <th></th>\n",
              "      <th></th>\n",
              "      <th></th>\n",
              "      <th></th>\n",
              "      <th></th>\n",
              "      <th></th>\n",
              "      <th></th>\n",
              "      <th></th>\n",
              "      <th></th>\n",
              "      <th></th>\n",
              "      <th></th>\n",
              "      <th></th>\n",
              "      <th></th>\n",
              "      <th></th>\n",
              "      <th></th>\n",
              "      <th></th>\n",
              "      <th></th>\n",
              "      <th></th>\n",
              "      <th></th>\n",
              "      <th></th>\n",
              "      <th></th>\n",
              "      <th></th>\n",
              "      <th></th>\n",
              "      <th></th>\n",
              "      <th></th>\n",
              "      <th></th>\n",
              "      <th></th>\n",
              "      <th></th>\n",
              "      <th></th>\n",
              "      <th></th>\n",
              "      <th></th>\n",
              "      <th></th>\n",
              "      <th></th>\n",
              "      <th></th>\n",
              "      <th></th>\n",
              "      <th></th>\n",
              "      <th></th>\n",
              "      <th></th>\n",
              "      <th></th>\n",
              "      <th></th>\n",
              "      <th></th>\n",
              "      <th></th>\n",
              "      <th></th>\n",
              "      <th></th>\n",
              "      <th></th>\n",
              "      <th></th>\n",
              "      <th></th>\n",
              "      <th></th>\n",
              "      <th></th>\n",
              "      <th></th>\n",
              "      <th></th>\n",
              "      <th></th>\n",
              "      <th></th>\n",
              "      <th></th>\n",
              "      <th></th>\n",
              "      <th></th>\n",
              "      <th></th>\n",
              "      <th></th>\n",
              "      <th></th>\n",
              "      <th></th>\n",
              "      <th></th>\n",
              "      <th></th>\n",
              "      <th></th>\n",
              "      <th></th>\n",
              "      <th></th>\n",
              "      <th></th>\n",
              "      <th></th>\n",
              "      <th></th>\n",
              "      <th></th>\n",
              "      <th></th>\n",
              "      <th></th>\n",
              "      <th></th>\n",
              "      <th></th>\n",
              "      <th></th>\n",
              "    </tr>\n",
              "  </thead>\n",
              "  <tbody>\n",
              "    <tr>\n",
              "      <th>user_21002</th>\n",
              "      <td>NaN</td>\n",
              "      <td>3.0</td>\n",
              "      <td>NaN</td>\n",
              "      <td>3.0</td>\n",
              "      <td>3.0</td>\n",
              "      <td>NaN</td>\n",
              "      <td>4.0</td>\n",
              "      <td>NaN</td>\n",
              "      <td>3.0</td>\n",
              "      <td>NaN</td>\n",
              "      <td>NaN</td>\n",
              "      <td>NaN</td>\n",
              "      <td>NaN</td>\n",
              "      <td>NaN</td>\n",
              "      <td>NaN</td>\n",
              "      <td>5.0</td>\n",
              "      <td>4.0</td>\n",
              "      <td>NaN</td>\n",
              "      <td>NaN</td>\n",
              "      <td>NaN</td>\n",
              "      <td>NaN</td>\n",
              "      <td>NaN</td>\n",
              "      <td>NaN</td>\n",
              "      <td>NaN</td>\n",
              "      <td>NaN</td>\n",
              "      <td>NaN</td>\n",
              "      <td>NaN</td>\n",
              "      <td>NaN</td>\n",
              "      <td>NaN</td>\n",
              "      <td>NaN</td>\n",
              "      <td>NaN</td>\n",
              "      <td>NaN</td>\n",
              "      <td>NaN</td>\n",
              "      <td>NaN</td>\n",
              "      <td>NaN</td>\n",
              "      <td>NaN</td>\n",
              "      <td>NaN</td>\n",
              "      <td>NaN</td>\n",
              "      <td>NaN</td>\n",
              "      <td>NaN</td>\n",
              "      <td>...</td>\n",
              "      <td>3.0</td>\n",
              "      <td>NaN</td>\n",
              "      <td>5.0</td>\n",
              "      <td>4.0</td>\n",
              "      <td>3.0</td>\n",
              "      <td>4.0</td>\n",
              "      <td>NaN</td>\n",
              "      <td>3.0</td>\n",
              "      <td>NaN</td>\n",
              "      <td>3.0</td>\n",
              "      <td>NaN</td>\n",
              "      <td>NaN</td>\n",
              "      <td>NaN</td>\n",
              "      <td>NaN</td>\n",
              "      <td>3.0</td>\n",
              "      <td>3.0</td>\n",
              "      <td>NaN</td>\n",
              "      <td>NaN</td>\n",
              "      <td>NaN</td>\n",
              "      <td>NaN</td>\n",
              "      <td>NaN</td>\n",
              "      <td>NaN</td>\n",
              "      <td>3.0</td>\n",
              "      <td>4.0</td>\n",
              "      <td>3.0</td>\n",
              "      <td>NaN</td>\n",
              "      <td>3.0</td>\n",
              "      <td>3.0</td>\n",
              "      <td>3.0</td>\n",
              "      <td>NaN</td>\n",
              "      <td>4.0</td>\n",
              "      <td>NaN</td>\n",
              "      <td>NaN</td>\n",
              "      <td>3.0</td>\n",
              "      <td>NaN</td>\n",
              "      <td>NaN</td>\n",
              "      <td>NaN</td>\n",
              "      <td>3.0</td>\n",
              "      <td>NaN</td>\n",
              "      <td>NaN</td>\n",
              "    </tr>\n",
              "    <tr>\n",
              "      <th>user_21025</th>\n",
              "      <td>NaN</td>\n",
              "      <td>NaN</td>\n",
              "      <td>NaN</td>\n",
              "      <td>2.0</td>\n",
              "      <td>NaN</td>\n",
              "      <td>NaN</td>\n",
              "      <td>NaN</td>\n",
              "      <td>3.0</td>\n",
              "      <td>3.0</td>\n",
              "      <td>2.0</td>\n",
              "      <td>NaN</td>\n",
              "      <td>4.0</td>\n",
              "      <td>3.0</td>\n",
              "      <td>NaN</td>\n",
              "      <td>4.0</td>\n",
              "      <td>NaN</td>\n",
              "      <td>4.0</td>\n",
              "      <td>NaN</td>\n",
              "      <td>4.0</td>\n",
              "      <td>4.0</td>\n",
              "      <td>3.0</td>\n",
              "      <td>NaN</td>\n",
              "      <td>NaN</td>\n",
              "      <td>4.0</td>\n",
              "      <td>NaN</td>\n",
              "      <td>4.0</td>\n",
              "      <td>NaN</td>\n",
              "      <td>3.0</td>\n",
              "      <td>3.0</td>\n",
              "      <td>4.0</td>\n",
              "      <td>NaN</td>\n",
              "      <td>NaN</td>\n",
              "      <td>3.0</td>\n",
              "      <td>3.0</td>\n",
              "      <td>3.0</td>\n",
              "      <td>NaN</td>\n",
              "      <td>NaN</td>\n",
              "      <td>3.0</td>\n",
              "      <td>NaN</td>\n",
              "      <td>NaN</td>\n",
              "      <td>...</td>\n",
              "      <td>2.0</td>\n",
              "      <td>NaN</td>\n",
              "      <td>3.0</td>\n",
              "      <td>4.0</td>\n",
              "      <td>2.0</td>\n",
              "      <td>3.0</td>\n",
              "      <td>NaN</td>\n",
              "      <td>NaN</td>\n",
              "      <td>4.0</td>\n",
              "      <td>NaN</td>\n",
              "      <td>2.0</td>\n",
              "      <td>NaN</td>\n",
              "      <td>NaN</td>\n",
              "      <td>NaN</td>\n",
              "      <td>2.0</td>\n",
              "      <td>NaN</td>\n",
              "      <td>NaN</td>\n",
              "      <td>3.0</td>\n",
              "      <td>NaN</td>\n",
              "      <td>3.0</td>\n",
              "      <td>NaN</td>\n",
              "      <td>NaN</td>\n",
              "      <td>3.0</td>\n",
              "      <td>2.0</td>\n",
              "      <td>NaN</td>\n",
              "      <td>4.0</td>\n",
              "      <td>2.0</td>\n",
              "      <td>2.0</td>\n",
              "      <td>NaN</td>\n",
              "      <td>2.0</td>\n",
              "      <td>NaN</td>\n",
              "      <td>2.0</td>\n",
              "      <td>NaN</td>\n",
              "      <td>NaN</td>\n",
              "      <td>4.0</td>\n",
              "      <td>2.0</td>\n",
              "      <td>NaN</td>\n",
              "      <td>NaN</td>\n",
              "      <td>3.0</td>\n",
              "      <td>3.0</td>\n",
              "    </tr>\n",
              "    <tr>\n",
              "      <th>user_21042</th>\n",
              "      <td>NaN</td>\n",
              "      <td>NaN</td>\n",
              "      <td>NaN</td>\n",
              "      <td>NaN</td>\n",
              "      <td>4.0</td>\n",
              "      <td>NaN</td>\n",
              "      <td>3.0</td>\n",
              "      <td>NaN</td>\n",
              "      <td>3.0</td>\n",
              "      <td>NaN</td>\n",
              "      <td>3.0</td>\n",
              "      <td>2.0</td>\n",
              "      <td>NaN</td>\n",
              "      <td>4.0</td>\n",
              "      <td>3.0</td>\n",
              "      <td>NaN</td>\n",
              "      <td>3.0</td>\n",
              "      <td>NaN</td>\n",
              "      <td>NaN</td>\n",
              "      <td>NaN</td>\n",
              "      <td>2.0</td>\n",
              "      <td>2.0</td>\n",
              "      <td>NaN</td>\n",
              "      <td>NaN</td>\n",
              "      <td>NaN</td>\n",
              "      <td>NaN</td>\n",
              "      <td>2.0</td>\n",
              "      <td>NaN</td>\n",
              "      <td>NaN</td>\n",
              "      <td>2.0</td>\n",
              "      <td>3.0</td>\n",
              "      <td>4.0</td>\n",
              "      <td>2.0</td>\n",
              "      <td>NaN</td>\n",
              "      <td>2.0</td>\n",
              "      <td>2.0</td>\n",
              "      <td>NaN</td>\n",
              "      <td>NaN</td>\n",
              "      <td>2.0</td>\n",
              "      <td>2.0</td>\n",
              "      <td>...</td>\n",
              "      <td>2.0</td>\n",
              "      <td>NaN</td>\n",
              "      <td>NaN</td>\n",
              "      <td>NaN</td>\n",
              "      <td>2.0</td>\n",
              "      <td>2.0</td>\n",
              "      <td>NaN</td>\n",
              "      <td>NaN</td>\n",
              "      <td>NaN</td>\n",
              "      <td>4.0</td>\n",
              "      <td>2.0</td>\n",
              "      <td>2.0</td>\n",
              "      <td>NaN</td>\n",
              "      <td>NaN</td>\n",
              "      <td>NaN</td>\n",
              "      <td>2.0</td>\n",
              "      <td>NaN</td>\n",
              "      <td>NaN</td>\n",
              "      <td>2.0</td>\n",
              "      <td>2.0</td>\n",
              "      <td>2.0</td>\n",
              "      <td>NaN</td>\n",
              "      <td>2.0</td>\n",
              "      <td>2.0</td>\n",
              "      <td>NaN</td>\n",
              "      <td>2.0</td>\n",
              "      <td>NaN</td>\n",
              "      <td>3.0</td>\n",
              "      <td>2.0</td>\n",
              "      <td>NaN</td>\n",
              "      <td>NaN</td>\n",
              "      <td>NaN</td>\n",
              "      <td>2.0</td>\n",
              "      <td>NaN</td>\n",
              "      <td>NaN</td>\n",
              "      <td>NaN</td>\n",
              "      <td>2.0</td>\n",
              "      <td>NaN</td>\n",
              "      <td>2.0</td>\n",
              "      <td>NaN</td>\n",
              "    </tr>\n",
              "    <tr>\n",
              "      <th>user_21051</th>\n",
              "      <td>NaN</td>\n",
              "      <td>2.0</td>\n",
              "      <td>5.0</td>\n",
              "      <td>NaN</td>\n",
              "      <td>5.0</td>\n",
              "      <td>NaN</td>\n",
              "      <td>NaN</td>\n",
              "      <td>NaN</td>\n",
              "      <td>NaN</td>\n",
              "      <td>NaN</td>\n",
              "      <td>NaN</td>\n",
              "      <td>NaN</td>\n",
              "      <td>5.0</td>\n",
              "      <td>5.0</td>\n",
              "      <td>NaN</td>\n",
              "      <td>NaN</td>\n",
              "      <td>NaN</td>\n",
              "      <td>5.0</td>\n",
              "      <td>NaN</td>\n",
              "      <td>NaN</td>\n",
              "      <td>5.0</td>\n",
              "      <td>NaN</td>\n",
              "      <td>5.0</td>\n",
              "      <td>5.0</td>\n",
              "      <td>NaN</td>\n",
              "      <td>NaN</td>\n",
              "      <td>NaN</td>\n",
              "      <td>NaN</td>\n",
              "      <td>5.0</td>\n",
              "      <td>5.0</td>\n",
              "      <td>5.0</td>\n",
              "      <td>5.0</td>\n",
              "      <td>5.0</td>\n",
              "      <td>NaN</td>\n",
              "      <td>5.0</td>\n",
              "      <td>5.0</td>\n",
              "      <td>5.0</td>\n",
              "      <td>5.0</td>\n",
              "      <td>NaN</td>\n",
              "      <td>NaN</td>\n",
              "      <td>...</td>\n",
              "      <td>NaN</td>\n",
              "      <td>NaN</td>\n",
              "      <td>5.0</td>\n",
              "      <td>NaN</td>\n",
              "      <td>NaN</td>\n",
              "      <td>5.0</td>\n",
              "      <td>5.0</td>\n",
              "      <td>NaN</td>\n",
              "      <td>5.0</td>\n",
              "      <td>NaN</td>\n",
              "      <td>NaN</td>\n",
              "      <td>5.0</td>\n",
              "      <td>NaN</td>\n",
              "      <td>NaN</td>\n",
              "      <td>NaN</td>\n",
              "      <td>NaN</td>\n",
              "      <td>5.0</td>\n",
              "      <td>5.0</td>\n",
              "      <td>5.0</td>\n",
              "      <td>NaN</td>\n",
              "      <td>NaN</td>\n",
              "      <td>NaN</td>\n",
              "      <td>NaN</td>\n",
              "      <td>5.0</td>\n",
              "      <td>5.0</td>\n",
              "      <td>5.0</td>\n",
              "      <td>NaN</td>\n",
              "      <td>5.0</td>\n",
              "      <td>5.0</td>\n",
              "      <td>5.0</td>\n",
              "      <td>5.0</td>\n",
              "      <td>5.0</td>\n",
              "      <td>NaN</td>\n",
              "      <td>NaN</td>\n",
              "      <td>5.0</td>\n",
              "      <td>5.0</td>\n",
              "      <td>5.0</td>\n",
              "      <td>5.0</td>\n",
              "      <td>NaN</td>\n",
              "      <td>5.0</td>\n",
              "    </tr>\n",
              "    <tr>\n",
              "      <th>user_21054</th>\n",
              "      <td>NaN</td>\n",
              "      <td>1.0</td>\n",
              "      <td>NaN</td>\n",
              "      <td>1.0</td>\n",
              "      <td>NaN</td>\n",
              "      <td>3.0</td>\n",
              "      <td>4.0</td>\n",
              "      <td>2.0</td>\n",
              "      <td>NaN</td>\n",
              "      <td>4.0</td>\n",
              "      <td>NaN</td>\n",
              "      <td>3.0</td>\n",
              "      <td>NaN</td>\n",
              "      <td>3.0</td>\n",
              "      <td>NaN</td>\n",
              "      <td>NaN</td>\n",
              "      <td>NaN</td>\n",
              "      <td>2.0</td>\n",
              "      <td>NaN</td>\n",
              "      <td>NaN</td>\n",
              "      <td>NaN</td>\n",
              "      <td>NaN</td>\n",
              "      <td>NaN</td>\n",
              "      <td>4.0</td>\n",
              "      <td>NaN</td>\n",
              "      <td>3.0</td>\n",
              "      <td>NaN</td>\n",
              "      <td>NaN</td>\n",
              "      <td>2.0</td>\n",
              "      <td>2.0</td>\n",
              "      <td>NaN</td>\n",
              "      <td>NaN</td>\n",
              "      <td>NaN</td>\n",
              "      <td>NaN</td>\n",
              "      <td>3.0</td>\n",
              "      <td>2.0</td>\n",
              "      <td>NaN</td>\n",
              "      <td>3.0</td>\n",
              "      <td>NaN</td>\n",
              "      <td>2.0</td>\n",
              "      <td>...</td>\n",
              "      <td>2.0</td>\n",
              "      <td>NaN</td>\n",
              "      <td>5.0</td>\n",
              "      <td>3.0</td>\n",
              "      <td>NaN</td>\n",
              "      <td>2.0</td>\n",
              "      <td>NaN</td>\n",
              "      <td>1.0</td>\n",
              "      <td>NaN</td>\n",
              "      <td>2.0</td>\n",
              "      <td>3.0</td>\n",
              "      <td>1.0</td>\n",
              "      <td>NaN</td>\n",
              "      <td>NaN</td>\n",
              "      <td>NaN</td>\n",
              "      <td>2.0</td>\n",
              "      <td>4.0</td>\n",
              "      <td>NaN</td>\n",
              "      <td>NaN</td>\n",
              "      <td>NaN</td>\n",
              "      <td>NaN</td>\n",
              "      <td>NaN</td>\n",
              "      <td>NaN</td>\n",
              "      <td>NaN</td>\n",
              "      <td>2.0</td>\n",
              "      <td>NaN</td>\n",
              "      <td>1.0</td>\n",
              "      <td>1.0</td>\n",
              "      <td>NaN</td>\n",
              "      <td>NaN</td>\n",
              "      <td>4.0</td>\n",
              "      <td>NaN</td>\n",
              "      <td>NaN</td>\n",
              "      <td>NaN</td>\n",
              "      <td>3.0</td>\n",
              "      <td>2.0</td>\n",
              "      <td>1.0</td>\n",
              "      <td>2.0</td>\n",
              "      <td>4.0</td>\n",
              "      <td>4.0</td>\n",
              "    </tr>\n",
              "  </tbody>\n",
              "</table>\n",
              "<p>5 rows × 130 columns</p>\n",
              "</div>"
            ],
            "text/plain": [
              "Hotelid     hotel_501  hotel_502  hotel_503  ...  hotel_637  hotel_639  hotel_640\n",
              "userid                                       ...                                 \n",
              "user_21002        NaN        3.0        NaN  ...        3.0        NaN        NaN\n",
              "user_21025        NaN        NaN        NaN  ...        NaN        3.0        3.0\n",
              "user_21042        NaN        NaN        NaN  ...        NaN        2.0        NaN\n",
              "user_21051        NaN        2.0        5.0  ...        5.0        NaN        5.0\n",
              "user_21054        NaN        1.0        NaN  ...        2.0        4.0        4.0\n",
              "\n",
              "[5 rows x 130 columns]"
            ]
          },
          "metadata": {
            "tags": []
          },
          "execution_count": 85
        }
      ]
    },
    {
      "cell_type": "code",
      "metadata": {
        "id": "6VqdOLumZtn5",
        "colab_type": "code",
        "colab": {}
      },
      "source": [
        "# we can calculate the correlation of the Hotelid column with all others and for this we can use the corrwith function\n",
        "X = ratings_pivot[\"hotel_510\"] "
      ],
      "execution_count": 86,
      "outputs": []
    },
    {
      "cell_type": "code",
      "metadata": {
        "id": "kvVRAFjRZ8Bv",
        "colab_type": "code",
        "colab": {
          "base_uri": "https://localhost:8080/",
          "height": 227
        },
        "outputId": "9d22c6f8-dd30-421e-cbfc-24f5b1f84766"
      },
      "source": [
        "# Checking correlation for a Hotelid\n",
        "Corr = pd.DataFrame(ratings_pivot.corrwith(X)) \n",
        "Corr.rename(columns={0: 'corr'}, inplace=True)\n",
        "Corr.head()"
      ],
      "execution_count": 87,
      "outputs": [
        {
          "output_type": "execute_result",
          "data": {
            "text/html": [
              "<div>\n",
              "<style scoped>\n",
              "    .dataframe tbody tr th:only-of-type {\n",
              "        vertical-align: middle;\n",
              "    }\n",
              "\n",
              "    .dataframe tbody tr th {\n",
              "        vertical-align: top;\n",
              "    }\n",
              "\n",
              "    .dataframe thead th {\n",
              "        text-align: right;\n",
              "    }\n",
              "</style>\n",
              "<table border=\"1\" class=\"dataframe\">\n",
              "  <thead>\n",
              "    <tr style=\"text-align: right;\">\n",
              "      <th></th>\n",
              "      <th>corr</th>\n",
              "    </tr>\n",
              "    <tr>\n",
              "      <th>Hotelid</th>\n",
              "      <th></th>\n",
              "    </tr>\n",
              "  </thead>\n",
              "  <tbody>\n",
              "    <tr>\n",
              "      <th>hotel_501</th>\n",
              "      <td>0.253705</td>\n",
              "    </tr>\n",
              "    <tr>\n",
              "      <th>hotel_502</th>\n",
              "      <td>0.369972</td>\n",
              "    </tr>\n",
              "    <tr>\n",
              "      <th>hotel_503</th>\n",
              "      <td>0.482901</td>\n",
              "    </tr>\n",
              "    <tr>\n",
              "      <th>hotel_504</th>\n",
              "      <td>0.414893</td>\n",
              "    </tr>\n",
              "    <tr>\n",
              "      <th>hotel_506</th>\n",
              "      <td>0.389412</td>\n",
              "    </tr>\n",
              "  </tbody>\n",
              "</table>\n",
              "</div>"
            ],
            "text/plain": [
              "               corr\n",
              "Hotelid            \n",
              "hotel_501  0.253705\n",
              "hotel_502  0.369972\n",
              "hotel_503  0.482901\n",
              "hotel_504  0.414893\n",
              "hotel_506  0.389412"
            ]
          },
          "metadata": {
            "tags": []
          },
          "execution_count": 87
        }
      ]
    },
    {
      "cell_type": "code",
      "metadata": {
        "id": "im2ZS-oNaBD7",
        "colab_type": "code",
        "colab": {}
      },
      "source": [
        "# Joining the two required columns\n",
        "Final_summary = Corr.join(rating)"
      ],
      "execution_count": 88,
      "outputs": []
    },
    {
      "cell_type": "code",
      "metadata": {
        "id": "rwp_Q9XZaPcG",
        "colab_type": "code",
        "colab": {
          "base_uri": "https://localhost:8080/",
          "height": 377
        },
        "outputId": "8434206c-3fbc-4827-93b7-73ca93f23d71"
      },
      "source": [
        "# These are the most similar Hotels  \n",
        "  \n",
        "Final_summary.sort_values('corr', ascending=False).head(10)"
      ],
      "execution_count": 89,
      "outputs": [
        {
          "output_type": "execute_result",
          "data": {
            "text/html": [
              "<div>\n",
              "<style scoped>\n",
              "    .dataframe tbody tr th:only-of-type {\n",
              "        vertical-align: middle;\n",
              "    }\n",
              "\n",
              "    .dataframe tbody tr th {\n",
              "        vertical-align: top;\n",
              "    }\n",
              "\n",
              "    .dataframe thead th {\n",
              "        text-align: right;\n",
              "    }\n",
              "</style>\n",
              "<table border=\"1\" class=\"dataframe\">\n",
              "  <thead>\n",
              "    <tr style=\"text-align: right;\">\n",
              "      <th></th>\n",
              "      <th>corr</th>\n",
              "      <th>ratings_count</th>\n",
              "    </tr>\n",
              "    <tr>\n",
              "      <th>Hotelid</th>\n",
              "      <th></th>\n",
              "      <th></th>\n",
              "    </tr>\n",
              "  </thead>\n",
              "  <tbody>\n",
              "    <tr>\n",
              "      <th>hotel_510</th>\n",
              "      <td>1.000000</td>\n",
              "      <td>2402</td>\n",
              "    </tr>\n",
              "    <tr>\n",
              "      <th>hotel_621</th>\n",
              "      <td>0.754829</td>\n",
              "      <td>51</td>\n",
              "    </tr>\n",
              "    <tr>\n",
              "      <th>hotel_600</th>\n",
              "      <td>0.679230</td>\n",
              "      <td>60</td>\n",
              "    </tr>\n",
              "    <tr>\n",
              "      <th>hotel_569</th>\n",
              "      <td>0.616394</td>\n",
              "      <td>67</td>\n",
              "    </tr>\n",
              "    <tr>\n",
              "      <th>hotel_613</th>\n",
              "      <td>0.561502</td>\n",
              "      <td>55</td>\n",
              "    </tr>\n",
              "    <tr>\n",
              "      <th>hotel_521</th>\n",
              "      <td>0.504258</td>\n",
              "      <td>2355</td>\n",
              "    </tr>\n",
              "    <tr>\n",
              "      <th>hotel_617</th>\n",
              "      <td>0.504006</td>\n",
              "      <td>2314</td>\n",
              "    </tr>\n",
              "    <tr>\n",
              "      <th>hotel_564</th>\n",
              "      <td>0.501655</td>\n",
              "      <td>2284</td>\n",
              "    </tr>\n",
              "    <tr>\n",
              "      <th>hotel_551</th>\n",
              "      <td>0.501145</td>\n",
              "      <td>2366</td>\n",
              "    </tr>\n",
              "    <tr>\n",
              "      <th>hotel_538</th>\n",
              "      <td>0.499166</td>\n",
              "      <td>2112</td>\n",
              "    </tr>\n",
              "  </tbody>\n",
              "</table>\n",
              "</div>"
            ],
            "text/plain": [
              "               corr  ratings_count\n",
              "Hotelid                           \n",
              "hotel_510  1.000000           2402\n",
              "hotel_621  0.754829             51\n",
              "hotel_600  0.679230             60\n",
              "hotel_569  0.616394             67\n",
              "hotel_613  0.561502             55\n",
              "hotel_521  0.504258           2355\n",
              "hotel_617  0.504006           2314\n",
              "hotel_564  0.501655           2284\n",
              "hotel_551  0.501145           2366\n",
              "hotel_538  0.499166           2112"
            ]
          },
          "metadata": {
            "tags": []
          },
          "execution_count": 89
        }
      ]
    },
    {
      "cell_type": "code",
      "metadata": {
        "id": "f4wK9WEyaSMA",
        "colab_type": "code",
        "colab": {
          "base_uri": "https://localhost:8080/",
          "height": 276
        },
        "outputId": "2cbc8a46-c2c9-4da2-d7da-c6fed13d3999"
      },
      "source": [
        "corr_matrix = ratings_pivot.corr(method=\"pearson\")\n",
        "corr_matrix.head()"
      ],
      "execution_count": 90,
      "outputs": [
        {
          "output_type": "execute_result",
          "data": {
            "text/html": [
              "<div>\n",
              "<style scoped>\n",
              "    .dataframe tbody tr th:only-of-type {\n",
              "        vertical-align: middle;\n",
              "    }\n",
              "\n",
              "    .dataframe tbody tr th {\n",
              "        vertical-align: top;\n",
              "    }\n",
              "\n",
              "    .dataframe thead th {\n",
              "        text-align: right;\n",
              "    }\n",
              "</style>\n",
              "<table border=\"1\" class=\"dataframe\">\n",
              "  <thead>\n",
              "    <tr style=\"text-align: right;\">\n",
              "      <th>Hotelid</th>\n",
              "      <th>hotel_501</th>\n",
              "      <th>hotel_502</th>\n",
              "      <th>hotel_503</th>\n",
              "      <th>hotel_504</th>\n",
              "      <th>hotel_506</th>\n",
              "      <th>hotel_507</th>\n",
              "      <th>hotel_508</th>\n",
              "      <th>hotel_509</th>\n",
              "      <th>hotel_510</th>\n",
              "      <th>hotel_511</th>\n",
              "      <th>hotel_512</th>\n",
              "      <th>hotel_513</th>\n",
              "      <th>hotel_514</th>\n",
              "      <th>hotel_515</th>\n",
              "      <th>hotel_516</th>\n",
              "      <th>hotel_517</th>\n",
              "      <th>hotel_519</th>\n",
              "      <th>hotel_521</th>\n",
              "      <th>hotel_522</th>\n",
              "      <th>hotel_523</th>\n",
              "      <th>hotel_524</th>\n",
              "      <th>hotel_525</th>\n",
              "      <th>hotel_526</th>\n",
              "      <th>hotel_527</th>\n",
              "      <th>hotel_528</th>\n",
              "      <th>hotel_529</th>\n",
              "      <th>hotel_530</th>\n",
              "      <th>hotel_532</th>\n",
              "      <th>hotel_533</th>\n",
              "      <th>hotel_534</th>\n",
              "      <th>hotel_535</th>\n",
              "      <th>hotel_536</th>\n",
              "      <th>hotel_537</th>\n",
              "      <th>hotel_538</th>\n",
              "      <th>hotel_539</th>\n",
              "      <th>hotel_540</th>\n",
              "      <th>hotel_541</th>\n",
              "      <th>hotel_542</th>\n",
              "      <th>hotel_543</th>\n",
              "      <th>hotel_544</th>\n",
              "      <th>...</th>\n",
              "      <th>hotel_599</th>\n",
              "      <th>hotel_600</th>\n",
              "      <th>hotel_601</th>\n",
              "      <th>hotel_602</th>\n",
              "      <th>hotel_603</th>\n",
              "      <th>hotel_604</th>\n",
              "      <th>hotel_605</th>\n",
              "      <th>hotel_606</th>\n",
              "      <th>hotel_607</th>\n",
              "      <th>hotel_608</th>\n",
              "      <th>hotel_610</th>\n",
              "      <th>hotel_611</th>\n",
              "      <th>hotel_612</th>\n",
              "      <th>hotel_613</th>\n",
              "      <th>hotel_614</th>\n",
              "      <th>hotel_615</th>\n",
              "      <th>hotel_616</th>\n",
              "      <th>hotel_617</th>\n",
              "      <th>hotel_618</th>\n",
              "      <th>hotel_619</th>\n",
              "      <th>hotel_620</th>\n",
              "      <th>hotel_621</th>\n",
              "      <th>hotel_622</th>\n",
              "      <th>hotel_623</th>\n",
              "      <th>hotel_624</th>\n",
              "      <th>hotel_625</th>\n",
              "      <th>hotel_626</th>\n",
              "      <th>hotel_627</th>\n",
              "      <th>hotel_628</th>\n",
              "      <th>hotel_629</th>\n",
              "      <th>hotel_630</th>\n",
              "      <th>hotel_631</th>\n",
              "      <th>hotel_632</th>\n",
              "      <th>hotel_633</th>\n",
              "      <th>hotel_634</th>\n",
              "      <th>hotel_635</th>\n",
              "      <th>hotel_636</th>\n",
              "      <th>hotel_637</th>\n",
              "      <th>hotel_639</th>\n",
              "      <th>hotel_640</th>\n",
              "    </tr>\n",
              "    <tr>\n",
              "      <th>Hotelid</th>\n",
              "      <th></th>\n",
              "      <th></th>\n",
              "      <th></th>\n",
              "      <th></th>\n",
              "      <th></th>\n",
              "      <th></th>\n",
              "      <th></th>\n",
              "      <th></th>\n",
              "      <th></th>\n",
              "      <th></th>\n",
              "      <th></th>\n",
              "      <th></th>\n",
              "      <th></th>\n",
              "      <th></th>\n",
              "      <th></th>\n",
              "      <th></th>\n",
              "      <th></th>\n",
              "      <th></th>\n",
              "      <th></th>\n",
              "      <th></th>\n",
              "      <th></th>\n",
              "      <th></th>\n",
              "      <th></th>\n",
              "      <th></th>\n",
              "      <th></th>\n",
              "      <th></th>\n",
              "      <th></th>\n",
              "      <th></th>\n",
              "      <th></th>\n",
              "      <th></th>\n",
              "      <th></th>\n",
              "      <th></th>\n",
              "      <th></th>\n",
              "      <th></th>\n",
              "      <th></th>\n",
              "      <th></th>\n",
              "      <th></th>\n",
              "      <th></th>\n",
              "      <th></th>\n",
              "      <th></th>\n",
              "      <th></th>\n",
              "      <th></th>\n",
              "      <th></th>\n",
              "      <th></th>\n",
              "      <th></th>\n",
              "      <th></th>\n",
              "      <th></th>\n",
              "      <th></th>\n",
              "      <th></th>\n",
              "      <th></th>\n",
              "      <th></th>\n",
              "      <th></th>\n",
              "      <th></th>\n",
              "      <th></th>\n",
              "      <th></th>\n",
              "      <th></th>\n",
              "      <th></th>\n",
              "      <th></th>\n",
              "      <th></th>\n",
              "      <th></th>\n",
              "      <th></th>\n",
              "      <th></th>\n",
              "      <th></th>\n",
              "      <th></th>\n",
              "      <th></th>\n",
              "      <th></th>\n",
              "      <th></th>\n",
              "      <th></th>\n",
              "      <th></th>\n",
              "      <th></th>\n",
              "      <th></th>\n",
              "      <th></th>\n",
              "      <th></th>\n",
              "      <th></th>\n",
              "      <th></th>\n",
              "      <th></th>\n",
              "      <th></th>\n",
              "      <th></th>\n",
              "      <th></th>\n",
              "      <th></th>\n",
              "      <th></th>\n",
              "    </tr>\n",
              "  </thead>\n",
              "  <tbody>\n",
              "    <tr>\n",
              "      <th>hotel_501</th>\n",
              "      <td>1.000000</td>\n",
              "      <td>0.000000</td>\n",
              "      <td>0.185636</td>\n",
              "      <td>0.252474</td>\n",
              "      <td>-0.154203</td>\n",
              "      <td>0.338617</td>\n",
              "      <td>0.414362</td>\n",
              "      <td>0.132333</td>\n",
              "      <td>0.253705</td>\n",
              "      <td>-0.049533</td>\n",
              "      <td>0.242940</td>\n",
              "      <td>0.393527</td>\n",
              "      <td>0.706781</td>\n",
              "      <td>0.118734</td>\n",
              "      <td>0.422827</td>\n",
              "      <td>0.089227</td>\n",
              "      <td>0.082469</td>\n",
              "      <td>0.493008</td>\n",
              "      <td>0.408666</td>\n",
              "      <td>-0.210368</td>\n",
              "      <td>0.475373</td>\n",
              "      <td>0.360448</td>\n",
              "      <td>0.365943</td>\n",
              "      <td>0.463990</td>\n",
              "      <td>0.428663</td>\n",
              "      <td>0.654504</td>\n",
              "      <td>0.706561</td>\n",
              "      <td>-0.412920</td>\n",
              "      <td>-1.000000</td>\n",
              "      <td>-1.000000</td>\n",
              "      <td>-1.000000</td>\n",
              "      <td>-0.816497</td>\n",
              "      <td>-0.327327</td>\n",
              "      <td>-1.000000</td>\n",
              "      <td>-0.654654</td>\n",
              "      <td>NaN</td>\n",
              "      <td>0.948683</td>\n",
              "      <td>-0.301511</td>\n",
              "      <td>-1.000000</td>\n",
              "      <td>NaN</td>\n",
              "      <td>...</td>\n",
              "      <td>-0.038528</td>\n",
              "      <td>0.453348</td>\n",
              "      <td>0.324325</td>\n",
              "      <td>0.398172</td>\n",
              "      <td>0.388453</td>\n",
              "      <td>0.423292</td>\n",
              "      <td>0.484672</td>\n",
              "      <td>0.365189</td>\n",
              "      <td>0.371476</td>\n",
              "      <td>0.192233</td>\n",
              "      <td>0.312880</td>\n",
              "      <td>0.640563</td>\n",
              "      <td>0.012132</td>\n",
              "      <td>0.511091</td>\n",
              "      <td>0.401412</td>\n",
              "      <td>0.138739</td>\n",
              "      <td>0.281924</td>\n",
              "      <td>0.653240</td>\n",
              "      <td>0.423542</td>\n",
              "      <td>0.584022</td>\n",
              "      <td>0.269333</td>\n",
              "      <td>0.613960</td>\n",
              "      <td>-0.015203</td>\n",
              "      <td>0.679635</td>\n",
              "      <td>0.285737</td>\n",
              "      <td>0.450822</td>\n",
              "      <td>0.377908</td>\n",
              "      <td>0.254442</td>\n",
              "      <td>0.339708</td>\n",
              "      <td>0.103408</td>\n",
              "      <td>-0.064299</td>\n",
              "      <td>0.358815</td>\n",
              "      <td>0.430519</td>\n",
              "      <td>0.698088</td>\n",
              "      <td>-0.098485</td>\n",
              "      <td>0.506621</td>\n",
              "      <td>0.281914</td>\n",
              "      <td>0.398728</td>\n",
              "      <td>0.525561</td>\n",
              "      <td>0.576390</td>\n",
              "    </tr>\n",
              "    <tr>\n",
              "      <th>hotel_502</th>\n",
              "      <td>0.000000</td>\n",
              "      <td>1.000000</td>\n",
              "      <td>0.382130</td>\n",
              "      <td>0.447061</td>\n",
              "      <td>0.281131</td>\n",
              "      <td>0.177124</td>\n",
              "      <td>0.253560</td>\n",
              "      <td>0.230751</td>\n",
              "      <td>0.369972</td>\n",
              "      <td>0.294717</td>\n",
              "      <td>0.285956</td>\n",
              "      <td>0.294493</td>\n",
              "      <td>0.374003</td>\n",
              "      <td>0.256388</td>\n",
              "      <td>0.217925</td>\n",
              "      <td>0.246769</td>\n",
              "      <td>0.301036</td>\n",
              "      <td>0.325195</td>\n",
              "      <td>0.286986</td>\n",
              "      <td>0.311238</td>\n",
              "      <td>0.321396</td>\n",
              "      <td>0.371573</td>\n",
              "      <td>0.305501</td>\n",
              "      <td>0.246942</td>\n",
              "      <td>0.135791</td>\n",
              "      <td>0.314214</td>\n",
              "      <td>0.214436</td>\n",
              "      <td>0.382045</td>\n",
              "      <td>0.364257</td>\n",
              "      <td>0.252790</td>\n",
              "      <td>0.336443</td>\n",
              "      <td>0.259969</td>\n",
              "      <td>0.366875</td>\n",
              "      <td>0.336156</td>\n",
              "      <td>0.363940</td>\n",
              "      <td>0.188798</td>\n",
              "      <td>0.356804</td>\n",
              "      <td>0.280480</td>\n",
              "      <td>0.319058</td>\n",
              "      <td>0.268619</td>\n",
              "      <td>...</td>\n",
              "      <td>0.575012</td>\n",
              "      <td>0.558333</td>\n",
              "      <td>0.206966</td>\n",
              "      <td>0.260897</td>\n",
              "      <td>0.473817</td>\n",
              "      <td>0.267105</td>\n",
              "      <td>0.314058</td>\n",
              "      <td>0.477158</td>\n",
              "      <td>0.270909</td>\n",
              "      <td>0.222699</td>\n",
              "      <td>0.377877</td>\n",
              "      <td>0.334939</td>\n",
              "      <td>0.197884</td>\n",
              "      <td>0.570787</td>\n",
              "      <td>0.524514</td>\n",
              "      <td>0.377185</td>\n",
              "      <td>0.243160</td>\n",
              "      <td>0.344979</td>\n",
              "      <td>0.325647</td>\n",
              "      <td>0.411796</td>\n",
              "      <td>0.283972</td>\n",
              "      <td>0.291074</td>\n",
              "      <td>0.356977</td>\n",
              "      <td>0.399705</td>\n",
              "      <td>0.314587</td>\n",
              "      <td>0.361936</td>\n",
              "      <td>0.449235</td>\n",
              "      <td>0.424561</td>\n",
              "      <td>0.293406</td>\n",
              "      <td>0.357254</td>\n",
              "      <td>0.141115</td>\n",
              "      <td>0.419405</td>\n",
              "      <td>0.385323</td>\n",
              "      <td>0.244881</td>\n",
              "      <td>0.294456</td>\n",
              "      <td>0.418357</td>\n",
              "      <td>0.336370</td>\n",
              "      <td>0.323143</td>\n",
              "      <td>0.270584</td>\n",
              "      <td>0.336216</td>\n",
              "    </tr>\n",
              "    <tr>\n",
              "      <th>hotel_503</th>\n",
              "      <td>0.185636</td>\n",
              "      <td>0.382130</td>\n",
              "      <td>1.000000</td>\n",
              "      <td>0.452617</td>\n",
              "      <td>0.373025</td>\n",
              "      <td>0.292880</td>\n",
              "      <td>0.444542</td>\n",
              "      <td>0.399184</td>\n",
              "      <td>0.482901</td>\n",
              "      <td>0.385462</td>\n",
              "      <td>0.354198</td>\n",
              "      <td>0.390417</td>\n",
              "      <td>0.382319</td>\n",
              "      <td>0.295715</td>\n",
              "      <td>0.386641</td>\n",
              "      <td>0.156403</td>\n",
              "      <td>0.438773</td>\n",
              "      <td>0.429927</td>\n",
              "      <td>0.274038</td>\n",
              "      <td>0.370769</td>\n",
              "      <td>0.374652</td>\n",
              "      <td>0.348717</td>\n",
              "      <td>0.350284</td>\n",
              "      <td>0.322914</td>\n",
              "      <td>0.290868</td>\n",
              "      <td>0.372884</td>\n",
              "      <td>0.288600</td>\n",
              "      <td>0.346334</td>\n",
              "      <td>0.421520</td>\n",
              "      <td>0.332461</td>\n",
              "      <td>0.447707</td>\n",
              "      <td>0.373084</td>\n",
              "      <td>0.406085</td>\n",
              "      <td>0.500833</td>\n",
              "      <td>0.473822</td>\n",
              "      <td>0.271945</td>\n",
              "      <td>0.438188</td>\n",
              "      <td>0.262533</td>\n",
              "      <td>0.369493</td>\n",
              "      <td>0.404266</td>\n",
              "      <td>...</td>\n",
              "      <td>0.338236</td>\n",
              "      <td>0.155420</td>\n",
              "      <td>0.342910</td>\n",
              "      <td>0.324900</td>\n",
              "      <td>0.454346</td>\n",
              "      <td>0.345897</td>\n",
              "      <td>0.346018</td>\n",
              "      <td>0.433720</td>\n",
              "      <td>0.317094</td>\n",
              "      <td>0.272928</td>\n",
              "      <td>0.466547</td>\n",
              "      <td>0.335885</td>\n",
              "      <td>0.301246</td>\n",
              "      <td>0.068105</td>\n",
              "      <td>0.435139</td>\n",
              "      <td>0.397482</td>\n",
              "      <td>0.367994</td>\n",
              "      <td>0.467814</td>\n",
              "      <td>0.452751</td>\n",
              "      <td>0.466234</td>\n",
              "      <td>0.192317</td>\n",
              "      <td>0.398199</td>\n",
              "      <td>0.401085</td>\n",
              "      <td>0.428457</td>\n",
              "      <td>0.367650</td>\n",
              "      <td>0.388355</td>\n",
              "      <td>0.421953</td>\n",
              "      <td>0.379100</td>\n",
              "      <td>0.409568</td>\n",
              "      <td>0.442028</td>\n",
              "      <td>0.254169</td>\n",
              "      <td>0.389959</td>\n",
              "      <td>0.405605</td>\n",
              "      <td>0.475923</td>\n",
              "      <td>0.389994</td>\n",
              "      <td>0.393871</td>\n",
              "      <td>0.449530</td>\n",
              "      <td>0.455853</td>\n",
              "      <td>0.313742</td>\n",
              "      <td>0.462383</td>\n",
              "    </tr>\n",
              "    <tr>\n",
              "      <th>hotel_504</th>\n",
              "      <td>0.252474</td>\n",
              "      <td>0.447061</td>\n",
              "      <td>0.452617</td>\n",
              "      <td>1.000000</td>\n",
              "      <td>0.267348</td>\n",
              "      <td>0.271811</td>\n",
              "      <td>0.303775</td>\n",
              "      <td>0.298945</td>\n",
              "      <td>0.414893</td>\n",
              "      <td>0.406640</td>\n",
              "      <td>0.383946</td>\n",
              "      <td>0.345758</td>\n",
              "      <td>0.373272</td>\n",
              "      <td>0.212872</td>\n",
              "      <td>0.326159</td>\n",
              "      <td>0.303959</td>\n",
              "      <td>0.364681</td>\n",
              "      <td>0.367429</td>\n",
              "      <td>0.324444</td>\n",
              "      <td>0.362458</td>\n",
              "      <td>0.329064</td>\n",
              "      <td>0.396603</td>\n",
              "      <td>0.301741</td>\n",
              "      <td>0.250301</td>\n",
              "      <td>0.196547</td>\n",
              "      <td>0.416224</td>\n",
              "      <td>0.268917</td>\n",
              "      <td>0.352630</td>\n",
              "      <td>0.424844</td>\n",
              "      <td>0.239976</td>\n",
              "      <td>0.392726</td>\n",
              "      <td>0.333777</td>\n",
              "      <td>0.387970</td>\n",
              "      <td>0.494670</td>\n",
              "      <td>0.421690</td>\n",
              "      <td>0.267728</td>\n",
              "      <td>0.378195</td>\n",
              "      <td>0.314883</td>\n",
              "      <td>0.338344</td>\n",
              "      <td>0.357137</td>\n",
              "      <td>...</td>\n",
              "      <td>0.450605</td>\n",
              "      <td>0.457099</td>\n",
              "      <td>0.300908</td>\n",
              "      <td>0.342511</td>\n",
              "      <td>0.412618</td>\n",
              "      <td>0.278023</td>\n",
              "      <td>0.287657</td>\n",
              "      <td>0.527098</td>\n",
              "      <td>0.289810</td>\n",
              "      <td>0.259177</td>\n",
              "      <td>0.499593</td>\n",
              "      <td>0.347593</td>\n",
              "      <td>0.331004</td>\n",
              "      <td>0.670455</td>\n",
              "      <td>0.470171</td>\n",
              "      <td>0.422409</td>\n",
              "      <td>0.268798</td>\n",
              "      <td>0.472940</td>\n",
              "      <td>0.386129</td>\n",
              "      <td>0.436215</td>\n",
              "      <td>0.211208</td>\n",
              "      <td>0.061976</td>\n",
              "      <td>0.353618</td>\n",
              "      <td>0.402518</td>\n",
              "      <td>0.306061</td>\n",
              "      <td>0.408943</td>\n",
              "      <td>0.450770</td>\n",
              "      <td>0.433734</td>\n",
              "      <td>0.394767</td>\n",
              "      <td>0.378029</td>\n",
              "      <td>0.215417</td>\n",
              "      <td>0.380266</td>\n",
              "      <td>0.362473</td>\n",
              "      <td>0.443224</td>\n",
              "      <td>0.355919</td>\n",
              "      <td>0.401712</td>\n",
              "      <td>0.390907</td>\n",
              "      <td>0.431199</td>\n",
              "      <td>0.309825</td>\n",
              "      <td>0.412595</td>\n",
              "    </tr>\n",
              "    <tr>\n",
              "      <th>hotel_506</th>\n",
              "      <td>-0.154203</td>\n",
              "      <td>0.281131</td>\n",
              "      <td>0.373025</td>\n",
              "      <td>0.267348</td>\n",
              "      <td>1.000000</td>\n",
              "      <td>0.420583</td>\n",
              "      <td>0.371972</td>\n",
              "      <td>0.391558</td>\n",
              "      <td>0.389412</td>\n",
              "      <td>0.410366</td>\n",
              "      <td>0.384163</td>\n",
              "      <td>0.353948</td>\n",
              "      <td>0.360615</td>\n",
              "      <td>0.332075</td>\n",
              "      <td>0.331507</td>\n",
              "      <td>0.087858</td>\n",
              "      <td>0.404582</td>\n",
              "      <td>0.327034</td>\n",
              "      <td>0.350402</td>\n",
              "      <td>0.370704</td>\n",
              "      <td>0.273032</td>\n",
              "      <td>0.214628</td>\n",
              "      <td>0.391207</td>\n",
              "      <td>0.410623</td>\n",
              "      <td>0.307782</td>\n",
              "      <td>0.408445</td>\n",
              "      <td>0.352076</td>\n",
              "      <td>0.332942</td>\n",
              "      <td>0.330332</td>\n",
              "      <td>0.367542</td>\n",
              "      <td>0.400914</td>\n",
              "      <td>0.480194</td>\n",
              "      <td>0.315289</td>\n",
              "      <td>0.318206</td>\n",
              "      <td>0.390875</td>\n",
              "      <td>0.273561</td>\n",
              "      <td>0.371547</td>\n",
              "      <td>0.247485</td>\n",
              "      <td>0.116090</td>\n",
              "      <td>0.397377</td>\n",
              "      <td>...</td>\n",
              "      <td>0.285634</td>\n",
              "      <td>0.517389</td>\n",
              "      <td>0.421054</td>\n",
              "      <td>0.379498</td>\n",
              "      <td>0.256304</td>\n",
              "      <td>0.318674</td>\n",
              "      <td>0.429423</td>\n",
              "      <td>0.241316</td>\n",
              "      <td>0.386878</td>\n",
              "      <td>0.389234</td>\n",
              "      <td>0.382351</td>\n",
              "      <td>0.338248</td>\n",
              "      <td>0.425571</td>\n",
              "      <td>0.452657</td>\n",
              "      <td>0.300007</td>\n",
              "      <td>0.231072</td>\n",
              "      <td>0.443907</td>\n",
              "      <td>0.344530</td>\n",
              "      <td>0.385089</td>\n",
              "      <td>0.303107</td>\n",
              "      <td>0.171294</td>\n",
              "      <td>0.545000</td>\n",
              "      <td>0.355180</td>\n",
              "      <td>0.320181</td>\n",
              "      <td>0.311874</td>\n",
              "      <td>0.359926</td>\n",
              "      <td>0.364766</td>\n",
              "      <td>0.260769</td>\n",
              "      <td>0.414014</td>\n",
              "      <td>0.411703</td>\n",
              "      <td>0.409223</td>\n",
              "      <td>0.345099</td>\n",
              "      <td>0.377968</td>\n",
              "      <td>0.335522</td>\n",
              "      <td>0.456892</td>\n",
              "      <td>0.310593</td>\n",
              "      <td>0.322108</td>\n",
              "      <td>0.413220</td>\n",
              "      <td>0.323251</td>\n",
              "      <td>0.328215</td>\n",
              "    </tr>\n",
              "  </tbody>\n",
              "</table>\n",
              "<p>5 rows × 130 columns</p>\n",
              "</div>"
            ],
            "text/plain": [
              "Hotelid    hotel_501  hotel_502  hotel_503  ...  hotel_637  hotel_639  hotel_640\n",
              "Hotelid                                     ...                                 \n",
              "hotel_501   1.000000   0.000000   0.185636  ...   0.398728   0.525561   0.576390\n",
              "hotel_502   0.000000   1.000000   0.382130  ...   0.323143   0.270584   0.336216\n",
              "hotel_503   0.185636   0.382130   1.000000  ...   0.455853   0.313742   0.462383\n",
              "hotel_504   0.252474   0.447061   0.452617  ...   0.431199   0.309825   0.412595\n",
              "hotel_506  -0.154203   0.281131   0.373025  ...   0.413220   0.323251   0.328215\n",
              "\n",
              "[5 rows x 130 columns]"
            ]
          },
          "metadata": {
            "tags": []
          },
          "execution_count": 90
        }
      ]
    },
    {
      "cell_type": "code",
      "metadata": {
        "id": "EcRfPYQyacwy",
        "colab_type": "code",
        "colab": {
          "base_uri": "https://localhost:8080/",
          "height": 141
        },
        "outputId": "b55ffb3d-100e-40c1-8f20-872bdf9736a2"
      },
      "source": [
        "#Let's recommend Hotels for the below user based on his previous visits to the hotel\n",
        "#These are the ratings given by \"user_21051\" to different hotels \n",
        "ratings_pivot.iloc[3].dropna().head()"
      ],
      "execution_count": 91,
      "outputs": [
        {
          "output_type": "execute_result",
          "data": {
            "text/plain": [
              "Hotelid\n",
              "hotel_502    2.0\n",
              "hotel_503    5.0\n",
              "hotel_506    5.0\n",
              "hotel_514    5.0\n",
              "hotel_515    5.0\n",
              "Name: user_21051, dtype: float64"
            ]
          },
          "metadata": {
            "tags": []
          },
          "execution_count": 91
        }
      ]
    },
    {
      "cell_type": "code",
      "metadata": {
        "id": "Eu4tkbqka6Mf",
        "colab_type": "code",
        "colab": {
          "base_uri": "https://localhost:8080/",
          "height": 72
        },
        "outputId": "c2dad4bf-6a7c-456f-8a20-2a2411d17e6a"
      },
      "source": [
        "# We create now the list of all Hotels with all correlations multiplied by ratings (integers from 1 to 5). \n",
        "user_corr = pd.Series()\n",
        "\n",
        "userid=3\n",
        "\n",
        "for Hotelid in ratings_pivot.iloc[userid].dropna().index:\n",
        "    corr_list = corr_matrix[Hotelid].dropna()*ratings_pivot.iloc[userid][Hotelid]\n",
        "    user_corr = user_corr.append(corr_list)"
      ],
      "execution_count": 92,
      "outputs": [
        {
          "output_type": "stream",
          "text": [
            "/usr/local/lib/python3.6/dist-packages/ipykernel_launcher.py:2: DeprecationWarning: The default dtype for empty Series will be 'object' instead of 'float64' in a future version. Specify a dtype explicitly to silence this warning.\n",
            "  \n"
          ],
          "name": "stderr"
        }
      ]
    },
    {
      "cell_type": "code",
      "metadata": {
        "id": "tCU1jK0rbEX6",
        "colab_type": "code",
        "colab": {
          "base_uri": "https://localhost:8080/",
          "height": 123
        },
        "outputId": "7a12d694-be25-4322-fbda-6b506f6e97b0"
      },
      "source": [
        "# We make the groupby in order to not have duplicate Hotels and we also sum their rating: *\n",
        "user_corr = user_corr.groupby(user_corr.index).sum()\n",
        "user_corr.head()"
      ],
      "execution_count": 93,
      "outputs": [
        {
          "output_type": "execute_result",
          "data": {
            "text/plain": [
              "hotel_501     37.774425\n",
              "hotel_502     83.888123\n",
              "hotel_503    101.892210\n",
              "hotel_504     90.673131\n",
              "hotel_506     97.053596\n",
              "dtype: float64"
            ]
          },
          "metadata": {
            "tags": []
          },
          "execution_count": 93
        }
      ]
    },
    {
      "cell_type": "code",
      "metadata": {
        "id": "IYmJubknbLK6",
        "colab_type": "code",
        "colab": {}
      },
      "source": [
        "# We now create a list of Hotels Visited to drop (if contained in our Series) *\n",
        "Hotels_list = []\n",
        "for i in range(len(ratings_pivot.iloc[userid].dropna().index)):\n",
        "    if ratings_pivot.iloc[userid].dropna().index[i] in user_corr:\n",
        "        Hotels_list.append( ratings_pivot.iloc[userid].dropna().index[i])\n",
        "    else:\n",
        "        pass\n",
        "\n",
        "user_corr = user_corr.drop(Hotels_list)"
      ],
      "execution_count": 94,
      "outputs": []
    },
    {
      "cell_type": "code",
      "metadata": {
        "id": "eIynBXj8bSbP",
        "colab_type": "code",
        "colab": {
          "base_uri": "https://localhost:8080/",
          "height": 1000
        },
        "outputId": "3e848c6a-1ba0-4138-b2bf-9f1e7fb137fc"
      },
      "source": [
        "#Recommendations to the user\n",
        "print(\"\\n These are the hotels which you have visited \\n\")\n",
        "for i in ratings_pivot.iloc[userid].dropna().index:\n",
        "    print(i)\n",
        "print(\"\\n We would suggest you to try these 5 Hotels: \\n\")\n",
        "for i in user_corr.sort_values(ascending=False).index[:5]:\n",
        "    print(i)"
      ],
      "execution_count": 95,
      "outputs": [
        {
          "output_type": "stream",
          "text": [
            "\n",
            " These are the hotels which you have visited \n",
            "\n",
            "hotel_502\n",
            "hotel_503\n",
            "hotel_506\n",
            "hotel_514\n",
            "hotel_515\n",
            "hotel_521\n",
            "hotel_524\n",
            "hotel_526\n",
            "hotel_527\n",
            "hotel_533\n",
            "hotel_534\n",
            "hotel_535\n",
            "hotel_536\n",
            "hotel_537\n",
            "hotel_539\n",
            "hotel_540\n",
            "hotel_541\n",
            "hotel_542\n",
            "hotel_545\n",
            "hotel_548\n",
            "hotel_549\n",
            "hotel_559\n",
            "hotel_566\n",
            "hotel_573\n",
            "hotel_574\n",
            "hotel_575\n",
            "hotel_576\n",
            "hotel_577\n",
            "hotel_585\n",
            "hotel_586\n",
            "hotel_587\n",
            "hotel_593\n",
            "hotel_601\n",
            "hotel_604\n",
            "hotel_605\n",
            "hotel_607\n",
            "hotel_611\n",
            "hotel_616\n",
            "hotel_617\n",
            "hotel_618\n",
            "hotel_623\n",
            "hotel_624\n",
            "hotel_625\n",
            "hotel_627\n",
            "hotel_628\n",
            "hotel_629\n",
            "hotel_630\n",
            "hotel_631\n",
            "hotel_634\n",
            "hotel_635\n",
            "hotel_636\n",
            "hotel_637\n",
            "hotel_640\n",
            "\n",
            " We would suggest you to try these 5 Hotels: \n",
            "\n",
            "hotel_569\n",
            "hotel_568\n",
            "hotel_510\n",
            "hotel_564\n",
            "hotel_551\n"
          ],
          "name": "stdout"
        }
      ]
    }
  ]
}